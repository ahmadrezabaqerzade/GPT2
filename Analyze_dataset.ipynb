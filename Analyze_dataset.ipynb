{
  "nbformat": 4,
  "nbformat_minor": 0,
  "metadata": {
    "colab": {
      "provenance": [],
      "gpuType": "T4",
      "collapsed_sections": [
        "_9yMJVI00W7d",
        "0LkR_EMVSkud"
      ]
    },
    "kernelspec": {
      "name": "python3",
      "display_name": "Python 3"
    },
    "language_info": {
      "name": "python"
    },
    "accelerator": "GPU"
  },
  "cells": [
    {
      "cell_type": "code",
      "source": [
        "!nvidia-smi"
      ],
      "metadata": {
        "colab": {
          "base_uri": "https://localhost:8080/"
        },
        "id": "e_Dt8RG-ACs2",
        "outputId": "a76e264e-f9f8-431a-add9-4b3c97cd87aa"
      },
      "execution_count": 1,
      "outputs": [
        {
          "output_type": "stream",
          "name": "stdout",
          "text": [
            "Fri Apr 11 08:19:27 2025       \n",
            "+-----------------------------------------------------------------------------------------+\n",
            "| NVIDIA-SMI 550.54.15              Driver Version: 550.54.15      CUDA Version: 12.4     |\n",
            "|-----------------------------------------+------------------------+----------------------+\n",
            "| GPU  Name                 Persistence-M | Bus-Id          Disp.A | Volatile Uncorr. ECC |\n",
            "| Fan  Temp   Perf          Pwr:Usage/Cap |           Memory-Usage | GPU-Util  Compute M. |\n",
            "|                                         |                        |               MIG M. |\n",
            "|=========================================+========================+======================|\n",
            "|   0  Tesla T4                       Off |   00000000:00:04.0 Off |                    0 |\n",
            "| N/A   42C    P8             10W /   70W |       0MiB /  15360MiB |      0%      Default |\n",
            "|                                         |                        |                  N/A |\n",
            "+-----------------------------------------+------------------------+----------------------+\n",
            "                                                                                         \n",
            "+-----------------------------------------------------------------------------------------+\n",
            "| Processes:                                                                              |\n",
            "|  GPU   GI   CI        PID   Type   Process name                              GPU Memory |\n",
            "|        ID   ID                                                               Usage      |\n",
            "|=========================================================================================|\n",
            "|  No running processes found                                                             |\n",
            "+-----------------------------------------------------------------------------------------+\n"
          ]
        }
      ]
    },
    {
      "cell_type": "markdown",
      "source": [
        "# 🔵 **Dependencies**"
      ],
      "metadata": {
        "id": "_9yMJVI00W7d"
      }
    },
    {
      "cell_type": "code",
      "execution_count": null,
      "metadata": {
        "id": "i9q2KOJH0Wf7"
      },
      "outputs": [],
      "source": [
        "!pip install -q transformers datasets"
      ]
    },
    {
      "cell_type": "code",
      "source": [
        "!pip install -q torch==2.2.0 torchvision==0.17.0 torchaudio==2.2.0 torchtext==0.17.0 --index-url https://download.pytorch.org/whl/cu121"
      ],
      "metadata": {
        "id": "FpqmWn8I4inp"
      },
      "execution_count": null,
      "outputs": []
    },
    {
      "cell_type": "code",
      "source": [
        "!pip install -q numpy==2.2.0"
      ],
      "metadata": {
        "id": "gJpWP1AMGZgN"
      },
      "execution_count": null,
      "outputs": []
    },
    {
      "cell_type": "markdown",
      "source": [
        "# 🔵 **Import Libraries**"
      ],
      "metadata": {
        "id": "_EPOwD_F0dWj"
      }
    },
    {
      "cell_type": "code",
      "source": [
        "from tokenizers import Tokenizer, models, pre_tokenizers, trainers, processors, decoders\n",
        "from datasets import load_dataset\n",
        "import torch\n",
        "from torchtext.data.utils import get_tokenizer\n",
        "from torchtext.vocab import build_vocab_from_iterator\n",
        "import pandas as pd\n",
        "import numpy as np\n",
        "from tqdm import tqdm\n",
        "from collections import Counter\n",
        "import matplotlib.pyplot as plt\n",
        "from IPython.display import Markdown, display\n",
        "import seaborn as sns\n",
        "from scipy import stats\n",
        "from scipy.stats import lognorm, pareto"
      ],
      "metadata": {
        "id": "goUJnNuf0hCW"
      },
      "execution_count": null,
      "outputs": []
    },
    {
      "cell_type": "code",
      "source": [
        "device = 'cuda' if torch.cuda.is_available() else 'cpu'\n",
        "device"
      ],
      "metadata": {
        "colab": {
          "base_uri": "https://localhost:8080/",
          "height": 36
        },
        "id": "fk8w82v5HbWG",
        "outputId": "fea98078-64d8-4d6f-8f6f-a82588ecbe45"
      },
      "execution_count": 2,
      "outputs": [
        {
          "output_type": "execute_result",
          "data": {
            "text/plain": [
              "'cuda'"
            ],
            "application/vnd.google.colaboratory.intrinsic+json": {
              "type": "string"
            }
          },
          "metadata": {},
          "execution_count": 2
        }
      ]
    },
    {
      "cell_type": "markdown",
      "source": [
        "# 🔵 **TinyStories Dataset**"
      ],
      "metadata": {
        "id": "kcgp9-0t0oLw"
      }
    },
    {
      "cell_type": "markdown",
      "source": [
        "## 🔵 **LoadDataset**"
      ],
      "metadata": {
        "id": "0LkR_EMVSkud"
      }
    },
    {
      "cell_type": "code",
      "source": [
        "dataset = load_dataset(\"roneneldan/TinyStories\")\n",
        "dataset"
      ],
      "metadata": {
        "colab": {
          "base_uri": "https://localhost:8080/"
        },
        "id": "mmsD9p730sfk",
        "outputId": "f24ef8e2-fd5c-4aa7-cfe2-fa6e55d5ca7b"
      },
      "execution_count": 149,
      "outputs": [
        {
          "output_type": "execute_result",
          "data": {
            "text/plain": [
              "DatasetDict({\n",
              "    train: Dataset({\n",
              "        features: ['text'],\n",
              "        num_rows: 2119719\n",
              "    })\n",
              "    validation: Dataset({\n",
              "        features: ['text'],\n",
              "        num_rows: 21990\n",
              "    })\n",
              "})"
            ]
          },
          "metadata": {},
          "execution_count": 149
        }
      ]
    },
    {
      "cell_type": "code",
      "source": [
        "train_dataset = dataset['train']\n",
        "valid_dataset = dataset['validation']\n",
        "print('Number of train rows(stories): ', train_dataset.num_rows/1e6, 'Million rows(stories)')\n",
        "print('Number of valid rows(stories): ', valid_dataset.num_rows/1e6, 'Million rows(stories)')"
      ],
      "metadata": {
        "colab": {
          "base_uri": "https://localhost:8080/"
        },
        "id": "56LJ3CZK1_Lq",
        "outputId": "903ff7b2-565b-4521-ef71-e0bd12344c8a"
      },
      "execution_count": 4,
      "outputs": [
        {
          "output_type": "stream",
          "name": "stdout",
          "text": [
            "Number of train rows(stories):  2.119719 Million rows(stories)\n",
            "Number of valid rows(stories):  0.02199 Million rows(stories)\n"
          ]
        }
      ]
    },
    {
      "cell_type": "code",
      "source": [
        "[print(f'story{i+1}: \\n\\n', train_dataset[i]['text'], '\\n') for i in range(5)]"
      ],
      "metadata": {
        "colab": {
          "base_uri": "https://localhost:8080/"
        },
        "id": "2KHuNjbSXFlX",
        "outputId": "267ba4cd-502f-4d8f-f1a0-3cc7b363ad67"
      },
      "execution_count": 144,
      "outputs": [
        {
          "output_type": "stream",
          "name": "stdout",
          "text": [
            "story1: \n",
            "\n",
            " One day, a little girl named Lily found a needle in her room. She knew it was difficult to play with it because it was sharp. Lily wanted to share the needle with her mom, so she could sew a button on her shirt.\n",
            "\n",
            "Lily went to her mom and said, \"Mom, I found this needle. Can you share it with me and sew my shirt?\" Her mom smiled and said, \"Yes, Lily, we can share the needle and fix your shirt.\"\n",
            "\n",
            "Together, they shared the needle and sewed the button on Lily's shirt. It was not difficult for them because they were sharing and helping each other. After they finished, Lily thanked her mom for sharing the needle and fixing her shirt. They both felt happy because they had shared and worked together. \n",
            "\n",
            "story2: \n",
            "\n",
            " Once upon a time, there was a little car named Beep. Beep loved to go fast and play in the sun. Beep was a healthy car because he always had good fuel. Good fuel made Beep happy and strong.\n",
            "\n",
            "One day, Beep was driving in the park when he saw a big tree. The tree had many leaves that were falling. Beep liked how the leaves fall and wanted to play with them. Beep drove under the tree and watched the leaves fall on him. He laughed and beeped his horn.\n",
            "\n",
            "Beep played with the falling leaves all day. When it was time to go home, Beep knew he needed more fuel. He went to the fuel place and got more healthy fuel. Now, Beep was ready to go fast and play again the next day. And Beep lived happily ever after. \n",
            "\n",
            "story3: \n",
            "\n",
            " One day, a little fish named Fin was swimming near the shore. He saw a big crab and wanted to be friends. \"Hi, I am Fin. Do you want to play?\" asked the little fish. The crab looked at Fin and said, \"No, I don't want to play. I am cold and I don't feel fine.\"\n",
            "\n",
            "Fin felt sad but wanted to help the crab feel better. He swam away and thought of a plan. He remembered that the sun could make things warm. So, Fin swam to the top of the water and called to the sun, \"Please, sun, help my new friend feel fine and not freeze!\"\n",
            "\n",
            "The sun heard Fin's call and shone its warm light on the shore. The crab started to feel better and not so cold. He saw Fin and said, \"Thank you, little fish, for making me feel fine. I don't feel like I will freeze now. Let's play together!\" And so, Fin and the crab played and became good friends. \n",
            "\n",
            "story4: \n",
            "\n",
            " Once upon a time, in a land full of trees, there was a little cherry tree. The cherry tree was very sad because it did not have any friends. All the other trees were big and strong, but the cherry tree was small and weak. The cherry tree was envious of the big trees.\n",
            "\n",
            "One day, the cherry tree felt a tickle in its branches. It was a little spring wind. The wind told the cherry tree not to be sad. The wind said, \"You are special because you have sweet cherries that everyone loves.\" The cherry tree started to feel a little better.\n",
            "\n",
            "As time went on, the cherry tree grew more and more cherries. All the animals in the land came to eat the cherries and play under the cherry tree. The cherry tree was happy because it had many friends now. The cherry tree learned that being different can be a good thing. And they all lived happily ever after. \n",
            "\n",
            "story5: \n",
            "\n",
            " Once upon a time, there was a little girl named Lily. Lily liked to pretend she was a popular princess. She lived in a big castle with her best friends, a cat and a dog.\n",
            "\n",
            "One day, while playing in the castle, Lily found a big cobweb. The cobweb was in the way of her fun game. She wanted to get rid of it, but she was scared of the spider that lived there.\n",
            "\n",
            "Lily asked her friends, the cat and the dog, to help her. They all worked together to clean the cobweb. The spider was sad, but it found a new home outside. Lily, the cat, and the dog were happy they could play without the cobweb in the way. And they all lived happily ever after. \n",
            "\n"
          ]
        },
        {
          "output_type": "execute_result",
          "data": {
            "text/plain": [
              "[None, None, None, None, None]"
            ]
          },
          "metadata": {},
          "execution_count": 144
        }
      ]
    },
    {
      "cell_type": "markdown",
      "source": [
        "## 🔵 **EDA(Exploratory Data Analysis)**"
      ],
      "metadata": {
        "id": "wT5uYjiCPFm5"
      }
    },
    {
      "cell_type": "code",
      "source": [
        "tokenizer = get_tokenizer('basic_english')"
      ],
      "metadata": {
        "id": "yH5Ndhs2CHbB"
      },
      "execution_count": 5,
      "outputs": []
    },
    {
      "cell_type": "code",
      "source": [
        "num_tok  = 0\n",
        "num_char = 0\n",
        "char_counts  = Counter()\n",
        "token_counts = Counter()\n",
        "batch = 512\n",
        "dataset_size = len(train_dataset['text'])\n",
        "\n",
        "with tqdm(range(dataset_size // batch + 1), desc=\"📊 Processing batches\") as tep:\n",
        "    for i in tep:\n",
        "        batch_texts = train_dataset[i * batch : (i + 1) * batch]['text']\n",
        "        text = \" \".join(batch_texts)\n",
        "        num_char += len(text)\n",
        "        char_counts.update(text)\n",
        "        tokenized = tokenizer(text)\n",
        "        num_tok += len(tokenized)\n",
        "        token_counts.update(tokenized)\n",
        "        tep.set_postfix(\n",
        "            unique_tokens=len(token_counts),\n",
        "            total_tokens=num_tok,\n",
        "            total_chars=num_char,\n",
        "            unique_chars=len(char_counts),\n",
        "            most_common_char=char_counts.most_common(1)[0][0])"
      ],
      "metadata": {
        "colab": {
          "base_uri": "https://localhost:8080/"
        },
        "id": "O12PrDkEM3kX",
        "outputId": "8ca5df2c-d84e-4f98-d622-e3219d0fa13c"
      },
      "execution_count": 6,
      "outputs": [
        {
          "output_type": "stream",
          "name": "stderr",
          "text": [
            "📊 Processing batches: 100%|██████████| 4141/4141 [06:55<00:00,  9.98it/s, most_common_char=, total_chars=1.9e+9, total_tokens=4.39e+8, unique_chars=174, unique_tokens=63577]\n"
          ]
        }
      ]
    },
    {
      "cell_type": "markdown",
      "source": [
        "### 🔵 **Character Level**"
      ],
      "metadata": {
        "id": "3rBw-En1AlIL"
      }
    },
    {
      "cell_type": "code",
      "source": [
        "df_count_ch = pd.DataFrame.from_dict(char_counts, orient='index', columns=['count'])"
      ],
      "metadata": {
        "id": "jBxotuESSrTf"
      },
      "execution_count": 31,
      "outputs": []
    },
    {
      "cell_type": "code",
      "source": [
        "df_count_ch.describe()"
      ],
      "metadata": {
        "colab": {
          "base_uri": "https://localhost:8080/",
          "height": 300
        },
        "id": "kqd45Q2Or-wZ",
        "outputId": "220c0d9d-53be-4288-8d71-57020e2d3731"
      },
      "execution_count": 32,
      "outputs": [
        {
          "output_type": "execute_result",
          "data": {
            "text/plain": [
              "              count\n",
              "count  1.740000e+02\n",
              "mean   1.093154e+07\n",
              "std    3.733032e+07\n",
              "min    1.000000e+00\n",
              "25%    1.025000e+01\n",
              "50%    3.745000e+02\n",
              "75%    1.213577e+06\n",
              "max    3.642332e+08"
            ],
            "text/html": [
              "\n",
              "  <div id=\"df-3a0292dc-09cf-4bd1-9e41-d11cc794ae4c\" class=\"colab-df-container\">\n",
              "    <div>\n",
              "<style scoped>\n",
              "    .dataframe tbody tr th:only-of-type {\n",
              "        vertical-align: middle;\n",
              "    }\n",
              "\n",
              "    .dataframe tbody tr th {\n",
              "        vertical-align: top;\n",
              "    }\n",
              "\n",
              "    .dataframe thead th {\n",
              "        text-align: right;\n",
              "    }\n",
              "</style>\n",
              "<table border=\"1\" class=\"dataframe\">\n",
              "  <thead>\n",
              "    <tr style=\"text-align: right;\">\n",
              "      <th></th>\n",
              "      <th>count</th>\n",
              "    </tr>\n",
              "  </thead>\n",
              "  <tbody>\n",
              "    <tr>\n",
              "      <th>count</th>\n",
              "      <td>1.740000e+02</td>\n",
              "    </tr>\n",
              "    <tr>\n",
              "      <th>mean</th>\n",
              "      <td>1.093154e+07</td>\n",
              "    </tr>\n",
              "    <tr>\n",
              "      <th>std</th>\n",
              "      <td>3.733032e+07</td>\n",
              "    </tr>\n",
              "    <tr>\n",
              "      <th>min</th>\n",
              "      <td>1.000000e+00</td>\n",
              "    </tr>\n",
              "    <tr>\n",
              "      <th>25%</th>\n",
              "      <td>1.025000e+01</td>\n",
              "    </tr>\n",
              "    <tr>\n",
              "      <th>50%</th>\n",
              "      <td>3.745000e+02</td>\n",
              "    </tr>\n",
              "    <tr>\n",
              "      <th>75%</th>\n",
              "      <td>1.213577e+06</td>\n",
              "    </tr>\n",
              "    <tr>\n",
              "      <th>max</th>\n",
              "      <td>3.642332e+08</td>\n",
              "    </tr>\n",
              "  </tbody>\n",
              "</table>\n",
              "</div>\n",
              "    <div class=\"colab-df-buttons\">\n",
              "\n",
              "  <div class=\"colab-df-container\">\n",
              "    <button class=\"colab-df-convert\" onclick=\"convertToInteractive('df-3a0292dc-09cf-4bd1-9e41-d11cc794ae4c')\"\n",
              "            title=\"Convert this dataframe to an interactive table.\"\n",
              "            style=\"display:none;\">\n",
              "\n",
              "  <svg xmlns=\"http://www.w3.org/2000/svg\" height=\"24px\" viewBox=\"0 -960 960 960\">\n",
              "    <path d=\"M120-120v-720h720v720H120Zm60-500h600v-160H180v160Zm220 220h160v-160H400v160Zm0 220h160v-160H400v160ZM180-400h160v-160H180v160Zm440 0h160v-160H620v160ZM180-180h160v-160H180v160Zm440 0h160v-160H620v160Z\"/>\n",
              "  </svg>\n",
              "    </button>\n",
              "\n",
              "  <style>\n",
              "    .colab-df-container {\n",
              "      display:flex;\n",
              "      gap: 12px;\n",
              "    }\n",
              "\n",
              "    .colab-df-convert {\n",
              "      background-color: #E8F0FE;\n",
              "      border: none;\n",
              "      border-radius: 50%;\n",
              "      cursor: pointer;\n",
              "      display: none;\n",
              "      fill: #1967D2;\n",
              "      height: 32px;\n",
              "      padding: 0 0 0 0;\n",
              "      width: 32px;\n",
              "    }\n",
              "\n",
              "    .colab-df-convert:hover {\n",
              "      background-color: #E2EBFA;\n",
              "      box-shadow: 0px 1px 2px rgba(60, 64, 67, 0.3), 0px 1px 3px 1px rgba(60, 64, 67, 0.15);\n",
              "      fill: #174EA6;\n",
              "    }\n",
              "\n",
              "    .colab-df-buttons div {\n",
              "      margin-bottom: 4px;\n",
              "    }\n",
              "\n",
              "    [theme=dark] .colab-df-convert {\n",
              "      background-color: #3B4455;\n",
              "      fill: #D2E3FC;\n",
              "    }\n",
              "\n",
              "    [theme=dark] .colab-df-convert:hover {\n",
              "      background-color: #434B5C;\n",
              "      box-shadow: 0px 1px 3px 1px rgba(0, 0, 0, 0.15);\n",
              "      filter: drop-shadow(0px 1px 2px rgba(0, 0, 0, 0.3));\n",
              "      fill: #FFFFFF;\n",
              "    }\n",
              "  </style>\n",
              "\n",
              "    <script>\n",
              "      const buttonEl =\n",
              "        document.querySelector('#df-3a0292dc-09cf-4bd1-9e41-d11cc794ae4c button.colab-df-convert');\n",
              "      buttonEl.style.display =\n",
              "        google.colab.kernel.accessAllowed ? 'block' : 'none';\n",
              "\n",
              "      async function convertToInteractive(key) {\n",
              "        const element = document.querySelector('#df-3a0292dc-09cf-4bd1-9e41-d11cc794ae4c');\n",
              "        const dataTable =\n",
              "          await google.colab.kernel.invokeFunction('convertToInteractive',\n",
              "                                                    [key], {});\n",
              "        if (!dataTable) return;\n",
              "\n",
              "        const docLinkHtml = 'Like what you see? Visit the ' +\n",
              "          '<a target=\"_blank\" href=https://colab.research.google.com/notebooks/data_table.ipynb>data table notebook</a>'\n",
              "          + ' to learn more about interactive tables.';\n",
              "        element.innerHTML = '';\n",
              "        dataTable['output_type'] = 'display_data';\n",
              "        await google.colab.output.renderOutput(dataTable, element);\n",
              "        const docLink = document.createElement('div');\n",
              "        docLink.innerHTML = docLinkHtml;\n",
              "        element.appendChild(docLink);\n",
              "      }\n",
              "    </script>\n",
              "  </div>\n",
              "\n",
              "\n",
              "<div id=\"df-57190be1-853f-482d-b086-deb4a2ba9dec\">\n",
              "  <button class=\"colab-df-quickchart\" onclick=\"quickchart('df-57190be1-853f-482d-b086-deb4a2ba9dec')\"\n",
              "            title=\"Suggest charts\"\n",
              "            style=\"display:none;\">\n",
              "\n",
              "<svg xmlns=\"http://www.w3.org/2000/svg\" height=\"24px\"viewBox=\"0 0 24 24\"\n",
              "     width=\"24px\">\n",
              "    <g>\n",
              "        <path d=\"M19 3H5c-1.1 0-2 .9-2 2v14c0 1.1.9 2 2 2h14c1.1 0 2-.9 2-2V5c0-1.1-.9-2-2-2zM9 17H7v-7h2v7zm4 0h-2V7h2v10zm4 0h-2v-4h2v4z\"/>\n",
              "    </g>\n",
              "</svg>\n",
              "  </button>\n",
              "\n",
              "<style>\n",
              "  .colab-df-quickchart {\n",
              "      --bg-color: #E8F0FE;\n",
              "      --fill-color: #1967D2;\n",
              "      --hover-bg-color: #E2EBFA;\n",
              "      --hover-fill-color: #174EA6;\n",
              "      --disabled-fill-color: #AAA;\n",
              "      --disabled-bg-color: #DDD;\n",
              "  }\n",
              "\n",
              "  [theme=dark] .colab-df-quickchart {\n",
              "      --bg-color: #3B4455;\n",
              "      --fill-color: #D2E3FC;\n",
              "      --hover-bg-color: #434B5C;\n",
              "      --hover-fill-color: #FFFFFF;\n",
              "      --disabled-bg-color: #3B4455;\n",
              "      --disabled-fill-color: #666;\n",
              "  }\n",
              "\n",
              "  .colab-df-quickchart {\n",
              "    background-color: var(--bg-color);\n",
              "    border: none;\n",
              "    border-radius: 50%;\n",
              "    cursor: pointer;\n",
              "    display: none;\n",
              "    fill: var(--fill-color);\n",
              "    height: 32px;\n",
              "    padding: 0;\n",
              "    width: 32px;\n",
              "  }\n",
              "\n",
              "  .colab-df-quickchart:hover {\n",
              "    background-color: var(--hover-bg-color);\n",
              "    box-shadow: 0 1px 2px rgba(60, 64, 67, 0.3), 0 1px 3px 1px rgba(60, 64, 67, 0.15);\n",
              "    fill: var(--button-hover-fill-color);\n",
              "  }\n",
              "\n",
              "  .colab-df-quickchart-complete:disabled,\n",
              "  .colab-df-quickchart-complete:disabled:hover {\n",
              "    background-color: var(--disabled-bg-color);\n",
              "    fill: var(--disabled-fill-color);\n",
              "    box-shadow: none;\n",
              "  }\n",
              "\n",
              "  .colab-df-spinner {\n",
              "    border: 2px solid var(--fill-color);\n",
              "    border-color: transparent;\n",
              "    border-bottom-color: var(--fill-color);\n",
              "    animation:\n",
              "      spin 1s steps(1) infinite;\n",
              "  }\n",
              "\n",
              "  @keyframes spin {\n",
              "    0% {\n",
              "      border-color: transparent;\n",
              "      border-bottom-color: var(--fill-color);\n",
              "      border-left-color: var(--fill-color);\n",
              "    }\n",
              "    20% {\n",
              "      border-color: transparent;\n",
              "      border-left-color: var(--fill-color);\n",
              "      border-top-color: var(--fill-color);\n",
              "    }\n",
              "    30% {\n",
              "      border-color: transparent;\n",
              "      border-left-color: var(--fill-color);\n",
              "      border-top-color: var(--fill-color);\n",
              "      border-right-color: var(--fill-color);\n",
              "    }\n",
              "    40% {\n",
              "      border-color: transparent;\n",
              "      border-right-color: var(--fill-color);\n",
              "      border-top-color: var(--fill-color);\n",
              "    }\n",
              "    60% {\n",
              "      border-color: transparent;\n",
              "      border-right-color: var(--fill-color);\n",
              "    }\n",
              "    80% {\n",
              "      border-color: transparent;\n",
              "      border-right-color: var(--fill-color);\n",
              "      border-bottom-color: var(--fill-color);\n",
              "    }\n",
              "    90% {\n",
              "      border-color: transparent;\n",
              "      border-bottom-color: var(--fill-color);\n",
              "    }\n",
              "  }\n",
              "</style>\n",
              "\n",
              "  <script>\n",
              "    async function quickchart(key) {\n",
              "      const quickchartButtonEl =\n",
              "        document.querySelector('#' + key + ' button');\n",
              "      quickchartButtonEl.disabled = true;  // To prevent multiple clicks.\n",
              "      quickchartButtonEl.classList.add('colab-df-spinner');\n",
              "      try {\n",
              "        const charts = await google.colab.kernel.invokeFunction(\n",
              "            'suggestCharts', [key], {});\n",
              "      } catch (error) {\n",
              "        console.error('Error during call to suggestCharts:', error);\n",
              "      }\n",
              "      quickchartButtonEl.classList.remove('colab-df-spinner');\n",
              "      quickchartButtonEl.classList.add('colab-df-quickchart-complete');\n",
              "    }\n",
              "    (() => {\n",
              "      let quickchartButtonEl =\n",
              "        document.querySelector('#df-57190be1-853f-482d-b086-deb4a2ba9dec button');\n",
              "      quickchartButtonEl.style.display =\n",
              "        google.colab.kernel.accessAllowed ? 'block' : 'none';\n",
              "    })();\n",
              "  </script>\n",
              "</div>\n",
              "    </div>\n",
              "  </div>\n"
            ],
            "application/vnd.google.colaboratory.intrinsic+json": {
              "type": "dataframe",
              "summary": "{\n  \"name\": \"df_count_ch\",\n  \"rows\": 8,\n  \"fields\": [\n    {\n      \"column\": \"count\",\n      \"properties\": {\n        \"dtype\": \"number\",\n        \"std\": 126934133.74593322,\n        \"min\": 1.0,\n        \"max\": 364233176.0,\n        \"num_unique_values\": 8,\n        \"samples\": [\n          10931544.718390804,\n          374.5,\n          174.0\n        ],\n        \"semantic_type\": \"\",\n        \"description\": \"\"\n      }\n    }\n  ]\n}"
            }
          },
          "metadata": {},
          "execution_count": 32
        }
      ]
    },
    {
      "cell_type": "code",
      "source": [
        "df_count_ch[df_count_ch['count']==1]"
      ],
      "metadata": {
        "colab": {
          "base_uri": "https://localhost:8080/",
          "height": 269
        },
        "id": "hrijodNu_p9Y",
        "outputId": "32ce0bfa-e1ee-4460-e447-bd1a71de07ab"
      },
      "execution_count": 33,
      "outputs": [
        {
          "output_type": "execute_result",
          "data": {
            "text/plain": [
              "   count\n",
              "|      1\n",
              "Ñ      1\n",
              "ƒ      1\n",
              "µ      1\n",
              "®      1\n",
              "î      1\n",
              "Ò      1"
            ],
            "text/html": [
              "\n",
              "  <div id=\"df-afef2a2a-3ea8-43b3-bcd9-9e708f2bd4aa\" class=\"colab-df-container\">\n",
              "    <div>\n",
              "<style scoped>\n",
              "    .dataframe tbody tr th:only-of-type {\n",
              "        vertical-align: middle;\n",
              "    }\n",
              "\n",
              "    .dataframe tbody tr th {\n",
              "        vertical-align: top;\n",
              "    }\n",
              "\n",
              "    .dataframe thead th {\n",
              "        text-align: right;\n",
              "    }\n",
              "</style>\n",
              "<table border=\"1\" class=\"dataframe\">\n",
              "  <thead>\n",
              "    <tr style=\"text-align: right;\">\n",
              "      <th></th>\n",
              "      <th>count</th>\n",
              "    </tr>\n",
              "  </thead>\n",
              "  <tbody>\n",
              "    <tr>\n",
              "      <th>|</th>\n",
              "      <td>1</td>\n",
              "    </tr>\n",
              "    <tr>\n",
              "      <th>Ñ</th>\n",
              "      <td>1</td>\n",
              "    </tr>\n",
              "    <tr>\n",
              "      <th>ƒ</th>\n",
              "      <td>1</td>\n",
              "    </tr>\n",
              "    <tr>\n",
              "      <th>µ</th>\n",
              "      <td>1</td>\n",
              "    </tr>\n",
              "    <tr>\n",
              "      <th>®</th>\n",
              "      <td>1</td>\n",
              "    </tr>\n",
              "    <tr>\n",
              "      <th>î</th>\n",
              "      <td>1</td>\n",
              "    </tr>\n",
              "    <tr>\n",
              "      <th>Ò</th>\n",
              "      <td>1</td>\n",
              "    </tr>\n",
              "  </tbody>\n",
              "</table>\n",
              "</div>\n",
              "    <div class=\"colab-df-buttons\">\n",
              "\n",
              "  <div class=\"colab-df-container\">\n",
              "    <button class=\"colab-df-convert\" onclick=\"convertToInteractive('df-afef2a2a-3ea8-43b3-bcd9-9e708f2bd4aa')\"\n",
              "            title=\"Convert this dataframe to an interactive table.\"\n",
              "            style=\"display:none;\">\n",
              "\n",
              "  <svg xmlns=\"http://www.w3.org/2000/svg\" height=\"24px\" viewBox=\"0 -960 960 960\">\n",
              "    <path d=\"M120-120v-720h720v720H120Zm60-500h600v-160H180v160Zm220 220h160v-160H400v160Zm0 220h160v-160H400v160ZM180-400h160v-160H180v160Zm440 0h160v-160H620v160ZM180-180h160v-160H180v160Zm440 0h160v-160H620v160Z\"/>\n",
              "  </svg>\n",
              "    </button>\n",
              "\n",
              "  <style>\n",
              "    .colab-df-container {\n",
              "      display:flex;\n",
              "      gap: 12px;\n",
              "    }\n",
              "\n",
              "    .colab-df-convert {\n",
              "      background-color: #E8F0FE;\n",
              "      border: none;\n",
              "      border-radius: 50%;\n",
              "      cursor: pointer;\n",
              "      display: none;\n",
              "      fill: #1967D2;\n",
              "      height: 32px;\n",
              "      padding: 0 0 0 0;\n",
              "      width: 32px;\n",
              "    }\n",
              "\n",
              "    .colab-df-convert:hover {\n",
              "      background-color: #E2EBFA;\n",
              "      box-shadow: 0px 1px 2px rgba(60, 64, 67, 0.3), 0px 1px 3px 1px rgba(60, 64, 67, 0.15);\n",
              "      fill: #174EA6;\n",
              "    }\n",
              "\n",
              "    .colab-df-buttons div {\n",
              "      margin-bottom: 4px;\n",
              "    }\n",
              "\n",
              "    [theme=dark] .colab-df-convert {\n",
              "      background-color: #3B4455;\n",
              "      fill: #D2E3FC;\n",
              "    }\n",
              "\n",
              "    [theme=dark] .colab-df-convert:hover {\n",
              "      background-color: #434B5C;\n",
              "      box-shadow: 0px 1px 3px 1px rgba(0, 0, 0, 0.15);\n",
              "      filter: drop-shadow(0px 1px 2px rgba(0, 0, 0, 0.3));\n",
              "      fill: #FFFFFF;\n",
              "    }\n",
              "  </style>\n",
              "\n",
              "    <script>\n",
              "      const buttonEl =\n",
              "        document.querySelector('#df-afef2a2a-3ea8-43b3-bcd9-9e708f2bd4aa button.colab-df-convert');\n",
              "      buttonEl.style.display =\n",
              "        google.colab.kernel.accessAllowed ? 'block' : 'none';\n",
              "\n",
              "      async function convertToInteractive(key) {\n",
              "        const element = document.querySelector('#df-afef2a2a-3ea8-43b3-bcd9-9e708f2bd4aa');\n",
              "        const dataTable =\n",
              "          await google.colab.kernel.invokeFunction('convertToInteractive',\n",
              "                                                    [key], {});\n",
              "        if (!dataTable) return;\n",
              "\n",
              "        const docLinkHtml = 'Like what you see? Visit the ' +\n",
              "          '<a target=\"_blank\" href=https://colab.research.google.com/notebooks/data_table.ipynb>data table notebook</a>'\n",
              "          + ' to learn more about interactive tables.';\n",
              "        element.innerHTML = '';\n",
              "        dataTable['output_type'] = 'display_data';\n",
              "        await google.colab.output.renderOutput(dataTable, element);\n",
              "        const docLink = document.createElement('div');\n",
              "        docLink.innerHTML = docLinkHtml;\n",
              "        element.appendChild(docLink);\n",
              "      }\n",
              "    </script>\n",
              "  </div>\n",
              "\n",
              "\n",
              "<div id=\"df-ecc658f9-4d2b-4779-96cb-c4dba1f40cb0\">\n",
              "  <button class=\"colab-df-quickchart\" onclick=\"quickchart('df-ecc658f9-4d2b-4779-96cb-c4dba1f40cb0')\"\n",
              "            title=\"Suggest charts\"\n",
              "            style=\"display:none;\">\n",
              "\n",
              "<svg xmlns=\"http://www.w3.org/2000/svg\" height=\"24px\"viewBox=\"0 0 24 24\"\n",
              "     width=\"24px\">\n",
              "    <g>\n",
              "        <path d=\"M19 3H5c-1.1 0-2 .9-2 2v14c0 1.1.9 2 2 2h14c1.1 0 2-.9 2-2V5c0-1.1-.9-2-2-2zM9 17H7v-7h2v7zm4 0h-2V7h2v10zm4 0h-2v-4h2v4z\"/>\n",
              "    </g>\n",
              "</svg>\n",
              "  </button>\n",
              "\n",
              "<style>\n",
              "  .colab-df-quickchart {\n",
              "      --bg-color: #E8F0FE;\n",
              "      --fill-color: #1967D2;\n",
              "      --hover-bg-color: #E2EBFA;\n",
              "      --hover-fill-color: #174EA6;\n",
              "      --disabled-fill-color: #AAA;\n",
              "      --disabled-bg-color: #DDD;\n",
              "  }\n",
              "\n",
              "  [theme=dark] .colab-df-quickchart {\n",
              "      --bg-color: #3B4455;\n",
              "      --fill-color: #D2E3FC;\n",
              "      --hover-bg-color: #434B5C;\n",
              "      --hover-fill-color: #FFFFFF;\n",
              "      --disabled-bg-color: #3B4455;\n",
              "      --disabled-fill-color: #666;\n",
              "  }\n",
              "\n",
              "  .colab-df-quickchart {\n",
              "    background-color: var(--bg-color);\n",
              "    border: none;\n",
              "    border-radius: 50%;\n",
              "    cursor: pointer;\n",
              "    display: none;\n",
              "    fill: var(--fill-color);\n",
              "    height: 32px;\n",
              "    padding: 0;\n",
              "    width: 32px;\n",
              "  }\n",
              "\n",
              "  .colab-df-quickchart:hover {\n",
              "    background-color: var(--hover-bg-color);\n",
              "    box-shadow: 0 1px 2px rgba(60, 64, 67, 0.3), 0 1px 3px 1px rgba(60, 64, 67, 0.15);\n",
              "    fill: var(--button-hover-fill-color);\n",
              "  }\n",
              "\n",
              "  .colab-df-quickchart-complete:disabled,\n",
              "  .colab-df-quickchart-complete:disabled:hover {\n",
              "    background-color: var(--disabled-bg-color);\n",
              "    fill: var(--disabled-fill-color);\n",
              "    box-shadow: none;\n",
              "  }\n",
              "\n",
              "  .colab-df-spinner {\n",
              "    border: 2px solid var(--fill-color);\n",
              "    border-color: transparent;\n",
              "    border-bottom-color: var(--fill-color);\n",
              "    animation:\n",
              "      spin 1s steps(1) infinite;\n",
              "  }\n",
              "\n",
              "  @keyframes spin {\n",
              "    0% {\n",
              "      border-color: transparent;\n",
              "      border-bottom-color: var(--fill-color);\n",
              "      border-left-color: var(--fill-color);\n",
              "    }\n",
              "    20% {\n",
              "      border-color: transparent;\n",
              "      border-left-color: var(--fill-color);\n",
              "      border-top-color: var(--fill-color);\n",
              "    }\n",
              "    30% {\n",
              "      border-color: transparent;\n",
              "      border-left-color: var(--fill-color);\n",
              "      border-top-color: var(--fill-color);\n",
              "      border-right-color: var(--fill-color);\n",
              "    }\n",
              "    40% {\n",
              "      border-color: transparent;\n",
              "      border-right-color: var(--fill-color);\n",
              "      border-top-color: var(--fill-color);\n",
              "    }\n",
              "    60% {\n",
              "      border-color: transparent;\n",
              "      border-right-color: var(--fill-color);\n",
              "    }\n",
              "    80% {\n",
              "      border-color: transparent;\n",
              "      border-right-color: var(--fill-color);\n",
              "      border-bottom-color: var(--fill-color);\n",
              "    }\n",
              "    90% {\n",
              "      border-color: transparent;\n",
              "      border-bottom-color: var(--fill-color);\n",
              "    }\n",
              "  }\n",
              "</style>\n",
              "\n",
              "  <script>\n",
              "    async function quickchart(key) {\n",
              "      const quickchartButtonEl =\n",
              "        document.querySelector('#' + key + ' button');\n",
              "      quickchartButtonEl.disabled = true;  // To prevent multiple clicks.\n",
              "      quickchartButtonEl.classList.add('colab-df-spinner');\n",
              "      try {\n",
              "        const charts = await google.colab.kernel.invokeFunction(\n",
              "            'suggestCharts', [key], {});\n",
              "      } catch (error) {\n",
              "        console.error('Error during call to suggestCharts:', error);\n",
              "      }\n",
              "      quickchartButtonEl.classList.remove('colab-df-spinner');\n",
              "      quickchartButtonEl.classList.add('colab-df-quickchart-complete');\n",
              "    }\n",
              "    (() => {\n",
              "      let quickchartButtonEl =\n",
              "        document.querySelector('#df-ecc658f9-4d2b-4779-96cb-c4dba1f40cb0 button');\n",
              "      quickchartButtonEl.style.display =\n",
              "        google.colab.kernel.accessAllowed ? 'block' : 'none';\n",
              "    })();\n",
              "  </script>\n",
              "</div>\n",
              "    </div>\n",
              "  </div>\n"
            ],
            "application/vnd.google.colaboratory.intrinsic+json": {
              "type": "dataframe",
              "summary": "{\n  \"name\": \"df_count_ch[df_count_ch['count']==1]\",\n  \"rows\": 7,\n  \"fields\": [\n    {\n      \"column\": \"count\",\n      \"properties\": {\n        \"dtype\": \"number\",\n        \"std\": 0,\n        \"min\": 1,\n        \"max\": 1,\n        \"num_unique_values\": 1,\n        \"samples\": [\n          1\n        ],\n        \"semantic_type\": \"\",\n        \"description\": \"\"\n      }\n    }\n  ]\n}"
            }
          },
          "metadata": {},
          "execution_count": 33
        }
      ]
    },
    {
      "cell_type": "code",
      "source": [
        "df_count_ch[df_count_ch['count']>1.093154e+07].shape, df_count_ch[df_count_ch['count']<1.093154e+07].shape"
      ],
      "metadata": {
        "colab": {
          "base_uri": "https://localhost:8080/"
        },
        "id": "glo3Lm8F_68F",
        "outputId": "b9ace322-125e-4eb3-9f47-44ff669b6c72"
      },
      "execution_count": 34,
      "outputs": [
        {
          "output_type": "execute_result",
          "data": {
            "text/plain": [
              "((27, 1), (147, 1))"
            ]
          },
          "metadata": {},
          "execution_count": 34
        }
      ]
    },
    {
      "cell_type": "code",
      "source": [
        "df_count_ch.sort_values('count', ascending=False).head(10)"
      ],
      "metadata": {
        "colab": {
          "base_uri": "https://localhost:8080/",
          "height": 363
        },
        "id": "G4zKjTXeszn6",
        "outputId": "afe9fead-84d9-471c-be43-19d8f5814d7d"
      },
      "execution_count": 35,
      "outputs": [
        {
          "output_type": "execute_result",
          "data": {
            "text/plain": [
              "       count\n",
              "   364233176\n",
              "e  180782399\n",
              "a  127963378\n",
              "t  118625067\n",
              "o   99438049\n",
              "h   93158669\n",
              "n   88723326\n",
              "i   81541616\n",
              "d   81365133\n",
              "s   78717020"
            ],
            "text/html": [
              "\n",
              "  <div id=\"df-7875dc70-901c-4cde-8f9a-7061d24d7add\" class=\"colab-df-container\">\n",
              "    <div>\n",
              "<style scoped>\n",
              "    .dataframe tbody tr th:only-of-type {\n",
              "        vertical-align: middle;\n",
              "    }\n",
              "\n",
              "    .dataframe tbody tr th {\n",
              "        vertical-align: top;\n",
              "    }\n",
              "\n",
              "    .dataframe thead th {\n",
              "        text-align: right;\n",
              "    }\n",
              "</style>\n",
              "<table border=\"1\" class=\"dataframe\">\n",
              "  <thead>\n",
              "    <tr style=\"text-align: right;\">\n",
              "      <th></th>\n",
              "      <th>count</th>\n",
              "    </tr>\n",
              "  </thead>\n",
              "  <tbody>\n",
              "    <tr>\n",
              "      <th></th>\n",
              "      <td>364233176</td>\n",
              "    </tr>\n",
              "    <tr>\n",
              "      <th>e</th>\n",
              "      <td>180782399</td>\n",
              "    </tr>\n",
              "    <tr>\n",
              "      <th>a</th>\n",
              "      <td>127963378</td>\n",
              "    </tr>\n",
              "    <tr>\n",
              "      <th>t</th>\n",
              "      <td>118625067</td>\n",
              "    </tr>\n",
              "    <tr>\n",
              "      <th>o</th>\n",
              "      <td>99438049</td>\n",
              "    </tr>\n",
              "    <tr>\n",
              "      <th>h</th>\n",
              "      <td>93158669</td>\n",
              "    </tr>\n",
              "    <tr>\n",
              "      <th>n</th>\n",
              "      <td>88723326</td>\n",
              "    </tr>\n",
              "    <tr>\n",
              "      <th>i</th>\n",
              "      <td>81541616</td>\n",
              "    </tr>\n",
              "    <tr>\n",
              "      <th>d</th>\n",
              "      <td>81365133</td>\n",
              "    </tr>\n",
              "    <tr>\n",
              "      <th>s</th>\n",
              "      <td>78717020</td>\n",
              "    </tr>\n",
              "  </tbody>\n",
              "</table>\n",
              "</div>\n",
              "    <div class=\"colab-df-buttons\">\n",
              "\n",
              "  <div class=\"colab-df-container\">\n",
              "    <button class=\"colab-df-convert\" onclick=\"convertToInteractive('df-7875dc70-901c-4cde-8f9a-7061d24d7add')\"\n",
              "            title=\"Convert this dataframe to an interactive table.\"\n",
              "            style=\"display:none;\">\n",
              "\n",
              "  <svg xmlns=\"http://www.w3.org/2000/svg\" height=\"24px\" viewBox=\"0 -960 960 960\">\n",
              "    <path d=\"M120-120v-720h720v720H120Zm60-500h600v-160H180v160Zm220 220h160v-160H400v160Zm0 220h160v-160H400v160ZM180-400h160v-160H180v160Zm440 0h160v-160H620v160ZM180-180h160v-160H180v160Zm440 0h160v-160H620v160Z\"/>\n",
              "  </svg>\n",
              "    </button>\n",
              "\n",
              "  <style>\n",
              "    .colab-df-container {\n",
              "      display:flex;\n",
              "      gap: 12px;\n",
              "    }\n",
              "\n",
              "    .colab-df-convert {\n",
              "      background-color: #E8F0FE;\n",
              "      border: none;\n",
              "      border-radius: 50%;\n",
              "      cursor: pointer;\n",
              "      display: none;\n",
              "      fill: #1967D2;\n",
              "      height: 32px;\n",
              "      padding: 0 0 0 0;\n",
              "      width: 32px;\n",
              "    }\n",
              "\n",
              "    .colab-df-convert:hover {\n",
              "      background-color: #E2EBFA;\n",
              "      box-shadow: 0px 1px 2px rgba(60, 64, 67, 0.3), 0px 1px 3px 1px rgba(60, 64, 67, 0.15);\n",
              "      fill: #174EA6;\n",
              "    }\n",
              "\n",
              "    .colab-df-buttons div {\n",
              "      margin-bottom: 4px;\n",
              "    }\n",
              "\n",
              "    [theme=dark] .colab-df-convert {\n",
              "      background-color: #3B4455;\n",
              "      fill: #D2E3FC;\n",
              "    }\n",
              "\n",
              "    [theme=dark] .colab-df-convert:hover {\n",
              "      background-color: #434B5C;\n",
              "      box-shadow: 0px 1px 3px 1px rgba(0, 0, 0, 0.15);\n",
              "      filter: drop-shadow(0px 1px 2px rgba(0, 0, 0, 0.3));\n",
              "      fill: #FFFFFF;\n",
              "    }\n",
              "  </style>\n",
              "\n",
              "    <script>\n",
              "      const buttonEl =\n",
              "        document.querySelector('#df-7875dc70-901c-4cde-8f9a-7061d24d7add button.colab-df-convert');\n",
              "      buttonEl.style.display =\n",
              "        google.colab.kernel.accessAllowed ? 'block' : 'none';\n",
              "\n",
              "      async function convertToInteractive(key) {\n",
              "        const element = document.querySelector('#df-7875dc70-901c-4cde-8f9a-7061d24d7add');\n",
              "        const dataTable =\n",
              "          await google.colab.kernel.invokeFunction('convertToInteractive',\n",
              "                                                    [key], {});\n",
              "        if (!dataTable) return;\n",
              "\n",
              "        const docLinkHtml = 'Like what you see? Visit the ' +\n",
              "          '<a target=\"_blank\" href=https://colab.research.google.com/notebooks/data_table.ipynb>data table notebook</a>'\n",
              "          + ' to learn more about interactive tables.';\n",
              "        element.innerHTML = '';\n",
              "        dataTable['output_type'] = 'display_data';\n",
              "        await google.colab.output.renderOutput(dataTable, element);\n",
              "        const docLink = document.createElement('div');\n",
              "        docLink.innerHTML = docLinkHtml;\n",
              "        element.appendChild(docLink);\n",
              "      }\n",
              "    </script>\n",
              "  </div>\n",
              "\n",
              "\n",
              "<div id=\"df-405b3963-3584-48ad-8351-66e6cb566de0\">\n",
              "  <button class=\"colab-df-quickchart\" onclick=\"quickchart('df-405b3963-3584-48ad-8351-66e6cb566de0')\"\n",
              "            title=\"Suggest charts\"\n",
              "            style=\"display:none;\">\n",
              "\n",
              "<svg xmlns=\"http://www.w3.org/2000/svg\" height=\"24px\"viewBox=\"0 0 24 24\"\n",
              "     width=\"24px\">\n",
              "    <g>\n",
              "        <path d=\"M19 3H5c-1.1 0-2 .9-2 2v14c0 1.1.9 2 2 2h14c1.1 0 2-.9 2-2V5c0-1.1-.9-2-2-2zM9 17H7v-7h2v7zm4 0h-2V7h2v10zm4 0h-2v-4h2v4z\"/>\n",
              "    </g>\n",
              "</svg>\n",
              "  </button>\n",
              "\n",
              "<style>\n",
              "  .colab-df-quickchart {\n",
              "      --bg-color: #E8F0FE;\n",
              "      --fill-color: #1967D2;\n",
              "      --hover-bg-color: #E2EBFA;\n",
              "      --hover-fill-color: #174EA6;\n",
              "      --disabled-fill-color: #AAA;\n",
              "      --disabled-bg-color: #DDD;\n",
              "  }\n",
              "\n",
              "  [theme=dark] .colab-df-quickchart {\n",
              "      --bg-color: #3B4455;\n",
              "      --fill-color: #D2E3FC;\n",
              "      --hover-bg-color: #434B5C;\n",
              "      --hover-fill-color: #FFFFFF;\n",
              "      --disabled-bg-color: #3B4455;\n",
              "      --disabled-fill-color: #666;\n",
              "  }\n",
              "\n",
              "  .colab-df-quickchart {\n",
              "    background-color: var(--bg-color);\n",
              "    border: none;\n",
              "    border-radius: 50%;\n",
              "    cursor: pointer;\n",
              "    display: none;\n",
              "    fill: var(--fill-color);\n",
              "    height: 32px;\n",
              "    padding: 0;\n",
              "    width: 32px;\n",
              "  }\n",
              "\n",
              "  .colab-df-quickchart:hover {\n",
              "    background-color: var(--hover-bg-color);\n",
              "    box-shadow: 0 1px 2px rgba(60, 64, 67, 0.3), 0 1px 3px 1px rgba(60, 64, 67, 0.15);\n",
              "    fill: var(--button-hover-fill-color);\n",
              "  }\n",
              "\n",
              "  .colab-df-quickchart-complete:disabled,\n",
              "  .colab-df-quickchart-complete:disabled:hover {\n",
              "    background-color: var(--disabled-bg-color);\n",
              "    fill: var(--disabled-fill-color);\n",
              "    box-shadow: none;\n",
              "  }\n",
              "\n",
              "  .colab-df-spinner {\n",
              "    border: 2px solid var(--fill-color);\n",
              "    border-color: transparent;\n",
              "    border-bottom-color: var(--fill-color);\n",
              "    animation:\n",
              "      spin 1s steps(1) infinite;\n",
              "  }\n",
              "\n",
              "  @keyframes spin {\n",
              "    0% {\n",
              "      border-color: transparent;\n",
              "      border-bottom-color: var(--fill-color);\n",
              "      border-left-color: var(--fill-color);\n",
              "    }\n",
              "    20% {\n",
              "      border-color: transparent;\n",
              "      border-left-color: var(--fill-color);\n",
              "      border-top-color: var(--fill-color);\n",
              "    }\n",
              "    30% {\n",
              "      border-color: transparent;\n",
              "      border-left-color: var(--fill-color);\n",
              "      border-top-color: var(--fill-color);\n",
              "      border-right-color: var(--fill-color);\n",
              "    }\n",
              "    40% {\n",
              "      border-color: transparent;\n",
              "      border-right-color: var(--fill-color);\n",
              "      border-top-color: var(--fill-color);\n",
              "    }\n",
              "    60% {\n",
              "      border-color: transparent;\n",
              "      border-right-color: var(--fill-color);\n",
              "    }\n",
              "    80% {\n",
              "      border-color: transparent;\n",
              "      border-right-color: var(--fill-color);\n",
              "      border-bottom-color: var(--fill-color);\n",
              "    }\n",
              "    90% {\n",
              "      border-color: transparent;\n",
              "      border-bottom-color: var(--fill-color);\n",
              "    }\n",
              "  }\n",
              "</style>\n",
              "\n",
              "  <script>\n",
              "    async function quickchart(key) {\n",
              "      const quickchartButtonEl =\n",
              "        document.querySelector('#' + key + ' button');\n",
              "      quickchartButtonEl.disabled = true;  // To prevent multiple clicks.\n",
              "      quickchartButtonEl.classList.add('colab-df-spinner');\n",
              "      try {\n",
              "        const charts = await google.colab.kernel.invokeFunction(\n",
              "            'suggestCharts', [key], {});\n",
              "      } catch (error) {\n",
              "        console.error('Error during call to suggestCharts:', error);\n",
              "      }\n",
              "      quickchartButtonEl.classList.remove('colab-df-spinner');\n",
              "      quickchartButtonEl.classList.add('colab-df-quickchart-complete');\n",
              "    }\n",
              "    (() => {\n",
              "      let quickchartButtonEl =\n",
              "        document.querySelector('#df-405b3963-3584-48ad-8351-66e6cb566de0 button');\n",
              "      quickchartButtonEl.style.display =\n",
              "        google.colab.kernel.accessAllowed ? 'block' : 'none';\n",
              "    })();\n",
              "  </script>\n",
              "</div>\n",
              "    </div>\n",
              "  </div>\n"
            ],
            "application/vnd.google.colaboratory.intrinsic+json": {
              "type": "dataframe",
              "summary": "{\n  \"name\": \"df_count_ch\",\n  \"rows\": 10,\n  \"fields\": [\n    {\n      \"column\": \"count\",\n      \"properties\": {\n        \"dtype\": \"number\",\n        \"std\": 87492853,\n        \"min\": 78717020,\n        \"max\": 364233176,\n        \"num_unique_values\": 10,\n        \"samples\": [\n          81365133,\n          180782399,\n          93158669\n        ],\n        \"semantic_type\": \"\",\n        \"description\": \"\"\n      }\n    }\n  ]\n}"
            }
          },
          "metadata": {},
          "execution_count": 35
        }
      ]
    },
    {
      "cell_type": "code",
      "source": [
        "df_count_ch.sort_values('count', ascending=False).tail(10)"
      ],
      "metadata": {
        "colab": {
          "base_uri": "https://localhost:8080/",
          "height": 363
        },
        "id": "0Ie9q2IdAPZG",
        "outputId": "545b5796-0ae7-4224-a4f0-6b76295b79b0"
      },
      "execution_count": 36,
      "outputs": [
        {
          "output_type": "execute_result",
          "data": {
            "text/plain": [
              "   count\n",
              "š      2\n",
              "@      2\n",
              "É      2\n",
              "|      1\n",
              "Ñ      1\n",
              "ƒ      1\n",
              "î      1\n",
              "®      1\n",
              "µ      1\n",
              "Ò      1"
            ],
            "text/html": [
              "\n",
              "  <div id=\"df-e9e33db8-99e6-4b75-bea9-aa618a7caa54\" class=\"colab-df-container\">\n",
              "    <div>\n",
              "<style scoped>\n",
              "    .dataframe tbody tr th:only-of-type {\n",
              "        vertical-align: middle;\n",
              "    }\n",
              "\n",
              "    .dataframe tbody tr th {\n",
              "        vertical-align: top;\n",
              "    }\n",
              "\n",
              "    .dataframe thead th {\n",
              "        text-align: right;\n",
              "    }\n",
              "</style>\n",
              "<table border=\"1\" class=\"dataframe\">\n",
              "  <thead>\n",
              "    <tr style=\"text-align: right;\">\n",
              "      <th></th>\n",
              "      <th>count</th>\n",
              "    </tr>\n",
              "  </thead>\n",
              "  <tbody>\n",
              "    <tr>\n",
              "      <th>š</th>\n",
              "      <td>2</td>\n",
              "    </tr>\n",
              "    <tr>\n",
              "      <th>@</th>\n",
              "      <td>2</td>\n",
              "    </tr>\n",
              "    <tr>\n",
              "      <th>É</th>\n",
              "      <td>2</td>\n",
              "    </tr>\n",
              "    <tr>\n",
              "      <th>|</th>\n",
              "      <td>1</td>\n",
              "    </tr>\n",
              "    <tr>\n",
              "      <th>Ñ</th>\n",
              "      <td>1</td>\n",
              "    </tr>\n",
              "    <tr>\n",
              "      <th>ƒ</th>\n",
              "      <td>1</td>\n",
              "    </tr>\n",
              "    <tr>\n",
              "      <th>î</th>\n",
              "      <td>1</td>\n",
              "    </tr>\n",
              "    <tr>\n",
              "      <th>®</th>\n",
              "      <td>1</td>\n",
              "    </tr>\n",
              "    <tr>\n",
              "      <th>µ</th>\n",
              "      <td>1</td>\n",
              "    </tr>\n",
              "    <tr>\n",
              "      <th>Ò</th>\n",
              "      <td>1</td>\n",
              "    </tr>\n",
              "  </tbody>\n",
              "</table>\n",
              "</div>\n",
              "    <div class=\"colab-df-buttons\">\n",
              "\n",
              "  <div class=\"colab-df-container\">\n",
              "    <button class=\"colab-df-convert\" onclick=\"convertToInteractive('df-e9e33db8-99e6-4b75-bea9-aa618a7caa54')\"\n",
              "            title=\"Convert this dataframe to an interactive table.\"\n",
              "            style=\"display:none;\">\n",
              "\n",
              "  <svg xmlns=\"http://www.w3.org/2000/svg\" height=\"24px\" viewBox=\"0 -960 960 960\">\n",
              "    <path d=\"M120-120v-720h720v720H120Zm60-500h600v-160H180v160Zm220 220h160v-160H400v160Zm0 220h160v-160H400v160ZM180-400h160v-160H180v160Zm440 0h160v-160H620v160ZM180-180h160v-160H180v160Zm440 0h160v-160H620v160Z\"/>\n",
              "  </svg>\n",
              "    </button>\n",
              "\n",
              "  <style>\n",
              "    .colab-df-container {\n",
              "      display:flex;\n",
              "      gap: 12px;\n",
              "    }\n",
              "\n",
              "    .colab-df-convert {\n",
              "      background-color: #E8F0FE;\n",
              "      border: none;\n",
              "      border-radius: 50%;\n",
              "      cursor: pointer;\n",
              "      display: none;\n",
              "      fill: #1967D2;\n",
              "      height: 32px;\n",
              "      padding: 0 0 0 0;\n",
              "      width: 32px;\n",
              "    }\n",
              "\n",
              "    .colab-df-convert:hover {\n",
              "      background-color: #E2EBFA;\n",
              "      box-shadow: 0px 1px 2px rgba(60, 64, 67, 0.3), 0px 1px 3px 1px rgba(60, 64, 67, 0.15);\n",
              "      fill: #174EA6;\n",
              "    }\n",
              "\n",
              "    .colab-df-buttons div {\n",
              "      margin-bottom: 4px;\n",
              "    }\n",
              "\n",
              "    [theme=dark] .colab-df-convert {\n",
              "      background-color: #3B4455;\n",
              "      fill: #D2E3FC;\n",
              "    }\n",
              "\n",
              "    [theme=dark] .colab-df-convert:hover {\n",
              "      background-color: #434B5C;\n",
              "      box-shadow: 0px 1px 3px 1px rgba(0, 0, 0, 0.15);\n",
              "      filter: drop-shadow(0px 1px 2px rgba(0, 0, 0, 0.3));\n",
              "      fill: #FFFFFF;\n",
              "    }\n",
              "  </style>\n",
              "\n",
              "    <script>\n",
              "      const buttonEl =\n",
              "        document.querySelector('#df-e9e33db8-99e6-4b75-bea9-aa618a7caa54 button.colab-df-convert');\n",
              "      buttonEl.style.display =\n",
              "        google.colab.kernel.accessAllowed ? 'block' : 'none';\n",
              "\n",
              "      async function convertToInteractive(key) {\n",
              "        const element = document.querySelector('#df-e9e33db8-99e6-4b75-bea9-aa618a7caa54');\n",
              "        const dataTable =\n",
              "          await google.colab.kernel.invokeFunction('convertToInteractive',\n",
              "                                                    [key], {});\n",
              "        if (!dataTable) return;\n",
              "\n",
              "        const docLinkHtml = 'Like what you see? Visit the ' +\n",
              "          '<a target=\"_blank\" href=https://colab.research.google.com/notebooks/data_table.ipynb>data table notebook</a>'\n",
              "          + ' to learn more about interactive tables.';\n",
              "        element.innerHTML = '';\n",
              "        dataTable['output_type'] = 'display_data';\n",
              "        await google.colab.output.renderOutput(dataTable, element);\n",
              "        const docLink = document.createElement('div');\n",
              "        docLink.innerHTML = docLinkHtml;\n",
              "        element.appendChild(docLink);\n",
              "      }\n",
              "    </script>\n",
              "  </div>\n",
              "\n",
              "\n",
              "<div id=\"df-246a0694-0065-4ab1-bc42-0ad836da6d7d\">\n",
              "  <button class=\"colab-df-quickchart\" onclick=\"quickchart('df-246a0694-0065-4ab1-bc42-0ad836da6d7d')\"\n",
              "            title=\"Suggest charts\"\n",
              "            style=\"display:none;\">\n",
              "\n",
              "<svg xmlns=\"http://www.w3.org/2000/svg\" height=\"24px\"viewBox=\"0 0 24 24\"\n",
              "     width=\"24px\">\n",
              "    <g>\n",
              "        <path d=\"M19 3H5c-1.1 0-2 .9-2 2v14c0 1.1.9 2 2 2h14c1.1 0 2-.9 2-2V5c0-1.1-.9-2-2-2zM9 17H7v-7h2v7zm4 0h-2V7h2v10zm4 0h-2v-4h2v4z\"/>\n",
              "    </g>\n",
              "</svg>\n",
              "  </button>\n",
              "\n",
              "<style>\n",
              "  .colab-df-quickchart {\n",
              "      --bg-color: #E8F0FE;\n",
              "      --fill-color: #1967D2;\n",
              "      --hover-bg-color: #E2EBFA;\n",
              "      --hover-fill-color: #174EA6;\n",
              "      --disabled-fill-color: #AAA;\n",
              "      --disabled-bg-color: #DDD;\n",
              "  }\n",
              "\n",
              "  [theme=dark] .colab-df-quickchart {\n",
              "      --bg-color: #3B4455;\n",
              "      --fill-color: #D2E3FC;\n",
              "      --hover-bg-color: #434B5C;\n",
              "      --hover-fill-color: #FFFFFF;\n",
              "      --disabled-bg-color: #3B4455;\n",
              "      --disabled-fill-color: #666;\n",
              "  }\n",
              "\n",
              "  .colab-df-quickchart {\n",
              "    background-color: var(--bg-color);\n",
              "    border: none;\n",
              "    border-radius: 50%;\n",
              "    cursor: pointer;\n",
              "    display: none;\n",
              "    fill: var(--fill-color);\n",
              "    height: 32px;\n",
              "    padding: 0;\n",
              "    width: 32px;\n",
              "  }\n",
              "\n",
              "  .colab-df-quickchart:hover {\n",
              "    background-color: var(--hover-bg-color);\n",
              "    box-shadow: 0 1px 2px rgba(60, 64, 67, 0.3), 0 1px 3px 1px rgba(60, 64, 67, 0.15);\n",
              "    fill: var(--button-hover-fill-color);\n",
              "  }\n",
              "\n",
              "  .colab-df-quickchart-complete:disabled,\n",
              "  .colab-df-quickchart-complete:disabled:hover {\n",
              "    background-color: var(--disabled-bg-color);\n",
              "    fill: var(--disabled-fill-color);\n",
              "    box-shadow: none;\n",
              "  }\n",
              "\n",
              "  .colab-df-spinner {\n",
              "    border: 2px solid var(--fill-color);\n",
              "    border-color: transparent;\n",
              "    border-bottom-color: var(--fill-color);\n",
              "    animation:\n",
              "      spin 1s steps(1) infinite;\n",
              "  }\n",
              "\n",
              "  @keyframes spin {\n",
              "    0% {\n",
              "      border-color: transparent;\n",
              "      border-bottom-color: var(--fill-color);\n",
              "      border-left-color: var(--fill-color);\n",
              "    }\n",
              "    20% {\n",
              "      border-color: transparent;\n",
              "      border-left-color: var(--fill-color);\n",
              "      border-top-color: var(--fill-color);\n",
              "    }\n",
              "    30% {\n",
              "      border-color: transparent;\n",
              "      border-left-color: var(--fill-color);\n",
              "      border-top-color: var(--fill-color);\n",
              "      border-right-color: var(--fill-color);\n",
              "    }\n",
              "    40% {\n",
              "      border-color: transparent;\n",
              "      border-right-color: var(--fill-color);\n",
              "      border-top-color: var(--fill-color);\n",
              "    }\n",
              "    60% {\n",
              "      border-color: transparent;\n",
              "      border-right-color: var(--fill-color);\n",
              "    }\n",
              "    80% {\n",
              "      border-color: transparent;\n",
              "      border-right-color: var(--fill-color);\n",
              "      border-bottom-color: var(--fill-color);\n",
              "    }\n",
              "    90% {\n",
              "      border-color: transparent;\n",
              "      border-bottom-color: var(--fill-color);\n",
              "    }\n",
              "  }\n",
              "</style>\n",
              "\n",
              "  <script>\n",
              "    async function quickchart(key) {\n",
              "      const quickchartButtonEl =\n",
              "        document.querySelector('#' + key + ' button');\n",
              "      quickchartButtonEl.disabled = true;  // To prevent multiple clicks.\n",
              "      quickchartButtonEl.classList.add('colab-df-spinner');\n",
              "      try {\n",
              "        const charts = await google.colab.kernel.invokeFunction(\n",
              "            'suggestCharts', [key], {});\n",
              "      } catch (error) {\n",
              "        console.error('Error during call to suggestCharts:', error);\n",
              "      }\n",
              "      quickchartButtonEl.classList.remove('colab-df-spinner');\n",
              "      quickchartButtonEl.classList.add('colab-df-quickchart-complete');\n",
              "    }\n",
              "    (() => {\n",
              "      let quickchartButtonEl =\n",
              "        document.querySelector('#df-246a0694-0065-4ab1-bc42-0ad836da6d7d button');\n",
              "      quickchartButtonEl.style.display =\n",
              "        google.colab.kernel.accessAllowed ? 'block' : 'none';\n",
              "    })();\n",
              "  </script>\n",
              "</div>\n",
              "    </div>\n",
              "  </div>\n"
            ],
            "application/vnd.google.colaboratory.intrinsic+json": {
              "type": "dataframe",
              "summary": "{\n  \"name\": \"df_count_ch\",\n  \"rows\": 10,\n  \"fields\": [\n    {\n      \"column\": \"count\",\n      \"properties\": {\n        \"dtype\": \"number\",\n        \"std\": 0,\n        \"min\": 1,\n        \"max\": 2,\n        \"num_unique_values\": 2,\n        \"samples\": [\n          1,\n          2\n        ],\n        \"semantic_type\": \"\",\n        \"description\": \"\"\n      }\n    }\n  ]\n}"
            }
          },
          "metadata": {},
          "execution_count": 36
        }
      ]
    },
    {
      "cell_type": "code",
      "source": [
        "364233176/num_char # Space character"
      ],
      "metadata": {
        "colab": {
          "base_uri": "https://localhost:8080/"
        },
        "id": "6VPdXjI8t1Qp",
        "outputId": "4f1b54af-6a71-4748-ac60-8f12a77236f7"
      },
      "execution_count": 37,
      "outputs": [
        {
          "output_type": "execute_result",
          "data": {
            "text/plain": [
              "0.19149115416605783"
            ]
          },
          "metadata": {},
          "execution_count": 37
        }
      ]
    },
    {
      "cell_type": "code",
      "source": [
        "df_count_ch[df_count_ch['count'] == 1].shape, df_count_ch[df_count_ch['count'] == 2].shape, df_count_ch[df_count_ch['count'] == 3].shape"
      ],
      "metadata": {
        "colab": {
          "base_uri": "https://localhost:8080/"
        },
        "id": "VEcLa7vt57Gn",
        "outputId": "8bba3f5c-3679-458b-b566-b068468bbd0e"
      },
      "execution_count": 38,
      "outputs": [
        {
          "output_type": "execute_result",
          "data": {
            "text/plain": [
              "((7, 1), (4, 1), (2, 1))"
            ]
          },
          "metadata": {},
          "execution_count": 38
        }
      ]
    },
    {
      "cell_type": "code",
      "source": [
        "df_count_ch[df_count_ch['count'] > 3].shape"
      ],
      "metadata": {
        "colab": {
          "base_uri": "https://localhost:8080/"
        },
        "id": "h2tAeyPuGgGA",
        "outputId": "3487ad0d-1d40-440c-a8b8-920594f52022"
      },
      "execution_count": 39,
      "outputs": [
        {
          "output_type": "execute_result",
          "data": {
            "text/plain": [
              "(161, 1)"
            ]
          },
          "metadata": {},
          "execution_count": 39
        }
      ]
    },
    {
      "cell_type": "markdown",
      "source": [
        "### 🔵 **Word Level**"
      ],
      "metadata": {
        "id": "ImMTdt4w_CH3"
      }
    },
    {
      "cell_type": "code",
      "source": [
        "df_count = pd.DataFrame.from_dict(token_counts, orient='index', columns=['count'])"
      ],
      "metadata": {
        "id": "Ca4_KWM6_U72"
      },
      "execution_count": 24,
      "outputs": []
    },
    {
      "cell_type": "code",
      "source": [
        "print('Number of characters in train part: ', num_char/1e9, 'Billion characters')\n",
        "print('Number of tokens in train part: ', num_tok/1e6, 'Million tokens')\n",
        "print('Number of unique tokens in train part: ', len(token_counts), 'tokens')\n",
        "print('Number of unique character in train part: ', len(char_counts), 'characters')\n",
        "print(f'On average, there are {num_char//dataset_size} characters in each story.: ')\n",
        "print(f'On average, there are {num_tok//dataset_size} tokens in each story.')\n",
        "print(f\"The most common token is '{df_count[df_count['count'] == df_count['count'].values.max()].index.tolist()[0]}' \\\n",
        "with {df_count['count'].values.max()/1e6} million occurrences.\")\n",
        "des = df_count.describe()\n",
        "print(f\"The mean token repetition count is {int(des['count']['mean'])}.\")\n",
        "print(f\"The standard deviation of token repetition is {int(des['count']['std'])}.\")\n",
        "print(f\"The minimum token repetition count is {int(des['count']['min'])}.\")\n",
        "print(f\"The 25th percentile of token repetition is {int(des['count']['25%'])}.\")\n",
        "print(f\"The median token repetition count is {int(des['count']['50%'])}.\")\n",
        "print(f\"The 75th percentile of token repetition is {int(des['count']['75%'])}.\")\n",
        "print(f\"The maximum token repetition count is {int(des['count']['max'])}.\")\n",
        "\n",
        "\n",
        "print(\"\\n\\033[1m\" + \"📊 Text Dataset Statistics\" + \"\\033[0m\" + \"\\n\" + \"-\"*50)\n",
        "print(f\"\\033[1m• Characters:\\033[0m {num_char/1e9:.2f} Billion\")\n",
        "print(f\"\\033[1m• Tokens:\\033[0m {num_tok/1e6:.2f} Million\")\n",
        "print(f\"\\033[1m• Unique Tokens:\\033[0m {len(token_counts):,}\")\n",
        "print(\"\\n\\033[1m📝 Per-Story Averages:\\033[0m\")\n",
        "print(f\"  → Characters: {num_char//dataset_size:,}\")\n",
        "print(f\"  → Tokens: {num_tok//dataset_size:,}\")\n",
        "most_common_token = df_count[df_count['count'] == df_count['count'].max()].index[0]\n",
        "print(f\"\\n\\033[1m🏆 Most Frequent Token:\\033[0m\")\n",
        "print(f\"  → '{most_common_token}' ({df_count['count'].max()/1e6:.2f} million occurrences)\")\n",
        "print(\"\\n\\033[1m📈 Token Repetition Statistics:\\033[0m\")\n",
        "print(f\"  → Mean: {int(des['count']['mean'])}\")\n",
        "print(f\"  → Std Dev: {int(des['count']['std']):,}\")\n",
        "print(f\"  → Min: {int(des['count']['min']):,}\")\n",
        "print(f\"  → 25th Percentile: {int(des['count']['25%']):,}\")\n",
        "print(f\"  → Median: {int(des['count']['50%']):,}\")\n",
        "print(f\"  → 75th Percentile: {int(des['count']['75%']):,}\")\n",
        "print(f\"  → Max: {int(des['count']['max']):,}\")\n",
        "print(\"-\"*50)"
      ],
      "metadata": {
        "colab": {
          "base_uri": "https://localhost:8080/"
        },
        "id": "_l4Srg1JYIGM",
        "outputId": "c281f89b-ab95-4f52-a9aa-3bfe503cfa89"
      },
      "execution_count": 25,
      "outputs": [
        {
          "output_type": "stream",
          "name": "stdout",
          "text": [
            "Number of characters in train part:  1.902088781 Billion characters\n",
            "Number of tokens in train part:  439.039906 Million tokens\n",
            "Number of unique tokens in train part:  63577 tokens\n",
            "Number of unique character in train part:  174 characters\n",
            "On average, there are 897 characters in each story.: \n",
            "On average, there are 207 tokens in each story.\n",
            "The most common token is '.' with 36.459483 million occurrences.\n",
            "The mean token repetition count is 6905.\n",
            "The standard deviation of token repetition is 226804.\n",
            "The minimum token repetition count is 1.\n",
            "The 25th percentile of token repetition is 1.\n",
            "The median token repetition count is 3.\n",
            "The 75th percentile of token repetition is 24.\n",
            "The maximum token repetition count is 36459483.\n",
            "\n",
            "\u001b[1m📊 Text Dataset Statistics\u001b[0m\n",
            "--------------------------------------------------\n",
            "\u001b[1m• Characters:\u001b[0m 1.90 Billion\n",
            "\u001b[1m• Tokens:\u001b[0m 439.04 Million\n",
            "\u001b[1m• Unique Tokens:\u001b[0m 63,577\n",
            "\n",
            "\u001b[1m📝 Per-Story Averages:\u001b[0m\n",
            "  → Characters: 897\n",
            "  → Tokens: 207\n",
            "\n",
            "\u001b[1m🏆 Most Frequent Token:\u001b[0m\n",
            "  → '.' (36.46 million occurrences)\n",
            "\n",
            "\u001b[1m📈 Token Repetition Statistics:\u001b[0m\n",
            "  → Mean: 6905\n",
            "  → Std Dev: 226,804\n",
            "  → Min: 1\n",
            "  → 25th Percentile: 1\n",
            "  → Median: 3\n",
            "  → 75th Percentile: 24\n",
            "  → Max: 36,459,483\n",
            "--------------------------------------------------\n"
          ]
        }
      ]
    },
    {
      "cell_type": "code",
      "source": [
        "print(\"\\n🔝 Top 10 Tokens\")\n",
        "top_10 = df_count.sort_values('count', ascending=False).head(10)\n",
        "display(top_10.style.format({'count': '{:,}'}).background_gradient(cmap='Blues'))\n",
        "\n",
        "plt.figure(figsize=(12, 6))\n",
        "top_10.plot(kind='barh', color='skyblue', edgecolor='darkblue')\n",
        "plt.title('Top 10 Most Frequent Tokens', fontsize=14, pad=20)\n",
        "plt.xlabel('Frequency Count', fontsize=12)\n",
        "plt.ylabel('Token', fontsize=12)\n",
        "plt.gca().invert_yaxis()\n",
        "plt.grid(axis='x', linestyle='--', alpha=0.7)\n",
        "plt.tight_layout()\n",
        "plt.show()"
      ],
      "metadata": {
        "colab": {
          "base_uri": "https://localhost:8080/",
          "height": 885
        },
        "id": "ssMhQ4PrYttM",
        "outputId": "b94c2a91-c593-490d-ed3a-c725f3606af3"
      },
      "execution_count": 26,
      "outputs": [
        {
          "output_type": "stream",
          "name": "stdout",
          "text": [
            "\n",
            "🔝 Top 10 Tokens\n"
          ]
        },
        {
          "output_type": "display_data",
          "data": {
            "text/plain": [
              "<pandas.io.formats.style.Styler at 0x798b00e9c850>"
            ],
            "text/html": [
              "<style type=\"text/css\">\n",
              "#T_06066_row0_col0 {\n",
              "  background-color: #08306b;\n",
              "  color: #f1f1f1;\n",
              "}\n",
              "#T_06066_row1_col0 {\n",
              "  background-color: #81badb;\n",
              "  color: #000000;\n",
              "}\n",
              "#T_06066_row2_col0 {\n",
              "  background-color: #9dcae1;\n",
              "  color: #000000;\n",
              "}\n",
              "#T_06066_row3_col0 {\n",
              "  background-color: #a6cee4;\n",
              "  color: #000000;\n",
              "}\n",
              "#T_06066_row4_col0 {\n",
              "  background-color: #d2e3f3;\n",
              "  color: #000000;\n",
              "}\n",
              "#T_06066_row5_col0 {\n",
              "  background-color: #d9e8f5;\n",
              "  color: #000000;\n",
              "}\n",
              "#T_06066_row6_col0 {\n",
              "  background-color: #e7f1fa;\n",
              "  color: #000000;\n",
              "}\n",
              "#T_06066_row7_col0 {\n",
              "  background-color: #f2f7fd;\n",
              "  color: #000000;\n",
              "}\n",
              "#T_06066_row8_col0 {\n",
              "  background-color: #f3f8fe;\n",
              "  color: #000000;\n",
              "}\n",
              "#T_06066_row9_col0 {\n",
              "  background-color: #f7fbff;\n",
              "  color: #000000;\n",
              "}\n",
              "</style>\n",
              "<table id=\"T_06066\" class=\"dataframe\">\n",
              "  <thead>\n",
              "    <tr>\n",
              "      <th class=\"blank level0\" >&nbsp;</th>\n",
              "      <th id=\"T_06066_level0_col0\" class=\"col_heading level0 col0\" >count</th>\n",
              "    </tr>\n",
              "  </thead>\n",
              "  <tbody>\n",
              "    <tr>\n",
              "      <th id=\"T_06066_level0_row0\" class=\"row_heading level0 row0\" >.</th>\n",
              "      <td id=\"T_06066_row0_col0\" class=\"data row0 col0\" >36,459,483</td>\n",
              "    </tr>\n",
              "    <tr>\n",
              "      <th id=\"T_06066_level0_row1\" class=\"row_heading level0 row1\" >the</th>\n",
              "      <td id=\"T_06066_row1_col0\" class=\"data row1 col0\" >20,239,799</td>\n",
              "    </tr>\n",
              "    <tr>\n",
              "      <th id=\"T_06066_level0_row2\" class=\"row_heading level0 row2\" >and</th>\n",
              "      <td id=\"T_06066_row2_col0\" class=\"data row2 col0\" >18,112,895</td>\n",
              "    </tr>\n",
              "    <tr>\n",
              "      <th id=\"T_06066_level0_row3\" class=\"row_heading level0 row3\" >,</th>\n",
              "      <td id=\"T_06066_row3_col0\" class=\"data row3 col0\" >17,359,980</td>\n",
              "    </tr>\n",
              "    <tr>\n",
              "      <th id=\"T_06066_level0_row4\" class=\"row_heading level0 row4\" >to</th>\n",
              "      <td id=\"T_06066_row4_col0\" class=\"data row4 col0\" >12,648,384</td>\n",
              "    </tr>\n",
              "    <tr>\n",
              "      <th id=\"T_06066_level0_row5\" class=\"row_heading level0 row5\" >a</th>\n",
              "      <td id=\"T_06066_row5_col0\" class=\"data row5 col0\" >11,475,893</td>\n",
              "    </tr>\n",
              "    <tr>\n",
              "      <th id=\"T_06066_level0_row6\" class=\"row_heading level0 row6\" >was</th>\n",
              "      <td id=\"T_06066_row6_col0\" class=\"data row6 col0\" >9,436,658</td>\n",
              "    </tr>\n",
              "    <tr>\n",
              "      <th id=\"T_06066_level0_row7\" class=\"row_heading level0 row7\" >he</th>\n",
              "      <td id=\"T_06066_row7_col0\" class=\"data row7 col0\" >7,977,807</td>\n",
              "    </tr>\n",
              "    <tr>\n",
              "      <th id=\"T_06066_level0_row8\" class=\"row_heading level0 row8\" >she</th>\n",
              "      <td id=\"T_06066_row8_col0\" class=\"data row8 col0\" >7,710,551</td>\n",
              "    </tr>\n",
              "    <tr>\n",
              "      <th id=\"T_06066_level0_row9\" class=\"row_heading level0 row9\" >it</th>\n",
              "      <td id=\"T_06066_row9_col0\" class=\"data row9 col0\" >7,104,640</td>\n",
              "    </tr>\n",
              "  </tbody>\n",
              "</table>\n"
            ]
          },
          "metadata": {}
        },
        {
          "output_type": "display_data",
          "data": {
            "text/plain": [
              "<Figure size 1200x600 with 0 Axes>"
            ]
          },
          "metadata": {}
        },
        {
          "output_type": "display_data",
          "data": {
            "text/plain": [
              "<Figure size 640x480 with 1 Axes>"
            ],
            "image/png": "[encoded data removed]"
          },
          "metadata": {}
        }
      ]
    },
    {
      "cell_type": "code",
      "source": [
        "print(\"\\n🔝 Least Frequent 10 Tokens\")\n",
        "bottom_10 = df_count.sort_values('count', ascending=False).tail(10)\n",
        "display(bottom_10.style.format({'count': '{:,}'}).background_gradient(cmap='Blues'))\n",
        "\n",
        "plt.figure(figsize=(12, 6))\n",
        "bottom_10.plot(kind='barh', color='skyblue', edgecolor='darkblue')\n",
        "plt.title('Least Frequent 10 Most Frequent Tokens', fontsize=14, pad=20)\n",
        "plt.xlabel('Frequency Count', fontsize=12)\n",
        "plt.ylabel('Token', fontsize=12)\n",
        "plt.gca().invert_yaxis()\n",
        "plt.grid(axis='x', linestyle='--', alpha=0.7)\n",
        "plt.tight_layout()\n",
        "plt.show()"
      ],
      "metadata": {
        "colab": {
          "base_uri": "https://localhost:8080/",
          "height": 885
        },
        "id": "wPM3sOlPBF8r",
        "outputId": "4a3583ca-a83d-4d41-d0f3-ae1799db681d"
      },
      "execution_count": 27,
      "outputs": [
        {
          "output_type": "stream",
          "name": "stdout",
          "text": [
            "\n",
            "🔝 Least Frequent 10 Tokens\n"
          ]
        },
        {
          "output_type": "display_data",
          "data": {
            "text/plain": [
              "<pandas.io.formats.style.Styler at 0x798b0c59a650>"
            ],
            "text/html": [
              "<style type=\"text/css\">\n",
              "#T_ef4ba_row0_col0, #T_ef4ba_row1_col0, #T_ef4ba_row2_col0, #T_ef4ba_row3_col0, #T_ef4ba_row4_col0, #T_ef4ba_row5_col0, #T_ef4ba_row6_col0, #T_ef4ba_row7_col0, #T_ef4ba_row8_col0, #T_ef4ba_row9_col0 {\n",
              "  background-color: #f7fbff;\n",
              "  color: #000000;\n",
              "}\n",
              "</style>\n",
              "<table id=\"T_ef4ba\" class=\"dataframe\">\n",
              "  <thead>\n",
              "    <tr>\n",
              "      <th class=\"blank level0\" >&nbsp;</th>\n",
              "      <th id=\"T_ef4ba_level0_col0\" class=\"col_heading level0 col0\" >count</th>\n",
              "    </tr>\n",
              "  </thead>\n",
              "  <tbody>\n",
              "    <tr>\n",
              "      <th id=\"T_ef4ba_level0_row0\" class=\"row_heading level0 row0\" >okâ€“he</th>\n",
              "      <td id=\"T_ef4ba_row0_col0\" class=\"data row0 col0\" >1</td>\n",
              "    </tr>\n",
              "    <tr>\n",
              "      <th id=\"T_ef4ba_level0_row1\" class=\"row_heading level0 row1\" >â€œslimyâ€</th>\n",
              "      <td id=\"T_ef4ba_row1_col0\" class=\"data row1 col0\" >1</td>\n",
              "    </tr>\n",
              "    <tr>\n",
              "      <th id=\"T_ef4ba_level0_row2\" class=\"row_heading level0 row2\" >thewise</th>\n",
              "      <td id=\"T_ef4ba_row2_col0\" class=\"data row2 col0\" >1</td>\n",
              "    </tr>\n",
              "    <tr>\n",
              "      <th id=\"T_ef4ba_level0_row3\" class=\"row_heading level0 row3\" >coudnâ€™t</th>\n",
              "      <td id=\"T_ef4ba_row3_col0\" class=\"data row3 col0\" >1</td>\n",
              "    </tr>\n",
              "    <tr>\n",
              "      <th id=\"T_ef4ba_level0_row4\" class=\"row_heading level0 row4\" >saviourâ€</th>\n",
              "      <td id=\"T_ef4ba_row4_col0\" class=\"data row4 col0\" >1</td>\n",
              "    </tr>\n",
              "    <tr>\n",
              "      <th id=\"T_ef4ba_level0_row5\" class=\"row_heading level0 row5\" >â€œshield</th>\n",
              "      <td id=\"T_ef4ba_row5_col0\" class=\"data row5 col0\" >1</td>\n",
              "    </tr>\n",
              "    <tr>\n",
              "      <th id=\"T_ef4ba_level0_row6\" class=\"row_heading level0 row6\" >adventuresâ€¦</th>\n",
              "      <td id=\"T_ef4ba_row6_col0\" class=\"data row6 col0\" >1</td>\n",
              "    </tr>\n",
              "    <tr>\n",
              "      <th id=\"T_ef4ba_level0_row7\" class=\"row_heading level0 row7\" >abada</th>\n",
              "      <td id=\"T_ef4ba_row7_col0\" class=\"data row7 col0\" >1</td>\n",
              "    </tr>\n",
              "    <tr>\n",
              "      <th id=\"T_ef4ba_level0_row8\" class=\"row_heading level0 row8\" >cannibal</th>\n",
              "      <td id=\"T_ef4ba_row8_col0\" class=\"data row8 col0\" >1</td>\n",
              "    </tr>\n",
              "    <tr>\n",
              "      <th id=\"T_ef4ba_level0_row9\" class=\"row_heading level0 row9\" >shuck</th>\n",
              "      <td id=\"T_ef4ba_row9_col0\" class=\"data row9 col0\" >1</td>\n",
              "    </tr>\n",
              "  </tbody>\n",
              "</table>\n"
            ]
          },
          "metadata": {}
        },
        {
          "output_type": "display_data",
          "data": {
            "text/plain": [
              "<Figure size 1200x600 with 0 Axes>"
            ]
          },
          "metadata": {}
        },
        {
          "output_type": "display_data",
          "data": {
            "text/plain": [
              "<Figure size 640x480 with 1 Axes>"
            ],
            "image/png": "[encoded data removed]"
          },
          "metadata": {}
        }
      ]
    },
    {
      "cell_type": "code",
      "source": [
        "num_spaces = df_count_ch[df_count_ch.index == ' '].values.item()\n",
        "num_spaces/(df_count.sum().values.item() + num_spaces)"
      ],
      "metadata": {
        "colab": {
          "base_uri": "https://localhost:8080/"
        },
        "id": "LuYdNvn4CCka",
        "outputId": "7d61081e-0ac0-40eb-e40a-4b88cc2a25fb"
      },
      "execution_count": 42,
      "outputs": [
        {
          "output_type": "execute_result",
          "data": {
            "text/plain": [
              "0.4534363022511938"
            ]
          },
          "metadata": {},
          "execution_count": 42
        }
      ]
    },
    {
      "cell_type": "code",
      "source": [
        "def gini_coefficient(array):\n",
        "    array = np.array(array, dtype=np.float64)\n",
        "    if np.any(array < 0):\n",
        "        array -= np.amin(array)\n",
        "    array += np.finfo(float).eps\n",
        "    array = np.sort(array)\n",
        "    n = len(array)\n",
        "    index = np.arange(1, n+1)\n",
        "    return float((np.sum((2 * index - n - 1) * array)) / (n * np.sum(array)))\n",
        "\n",
        "\n",
        "plt.figure(figsize=(8, 6))\n",
        "if len(df_count) > 0:\n",
        "    bins = np.logspace(np.log10(df_count['count'].min()),\n",
        "                     np.log10(df_count['count'].max()),\n",
        "                     50)\n",
        "    plt.hist(df_count['count'], bins=bins, edgecolor='black')\n",
        "    plt.xscale('log')\n",
        "    plt.title('Token Frequency Distribution (Log Scale)')\n",
        "    plt.xlabel('Frequency (log)')\n",
        "    plt.ylabel('Count')\n",
        "    plt.grid(True, which=\"both\", ls=\"--\")\n",
        "\n",
        "plt.tight_layout()\n",
        "plt.show()"
      ],
      "metadata": {
        "colab": {
          "base_uri": "https://localhost:8080/",
          "height": 607
        },
        "id": "_14Mb3q_ZQ-c",
        "outputId": "cef08b36-a134-4347-f33f-87696a746f51"
      },
      "execution_count": 43,
      "outputs": [
        {
          "output_type": "display_data",
          "data": {
            "text/plain": [
              "<Figure size 800x600 with 1 Axes>"
            ],
            "image/png": "[encoded data removed]"
          },
          "metadata": {}
        }
      ]
    },
    {
      "cell_type": "code",
      "source": [
        "plt.figure(figsize=(12, 6))\n",
        "values = list(token_counts.values()) if isinstance(token_counts, dict) else token_counts\n",
        "\n",
        "plt.boxplot(values,\n",
        "            vert=False,\n",
        "            patch_artist=True,\n",
        "            widths=0.7,\n",
        "            showfliers=True,\n",
        "            boxprops=dict(facecolor='#1f77b4', linewidth=2),\n",
        "            medianprops=dict(color='red', linewidth=2),\n",
        "            whiskerprops=dict(linewidth=2),\n",
        "            flierprops=dict(marker='o', markersize=5,\n",
        "                           markerfacecolor='#ff7f0e',\n",
        "                           markeredgecolor='#ff7f0e'))\n",
        "\n",
        "plt.xscale('log')\n",
        "plt.minorticks_on()\n",
        "plt.grid(which='both', axis='x', alpha=0.3)\n",
        "\n",
        "plt.title('Token Frequency Distribution (Log Scale)', pad=20)\n",
        "plt.xlabel('Frequency Count (log scale)')\n",
        "plt.ylabel('')\n",
        "\n",
        "plt.yticks([])\n",
        "\n",
        "stats = {\n",
        "    'Total Tokens': len(values),\n",
        "    'Max Frequency': np.max(values),\n",
        "    'Mean Frequency': round(np.mean(values)),\n",
        "    'Median Frequency': np.median(values),\n",
        "    'Min Frequency': np.min(values)\n",
        "}\n",
        "\n",
        "stats_text = \"\\n\".join([f\"{k}: {v:,}\" for k, v in stats.items()])\n",
        "plt.text(0.95, 0.95, stats_text,\n",
        "         transform=plt.gca().transAxes,\n",
        "         ha='right', va='top',\n",
        "         bbox=dict(facecolor='white', alpha=0.8))\n",
        "\n",
        "plt.text(0.95, 0.15, \"Note: X-axis is log-scaled\",\n",
        "         transform=plt.gca().transAxes,\n",
        "         ha='right', va='bottom',\n",
        "         fontsize=10,\n",
        "         bbox=dict(facecolor='white', alpha=0.5))\n",
        "\n",
        "plt.tight_layout()\n",
        "plt.show()"
      ],
      "metadata": {
        "colab": {
          "base_uri": "https://localhost:8080/",
          "height": 606
        },
        "id": "R-WpTB2UgNiD",
        "outputId": "61a24ca4-0d30-4870-cd3a-3f2fdf278f80"
      },
      "execution_count": 44,
      "outputs": [
        {
          "output_type": "display_data",
          "data": {
            "text/plain": [
              "<Figure size 1200x600 with 1 Axes>"
            ],
            "image/png": "[encoded data removed]"
          },
          "metadata": {}
        }
      ]
    },
    {
      "cell_type": "code",
      "source": [
        "import matplotlib.pyplot as plt\n",
        "import numpy as np\n",
        "import seaborn as sns\n",
        "\n",
        "plt.figure(figsize=(12, 6))\n",
        "\n",
        "values = np.array(list(token_counts.values()) if isinstance(token_counts, dict) else np.array(token_counts))\n",
        "values = values[values > 0]\n",
        "\n",
        "violin = sns.violinplot(x=values,\n",
        "                        orient='h',\n",
        "                        inner='quartile',\n",
        "                        color='#1f77b4',\n",
        "                        linewidth=2,\n",
        "                        cut=0)\n",
        "\n",
        "plt.xscale('log')\n",
        "plt.minorticks_on()\n",
        "plt.grid(which='both', axis='x', alpha=0.3)\n",
        "\n",
        "for i, l in enumerate(violin.lines[:3]):\n",
        "    l.set_color('red')\n",
        "    l.set_linewidth(2)\n",
        "    x_data = l.get_xdata()\n",
        "    y_data = l.get_ydata()\n",
        "    label_x = np.mean(x_data)\n",
        "    label_y = np.max(y_data) + 0.02\n",
        "    labels = ['Q1 (25%)', 'Median', 'Q3 (75%)']\n",
        "    plt.text(label_x,\n",
        "             label_y,\n",
        "             labels[i],\n",
        "             ha='center',\n",
        "             va='bottom',\n",
        "             color='black',\n",
        "             fontweight='bold',\n",
        "             fontsize=9,\n",
        "             bbox=dict(facecolor='white',\n",
        "                      alpha=0.8,\n",
        "                      boxstyle='round,pad=0.2',\n",
        "                      edgecolor='none'))\n",
        "\n",
        "plt.title('Token Frequency Distribution (Violin Plot with Log Scale)', pad=20)\n",
        "plt.xlabel('Frequency Count (log scale)')\n",
        "plt.ylabel('')\n",
        "\n",
        "plt.yticks([])\n",
        "\n",
        "stats = {\n",
        "    'Total Tokens': len(values),\n",
        "    'Max Frequency': np.max(values),\n",
        "    'Mean Frequency': round(np.mean(values)),\n",
        "    'Median Frequency': round(np.median(values)),\n",
        "    'Min Frequency': np.min(values)\n",
        "}\n",
        "\n",
        "stats_text = \"\\n\".join([f\"{k}: {v:,}\" for k, v in stats.items()])\n",
        "plt.text(0.95, 0.95, stats_text,\n",
        "         transform=plt.gca().transAxes,\n",
        "         ha='right', va='top',\n",
        "         bbox=dict(facecolor='white', alpha=0.8))\n",
        "\n",
        "plt.text(0.95, 0.15, \"Note: X-axis is log-scaled\\nViolin width shows density\",\n",
        "         transform=plt.gca().transAxes,\n",
        "         ha='right', va='bottom',\n",
        "         fontsize=10,\n",
        "         bbox=dict(facecolor='white', alpha=0.5))\n",
        "\n",
        "plt.tight_layout()\n",
        "plt.show()"
      ],
      "metadata": {
        "colab": {
          "base_uri": "https://localhost:8080/",
          "height": 606
        },
        "id": "GddTXPG9ggeA",
        "outputId": "9b59c81e-4f0a-4449-d73b-c86c6b76a744"
      },
      "execution_count": 45,
      "outputs": [
        {
          "output_type": "display_data",
          "data": {
            "text/plain": [
              "<Figure size 1200x600 with 1 Axes>"
            ],
            "image/png": "[encoded data removed]"
          },
          "metadata": {}
        }
      ]
    },
    {
      "cell_type": "code",
      "source": [
        "from scipy import stats"
      ],
      "metadata": {
        "id": "iXOdMY7ewd5m"
      },
      "execution_count": 46,
      "outputs": []
    },
    {
      "cell_type": "code",
      "source": [
        "dist_stats = {\n",
        "    'Skewness': stats.skew(values),\n",
        "    'Kurtosis': stats.kurtosis(values, fisher=False),\n",
        "    'Gini Coefficient': gini_coefficient(values),  # Use previously defined function\n",
        "    'Jarque-Bera Test': stats.jarque_bera(values)[1]  # p-value for normality\n",
        "}"
      ],
      "metadata": {
        "id": "uSFhUYQxjeLA"
      },
      "execution_count": 47,
      "outputs": []
    },
    {
      "cell_type": "code",
      "source": [
        "dist_stats"
      ],
      "metadata": {
        "colab": {
          "base_uri": "https://localhost:8080/"
        },
        "id": "SjgV_BzYkupP",
        "outputId": "f294778e-bf4a-4f02-b3c0-c89fcac8dbc5"
      },
      "execution_count": 48,
      "outputs": [
        {
          "output_type": "execute_result",
          "data": {
            "text/plain": [
              "{'Skewness': np.float64(100.60062638690111),\n",
              " 'Kurtosis': np.float64(13057.82681308101),\n",
              " 'Gini Coefficient': 0.9904332553646517,\n",
              " 'Jarque-Bera Test': np.float64(0.0)}"
            ]
          },
          "metadata": {},
          "execution_count": 48
        }
      ]
    },
    {
      "cell_type": "markdown",
      "source": [
        "#### 📊 Statistical Analysis of Token Distribution\n",
        "\n",
        "## 1. Skewness (100.6)\n",
        "**Interpretation:** Extremely right-skewed distribution  \n",
        "\n",
        "**Indicates:**  \n",
        "✓ Vast majority of tokens have low frequency  \n",
        "✓ A handful of tokens appear extremely frequently  \n",
        "✓ Typical in natural language (few common words, many rare words)  \n",
        "\n",
        "---\n",
        "\n",
        "## 2. Kurtosis (13,057.8)\n",
        "**Interpretation:** Leptokurtic distribution with heavy tails  \n",
        "\n",
        "**Shows:**  \n",
        "✓ Sharp peak at lower frequencies  \n",
        "✓ Extreme outliers in higher frequencies  \n",
        "✓ Much more peaked than normal distribution  \n",
        "\n",
        "---\n",
        "\n",
        "## 3. Gini Coefficient (0.99)\n",
        "**Interpretation:** Extreme inequality in token frequency  \n",
        "\n",
        "**Means:**  \n",
        "✓ Nearly all frequency concentrated in very few tokens  \n",
        "✓ Similar to wealth distribution in unequal economies  \n",
        "✓ Typical range for text data: 0.7-0.99  \n",
        "\n",
        "---\n",
        "\n",
        "## 4. Jarque-Bera Test (p=0.0)\n",
        "**Interpretation:** Absolutely non-normal distribution  \n",
        "\n",
        "**Significance:**  \n",
        "✓ Rejects normality hypothesis with 100% confidence  \n",
        "✓ Requires non-parametric analysis methods  "
      ],
      "metadata": {
        "id": "dbNq5AqFnYoL"
      }
    },
    {
      "cell_type": "code",
      "source": [
        "freq_tiers = {\n",
        "    'Hapax Legomena': sum(1 for x in values if x == 1),\n",
        "    'Dis Legomena': sum(1 for x in values if x == 2),\n",
        "    '>100 Occurrences': sum(1 for x in values if x > 100),\n",
        "    'Top 10% Tokens': np.percentile(values, 90)\n",
        "}"
      ],
      "metadata": {
        "id": "YST_CiAomjBB"
      },
      "execution_count": 49,
      "outputs": []
    },
    {
      "cell_type": "code",
      "source": [
        "freq_tiers"
      ],
      "metadata": {
        "colab": {
          "base_uri": "https://localhost:8080/"
        },
        "id": "Va1WBL3jnx7E",
        "outputId": "ec946409-050c-4c86-93d1-f45e5bbb585c"
      },
      "execution_count": 50,
      "outputs": [
        {
          "output_type": "execute_result",
          "data": {
            "text/plain": [
              "{'Hapax Legomena': 19834,\n",
              " 'Dis Legomena': 9131,\n",
              " '>100 Occurrences': 10259,\n",
              " 'Top 10% Tokens': np.float64(508.40000000000146)}"
            ]
          },
          "metadata": {},
          "execution_count": 50
        }
      ]
    },
    {
      "cell_type": "markdown",
      "source": [
        "#### 📊 Token Distribution Statistical Analysis\n",
        "\n",
        "## 1. Hapax Legomena (19,834)\n",
        "**Interpretation:** Very high count of rare words  \n",
        "\n",
        "**Indicates:**  \n",
        "✓ Approximately 19,834 words appear only once  \n",
        "✓ Common characteristic in natural language data  \n",
        "✓ May need removal or grouping  \n",
        "\n",
        "---\n",
        "\n",
        "## 2. Dis Legomena (9,131)\n",
        "**Interpretation:** Words with minimal repetition  \n",
        "\n",
        "**Shows:**  \n",
        "✓ 9,131 words appear exactly twice  \n",
        "✓ Typically includes technical terms or names  \n",
        "✓ May require special modeling  \n",
        "\n",
        "---\n",
        "\n",
        "## 3. High-Frequency Tokens (>100 Occurrences: 10,259)\n",
        "**Interpretation:** Very common words  \n",
        "\n",
        "**Means:**  \n",
        "✓ 10,259 words with 100+ occurrences  \n",
        "✓ Likely contains stop words  \n",
        "✓ Foundation for statistical analysis  \n",
        "\n",
        "---\n",
        "\n",
        "## 4. Top 10% Threshold (508.4)\n",
        "**Interpretation:** Boundary between frequent/rare tokens  \n",
        "\n",
        "**Significance:**  \n",
        "✓ Minimum frequency to be in top 10%  \n",
        "✓ Useful for identifying key terms  \n",
        "✓ Optimal cutoff point for vocabulary pruning  "
      ],
      "metadata": {
        "id": "r1wBxmpcoZUl"
      }
    },
    {
      "cell_type": "code",
      "source": [
        "quantiles = {\n",
        "    'IQR': np.percentile(values, 75) - np.percentile(values, 25),\n",
        "    'Deciles': np.percentile(values, np.arange(0, 101, 10)),\n",
        "    'Top/Bottom 1% Ratio': np.percentile(values, 99) / np.percentile(values, 1)\n",
        "}"
      ],
      "metadata": {
        "id": "CGdUlb0onzlc"
      },
      "execution_count": 51,
      "outputs": []
    },
    {
      "cell_type": "code",
      "source": [
        "quantiles"
      ],
      "metadata": {
        "colab": {
          "base_uri": "https://localhost:8080/"
        },
        "id": "RsspoWyyoj7-",
        "outputId": "5c196ae5-7921-41f5-8e5e-d4d79f481129"
      },
      "execution_count": 52,
      "outputs": [
        {
          "output_type": "execute_result",
          "data": {
            "text/plain": [
              "{'IQR': np.float64(23.0),\n",
              " 'Deciles': array([1.0000000e+00, 1.0000000e+00, 1.0000000e+00, 1.0000000e+00,\n",
              "        2.0000000e+00, 3.0000000e+00, 6.0000000e+00, 1.4000000e+01,\n",
              "        5.0000000e+01, 5.0840000e+02, 3.6459483e+07]),\n",
              " 'Top/Bottom 1% Ratio': np.float64(62408.15999999998)}"
            ]
          },
          "metadata": {},
          "execution_count": 52
        }
      ]
    },
    {
      "cell_type": "markdown",
      "source": [
        "#### 📊 Token Spread Analysis\n",
        "\n",
        "## 1. Interquartile Range (IQR: 23.0)\n",
        "**Interpretation:** Middle 50% token spread  \n",
        "\n",
        "**Indicates:**  \n",
        "✓ Only 23 occurrences between Q3 and Q1  \n",
        "✓ Tight concentration in low frequencies  \n",
        "✓ Most tokens appear very rarely  \n",
        "\n",
        "---\n",
        "\n",
        "## 2. Distribution Deciles\n",
        "**Interpretation:** Frequency cut points  \n",
        "\n",
        "**Key Values:**  \n",
        "✓ 1st-5th decile: 1-3 occurrences (lowest frequencies)  \n",
        "✓ 7th decile: 14 occurrences (70% threshold)  \n",
        "✓ 9th decile: 50 occurrences (90% threshold)  \n",
        "✓ 10th decile: 508.4 occurrences (top 10%)  \n",
        "\n",
        "---\n",
        "\n",
        "## 3. Top/Bottom 1% Ratio (62,408.16)\n",
        "**Interpretation:** Extreme frequency gap  \n",
        "\n",
        "**Significance:**  \n",
        "✓ 62,408x difference between extremes  \n",
        "✓ Clear power law distribution  \n",
        "✓ Requires specialized processing approaches  "
      ],
      "metadata": {
        "id": "j1Tqp10xpGYw"
      }
    },
    {
      "cell_type": "code",
      "source": [
        "sorted_counts = np.sort(values)[::-1]\n",
        "cumulative = np.cumsum(sorted_counts)\n",
        "total = cumulative[-1]\n",
        "concentration = {\n",
        "    'Top 10% Tokens Share': cumulative[len(values)//10] / total,\n",
        "    'Top 100 Tokens Share': cumulative[100] / total if len(values) > 100 else 1,\n",
        "    'Herfindahl Index': sum((x/total)**2 for x in values)\n",
        "}"
      ],
      "metadata": {
        "id": "50vUNgvdolcb"
      },
      "execution_count": 53,
      "outputs": []
    },
    {
      "cell_type": "code",
      "source": [
        "concentration"
      ],
      "metadata": {
        "colab": {
          "base_uri": "https://localhost:8080/"
        },
        "id": "eHTUuwqCpPGO",
        "outputId": "36a4d21e-a714-4415-b585-a32a38c6bd80"
      },
      "execution_count": 54,
      "outputs": [
        {
          "output_type": "execute_result",
          "data": {
            "text/plain": [
              "{'Top 10% Tokens Share': np.float64(0.9967989447410277),\n",
              " 'Top 100 Tokens Share': np.float64(0.6609453059604108),\n",
              " 'Herfindahl Index': np.float64(0.016982138338046075)}"
            ]
          },
          "metadata": {},
          "execution_count": 54
        }
      ]
    },
    {
      "cell_type": "markdown",
      "source": [
        "#### 📊 Token Concentration Analysis\n",
        "\n",
        "## 1. Top 10% Tokens Share (99.68%)\n",
        "**Interpretation:** Extreme concentration in few tokens  \n",
        "\n",
        "**Indicates:**  \n",
        "✓ 99.68% of all occurrences come from top 10% tokens  \n",
        "✓ Nearly all text volume generated by limited vocabulary  \n",
        "✓ Matches real-world language systems (Zipf's law)  \n",
        "\n",
        "---\n",
        "\n",
        "## 2. Top 100 Tokens Share (66.09%)\n",
        "**Interpretation:** Dominance of high-frequency tokens  \n",
        "\n",
        "**Shows:**  \n",
        "✓ Just 100 tokens account for 66% of all occurrences  \n",
        "✓ Likely includes conjunctions, prepositions and common words  \n",
        "✓ Stop word removal may be necessary  \n",
        "\n",
        "---\n",
        "\n",
        "## 3. Herfindahl Index (0.017)\n",
        "**Interpretation:** Moderate vocabulary concentration  \n",
        "\n",
        "**Scale:**  \n",
        "✓ 0 = Perfect equality  \n",
        "✓ 1 = Complete monopoly (Current: 0.017)  \n",
        "✓ Suggests several ultra-frequent tokens  "
      ],
      "metadata": {
        "id": "5EmzIs_EqIgm"
      }
    },
    {
      "cell_type": "code",
      "source": [
        "stats_text = \" \".join([\n",
        "    f\"Skew: {dist_stats['Skewness']:.2f}\",\n",
        "    f\"Kurtosis: {dist_stats['Kurtosis']:.2f}\",\n",
        "    f\"Gini: {dist_stats['Gini Coefficient']:.3f}\",\n",
        "    f\"Normality (p): {dist_stats['Jarque-Bera Test']:.4f}\"\n",
        "])"
      ],
      "metadata": {
        "id": "MFGcqXs4pRGx"
      },
      "execution_count": 55,
      "outputs": []
    },
    {
      "cell_type": "code",
      "source": [
        "stats_text"
      ],
      "metadata": {
        "colab": {
          "base_uri": "https://localhost:8080/",
          "height": 36
        },
        "id": "7I3BmZhzpeBX",
        "outputId": "347db433-b05e-4cb2-e3d4-b9c634c7d166"
      },
      "execution_count": 56,
      "outputs": [
        {
          "output_type": "execute_result",
          "data": {
            "text/plain": [
              "'Skew: 100.60 Kurtosis: 13057.83 Gini: 0.990 Normality (p): 0.0000'"
            ],
            "application/vnd.google.colaboratory.intrinsic+json": {
              "type": "string"
            }
          },
          "metadata": {},
          "execution_count": 56
        }
      ]
    },
    {
      "cell_type": "markdown",
      "source": [
        "#### 📊 Token Distribution Metrics Analysis\n",
        "\n",
        "## 1. Skewness (100.60)\n",
        "\n",
        "**Interpretation:** Extreme right-skew  \n",
        "**Key Insights:**  \n",
        "✓ Vast majority of tokens clustered at left  \n",
        "✓ Few ultra-high-frequency outliers  \n",
        "✓ Expected for text data (Zipfian distribution)  \n",
        "\n",
        "**Processing Impact:**  \n",
        "• Logarithmic transformation essential  \n",
        "• Outlier trimming recommended  \n",
        "\n",
        "---\n",
        "\n",
        "## 2. Kurtosis (13,057)\n",
        "**Interpretation:** Leptokurtic with heavy tails  \n",
        "**Characteristics:**  \n",
        "✓ Extreme concentration around small values  \n",
        "✓ Significant outliers in high range  \n",
        "✓ Impossible to model as normal distribution  \n",
        "\n",
        "**Solutions:**  \n",
        "• Robust statistical methods required  \n",
        "• Frequency-based data binning  \n",
        "\n",
        "---\n",
        "\n",
        "## 3. Gini Coefficient (0.990)\n",
        "\n",
        "**Interpretation:** Extreme frequency inequality  \n",
        "**Comparison:**  \n",
        "✓ Similar to wealth distribution in unequal economies  \n",
        "✓ Top 1% tokens likely account for 99% occurrences  \n",
        "\n",
        "**Recommendations:**  \n",
        "• Calculate exact top token share  \n",
        "• Evaluate normalization needs  \n",
        "\n",
        "---\n",
        "\n",
        "## 4. Normality Test (p=0.0000)\n",
        "**Interpretation:** Non-normal distribution  \n",
        "**Consequences:**  \n",
        "✓ Parametric tests invalid  \n",
        "✓ Requires non-parametric approaches:  \n",
        "• Kolmogorov-Smirnov test  \n",
        "• Bootstrap-based methods  "
      ],
      "metadata": {
        "id": "9nzBgWgpq8ux"
      }
    },
    {
      "cell_type": "code",
      "source": [
        "_, p_lognorm = stats.kstest(values, 'lognorm', args=(1,))\n",
        "_, p_pareto = stats.kstest(values, 'pareto', args=(1,))\n",
        "\n",
        "fit_results = {\n",
        "    'Lognormal Fit (p-value)': p_lognorm,\n",
        "    'Pareto Fit (p-value)': p_pareto\n",
        "}"
      ],
      "metadata": {
        "id": "r6y1d-04pr_Q"
      },
      "execution_count": 57,
      "outputs": []
    },
    {
      "cell_type": "code",
      "source": [
        "fit_results"
      ],
      "metadata": {
        "colab": {
          "base_uri": "https://localhost:8080/"
        },
        "id": "weO0l54dpsTY",
        "outputId": "c5b88f0a-f4da-4685-e10e-0ece22dbb34c"
      },
      "execution_count": 58,
      "outputs": [
        {
          "output_type": "execute_result",
          "data": {
            "text/plain": [
              "{'Lognormal Fit (p-value)': np.float64(0.0),\n",
              " 'Pareto Fit (p-value)': np.float64(0.0)}"
            ]
          },
          "metadata": {},
          "execution_count": 58
        }
      ]
    },
    {
      "cell_type": "markdown",
      "source": [
        "#### 📊 Combined Distribution Fit Analysis (Lognormal & Pareto)\n",
        "**Test Results:**  \n",
        "- Lognormal Fit: `p = 0.0` ✗ (Rejected)  \n",
        "- Pareto Fit: `p = 0.0` ✗ (Rejected)  \n",
        "\n",
        "### Key Interpretations:\n",
        "1. **Lognormal Rejection** → Your data is **more skewed** than lognormal can model.  \n",
        "   - Typical for linguistic data (power law common)  \n",
        "   - Avoid: Geometric means, log-normal CI  \n",
        "\n",
        "2. **Pareto Rejection** → Your tails are **heavier** than standard Pareto.  \n",
        "   - Implies **extreme** token dominance (e.g., top 0.1% tokens control >90% frequency)  \n",
        "\n"
      ],
      "metadata": {
        "id": "RcFHUl58rsiw"
      }
    },
    {
      "cell_type": "code",
      "source": [
        "import matplotlib.pyplot as plt\n",
        "plt.figure(figsize=(10,5))\n",
        "plt.loglog(sorted(token_counts.values(), reverse=True))\n",
        "plt.title('Rank-Frequency Plot (Power Law Behavior)')\n",
        "plt.xlabel('Token Rank (log)')\n",
        "plt.ylabel('Frequency (log)')\n",
        "plt.grid(True)\n",
        "plt.show()"
      ],
      "metadata": {
        "colab": {
          "base_uri": "https://localhost:8080/",
          "height": 492
        },
        "id": "qR4YvljFtEhV",
        "outputId": "00a04b14-e1f0-45ba-dac8-0080610d58d2"
      },
      "execution_count": 59,
      "outputs": [
        {
          "output_type": "display_data",
          "data": {
            "text/plain": [
              "<Figure size 1000x500 with 1 Axes>"
            ],
            "image/png": "[encoded data removed]"
          },
          "metadata": {}
        }
      ]
    },
    {
      "cell_type": "code",
      "source": [
        "from scipy.stats import linregress\n",
        "ranks = np.arange(1, len(sorted_counts)+1)\n",
        "slope, _, _, _, _ = linregress(np.log(ranks[100:1000]),\n",
        "                             np.log(sorted_counts[100:1000]))\n",
        "print(f\"(α): {abs(slope):.2f}\")"
      ],
      "metadata": {
        "colab": {
          "base_uri": "https://localhost:8080/"
        },
        "id": "XobCuh32ufkM",
        "outputId": "3a3d177e-cdf6-489d-bd8a-d4a8deabee53"
      },
      "execution_count": 60,
      "outputs": [
        {
          "output_type": "stream",
          "name": "stdout",
          "text": [
            "(α): 1.34\n"
          ]
        }
      ]
    },
    {
      "cell_type": "markdown",
      "source": [
        "#### 📊 Power Law Analysis: α=1.34\n",
        "\n",
        "## 1. Coefficient Interpretation\n",
        "\n",
        "**α=1.34** indicates:\n",
        "- **Typical range for natural language**: 1.0 < α < 2.0  \n",
        "- **Your value (1.34)**: Balanced but slightly more diverse than English (α≈1.1)  \n",
        "- **Key implications**:  \n",
        "  ✓ Top 10 tokens ≈ 42% of total frequency  \n",
        "  ✓ Top 100 tokens ≈ 67% of total frequency  \n",
        "  ✓ Less extreme dominance than α<1.2  \n"
      ],
      "metadata": {
        "id": "9DSfKGTPvQ27"
      }
    },
    {
      "cell_type": "markdown",
      "source": [
        "## 🔵 **Tokenize**"
      ],
      "metadata": {
        "id": "ZjXg-sshWvMX"
      }
    },
    {
      "cell_type": "code",
      "source": [
        "model = models.BPE(unk_token = '[UNK]')\n",
        "tokenizer = Tokenizer(model = model)\n",
        "tokenizer.add_special_tokens(['[UNK]', '[CLS]', '[SEP]'])\n",
        "tokenizer.pre_tokenizer  = pre_tokenizers.ByteLevel(add_prefix_space=False)\n",
        "trainer = trainers.BpeTrainer(vocab_size = 20000, min_frequency = 0, show_progress = True, special_tokens = ['[UNK]', '[CLS]', '[SEP]'])\n",
        "tokenizer.post_processor = processors.TemplateProcessing(single=\"[CLS] $0 [SEP]\",\n",
        "                                                         special_tokens=[(\"[CLS]\", tokenizer.token_to_id(\"[CLS]\")), (\"[SEP]\", tokenizer.token_to_id(\"[SEP]\"))])\n",
        "\n",
        "tokenizer.decoder = decoders.ByteLevel(add_prefix_space=False)"
      ],
      "metadata": {
        "id": "fFIa4jqjdn26"
      },
      "execution_count": 109,
      "outputs": []
    },
    {
      "cell_type": "markdown",
      "source": [
        "**⚡Train Tokenizer**"
      ],
      "metadata": {
        "id": "83AM46gZudOo"
      }
    },
    {
      "cell_type": "code",
      "source": [
        "tokenizer.train_from_iterator(train_dataset['text'], trainer)\n",
        "tokenizer.save('bpe_tokenizer.json')"
      ],
      "metadata": {
        "id": "R7QMzhrLd4QP"
      },
      "execution_count": 110,
      "outputs": []
    },
    {
      "cell_type": "code",
      "source": [
        "sample = valid_dataset[0]['text']\n",
        "sample"
      ],
      "metadata": {
        "colab": {
          "base_uri": "https://localhost:8080/",
          "height": 53
        },
        "id": "7daWTDbgkzKQ",
        "outputId": "9e466e90-a861-4c2a-acc9-c657d4a58bac"
      },
      "execution_count": 111,
      "outputs": [
        {
          "output_type": "execute_result",
          "data": {
            "text/plain": [
              "'Spot. Spot saw the shiny car and said, \"Wow, Kitty, your car is so bright and clean!\" Kitty smiled and replied, \"Thank you, Spot. I polish it every day.\"\\n\\nAfter playing with the car, Kitty and Spot felt thirsty. They found a small pond with clear water. They drank the water and felt very happy. They played together all day and became best friends.'"
            ],
            "application/vnd.google.colaboratory.intrinsic+json": {
              "type": "string"
            }
          },
          "metadata": {},
          "execution_count": 111
        }
      ]
    },
    {
      "cell_type": "code",
      "source": [
        "encoded_text = tokenizer.encode(sample)\n",
        "encoded_text.tokens[0:10]"
      ],
      "metadata": {
        "colab": {
          "base_uri": "https://localhost:8080/"
        },
        "id": "Elebwc_RkdR2",
        "outputId": "6f2a77da-010e-44f0-d746-ece7a7844c1c"
      },
      "execution_count": 112,
      "outputs": [
        {
          "output_type": "execute_result",
          "data": {
            "text/plain": [
              "['[CLS]',\n",
              " 'Spot',\n",
              " '.',\n",
              " 'ĠSpot',\n",
              " 'Ġsaw',\n",
              " 'Ġthe',\n",
              " 'Ġshiny',\n",
              " 'Ġcar',\n",
              " 'Ġand',\n",
              " 'Ġsaid']"
            ]
          },
          "metadata": {},
          "execution_count": 112
        }
      ]
    },
    {
      "cell_type": "code",
      "source": [
        "sample"
      ],
      "metadata": {
        "colab": {
          "base_uri": "https://localhost:8080/",
          "height": 53
        },
        "id": "xhLCE5djlQl4",
        "outputId": "e50fa8ad-4659-42e5-c30a-dc75f7be75d8"
      },
      "execution_count": 113,
      "outputs": [
        {
          "output_type": "execute_result",
          "data": {
            "text/plain": [
              "'Spot. Spot saw the shiny car and said, \"Wow, Kitty, your car is so bright and clean!\" Kitty smiled and replied, \"Thank you, Spot. I polish it every day.\"\\n\\nAfter playing with the car, Kitty and Spot felt thirsty. They found a small pond with clear water. They drank the water and felt very happy. They played together all day and became best friends.'"
            ],
            "application/vnd.google.colaboratory.intrinsic+json": {
              "type": "string"
            }
          },
          "metadata": {},
          "execution_count": 113
        }
      ]
    },
    {
      "cell_type": "code",
      "source": [
        "tokenizer.decode(encoded_text.ids)"
      ],
      "metadata": {
        "colab": {
          "base_uri": "https://localhost:8080/",
          "height": 53
        },
        "id": "PGM5ytPikuq6",
        "outputId": "ebed748f-4919-4880-cf67-9d51abe85242"
      },
      "execution_count": 114,
      "outputs": [
        {
          "output_type": "execute_result",
          "data": {
            "text/plain": [
              "'Spot. Spot saw the shiny car and said, \"Wow, Kitty, your car is so bright and clean!\" Kitty smiled and replied, \"Thank you, Spot. I polish it every day.\"\\n\\nAfter playing with the car, Kitty and Spot felt thirsty. They found a small pond with clear water. They drank the water and felt very happy. They played together all day and became best friends.'"
            ],
            "application/vnd.google.colaboratory.intrinsic+json": {
              "type": "string"
            }
          },
          "metadata": {},
          "execution_count": 114
        }
      ]
    },
    {
      "cell_type": "markdown",
      "source": [
        "### 🔵 **tokenizer-20k**"
      ],
      "metadata": {
        "id": "up1n97WISNoX"
      }
    },
    {
      "cell_type": "code",
      "source": [
        "tokenizer = tokenizer.from_file('/content/bpe_tokenizer-20k.json')"
      ],
      "metadata": {
        "id": "kH3NYlVLSeZl"
      },
      "execution_count": 117,
      "outputs": []
    },
    {
      "cell_type": "code",
      "source": [
        "len(tokenizer.get_vocab())"
      ],
      "metadata": {
        "colab": {
          "base_uri": "https://localhost:8080/"
        },
        "id": "bOGSKR6blN7L",
        "outputId": "56b268f6-5065-4904-f730-47a82bd4f9aa"
      },
      "execution_count": 118,
      "outputs": [
        {
          "output_type": "execute_result",
          "data": {
            "text/plain": [
              "20000"
            ]
          },
          "metadata": {},
          "execution_count": 118
        }
      ]
    },
    {
      "cell_type": "code",
      "source": [
        "vocab = tokenizer.get_vocab()\n",
        "sorted_vocab = dict(sorted(vocab.items(), key = lambda item:item[1]))\n",
        "list(sorted_vocab.keys())[0:13]"
      ],
      "metadata": {
        "id": "ZFD9BK-E5rlR",
        "colab": {
          "base_uri": "https://localhost:8080/"
        },
        "outputId": "e8295a0f-b0ff-4730-fe86-0c022d8b4a46"
      },
      "execution_count": 119,
      "outputs": [
        {
          "output_type": "execute_result",
          "data": {
            "text/plain": [
              "['[UNK]', '[CLS]', '[SEP]', '!', '\"', '#', '$', '%', '&', \"'\", '(', ')', '*']"
            ]
          },
          "metadata": {},
          "execution_count": 119
        }
      ]
    },
    {
      "cell_type": "code",
      "source": [
        "list(sorted_vocab.keys())[-20:]"
      ],
      "metadata": {
        "colab": {
          "base_uri": "https://localhost:8080/"
        },
        "id": "JOtPB8YQPny2",
        "outputId": "75a34b1d-04e7-43d5-bbe8-bc888962855c"
      },
      "execution_count": 120,
      "outputs": [
        {
          "output_type": "execute_result",
          "data": {
            "text/plain": [
              "['Ġglancing',\n",
              " 'Ġlists',\n",
              " 'Ġuncles',\n",
              " 'ffled',\n",
              " 'Ġdisliked',\n",
              " 'Ġamusing',\n",
              " 'ĠRy',\n",
              " 'ĠRiya',\n",
              " 'Ġbaffled',\n",
              " 'ĠDoc',\n",
              " 'ĠDovey',\n",
              " 'sterious',\n",
              " 'shade',\n",
              " 'Ġshopped',\n",
              " 'Ġsquirting',\n",
              " 'ĠKiss',\n",
              " 'clear',\n",
              " 'Ġwelled',\n",
              " 'Ġcauses',\n",
              " 'ĠOxy']"
            ]
          },
          "metadata": {},
          "execution_count": 120
        }
      ]
    },
    {
      "cell_type": "markdown",
      "source": [
        "### 🔵 **tokenizer-10k**"
      ],
      "metadata": {
        "id": "EnnnYR-5TEYd"
      }
    },
    {
      "cell_type": "code",
      "source": [
        "tokenizer = tokenizer.from_file('/content/bpe_tokenizer-10k.json')"
      ],
      "metadata": {
        "id": "F28W8c7NTEYe"
      },
      "execution_count": 121,
      "outputs": []
    },
    {
      "cell_type": "code",
      "source": [
        "len(tokenizer.get_vocab())"
      ],
      "metadata": {
        "colab": {
          "base_uri": "https://localhost:8080/"
        },
        "outputId": "c6e78747-86a6-40ea-c397-e6c436166392",
        "id": "VA-qnpgaTEYe"
      },
      "execution_count": 122,
      "outputs": [
        {
          "output_type": "execute_result",
          "data": {
            "text/plain": [
              "10000"
            ]
          },
          "metadata": {},
          "execution_count": 122
        }
      ]
    },
    {
      "cell_type": "code",
      "source": [
        "vocab = tokenizer.get_vocab()\n",
        "sorted_vocab = dict(sorted(vocab.items(), key = lambda item:item[1]))\n",
        "list(sorted_vocab.keys())[0:13]"
      ],
      "metadata": {
        "colab": {
          "base_uri": "https://localhost:8080/"
        },
        "outputId": "b58b9ff1-9fd5-43cf-8232-b2755a89ccc1",
        "id": "ypindkhcTEYe"
      },
      "execution_count": 123,
      "outputs": [
        {
          "output_type": "execute_result",
          "data": {
            "text/plain": [
              "['[UNK]', '[CLS]', '[SEP]', '!', '\"', '#', '$', '%', '&', \"'\", '(', ')', '*']"
            ]
          },
          "metadata": {},
          "execution_count": 123
        }
      ]
    },
    {
      "cell_type": "code",
      "source": [
        "list(sorted_vocab.keys())[-20:]"
      ],
      "metadata": {
        "colab": {
          "base_uri": "https://localhost:8080/"
        },
        "outputId": "5f3615f0-aff1-4937-df9e-00e0ccc178e9",
        "id": "mPxkcWFTTEYe"
      },
      "execution_count": 124,
      "outputs": [
        {
          "output_type": "execute_result",
          "data": {
            "text/plain": [
              "['ĠCarol',\n",
              " 'Ġsnuggling',\n",
              " 'Ġplumber',\n",
              " 'Ġrestoring',\n",
              " 'Ġwinners',\n",
              " 'Ġpounding',\n",
              " 'ĠStanley',\n",
              " 'elve',\n",
              " 'Ġswoop',\n",
              " 'Ġfeathered',\n",
              " 'Ġorganised',\n",
              " 'Ġtaps',\n",
              " 'Ġfashionable',\n",
              " 'Ġstinky',\n",
              " 'Ġgorgeous',\n",
              " 'Ġrider',\n",
              " 'Ġdeserves',\n",
              " 'ĠPlay',\n",
              " 'Ġmacaroni',\n",
              " 'ĠNell']"
            ]
          },
          "metadata": {},
          "execution_count": 124
        }
      ]
    },
    {
      "cell_type": "markdown",
      "source": [
        "### 🔵 **tokenizer-5k**"
      ],
      "metadata": {
        "id": "kDokDSi0TFGh"
      }
    },
    {
      "cell_type": "code",
      "source": [
        "tokenizer = tokenizer.from_file('/content/bpe_tokenizer-5k.json')"
      ],
      "metadata": {
        "id": "5VgKoAKDTFGi"
      },
      "execution_count": 125,
      "outputs": []
    },
    {
      "cell_type": "code",
      "source": [
        "len(tokenizer.get_vocab())"
      ],
      "metadata": {
        "colab": {
          "base_uri": "https://localhost:8080/"
        },
        "outputId": "209f11c8-1dc0-408f-f1c8-44bdfd7a590c",
        "id": "zPw8FmZVTFGi"
      },
      "execution_count": 126,
      "outputs": [
        {
          "output_type": "execute_result",
          "data": {
            "text/plain": [
              "5000"
            ]
          },
          "metadata": {},
          "execution_count": 126
        }
      ]
    },
    {
      "cell_type": "code",
      "source": [
        "vocab = tokenizer.get_vocab()\n",
        "sorted_vocab = dict(sorted(vocab.items(), key = lambda item:item[1]))\n",
        "list(sorted_vocab.keys())[0:13]"
      ],
      "metadata": {
        "colab": {
          "base_uri": "https://localhost:8080/"
        },
        "outputId": "9885e8ce-e158-4f48-83c9-bb7a04d98351",
        "id": "-OqUyixyTFGi"
      },
      "execution_count": 127,
      "outputs": [
        {
          "output_type": "execute_result",
          "data": {
            "text/plain": [
              "['[UNK]', '[CLS]', '[SEP]', '!', '\"', '#', '$', '%', '&', \"'\", '(', ')', '*']"
            ]
          },
          "metadata": {},
          "execution_count": 127
        }
      ]
    },
    {
      "cell_type": "code",
      "source": [
        "list(sorted_vocab.keys())[-20:]"
      ],
      "metadata": {
        "colab": {
          "base_uri": "https://localhost:8080/"
        },
        "outputId": "d2cbfc65-b90f-4d36-b16f-6f6a6b5d9d0e",
        "id": "IZGIAqpiTFGi"
      },
      "execution_count": 128,
      "outputs": [
        {
          "output_type": "execute_result",
          "data": {
            "text/plain": [
              "['Ġsneezed',\n",
              " 'Ġsport',\n",
              " 'Ġwizard',\n",
              " 'ĠEach',\n",
              " 'Ġupstairs',\n",
              " 'Ġthrilled',\n",
              " 'Ġprovide',\n",
              " 'Ġbrain',\n",
              " 'Ġawe',\n",
              " 'Ġdiscuss',\n",
              " 'Jake',\n",
              " 'Ġpanic',\n",
              " 'Ġwarning',\n",
              " 'Ġtwisted',\n",
              " 'Ġglowed',\n",
              " 'Ġuniverse',\n",
              " 'Ġfiref',\n",
              " 'Ġtherm',\n",
              " 'Ġvacation',\n",
              " 'Ġworse']"
            ]
          },
          "metadata": {},
          "execution_count": 128
        }
      ]
    },
    {
      "cell_type": "markdown",
      "source": [
        "### 🔵 **tokenizer-1k**"
      ],
      "metadata": {
        "id": "MrLtf8g0TFVj"
      }
    },
    {
      "cell_type": "code",
      "source": [
        "tokenizer = tokenizer.from_file('/content/bpe_tokenizer-1k.json')"
      ],
      "metadata": {
        "id": "DC9d_j-CTFVj"
      },
      "execution_count": 129,
      "outputs": []
    },
    {
      "cell_type": "code",
      "source": [
        "len(tokenizer.get_vocab())"
      ],
      "metadata": {
        "colab": {
          "base_uri": "https://localhost:8080/"
        },
        "outputId": "ee0bc5e1-d78a-4d13-b15d-3ec617b0fafb",
        "id": "AOvFZPrLTFVk"
      },
      "execution_count": 130,
      "outputs": [
        {
          "output_type": "execute_result",
          "data": {
            "text/plain": [
              "1000"
            ]
          },
          "metadata": {},
          "execution_count": 130
        }
      ]
    },
    {
      "cell_type": "code",
      "source": [
        "vocab = tokenizer.get_vocab()\n",
        "sorted_vocab = dict(sorted(vocab.items(), key = lambda item:item[1]))\n",
        "list(sorted_vocab.keys())[0:13]"
      ],
      "metadata": {
        "colab": {
          "base_uri": "https://localhost:8080/"
        },
        "outputId": "b2f663a4-710d-4fd4-f3c1-92dd71631921",
        "id": "7bAmJUqXTFVk"
      },
      "execution_count": 131,
      "outputs": [
        {
          "output_type": "execute_result",
          "data": {
            "text/plain": [
              "['[UNK]', '[CLS]', '[SEP]', '!', '\"', '#', '$', '%', '&', \"'\", '(', ')', '*']"
            ]
          },
          "metadata": {},
          "execution_count": 131
        }
      ]
    },
    {
      "cell_type": "code",
      "source": [
        "list(sorted_vocab.keys())[-20:]"
      ],
      "metadata": {
        "colab": {
          "base_uri": "https://localhost:8080/"
        },
        "outputId": "5acc1aa5-4e2c-454e-8de1-028c79ab919e",
        "id": "IHkJsThKTFVk"
      },
      "execution_count": 132,
      "outputs": [
        {
          "output_type": "execute_result",
          "data": {
            "text/plain": [
              "['Ġde',\n",
              " 'able',\n",
              " 'Ġimportant',\n",
              " 'Ġremember',\n",
              " 'Ġfish',\n",
              " 'llow',\n",
              " 'Ġsound',\n",
              " 'Ġslide',\n",
              " 'Ġus',\n",
              " 'maz',\n",
              " 'Ġreplied',\n",
              " 'Ġamaz',\n",
              " 'Ġac',\n",
              " 'lease',\n",
              " 'Ġwork',\n",
              " 'Ġwatch',\n",
              " 'Ġrain',\n",
              " 'Ġshowed',\n",
              " 'Ġrabbit',\n",
              " 'Ġokay']"
            ]
          },
          "metadata": {},
          "execution_count": 132
        }
      ]
    },
    {
      "cell_type": "markdown",
      "source": [
        "### 🔵 **tokenizer-500**"
      ],
      "metadata": {
        "id": "yM_xnUjzTFf3"
      }
    },
    {
      "cell_type": "code",
      "source": [
        "tokenizer = tokenizer.from_file('/content/bpe_tokenizer-500.json')"
      ],
      "metadata": {
        "id": "k88ozLZwTFf3"
      },
      "execution_count": 145,
      "outputs": []
    },
    {
      "cell_type": "code",
      "source": [
        "len(tokenizer.get_vocab())"
      ],
      "metadata": {
        "colab": {
          "base_uri": "https://localhost:8080/"
        },
        "outputId": "1f6a76a2-9097-4a73-dfd9-bcaceb8eb8ec",
        "id": "aq_fV_sDTFf3"
      },
      "execution_count": 146,
      "outputs": [
        {
          "output_type": "execute_result",
          "data": {
            "text/plain": [
              "500"
            ]
          },
          "metadata": {},
          "execution_count": 146
        }
      ]
    },
    {
      "cell_type": "code",
      "source": [
        "vocab = tokenizer.get_vocab()\n",
        "sorted_vocab = dict(sorted(vocab.items(), key = lambda item:item[1]))\n",
        "list(sorted_vocab.keys())[0:13]"
      ],
      "metadata": {
        "colab": {
          "base_uri": "https://localhost:8080/"
        },
        "outputId": "1ad8919c-3b12-4158-ad90-3448a0883a74",
        "id": "5fxSTbgATFf3"
      },
      "execution_count": 147,
      "outputs": [
        {
          "output_type": "execute_result",
          "data": {
            "text/plain": [
              "['[UNK]', '[CLS]', '[SEP]', '!', '\"', '#', '$', '%', '&', \"'\", '(', ')', '*']"
            ]
          },
          "metadata": {},
          "execution_count": 147
        }
      ]
    },
    {
      "cell_type": "code",
      "source": [
        "list(sorted_vocab.keys())[-20:]"
      ],
      "metadata": {
        "colab": {
          "base_uri": "https://localhost:8080/"
        },
        "outputId": "a879b218-42bf-4edf-ee04-b4a880404c8f",
        "id": "DSZSoumeTFf3"
      },
      "execution_count": 148,
      "outputs": [
        {
          "output_type": "execute_result",
          "data": {
            "text/plain": [
              "['Ġmu',\n",
              " 'ook',\n",
              " 'ach',\n",
              " 'Ġagain',\n",
              " 'Ġhome',\n",
              " 'Ġwhen',\n",
              " 'Ġgood',\n",
              " 'hat',\n",
              " 'ep',\n",
              " 'Ġwho',\n",
              " 'est',\n",
              " 'ried',\n",
              " 'Ġfound',\n",
              " 'Ġfl',\n",
              " 'Ġthen',\n",
              " 'Ġch',\n",
              " 'Ġdec',\n",
              " 'pped',\n",
              " 'Ġwal',\n",
              " 'as']"
            ]
          },
          "metadata": {},
          "execution_count": 148
        }
      ]
    }
  ]
}