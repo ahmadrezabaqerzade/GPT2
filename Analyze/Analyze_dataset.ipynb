{
 "cells": [
  {
   "cell_type": "code",
   "execution_count": 1,
   "metadata": {
    "colab": {
     "base_uri": "https://localhost:8080/"
    },
    "id": "e_Dt8RG-ACs2",
    "outputId": "81284fc9-b358-421f-81aa-01a01900046d"
   },
   "outputs": [
    {
     "name": "stdout",
     "output_type": "stream",
     "text": [
      "Sat Apr 12 12:42:19 2025       \n",
      "+-----------------------------------------------------------------------------------------+\n",
      "| NVIDIA-SMI 550.54.15              Driver Version: 550.54.15      CUDA Version: 12.4     |\n",
      "|-----------------------------------------+------------------------+----------------------+\n",
      "| GPU  Name                 Persistence-M | Bus-Id          Disp.A | Volatile Uncorr. ECC |\n",
      "| Fan  Temp   Perf          Pwr:Usage/Cap |           Memory-Usage | GPU-Util  Compute M. |\n",
      "|                                         |                        |               MIG M. |\n",
      "|=========================================+========================+======================|\n",
      "|   0  Tesla T4                       Off |   00000000:00:04.0 Off |                    0 |\n",
      "| N/A   56C    P8             10W /   70W |       0MiB /  15360MiB |      0%      Default |\n",
      "|                                         |                        |                  N/A |\n",
      "+-----------------------------------------+------------------------+----------------------+\n",
      "                                                                                         \n",
      "+-----------------------------------------------------------------------------------------+\n",
      "| Processes:                                                                              |\n",
      "|  GPU   GI   CI        PID   Type   Process name                              GPU Memory |\n",
      "|        ID   ID                                                               Usage      |\n",
      "|=========================================================================================|\n",
      "|  No running processes found                                                             |\n",
      "+-----------------------------------------------------------------------------------------+\n"
     ]
    }
   ],
   "source": [
    "!nvidia-smi"
   ]
  },
  {
   "cell_type": "markdown",
   "metadata": {
    "id": "_9yMJVI00W7d"
   },
   "source": [
    "# 🔵 **Dependencies**"
   ]
  },
  {
   "cell_type": "code",
   "execution_count": null,
   "metadata": {
    "collapsed": true,
    "id": "i9q2KOJH0Wf7"
   },
   "outputs": [],
   "source": [
    "!pip install -q transformers datasets"
   ]
  },
  {
   "cell_type": "code",
   "execution_count": null,
   "metadata": {
    "id": "FpqmWn8I4inp"
   },
   "outputs": [],
   "source": [
    "!pip install -q torch==2.2.0 torchvision==0.17.0 torchaudio==2.2.0 torchtext==0.17.0 --index-url https://download.pytorch.org/whl/cu121"
   ]
  },
  {
   "cell_type": "code",
   "execution_count": null,
   "metadata": {
    "id": "gJpWP1AMGZgN"
   },
   "outputs": [],
   "source": [
    "!pip install -q numpy==2.2.0"
   ]
  },
  {
   "cell_type": "markdown",
   "metadata": {
    "id": "_EPOwD_F0dWj"
   },
   "source": [
    "# 🔵 **Import Libraries**"
   ]
  },
  {
   "cell_type": "code",
   "execution_count": 39,
   "metadata": {
    "id": "goUJnNuf0hCW"
   },
   "outputs": [],
   "source": [
    "from tokenizers import Tokenizer, models, pre_tokenizers, trainers, processors, decoders\n",
    "from transformers import AutoTokenizer\n",
    "from datasets import load_dataset\n",
    "import torch\n",
    "from torchtext.data.utils import get_tokenizer\n",
    "from torchtext.vocab import build_vocab_from_iterator\n",
    "import pandas as pd\n",
    "import numpy as np\n",
    "from tqdm import tqdm\n",
    "from collections import Counter\n",
    "import matplotlib.pyplot as plt\n",
    "from IPython.display import Markdown, display\n",
    "import seaborn as sns\n",
    "from scipy import stats\n",
    "from scipy.stats import lognorm, pareto\n",
    "import time"
   ]
  },
  {
   "cell_type": "code",
   "execution_count": null,
   "metadata": {
    "id": "fk8w82v5HbWG"
   },
   "outputs": [],
   "source": [
    "device = 'cuda' if torch.cuda.is_available() else 'cpu'\n",
    "device"
   ]
  },
  {
   "cell_type": "markdown",
   "metadata": {
    "id": "kcgp9-0t0oLw"
   },
   "source": [
    "# 🔵 **TinyStories Dataset**"
   ]
  },
  {
   "cell_type": "markdown",
   "metadata": {
    "id": "0LkR_EMVSkud"
   },
   "source": [
    "## 🔵 **LoadDataset**"
   ]
  },
  {
   "cell_type": "code",
   "execution_count": 3,
   "metadata": {
    "colab": {
     "base_uri": "https://localhost:8080/",
     "height": 571,
     "referenced_widgets": [
      "232715077ee7483880104d0c4c1a261a",
      "6c5d7ba8c5344d91b19de3b4a2b303a3",
      "adb194a384774fcbacb2cf9476a5cf24",
      "e0c255d3c7b040df8b8a5b42be5e24e1",
      "f2ced162bac44bccad9bcf09adf07c77",
      "4250b4e2477940129aa5763178e57791",
      "ee95411dae4848198082cc683b46aa62",
      "6d9ec16d725d4b9883e75714ed734685",
      "a806eff2c2fb4a0dbc1a03a08919e7e5",
      "158cb3b742f24828bb6b4ae9dc8c5a24",
      "3c82b34766aa4d05a8faba9f10e5bff8",
      "084da1f7eab548bba9de80f3b21a110d",
      "7f79820bd3a54013a4181d1ba41d6143",
      "346e3c145d054c4295a63c7ea75f46f9",
      "63d2ed6c86f94c358897ff08b7583065",
      "5a0114b3ab5c4382b58516809f0c2292",
      "e4a20aa9bbc24f7d8b19b26a80240007",
      "9181dd5b4f184d6ba2246a77e24b1af9",
      "e402674852a042ddb8029cceba7ae59b",
      "233c5961b1504c318ae78f8a4efa31ee",
      "fce8d2c2f06e4000b3977f799287cce0",
      "5c36902b1f70487bb4637e580066e3df",
      "5d37e06b9ca04d0f8dca4d6a894312ed",
      "3a134fa970244b9ab3c2a7812cf8da89",
      "8a64be8db4594003be9b3c44ffb06fb1",
      "68d47801048c4f0eba021b112e3deffe",
      "7a9092ced9fd44288a1827eabba9ed46",
      "8c121ae902d0497b8c26636a0e101476",
      "6466bfa2cdb94e09a8a5677cd88ce1f8",
      "90ff27731cab433dbb6a5799dd40a539",
      "e649b8a21c0c472982db999e3b5072d7",
      "a297104ac98740a0bc1d3e3d70f0b3be",
      "7437c1c437174f12a091c959a41b2050",
      "f2785810b2a34a1fbf95df8fa24fd6d1",
      "f9b96098396640358f9cfb5d3593464d",
      "aaf53674b27547f0ba57f47e450d52a6",
      "abb76e8e34714c88ab20239b7a50ef88",
      "faf34636eb134892b3590f39df89e6d4",
      "2da3c08f92004abf8afefd5c5e709f72",
      "6e835b99b3414a7eb0e85884713766f8",
      "fa791a93fad6464aa7f902bfb8062dc4",
      "a81b3f4c540a4caf96de3c8ddf707f37",
      "5a9718d77e234342ba35b7433d386bb8",
      "4b390294bf114b7e9544c7e3794c4411",
      "0a54f5b217d84899830cb969629c9299",
      "7082ed1c599a4ea0aa2269f75758d0d2",
      "315e82538f2841f492ca710861e42580",
      "db3c6ed8c84142cabc402a4cce39b9e1",
      "0487dfe50e3745f486052417943d50a2",
      "baf06772e65842f58839b2bda698c6b1",
      "7d846b37390f40d1b779360d4c389c57",
      "bcfb857126fe4763a930da5f6bb3ee74",
      "f92375d4ce8b422e8f34535488564498",
      "3124c54efbfb4ea58ecaa329eabca683",
      "78485b2aea5b41fab93106cf3a4399d3",
      "7e7fab61824c40f6acaa4a110ba37a63",
      "6c6120f3a56f4e5494cb6fbb4c2ce7c5",
      "cada3e59b2ca4796890911b88a0fc83c",
      "5250b2af3c6c43a8b385c6c14822d0d3",
      "968b1cd8f00344f69360948ffd7df2b5",
      "0d10ef1d3b6240d2a7db1ee0e185f714",
      "83cd14be9d7e433f9899c9d50db3ff06",
      "26a7dfa90f164f9e87af58f253053445",
      "88d1fccf805940be90bce1facac81639",
      "4c2b5604172340b2a8a8b845e2e77bd3",
      "39c5cd5cffa74d69aea98123b149ef3c",
      "288608b3589b4004845b6dcf455d8ea9",
      "643d4dfd327b4eef9e8f9a191c6afdd6",
      "ae0abfdfa4d84508bb9a7894b3ccd0a7",
      "7e9fc39f69184adea3d1ff6e9d9639fd",
      "fba38e4385fa4995a77be8741170b036",
      "6f7b0427424547ad934a599c133a1d13",
      "47e8652132244ce6a2d5d48d51fef279",
      "adace3725d0d4aafabda0ee0eb9a0e04",
      "48db31c054144e60bcee1a4387c39fe0",
      "07f4d953728047af979e4b8b5689d9f7",
      "4219609b35364be08ecceb41078e1671",
      "792e52dab96f44fb9268a3f76e0217cb",
      "f93d292a82ac495d89773854e843c731",
      "5029576b973449e887b57faecf445a92",
      "8a9de1e8480240e388c49ac428a82827",
      "289f609a8da941db881ccc5e0aaaf40a",
      "50691dd5c78e4604895d8d96131f83b4",
      "6f04b3e97183454c89be82b86e72d7c3",
      "bce7299a223e4014831c35047249b76a",
      "28b3e5681d7d442c885d67c86b4c42a4",
      "de3e418ff6aa4944a9c4682798aa6310",
      "55a6f33bbd7d4268ac124e3977e00add"
     ]
    },
    "id": "mmsD9p730sfk",
    "outputId": "5e78af14-ec27-4a47-c23d-4e581ed32e4d"
   },
   "outputs": [
    {
     "name": "stderr",
     "output_type": "stream",
     "text": [
      "/usr/local/lib/python3.11/dist-packages/huggingface_hub/utils/_auth.py:94: UserWarning: \n",
      "The secret `HF_TOKEN` does not exist in your Colab secrets.\n",
      "To authenticate with the Hugging Face Hub, create a token in your settings tab (https://huggingface.co/settings/tokens), set it as secret in your Google Colab and restart your session.\n",
      "You will be able to reuse this secret in all of your notebooks.\n",
      "Please note that authentication is recommended but still optional to access public models or datasets.\n",
      "  warnings.warn(\n"
     ]
    },
    {
     "data": {
      "application/vnd.jupyter.widget-view+json": {
       "model_id": "232715077ee7483880104d0c4c1a261a",
       "version_major": 2,
       "version_minor": 0
      },
      "text/plain": [
       "README.md:   0%|          | 0.00/1.06k [00:00<?, ?B/s]"
      ]
     },
     "metadata": {},
     "output_type": "display_data"
    },
    {
     "data": {
      "application/vnd.jupyter.widget-view+json": {
       "model_id": "084da1f7eab548bba9de80f3b21a110d",
       "version_major": 2,
       "version_minor": 0
      },
      "text/plain": [
       "(…)-00000-of-00004-2d5a1467fff1081b.parquet:   0%|          | 0.00/249M [00:00<?, ?B/s]"
      ]
     },
     "metadata": {},
     "output_type": "display_data"
    },
    {
     "data": {
      "application/vnd.jupyter.widget-view+json": {
       "model_id": "5d37e06b9ca04d0f8dca4d6a894312ed",
       "version_major": 2,
       "version_minor": 0
      },
      "text/plain": [
       "(…)-00001-of-00004-5852b56a2bd28fd9.parquet:   0%|          | 0.00/248M [00:00<?, ?B/s]"
      ]
     },
     "metadata": {},
     "output_type": "display_data"
    },
    {
     "data": {
      "application/vnd.jupyter.widget-view+json": {
       "model_id": "f2785810b2a34a1fbf95df8fa24fd6d1",
       "version_major": 2,
       "version_minor": 0
      },
      "text/plain": [
       "(…)-00002-of-00004-a26307300439e943.parquet:   0%|          | 0.00/246M [00:00<?, ?B/s]"
      ]
     },
     "metadata": {},
     "output_type": "display_data"
    },
    {
     "data": {
      "application/vnd.jupyter.widget-view+json": {
       "model_id": "0a54f5b217d84899830cb969629c9299",
       "version_major": 2,
       "version_minor": 0
      },
      "text/plain": [
       "(…)-00003-of-00004-d243063613e5a057.parquet:   0%|          | 0.00/248M [00:00<?, ?B/s]"
      ]
     },
     "metadata": {},
     "output_type": "display_data"
    },
    {
     "data": {
      "application/vnd.jupyter.widget-view+json": {
       "model_id": "7e7fab61824c40f6acaa4a110ba37a63",
       "version_major": 2,
       "version_minor": 0
      },
      "text/plain": [
       "(…)-00000-of-00001-869c898b519ad725.parquet:   0%|          | 0.00/9.99M [00:00<?, ?B/s]"
      ]
     },
     "metadata": {},
     "output_type": "display_data"
    },
    {
     "data": {
      "application/vnd.jupyter.widget-view+json": {
       "model_id": "288608b3589b4004845b6dcf455d8ea9",
       "version_major": 2,
       "version_minor": 0
      },
      "text/plain": [
       "Generating train split:   0%|          | 0/2119719 [00:00<?, ? examples/s]"
      ]
     },
     "metadata": {},
     "output_type": "display_data"
    },
    {
     "data": {
      "application/vnd.jupyter.widget-view+json": {
       "model_id": "792e52dab96f44fb9268a3f76e0217cb",
       "version_major": 2,
       "version_minor": 0
      },
      "text/plain": [
       "Generating validation split:   0%|          | 0/21990 [00:00<?, ? examples/s]"
      ]
     },
     "metadata": {},
     "output_type": "display_data"
    },
    {
     "data": {
      "text/plain": [
       "DatasetDict({\n",
       "    train: Dataset({\n",
       "        features: ['text'],\n",
       "        num_rows: 2119719\n",
       "    })\n",
       "    validation: Dataset({\n",
       "        features: ['text'],\n",
       "        num_rows: 21990\n",
       "    })\n",
       "})"
      ]
     },
     "execution_count": 3,
     "metadata": {},
     "output_type": "execute_result"
    }
   ],
   "source": [
    "dataset = load_dataset(\"roneneldan/TinyStories\")\n",
    "dataset"
   ]
  },
  {
   "cell_type": "code",
   "execution_count": 4,
   "metadata": {
    "colab": {
     "base_uri": "https://localhost:8080/"
    },
    "id": "56LJ3CZK1_Lq",
    "outputId": "77905972-cbaf-47f5-f2b5-1f74357e5403"
   },
   "outputs": [
    {
     "name": "stdout",
     "output_type": "stream",
     "text": [
      "Number of train rows(stories):  2.119719 Million rows(stories)\n",
      "Number of valid rows(stories):  0.02199 Million rows(stories)\n"
     ]
    }
   ],
   "source": [
    "train_dataset = dataset['train']\n",
    "valid_dataset = dataset['validation']\n",
    "print('Number of train rows(stories): ', train_dataset.num_rows/1e6, 'Million rows(stories)')\n",
    "print('Number of valid rows(stories): ', valid_dataset.num_rows/1e6, 'Million rows(stories)')"
   ]
  },
  {
   "cell_type": "code",
   "execution_count": 5,
   "metadata": {
    "colab": {
     "base_uri": "https://localhost:8080/"
    },
    "id": "2KHuNjbSXFlX",
    "outputId": "875a9c0c-66ab-4747-8c44-82dc13065c93"
   },
   "outputs": [
    {
     "name": "stdout",
     "output_type": "stream",
     "text": [
      "story1: \n",
      "\n",
      " One day, a little girl named Lily found a needle in her room. She knew it was difficult to play with it because it was sharp. Lily wanted to share the needle with her mom, so she could sew a button on her shirt.\n",
      "\n",
      "Lily went to her mom and said, \"Mom, I found this needle. Can you share it with me and sew my shirt?\" Her mom smiled and said, \"Yes, Lily, we can share the needle and fix your shirt.\"\n",
      "\n",
      "Together, they shared the needle and sewed the button on Lily's shirt. It was not difficult for them because they were sharing and helping each other. After they finished, Lily thanked her mom for sharing the needle and fixing her shirt. They both felt happy because they had shared and worked together. \n",
      "\n",
      "story2: \n",
      "\n",
      " Once upon a time, there was a little car named Beep. Beep loved to go fast and play in the sun. Beep was a healthy car because he always had good fuel. Good fuel made Beep happy and strong.\n",
      "\n",
      "One day, Beep was driving in the park when he saw a big tree. The tree had many leaves that were falling. Beep liked how the leaves fall and wanted to play with them. Beep drove under the tree and watched the leaves fall on him. He laughed and beeped his horn.\n",
      "\n",
      "Beep played with the falling leaves all day. When it was time to go home, Beep knew he needed more fuel. He went to the fuel place and got more healthy fuel. Now, Beep was ready to go fast and play again the next day. And Beep lived happily ever after. \n",
      "\n",
      "story3: \n",
      "\n",
      " One day, a little fish named Fin was swimming near the shore. He saw a big crab and wanted to be friends. \"Hi, I am Fin. Do you want to play?\" asked the little fish. The crab looked at Fin and said, \"No, I don't want to play. I am cold and I don't feel fine.\"\n",
      "\n",
      "Fin felt sad but wanted to help the crab feel better. He swam away and thought of a plan. He remembered that the sun could make things warm. So, Fin swam to the top of the water and called to the sun, \"Please, sun, help my new friend feel fine and not freeze!\"\n",
      "\n",
      "The sun heard Fin's call and shone its warm light on the shore. The crab started to feel better and not so cold. He saw Fin and said, \"Thank you, little fish, for making me feel fine. I don't feel like I will freeze now. Let's play together!\" And so, Fin and the crab played and became good friends. \n",
      "\n",
      "story4: \n",
      "\n",
      " Once upon a time, in a land full of trees, there was a little cherry tree. The cherry tree was very sad because it did not have any friends. All the other trees were big and strong, but the cherry tree was small and weak. The cherry tree was envious of the big trees.\n",
      "\n",
      "One day, the cherry tree felt a tickle in its branches. It was a little spring wind. The wind told the cherry tree not to be sad. The wind said, \"You are special because you have sweet cherries that everyone loves.\" The cherry tree started to feel a little better.\n",
      "\n",
      "As time went on, the cherry tree grew more and more cherries. All the animals in the land came to eat the cherries and play under the cherry tree. The cherry tree was happy because it had many friends now. The cherry tree learned that being different can be a good thing. And they all lived happily ever after. \n",
      "\n",
      "story5: \n",
      "\n",
      " Once upon a time, there was a little girl named Lily. Lily liked to pretend she was a popular princess. She lived in a big castle with her best friends, a cat and a dog.\n",
      "\n",
      "One day, while playing in the castle, Lily found a big cobweb. The cobweb was in the way of her fun game. She wanted to get rid of it, but she was scared of the spider that lived there.\n",
      "\n",
      "Lily asked her friends, the cat and the dog, to help her. They all worked together to clean the cobweb. The spider was sad, but it found a new home outside. Lily, the cat, and the dog were happy they could play without the cobweb in the way. And they all lived happily ever after. \n",
      "\n"
     ]
    },
    {
     "data": {
      "text/plain": [
       "[None, None, None, None, None]"
      ]
     },
     "execution_count": 5,
     "metadata": {},
     "output_type": "execute_result"
    }
   ],
   "source": [
    "[print(f'story{i+1}: \\n\\n', train_dataset[i]['text'], '\\n') for i in range(5)]"
   ]
  },
  {
   "cell_type": "markdown",
   "metadata": {
    "id": "wT5uYjiCPFm5"
   },
   "source": [
    "## 🔵 **EDA(Exploratory Data Analysis)**"
   ]
  },
  {
   "cell_type": "code",
   "execution_count": null,
   "metadata": {
    "id": "yH5Ndhs2CHbB"
   },
   "outputs": [],
   "source": [
    "tokenizer = get_tokenizer('basic_english')"
   ]
  },
  {
   "cell_type": "code",
   "execution_count": null,
   "metadata": {
    "colab": {
     "base_uri": "https://localhost:8080/"
    },
    "id": "O12PrDkEM3kX",
    "outputId": "85650335-576d-417f-f291-feadbe2b5e76"
   },
   "outputs": [
    {
     "name": "stderr",
     "output_type": "stream",
     "text": [
      "📊 Processing batches: 100%|██████████| 4141/4141 [07:28<00:00,  9.23it/s, most_common_char=, total_chars=1.9e+9, total_tokens=4.39e+8, unique_chars=174, unique_tokens=63577]\n"
     ]
    }
   ],
   "source": [
    "num_tok  = 0\n",
    "num_char = 0\n",
    "char_counts  = Counter()\n",
    "token_counts = Counter()\n",
    "batch = 512\n",
    "dataset_size = len(train_dataset['text'])\n",
    "\n",
    "with tqdm(range(dataset_size // batch + 1), desc=\"📊 Processing batches\") as tep:\n",
    "    for i in tep:\n",
    "        batch_texts = train_dataset[i * batch : (i + 1) * batch]['text']\n",
    "        text = \" \".join(batch_texts)\n",
    "        num_char += len(text)\n",
    "        char_counts.update(text)\n",
    "        tokenized = tokenizer(text)\n",
    "        num_tok += len(tokenized)\n",
    "        token_counts.update(tokenized)\n",
    "        tep.set_postfix(\n",
    "            unique_tokens=len(token_counts),\n",
    "            total_tokens=num_tok,\n",
    "            total_chars=num_char,\n",
    "            unique_chars=len(char_counts),\n",
    "            most_common_char=char_counts.most_common(1)[0][0])"
   ]
  },
  {
   "cell_type": "markdown",
   "metadata": {
    "id": "3rBw-En1AlIL"
   },
   "source": [
    "### 🔵 **Character Level**"
   ]
  },
  {
   "cell_type": "code",
   "execution_count": null,
   "metadata": {
    "colab": {
     "base_uri": "https://localhost:8080/"
    },
    "id": "PL8PWA8sCy5U",
    "outputId": "8d1bb620-fc79-4566-b94c-4b19e25aeb13"
   },
   "outputs": [
    {
     "data": {
      "text/plain": [
       "1902088781"
      ]
     },
     "execution_count": 8,
     "metadata": {},
     "output_type": "execute_result"
    }
   ],
   "source": [
    "num_char"
   ]
  },
  {
   "cell_type": "code",
   "execution_count": null,
   "metadata": {
    "id": "jBxotuESSrTf"
   },
   "outputs": [],
   "source": [
    "df_count_ch = pd.DataFrame.from_dict(char_counts, orient='index', columns=['count'])"
   ]
  },
  {
   "cell_type": "code",
   "execution_count": null,
   "metadata": {
    "colab": {
     "base_uri": "https://localhost:8080/",
     "height": 300
    },
    "id": "kqd45Q2Or-wZ",
    "outputId": "22e90d3a-d206-4282-d0ff-d468017cf275"
   },
   "outputs": [
    {
     "data": {
      "application/vnd.google.colaboratory.intrinsic+json": {
       "summary": "{\n  \"name\": \"df_count_ch\",\n  \"rows\": 8,\n  \"fields\": [\n    {\n      \"column\": \"count\",\n      \"properties\": {\n        \"dtype\": \"number\",\n        \"std\": 126934133.74593322,\n        \"min\": 1.0,\n        \"max\": 364233176.0,\n        \"num_unique_values\": 8,\n        \"samples\": [\n          10931544.718390804,\n          374.5,\n          174.0\n        ],\n        \"semantic_type\": \"\",\n        \"description\": \"\"\n      }\n    }\n  ]\n}",
       "type": "dataframe"
      },
      "text/html": [
       "\n",
       "  <div id=\"df-11bff01a-220e-4b1d-85c6-0656c7b9ee1d\" class=\"colab-df-container\">\n",
       "    <div>\n",
       "<style scoped>\n",
       "    .dataframe tbody tr th:only-of-type {\n",
       "        vertical-align: middle;\n",
       "    }\n",
       "\n",
       "    .dataframe tbody tr th {\n",
       "        vertical-align: top;\n",
       "    }\n",
       "\n",
       "    .dataframe thead th {\n",
       "        text-align: right;\n",
       "    }\n",
       "</style>\n",
       "<table border=\"1\" class=\"dataframe\">\n",
       "  <thead>\n",
       "    <tr style=\"text-align: right;\">\n",
       "      <th></th>\n",
       "      <th>count</th>\n",
       "    </tr>\n",
       "  </thead>\n",
       "  <tbody>\n",
       "    <tr>\n",
       "      <th>count</th>\n",
       "      <td>1.740000e+02</td>\n",
       "    </tr>\n",
       "    <tr>\n",
       "      <th>mean</th>\n",
       "      <td>1.093154e+07</td>\n",
       "    </tr>\n",
       "    <tr>\n",
       "      <th>std</th>\n",
       "      <td>3.733032e+07</td>\n",
       "    </tr>\n",
       "    <tr>\n",
       "      <th>min</th>\n",
       "      <td>1.000000e+00</td>\n",
       "    </tr>\n",
       "    <tr>\n",
       "      <th>25%</th>\n",
       "      <td>1.025000e+01</td>\n",
       "    </tr>\n",
       "    <tr>\n",
       "      <th>50%</th>\n",
       "      <td>3.745000e+02</td>\n",
       "    </tr>\n",
       "    <tr>\n",
       "      <th>75%</th>\n",
       "      <td>1.213577e+06</td>\n",
       "    </tr>\n",
       "    <tr>\n",
       "      <th>max</th>\n",
       "      <td>3.642332e+08</td>\n",
       "    </tr>\n",
       "  </tbody>\n",
       "</table>\n",
       "</div>\n",
       "    <div class=\"colab-df-buttons\">\n",
       "\n",
       "  <div class=\"colab-df-container\">\n",
       "    <button class=\"colab-df-convert\" onclick=\"convertToInteractive('df-11bff01a-220e-4b1d-85c6-0656c7b9ee1d')\"\n",
       "            title=\"Convert this dataframe to an interactive table.\"\n",
       "            style=\"display:none;\">\n",
       "\n",
       "  <svg xmlns=\"http://www.w3.org/2000/svg\" height=\"24px\" viewBox=\"0 -960 960 960\">\n",
       "    <path d=\"M120-120v-720h720v720H120Zm60-500h600v-160H180v160Zm220 220h160v-160H400v160Zm0 220h160v-160H400v160ZM180-400h160v-160H180v160Zm440 0h160v-160H620v160ZM180-180h160v-160H180v160Zm440 0h160v-160H620v160Z\"/>\n",
       "  </svg>\n",
       "    </button>\n",
       "\n",
       "  <style>\n",
       "    .colab-df-container {\n",
       "      display:flex;\n",
       "      gap: 12px;\n",
       "    }\n",
       "\n",
       "    .colab-df-convert {\n",
       "      background-color: #E8F0FE;\n",
       "      border: none;\n",
       "      border-radius: 50%;\n",
       "      cursor: pointer;\n",
       "      display: none;\n",
       "      fill: #1967D2;\n",
       "      height: 32px;\n",
       "      padding: 0 0 0 0;\n",
       "      width: 32px;\n",
       "    }\n",
       "\n",
       "    .colab-df-convert:hover {\n",
       "      background-color: #E2EBFA;\n",
       "      box-shadow: 0px 1px 2px rgba(60, 64, 67, 0.3), 0px 1px 3px 1px rgba(60, 64, 67, 0.15);\n",
       "      fill: #174EA6;\n",
       "    }\n",
       "\n",
       "    .colab-df-buttons div {\n",
       "      margin-bottom: 4px;\n",
       "    }\n",
       "\n",
       "    [theme=dark] .colab-df-convert {\n",
       "      background-color: #3B4455;\n",
       "      fill: #D2E3FC;\n",
       "    }\n",
       "\n",
       "    [theme=dark] .colab-df-convert:hover {\n",
       "      background-color: #434B5C;\n",
       "      box-shadow: 0px 1px 3px 1px rgba(0, 0, 0, 0.15);\n",
       "      filter: drop-shadow(0px 1px 2px rgba(0, 0, 0, 0.3));\n",
       "      fill: #FFFFFF;\n",
       "    }\n",
       "  </style>\n",
       "\n",
       "    <script>\n",
       "      const buttonEl =\n",
       "        document.querySelector('#df-11bff01a-220e-4b1d-85c6-0656c7b9ee1d button.colab-df-convert');\n",
       "      buttonEl.style.display =\n",
       "        google.colab.kernel.accessAllowed ? 'block' : 'none';\n",
       "\n",
       "      async function convertToInteractive(key) {\n",
       "        const element = document.querySelector('#df-11bff01a-220e-4b1d-85c6-0656c7b9ee1d');\n",
       "        const dataTable =\n",
       "          await google.colab.kernel.invokeFunction('convertToInteractive',\n",
       "                                                    [key], {});\n",
       "        if (!dataTable) return;\n",
       "\n",
       "        const docLinkHtml = 'Like what you see? Visit the ' +\n",
       "          '<a target=\"_blank\" href=https://colab.research.google.com/notebooks/data_table.ipynb>data table notebook</a>'\n",
       "          + ' to learn more about interactive tables.';\n",
       "        element.innerHTML = '';\n",
       "        dataTable['output_type'] = 'display_data';\n",
       "        await google.colab.output.renderOutput(dataTable, element);\n",
       "        const docLink = document.createElement('div');\n",
       "        docLink.innerHTML = docLinkHtml;\n",
       "        element.appendChild(docLink);\n",
       "      }\n",
       "    </script>\n",
       "  </div>\n",
       "\n",
       "\n",
       "<div id=\"df-358fe27f-7393-41fd-8cc6-4c734063c95a\">\n",
       "  <button class=\"colab-df-quickchart\" onclick=\"quickchart('df-358fe27f-7393-41fd-8cc6-4c734063c95a')\"\n",
       "            title=\"Suggest charts\"\n",
       "            style=\"display:none;\">\n",
       "\n",
       "<svg xmlns=\"http://www.w3.org/2000/svg\" height=\"24px\"viewBox=\"0 0 24 24\"\n",
       "     width=\"24px\">\n",
       "    <g>\n",
       "        <path d=\"M19 3H5c-1.1 0-2 .9-2 2v14c0 1.1.9 2 2 2h14c1.1 0 2-.9 2-2V5c0-1.1-.9-2-2-2zM9 17H7v-7h2v7zm4 0h-2V7h2v10zm4 0h-2v-4h2v4z\"/>\n",
       "    </g>\n",
       "</svg>\n",
       "  </button>\n",
       "\n",
       "<style>\n",
       "  .colab-df-quickchart {\n",
       "      --bg-color: #E8F0FE;\n",
       "      --fill-color: #1967D2;\n",
       "      --hover-bg-color: #E2EBFA;\n",
       "      --hover-fill-color: #174EA6;\n",
       "      --disabled-fill-color: #AAA;\n",
       "      --disabled-bg-color: #DDD;\n",
       "  }\n",
       "\n",
       "  [theme=dark] .colab-df-quickchart {\n",
       "      --bg-color: #3B4455;\n",
       "      --fill-color: #D2E3FC;\n",
       "      --hover-bg-color: #434B5C;\n",
       "      --hover-fill-color: #FFFFFF;\n",
       "      --disabled-bg-color: #3B4455;\n",
       "      --disabled-fill-color: #666;\n",
       "  }\n",
       "\n",
       "  .colab-df-quickchart {\n",
       "    background-color: var(--bg-color);\n",
       "    border: none;\n",
       "    border-radius: 50%;\n",
       "    cursor: pointer;\n",
       "    display: none;\n",
       "    fill: var(--fill-color);\n",
       "    height: 32px;\n",
       "    padding: 0;\n",
       "    width: 32px;\n",
       "  }\n",
       "\n",
       "  .colab-df-quickchart:hover {\n",
       "    background-color: var(--hover-bg-color);\n",
       "    box-shadow: 0 1px 2px rgba(60, 64, 67, 0.3), 0 1px 3px 1px rgba(60, 64, 67, 0.15);\n",
       "    fill: var(--button-hover-fill-color);\n",
       "  }\n",
       "\n",
       "  .colab-df-quickchart-complete:disabled,\n",
       "  .colab-df-quickchart-complete:disabled:hover {\n",
       "    background-color: var(--disabled-bg-color);\n",
       "    fill: var(--disabled-fill-color);\n",
       "    box-shadow: none;\n",
       "  }\n",
       "\n",
       "  .colab-df-spinner {\n",
       "    border: 2px solid var(--fill-color);\n",
       "    border-color: transparent;\n",
       "    border-bottom-color: var(--fill-color);\n",
       "    animation:\n",
       "      spin 1s steps(1) infinite;\n",
       "  }\n",
       "\n",
       "  @keyframes spin {\n",
       "    0% {\n",
       "      border-color: transparent;\n",
       "      border-bottom-color: var(--fill-color);\n",
       "      border-left-color: var(--fill-color);\n",
       "    }\n",
       "    20% {\n",
       "      border-color: transparent;\n",
       "      border-left-color: var(--fill-color);\n",
       "      border-top-color: var(--fill-color);\n",
       "    }\n",
       "    30% {\n",
       "      border-color: transparent;\n",
       "      border-left-color: var(--fill-color);\n",
       "      border-top-color: var(--fill-color);\n",
       "      border-right-color: var(--fill-color);\n",
       "    }\n",
       "    40% {\n",
       "      border-color: transparent;\n",
       "      border-right-color: var(--fill-color);\n",
       "      border-top-color: var(--fill-color);\n",
       "    }\n",
       "    60% {\n",
       "      border-color: transparent;\n",
       "      border-right-color: var(--fill-color);\n",
       "    }\n",
       "    80% {\n",
       "      border-color: transparent;\n",
       "      border-right-color: var(--fill-color);\n",
       "      border-bottom-color: var(--fill-color);\n",
       "    }\n",
       "    90% {\n",
       "      border-color: transparent;\n",
       "      border-bottom-color: var(--fill-color);\n",
       "    }\n",
       "  }\n",
       "</style>\n",
       "\n",
       "  <script>\n",
       "    async function quickchart(key) {\n",
       "      const quickchartButtonEl =\n",
       "        document.querySelector('#' + key + ' button');\n",
       "      quickchartButtonEl.disabled = true;  // To prevent multiple clicks.\n",
       "      quickchartButtonEl.classList.add('colab-df-spinner');\n",
       "      try {\n",
       "        const charts = await google.colab.kernel.invokeFunction(\n",
       "            'suggestCharts', [key], {});\n",
       "      } catch (error) {\n",
       "        console.error('Error during call to suggestCharts:', error);\n",
       "      }\n",
       "      quickchartButtonEl.classList.remove('colab-df-spinner');\n",
       "      quickchartButtonEl.classList.add('colab-df-quickchart-complete');\n",
       "    }\n",
       "    (() => {\n",
       "      let quickchartButtonEl =\n",
       "        document.querySelector('#df-358fe27f-7393-41fd-8cc6-4c734063c95a button');\n",
       "      quickchartButtonEl.style.display =\n",
       "        google.colab.kernel.accessAllowed ? 'block' : 'none';\n",
       "    })();\n",
       "  </script>\n",
       "</div>\n",
       "    </div>\n",
       "  </div>\n"
      ],
      "text/plain": [
       "              count\n",
       "count  1.740000e+02\n",
       "mean   1.093154e+07\n",
       "std    3.733032e+07\n",
       "min    1.000000e+00\n",
       "25%    1.025000e+01\n",
       "50%    3.745000e+02\n",
       "75%    1.213577e+06\n",
       "max    3.642332e+08"
      ]
     },
     "execution_count": 10,
     "metadata": {},
     "output_type": "execute_result"
    }
   ],
   "source": [
    "df_count_ch.describe()"
   ]
  },
  {
   "cell_type": "code",
   "execution_count": null,
   "metadata": {
    "colab": {
     "base_uri": "https://localhost:8080/",
     "height": 269
    },
    "id": "hrijodNu_p9Y",
    "outputId": "f7e68b89-5960-45ee-8768-9d92016cb5b2"
   },
   "outputs": [
    {
     "data": {
      "application/vnd.google.colaboratory.intrinsic+json": {
       "summary": "{\n  \"name\": \"df_count_ch[df_count_ch['count']==1]\",\n  \"rows\": 7,\n  \"fields\": [\n    {\n      \"column\": \"count\",\n      \"properties\": {\n        \"dtype\": \"number\",\n        \"std\": 0,\n        \"min\": 1,\n        \"max\": 1,\n        \"num_unique_values\": 1,\n        \"samples\": [\n          1\n        ],\n        \"semantic_type\": \"\",\n        \"description\": \"\"\n      }\n    }\n  ]\n}",
       "type": "dataframe"
      },
      "text/html": [
       "\n",
       "  <div id=\"df-8ab77ed0-9cc0-4415-b504-f0c891f256d2\" class=\"colab-df-container\">\n",
       "    <div>\n",
       "<style scoped>\n",
       "    .dataframe tbody tr th:only-of-type {\n",
       "        vertical-align: middle;\n",
       "    }\n",
       "\n",
       "    .dataframe tbody tr th {\n",
       "        vertical-align: top;\n",
       "    }\n",
       "\n",
       "    .dataframe thead th {\n",
       "        text-align: right;\n",
       "    }\n",
       "</style>\n",
       "<table border=\"1\" class=\"dataframe\">\n",
       "  <thead>\n",
       "    <tr style=\"text-align: right;\">\n",
       "      <th></th>\n",
       "      <th>count</th>\n",
       "    </tr>\n",
       "  </thead>\n",
       "  <tbody>\n",
       "    <tr>\n",
       "      <th>|</th>\n",
       "      <td>1</td>\n",
       "    </tr>\n",
       "    <tr>\n",
       "      <th>Ñ</th>\n",
       "      <td>1</td>\n",
       "    </tr>\n",
       "    <tr>\n",
       "      <th>ƒ</th>\n",
       "      <td>1</td>\n",
       "    </tr>\n",
       "    <tr>\n",
       "      <th>µ</th>\n",
       "      <td>1</td>\n",
       "    </tr>\n",
       "    <tr>\n",
       "      <th>®</th>\n",
       "      <td>1</td>\n",
       "    </tr>\n",
       "    <tr>\n",
       "      <th>î</th>\n",
       "      <td>1</td>\n",
       "    </tr>\n",
       "    <tr>\n",
       "      <th>Ò</th>\n",
       "      <td>1</td>\n",
       "    </tr>\n",
       "  </tbody>\n",
       "</table>\n",
       "</div>\n",
       "    <div class=\"colab-df-buttons\">\n",
       "\n",
       "  <div class=\"colab-df-container\">\n",
       "    <button class=\"colab-df-convert\" onclick=\"convertToInteractive('df-8ab77ed0-9cc0-4415-b504-f0c891f256d2')\"\n",
       "            title=\"Convert this dataframe to an interactive table.\"\n",
       "            style=\"display:none;\">\n",
       "\n",
       "  <svg xmlns=\"http://www.w3.org/2000/svg\" height=\"24px\" viewBox=\"0 -960 960 960\">\n",
       "    <path d=\"M120-120v-720h720v720H120Zm60-500h600v-160H180v160Zm220 220h160v-160H400v160Zm0 220h160v-160H400v160ZM180-400h160v-160H180v160Zm440 0h160v-160H620v160ZM180-180h160v-160H180v160Zm440 0h160v-160H620v160Z\"/>\n",
       "  </svg>\n",
       "    </button>\n",
       "\n",
       "  <style>\n",
       "    .colab-df-container {\n",
       "      display:flex;\n",
       "      gap: 12px;\n",
       "    }\n",
       "\n",
       "    .colab-df-convert {\n",
       "      background-color: #E8F0FE;\n",
       "      border: none;\n",
       "      border-radius: 50%;\n",
       "      cursor: pointer;\n",
       "      display: none;\n",
       "      fill: #1967D2;\n",
       "      height: 32px;\n",
       "      padding: 0 0 0 0;\n",
       "      width: 32px;\n",
       "    }\n",
       "\n",
       "    .colab-df-convert:hover {\n",
       "      background-color: #E2EBFA;\n",
       "      box-shadow: 0px 1px 2px rgba(60, 64, 67, 0.3), 0px 1px 3px 1px rgba(60, 64, 67, 0.15);\n",
       "      fill: #174EA6;\n",
       "    }\n",
       "\n",
       "    .colab-df-buttons div {\n",
       "      margin-bottom: 4px;\n",
       "    }\n",
       "\n",
       "    [theme=dark] .colab-df-convert {\n",
       "      background-color: #3B4455;\n",
       "      fill: #D2E3FC;\n",
       "    }\n",
       "\n",
       "    [theme=dark] .colab-df-convert:hover {\n",
       "      background-color: #434B5C;\n",
       "      box-shadow: 0px 1px 3px 1px rgba(0, 0, 0, 0.15);\n",
       "      filter: drop-shadow(0px 1px 2px rgba(0, 0, 0, 0.3));\n",
       "      fill: #FFFFFF;\n",
       "    }\n",
       "  </style>\n",
       "\n",
       "    <script>\n",
       "      const buttonEl =\n",
       "        document.querySelector('#df-8ab77ed0-9cc0-4415-b504-f0c891f256d2 button.colab-df-convert');\n",
       "      buttonEl.style.display =\n",
       "        google.colab.kernel.accessAllowed ? 'block' : 'none';\n",
       "\n",
       "      async function convertToInteractive(key) {\n",
       "        const element = document.querySelector('#df-8ab77ed0-9cc0-4415-b504-f0c891f256d2');\n",
       "        const dataTable =\n",
       "          await google.colab.kernel.invokeFunction('convertToInteractive',\n",
       "                                                    [key], {});\n",
       "        if (!dataTable) return;\n",
       "\n",
       "        const docLinkHtml = 'Like what you see? Visit the ' +\n",
       "          '<a target=\"_blank\" href=https://colab.research.google.com/notebooks/data_table.ipynb>data table notebook</a>'\n",
       "          + ' to learn more about interactive tables.';\n",
       "        element.innerHTML = '';\n",
       "        dataTable['output_type'] = 'display_data';\n",
       "        await google.colab.output.renderOutput(dataTable, element);\n",
       "        const docLink = document.createElement('div');\n",
       "        docLink.innerHTML = docLinkHtml;\n",
       "        element.appendChild(docLink);\n",
       "      }\n",
       "    </script>\n",
       "  </div>\n",
       "\n",
       "\n",
       "<div id=\"df-4182301e-a859-464f-8de1-73322a4b32bb\">\n",
       "  <button class=\"colab-df-quickchart\" onclick=\"quickchart('df-4182301e-a859-464f-8de1-73322a4b32bb')\"\n",
       "            title=\"Suggest charts\"\n",
       "            style=\"display:none;\">\n",
       "\n",
       "<svg xmlns=\"http://www.w3.org/2000/svg\" height=\"24px\"viewBox=\"0 0 24 24\"\n",
       "     width=\"24px\">\n",
       "    <g>\n",
       "        <path d=\"M19 3H5c-1.1 0-2 .9-2 2v14c0 1.1.9 2 2 2h14c1.1 0 2-.9 2-2V5c0-1.1-.9-2-2-2zM9 17H7v-7h2v7zm4 0h-2V7h2v10zm4 0h-2v-4h2v4z\"/>\n",
       "    </g>\n",
       "</svg>\n",
       "  </button>\n",
       "\n",
       "<style>\n",
       "  .colab-df-quickchart {\n",
       "      --bg-color: #E8F0FE;\n",
       "      --fill-color: #1967D2;\n",
       "      --hover-bg-color: #E2EBFA;\n",
       "      --hover-fill-color: #174EA6;\n",
       "      --disabled-fill-color: #AAA;\n",
       "      --disabled-bg-color: #DDD;\n",
       "  }\n",
       "\n",
       "  [theme=dark] .colab-df-quickchart {\n",
       "      --bg-color: #3B4455;\n",
       "      --fill-color: #D2E3FC;\n",
       "      --hover-bg-color: #434B5C;\n",
       "      --hover-fill-color: #FFFFFF;\n",
       "      --disabled-bg-color: #3B4455;\n",
       "      --disabled-fill-color: #666;\n",
       "  }\n",
       "\n",
       "  .colab-df-quickchart {\n",
       "    background-color: var(--bg-color);\n",
       "    border: none;\n",
       "    border-radius: 50%;\n",
       "    cursor: pointer;\n",
       "    display: none;\n",
       "    fill: var(--fill-color);\n",
       "    height: 32px;\n",
       "    padding: 0;\n",
       "    width: 32px;\n",
       "  }\n",
       "\n",
       "  .colab-df-quickchart:hover {\n",
       "    background-color: var(--hover-bg-color);\n",
       "    box-shadow: 0 1px 2px rgba(60, 64, 67, 0.3), 0 1px 3px 1px rgba(60, 64, 67, 0.15);\n",
       "    fill: var(--button-hover-fill-color);\n",
       "  }\n",
       "\n",
       "  .colab-df-quickchart-complete:disabled,\n",
       "  .colab-df-quickchart-complete:disabled:hover {\n",
       "    background-color: var(--disabled-bg-color);\n",
       "    fill: var(--disabled-fill-color);\n",
       "    box-shadow: none;\n",
       "  }\n",
       "\n",
       "  .colab-df-spinner {\n",
       "    border: 2px solid var(--fill-color);\n",
       "    border-color: transparent;\n",
       "    border-bottom-color: var(--fill-color);\n",
       "    animation:\n",
       "      spin 1s steps(1) infinite;\n",
       "  }\n",
       "\n",
       "  @keyframes spin {\n",
       "    0% {\n",
       "      border-color: transparent;\n",
       "      border-bottom-color: var(--fill-color);\n",
       "      border-left-color: var(--fill-color);\n",
       "    }\n",
       "    20% {\n",
       "      border-color: transparent;\n",
       "      border-left-color: var(--fill-color);\n",
       "      border-top-color: var(--fill-color);\n",
       "    }\n",
       "    30% {\n",
       "      border-color: transparent;\n",
       "      border-left-color: var(--fill-color);\n",
       "      border-top-color: var(--fill-color);\n",
       "      border-right-color: var(--fill-color);\n",
       "    }\n",
       "    40% {\n",
       "      border-color: transparent;\n",
       "      border-right-color: var(--fill-color);\n",
       "      border-top-color: var(--fill-color);\n",
       "    }\n",
       "    60% {\n",
       "      border-color: transparent;\n",
       "      border-right-color: var(--fill-color);\n",
       "    }\n",
       "    80% {\n",
       "      border-color: transparent;\n",
       "      border-right-color: var(--fill-color);\n",
       "      border-bottom-color: var(--fill-color);\n",
       "    }\n",
       "    90% {\n",
       "      border-color: transparent;\n",
       "      border-bottom-color: var(--fill-color);\n",
       "    }\n",
       "  }\n",
       "</style>\n",
       "\n",
       "  <script>\n",
       "    async function quickchart(key) {\n",
       "      const quickchartButtonEl =\n",
       "        document.querySelector('#' + key + ' button');\n",
       "      quickchartButtonEl.disabled = true;  // To prevent multiple clicks.\n",
       "      quickchartButtonEl.classList.add('colab-df-spinner');\n",
       "      try {\n",
       "        const charts = await google.colab.kernel.invokeFunction(\n",
       "            'suggestCharts', [key], {});\n",
       "      } catch (error) {\n",
       "        console.error('Error during call to suggestCharts:', error);\n",
       "      }\n",
       "      quickchartButtonEl.classList.remove('colab-df-spinner');\n",
       "      quickchartButtonEl.classList.add('colab-df-quickchart-complete');\n",
       "    }\n",
       "    (() => {\n",
       "      let quickchartButtonEl =\n",
       "        document.querySelector('#df-4182301e-a859-464f-8de1-73322a4b32bb button');\n",
       "      quickchartButtonEl.style.display =\n",
       "        google.colab.kernel.accessAllowed ? 'block' : 'none';\n",
       "    })();\n",
       "  </script>\n",
       "</div>\n",
       "    </div>\n",
       "  </div>\n"
      ],
      "text/plain": [
       "   count\n",
       "|      1\n",
       "Ñ      1\n",
       "ƒ      1\n",
       "µ      1\n",
       "®      1\n",
       "î      1\n",
       "Ò      1"
      ]
     },
     "execution_count": 11,
     "metadata": {},
     "output_type": "execute_result"
    }
   ],
   "source": [
    "df_count_ch[df_count_ch['count']==1]"
   ]
  },
  {
   "cell_type": "code",
   "execution_count": null,
   "metadata": {
    "colab": {
     "base_uri": "https://localhost:8080/"
    },
    "id": "glo3Lm8F_68F",
    "outputId": "6e79a13c-c2d7-4000-e9d1-cb21b07ed1c5"
   },
   "outputs": [
    {
     "data": {
      "text/plain": [
       "((27, 1), (147, 1))"
      ]
     },
     "execution_count": 12,
     "metadata": {},
     "output_type": "execute_result"
    }
   ],
   "source": [
    "df_count_ch[df_count_ch['count']>1.093154e+07].shape, df_count_ch[df_count_ch['count']<1.093154e+07].shape"
   ]
  },
  {
   "cell_type": "code",
   "execution_count": null,
   "metadata": {
    "colab": {
     "base_uri": "https://localhost:8080/",
     "height": 363
    },
    "id": "G4zKjTXeszn6",
    "outputId": "a2079938-a00b-41bc-bb57-b0722d00ab05"
   },
   "outputs": [
    {
     "data": {
      "application/vnd.google.colaboratory.intrinsic+json": {
       "summary": "{\n  \"name\": \"df_count_ch\",\n  \"rows\": 10,\n  \"fields\": [\n    {\n      \"column\": \"count\",\n      \"properties\": {\n        \"dtype\": \"number\",\n        \"std\": 87492853,\n        \"min\": 78717020,\n        \"max\": 364233176,\n        \"num_unique_values\": 10,\n        \"samples\": [\n          81365133,\n          180782399,\n          93158669\n        ],\n        \"semantic_type\": \"\",\n        \"description\": \"\"\n      }\n    }\n  ]\n}",
       "type": "dataframe"
      },
      "text/html": [
       "\n",
       "  <div id=\"df-3873c882-0cd2-4b1f-8ffa-761c5081fad5\" class=\"colab-df-container\">\n",
       "    <div>\n",
       "<style scoped>\n",
       "    .dataframe tbody tr th:only-of-type {\n",
       "        vertical-align: middle;\n",
       "    }\n",
       "\n",
       "    .dataframe tbody tr th {\n",
       "        vertical-align: top;\n",
       "    }\n",
       "\n",
       "    .dataframe thead th {\n",
       "        text-align: right;\n",
       "    }\n",
       "</style>\n",
       "<table border=\"1\" class=\"dataframe\">\n",
       "  <thead>\n",
       "    <tr style=\"text-align: right;\">\n",
       "      <th></th>\n",
       "      <th>count</th>\n",
       "    </tr>\n",
       "  </thead>\n",
       "  <tbody>\n",
       "    <tr>\n",
       "      <th></th>\n",
       "      <td>364233176</td>\n",
       "    </tr>\n",
       "    <tr>\n",
       "      <th>e</th>\n",
       "      <td>180782399</td>\n",
       "    </tr>\n",
       "    <tr>\n",
       "      <th>a</th>\n",
       "      <td>127963378</td>\n",
       "    </tr>\n",
       "    <tr>\n",
       "      <th>t</th>\n",
       "      <td>118625067</td>\n",
       "    </tr>\n",
       "    <tr>\n",
       "      <th>o</th>\n",
       "      <td>99438049</td>\n",
       "    </tr>\n",
       "    <tr>\n",
       "      <th>h</th>\n",
       "      <td>93158669</td>\n",
       "    </tr>\n",
       "    <tr>\n",
       "      <th>n</th>\n",
       "      <td>88723326</td>\n",
       "    </tr>\n",
       "    <tr>\n",
       "      <th>i</th>\n",
       "      <td>81541616</td>\n",
       "    </tr>\n",
       "    <tr>\n",
       "      <th>d</th>\n",
       "      <td>81365133</td>\n",
       "    </tr>\n",
       "    <tr>\n",
       "      <th>s</th>\n",
       "      <td>78717020</td>\n",
       "    </tr>\n",
       "  </tbody>\n",
       "</table>\n",
       "</div>\n",
       "    <div class=\"colab-df-buttons\">\n",
       "\n",
       "  <div class=\"colab-df-container\">\n",
       "    <button class=\"colab-df-convert\" onclick=\"convertToInteractive('df-3873c882-0cd2-4b1f-8ffa-761c5081fad5')\"\n",
       "            title=\"Convert this dataframe to an interactive table.\"\n",
       "            style=\"display:none;\">\n",
       "\n",
       "  <svg xmlns=\"http://www.w3.org/2000/svg\" height=\"24px\" viewBox=\"0 -960 960 960\">\n",
       "    <path d=\"M120-120v-720h720v720H120Zm60-500h600v-160H180v160Zm220 220h160v-160H400v160Zm0 220h160v-160H400v160ZM180-400h160v-160H180v160Zm440 0h160v-160H620v160ZM180-180h160v-160H180v160Zm440 0h160v-160H620v160Z\"/>\n",
       "  </svg>\n",
       "    </button>\n",
       "\n",
       "  <style>\n",
       "    .colab-df-container {\n",
       "      display:flex;\n",
       "      gap: 12px;\n",
       "    }\n",
       "\n",
       "    .colab-df-convert {\n",
       "      background-color: #E8F0FE;\n",
       "      border: none;\n",
       "      border-radius: 50%;\n",
       "      cursor: pointer;\n",
       "      display: none;\n",
       "      fill: #1967D2;\n",
       "      height: 32px;\n",
       "      padding: 0 0 0 0;\n",
       "      width: 32px;\n",
       "    }\n",
       "\n",
       "    .colab-df-convert:hover {\n",
       "      background-color: #E2EBFA;\n",
       "      box-shadow: 0px 1px 2px rgba(60, 64, 67, 0.3), 0px 1px 3px 1px rgba(60, 64, 67, 0.15);\n",
       "      fill: #174EA6;\n",
       "    }\n",
       "\n",
       "    .colab-df-buttons div {\n",
       "      margin-bottom: 4px;\n",
       "    }\n",
       "\n",
       "    [theme=dark] .colab-df-convert {\n",
       "      background-color: #3B4455;\n",
       "      fill: #D2E3FC;\n",
       "    }\n",
       "\n",
       "    [theme=dark] .colab-df-convert:hover {\n",
       "      background-color: #434B5C;\n",
       "      box-shadow: 0px 1px 3px 1px rgba(0, 0, 0, 0.15);\n",
       "      filter: drop-shadow(0px 1px 2px rgba(0, 0, 0, 0.3));\n",
       "      fill: #FFFFFF;\n",
       "    }\n",
       "  </style>\n",
       "\n",
       "    <script>\n",
       "      const buttonEl =\n",
       "        document.querySelector('#df-3873c882-0cd2-4b1f-8ffa-761c5081fad5 button.colab-df-convert');\n",
       "      buttonEl.style.display =\n",
       "        google.colab.kernel.accessAllowed ? 'block' : 'none';\n",
       "\n",
       "      async function convertToInteractive(key) {\n",
       "        const element = document.querySelector('#df-3873c882-0cd2-4b1f-8ffa-761c5081fad5');\n",
       "        const dataTable =\n",
       "          await google.colab.kernel.invokeFunction('convertToInteractive',\n",
       "                                                    [key], {});\n",
       "        if (!dataTable) return;\n",
       "\n",
       "        const docLinkHtml = 'Like what you see? Visit the ' +\n",
       "          '<a target=\"_blank\" href=https://colab.research.google.com/notebooks/data_table.ipynb>data table notebook</a>'\n",
       "          + ' to learn more about interactive tables.';\n",
       "        element.innerHTML = '';\n",
       "        dataTable['output_type'] = 'display_data';\n",
       "        await google.colab.output.renderOutput(dataTable, element);\n",
       "        const docLink = document.createElement('div');\n",
       "        docLink.innerHTML = docLinkHtml;\n",
       "        element.appendChild(docLink);\n",
       "      }\n",
       "    </script>\n",
       "  </div>\n",
       "\n",
       "\n",
       "<div id=\"df-a13b8df9-c1e7-4adc-853f-6587cb4705dc\">\n",
       "  <button class=\"colab-df-quickchart\" onclick=\"quickchart('df-a13b8df9-c1e7-4adc-853f-6587cb4705dc')\"\n",
       "            title=\"Suggest charts\"\n",
       "            style=\"display:none;\">\n",
       "\n",
       "<svg xmlns=\"http://www.w3.org/2000/svg\" height=\"24px\"viewBox=\"0 0 24 24\"\n",
       "     width=\"24px\">\n",
       "    <g>\n",
       "        <path d=\"M19 3H5c-1.1 0-2 .9-2 2v14c0 1.1.9 2 2 2h14c1.1 0 2-.9 2-2V5c0-1.1-.9-2-2-2zM9 17H7v-7h2v7zm4 0h-2V7h2v10zm4 0h-2v-4h2v4z\"/>\n",
       "    </g>\n",
       "</svg>\n",
       "  </button>\n",
       "\n",
       "<style>\n",
       "  .colab-df-quickchart {\n",
       "      --bg-color: #E8F0FE;\n",
       "      --fill-color: #1967D2;\n",
       "      --hover-bg-color: #E2EBFA;\n",
       "      --hover-fill-color: #174EA6;\n",
       "      --disabled-fill-color: #AAA;\n",
       "      --disabled-bg-color: #DDD;\n",
       "  }\n",
       "\n",
       "  [theme=dark] .colab-df-quickchart {\n",
       "      --bg-color: #3B4455;\n",
       "      --fill-color: #D2E3FC;\n",
       "      --hover-bg-color: #434B5C;\n",
       "      --hover-fill-color: #FFFFFF;\n",
       "      --disabled-bg-color: #3B4455;\n",
       "      --disabled-fill-color: #666;\n",
       "  }\n",
       "\n",
       "  .colab-df-quickchart {\n",
       "    background-color: var(--bg-color);\n",
       "    border: none;\n",
       "    border-radius: 50%;\n",
       "    cursor: pointer;\n",
       "    display: none;\n",
       "    fill: var(--fill-color);\n",
       "    height: 32px;\n",
       "    padding: 0;\n",
       "    width: 32px;\n",
       "  }\n",
       "\n",
       "  .colab-df-quickchart:hover {\n",
       "    background-color: var(--hover-bg-color);\n",
       "    box-shadow: 0 1px 2px rgba(60, 64, 67, 0.3), 0 1px 3px 1px rgba(60, 64, 67, 0.15);\n",
       "    fill: var(--button-hover-fill-color);\n",
       "  }\n",
       "\n",
       "  .colab-df-quickchart-complete:disabled,\n",
       "  .colab-df-quickchart-complete:disabled:hover {\n",
       "    background-color: var(--disabled-bg-color);\n",
       "    fill: var(--disabled-fill-color);\n",
       "    box-shadow: none;\n",
       "  }\n",
       "\n",
       "  .colab-df-spinner {\n",
       "    border: 2px solid var(--fill-color);\n",
       "    border-color: transparent;\n",
       "    border-bottom-color: var(--fill-color);\n",
       "    animation:\n",
       "      spin 1s steps(1) infinite;\n",
       "  }\n",
       "\n",
       "  @keyframes spin {\n",
       "    0% {\n",
       "      border-color: transparent;\n",
       "      border-bottom-color: var(--fill-color);\n",
       "      border-left-color: var(--fill-color);\n",
       "    }\n",
       "    20% {\n",
       "      border-color: transparent;\n",
       "      border-left-color: var(--fill-color);\n",
       "      border-top-color: var(--fill-color);\n",
       "    }\n",
       "    30% {\n",
       "      border-color: transparent;\n",
       "      border-left-color: var(--fill-color);\n",
       "      border-top-color: var(--fill-color);\n",
       "      border-right-color: var(--fill-color);\n",
       "    }\n",
       "    40% {\n",
       "      border-color: transparent;\n",
       "      border-right-color: var(--fill-color);\n",
       "      border-top-color: var(--fill-color);\n",
       "    }\n",
       "    60% {\n",
       "      border-color: transparent;\n",
       "      border-right-color: var(--fill-color);\n",
       "    }\n",
       "    80% {\n",
       "      border-color: transparent;\n",
       "      border-right-color: var(--fill-color);\n",
       "      border-bottom-color: var(--fill-color);\n",
       "    }\n",
       "    90% {\n",
       "      border-color: transparent;\n",
       "      border-bottom-color: var(--fill-color);\n",
       "    }\n",
       "  }\n",
       "</style>\n",
       "\n",
       "  <script>\n",
       "    async function quickchart(key) {\n",
       "      const quickchartButtonEl =\n",
       "        document.querySelector('#' + key + ' button');\n",
       "      quickchartButtonEl.disabled = true;  // To prevent multiple clicks.\n",
       "      quickchartButtonEl.classList.add('colab-df-spinner');\n",
       "      try {\n",
       "        const charts = await google.colab.kernel.invokeFunction(\n",
       "            'suggestCharts', [key], {});\n",
       "      } catch (error) {\n",
       "        console.error('Error during call to suggestCharts:', error);\n",
       "      }\n",
       "      quickchartButtonEl.classList.remove('colab-df-spinner');\n",
       "      quickchartButtonEl.classList.add('colab-df-quickchart-complete');\n",
       "    }\n",
       "    (() => {\n",
       "      let quickchartButtonEl =\n",
       "        document.querySelector('#df-a13b8df9-c1e7-4adc-853f-6587cb4705dc button');\n",
       "      quickchartButtonEl.style.display =\n",
       "        google.colab.kernel.accessAllowed ? 'block' : 'none';\n",
       "    })();\n",
       "  </script>\n",
       "</div>\n",
       "    </div>\n",
       "  </div>\n"
      ],
      "text/plain": [
       "       count\n",
       "   364233176\n",
       "e  180782399\n",
       "a  127963378\n",
       "t  118625067\n",
       "o   99438049\n",
       "h   93158669\n",
       "n   88723326\n",
       "i   81541616\n",
       "d   81365133\n",
       "s   78717020"
      ]
     },
     "execution_count": 13,
     "metadata": {},
     "output_type": "execute_result"
    }
   ],
   "source": [
    "df_count_ch.sort_values('count', ascending=False).head(10)"
   ]
  },
  {
   "cell_type": "code",
   "execution_count": null,
   "metadata": {
    "colab": {
     "base_uri": "https://localhost:8080/",
     "height": 363
    },
    "id": "0Ie9q2IdAPZG",
    "outputId": "6afe5cd7-a5b8-46fc-e1b6-f55d310cdf76"
   },
   "outputs": [
    {
     "data": {
      "application/vnd.google.colaboratory.intrinsic+json": {
       "summary": "{\n  \"name\": \"df_count_ch\",\n  \"rows\": 10,\n  \"fields\": [\n    {\n      \"column\": \"count\",\n      \"properties\": {\n        \"dtype\": \"number\",\n        \"std\": 0,\n        \"min\": 1,\n        \"max\": 2,\n        \"num_unique_values\": 2,\n        \"samples\": [\n          1,\n          2\n        ],\n        \"semantic_type\": \"\",\n        \"description\": \"\"\n      }\n    }\n  ]\n}",
       "type": "dataframe"
      },
      "text/html": [
       "\n",
       "  <div id=\"df-8fe62e4a-a96e-4153-8816-7fd043a9dd6a\" class=\"colab-df-container\">\n",
       "    <div>\n",
       "<style scoped>\n",
       "    .dataframe tbody tr th:only-of-type {\n",
       "        vertical-align: middle;\n",
       "    }\n",
       "\n",
       "    .dataframe tbody tr th {\n",
       "        vertical-align: top;\n",
       "    }\n",
       "\n",
       "    .dataframe thead th {\n",
       "        text-align: right;\n",
       "    }\n",
       "</style>\n",
       "<table border=\"1\" class=\"dataframe\">\n",
       "  <thead>\n",
       "    <tr style=\"text-align: right;\">\n",
       "      <th></th>\n",
       "      <th>count</th>\n",
       "    </tr>\n",
       "  </thead>\n",
       "  <tbody>\n",
       "    <tr>\n",
       "      <th>š</th>\n",
       "      <td>2</td>\n",
       "    </tr>\n",
       "    <tr>\n",
       "      <th>@</th>\n",
       "      <td>2</td>\n",
       "    </tr>\n",
       "    <tr>\n",
       "      <th>É</th>\n",
       "      <td>2</td>\n",
       "    </tr>\n",
       "    <tr>\n",
       "      <th>|</th>\n",
       "      <td>1</td>\n",
       "    </tr>\n",
       "    <tr>\n",
       "      <th>Ñ</th>\n",
       "      <td>1</td>\n",
       "    </tr>\n",
       "    <tr>\n",
       "      <th>ƒ</th>\n",
       "      <td>1</td>\n",
       "    </tr>\n",
       "    <tr>\n",
       "      <th>î</th>\n",
       "      <td>1</td>\n",
       "    </tr>\n",
       "    <tr>\n",
       "      <th>®</th>\n",
       "      <td>1</td>\n",
       "    </tr>\n",
       "    <tr>\n",
       "      <th>µ</th>\n",
       "      <td>1</td>\n",
       "    </tr>\n",
       "    <tr>\n",
       "      <th>Ò</th>\n",
       "      <td>1</td>\n",
       "    </tr>\n",
       "  </tbody>\n",
       "</table>\n",
       "</div>\n",
       "    <div class=\"colab-df-buttons\">\n",
       "\n",
       "  <div class=\"colab-df-container\">\n",
       "    <button class=\"colab-df-convert\" onclick=\"convertToInteractive('df-8fe62e4a-a96e-4153-8816-7fd043a9dd6a')\"\n",
       "            title=\"Convert this dataframe to an interactive table.\"\n",
       "            style=\"display:none;\">\n",
       "\n",
       "  <svg xmlns=\"http://www.w3.org/2000/svg\" height=\"24px\" viewBox=\"0 -960 960 960\">\n",
       "    <path d=\"M120-120v-720h720v720H120Zm60-500h600v-160H180v160Zm220 220h160v-160H400v160Zm0 220h160v-160H400v160ZM180-400h160v-160H180v160Zm440 0h160v-160H620v160ZM180-180h160v-160H180v160Zm440 0h160v-160H620v160Z\"/>\n",
       "  </svg>\n",
       "    </button>\n",
       "\n",
       "  <style>\n",
       "    .colab-df-container {\n",
       "      display:flex;\n",
       "      gap: 12px;\n",
       "    }\n",
       "\n",
       "    .colab-df-convert {\n",
       "      background-color: #E8F0FE;\n",
       "      border: none;\n",
       "      border-radius: 50%;\n",
       "      cursor: pointer;\n",
       "      display: none;\n",
       "      fill: #1967D2;\n",
       "      height: 32px;\n",
       "      padding: 0 0 0 0;\n",
       "      width: 32px;\n",
       "    }\n",
       "\n",
       "    .colab-df-convert:hover {\n",
       "      background-color: #E2EBFA;\n",
       "      box-shadow: 0px 1px 2px rgba(60, 64, 67, 0.3), 0px 1px 3px 1px rgba(60, 64, 67, 0.15);\n",
       "      fill: #174EA6;\n",
       "    }\n",
       "\n",
       "    .colab-df-buttons div {\n",
       "      margin-bottom: 4px;\n",
       "    }\n",
       "\n",
       "    [theme=dark] .colab-df-convert {\n",
       "      background-color: #3B4455;\n",
       "      fill: #D2E3FC;\n",
       "    }\n",
       "\n",
       "    [theme=dark] .colab-df-convert:hover {\n",
       "      background-color: #434B5C;\n",
       "      box-shadow: 0px 1px 3px 1px rgba(0, 0, 0, 0.15);\n",
       "      filter: drop-shadow(0px 1px 2px rgba(0, 0, 0, 0.3));\n",
       "      fill: #FFFFFF;\n",
       "    }\n",
       "  </style>\n",
       "\n",
       "    <script>\n",
       "      const buttonEl =\n",
       "        document.querySelector('#df-8fe62e4a-a96e-4153-8816-7fd043a9dd6a button.colab-df-convert');\n",
       "      buttonEl.style.display =\n",
       "        google.colab.kernel.accessAllowed ? 'block' : 'none';\n",
       "\n",
       "      async function convertToInteractive(key) {\n",
       "        const element = document.querySelector('#df-8fe62e4a-a96e-4153-8816-7fd043a9dd6a');\n",
       "        const dataTable =\n",
       "          await google.colab.kernel.invokeFunction('convertToInteractive',\n",
       "                                                    [key], {});\n",
       "        if (!dataTable) return;\n",
       "\n",
       "        const docLinkHtml = 'Like what you see? Visit the ' +\n",
       "          '<a target=\"_blank\" href=https://colab.research.google.com/notebooks/data_table.ipynb>data table notebook</a>'\n",
       "          + ' to learn more about interactive tables.';\n",
       "        element.innerHTML = '';\n",
       "        dataTable['output_type'] = 'display_data';\n",
       "        await google.colab.output.renderOutput(dataTable, element);\n",
       "        const docLink = document.createElement('div');\n",
       "        docLink.innerHTML = docLinkHtml;\n",
       "        element.appendChild(docLink);\n",
       "      }\n",
       "    </script>\n",
       "  </div>\n",
       "\n",
       "\n",
       "<div id=\"df-69bbbd62-58ad-44d6-bb02-2a81f580187c\">\n",
       "  <button class=\"colab-df-quickchart\" onclick=\"quickchart('df-69bbbd62-58ad-44d6-bb02-2a81f580187c')\"\n",
       "            title=\"Suggest charts\"\n",
       "            style=\"display:none;\">\n",
       "\n",
       "<svg xmlns=\"http://www.w3.org/2000/svg\" height=\"24px\"viewBox=\"0 0 24 24\"\n",
       "     width=\"24px\">\n",
       "    <g>\n",
       "        <path d=\"M19 3H5c-1.1 0-2 .9-2 2v14c0 1.1.9 2 2 2h14c1.1 0 2-.9 2-2V5c0-1.1-.9-2-2-2zM9 17H7v-7h2v7zm4 0h-2V7h2v10zm4 0h-2v-4h2v4z\"/>\n",
       "    </g>\n",
       "</svg>\n",
       "  </button>\n",
       "\n",
       "<style>\n",
       "  .colab-df-quickchart {\n",
       "      --bg-color: #E8F0FE;\n",
       "      --fill-color: #1967D2;\n",
       "      --hover-bg-color: #E2EBFA;\n",
       "      --hover-fill-color: #174EA6;\n",
       "      --disabled-fill-color: #AAA;\n",
       "      --disabled-bg-color: #DDD;\n",
       "  }\n",
       "\n",
       "  [theme=dark] .colab-df-quickchart {\n",
       "      --bg-color: #3B4455;\n",
       "      --fill-color: #D2E3FC;\n",
       "      --hover-bg-color: #434B5C;\n",
       "      --hover-fill-color: #FFFFFF;\n",
       "      --disabled-bg-color: #3B4455;\n",
       "      --disabled-fill-color: #666;\n",
       "  }\n",
       "\n",
       "  .colab-df-quickchart {\n",
       "    background-color: var(--bg-color);\n",
       "    border: none;\n",
       "    border-radius: 50%;\n",
       "    cursor: pointer;\n",
       "    display: none;\n",
       "    fill: var(--fill-color);\n",
       "    height: 32px;\n",
       "    padding: 0;\n",
       "    width: 32px;\n",
       "  }\n",
       "\n",
       "  .colab-df-quickchart:hover {\n",
       "    background-color: var(--hover-bg-color);\n",
       "    box-shadow: 0 1px 2px rgba(60, 64, 67, 0.3), 0 1px 3px 1px rgba(60, 64, 67, 0.15);\n",
       "    fill: var(--button-hover-fill-color);\n",
       "  }\n",
       "\n",
       "  .colab-df-quickchart-complete:disabled,\n",
       "  .colab-df-quickchart-complete:disabled:hover {\n",
       "    background-color: var(--disabled-bg-color);\n",
       "    fill: var(--disabled-fill-color);\n",
       "    box-shadow: none;\n",
       "  }\n",
       "\n",
       "  .colab-df-spinner {\n",
       "    border: 2px solid var(--fill-color);\n",
       "    border-color: transparent;\n",
       "    border-bottom-color: var(--fill-color);\n",
       "    animation:\n",
       "      spin 1s steps(1) infinite;\n",
       "  }\n",
       "\n",
       "  @keyframes spin {\n",
       "    0% {\n",
       "      border-color: transparent;\n",
       "      border-bottom-color: var(--fill-color);\n",
       "      border-left-color: var(--fill-color);\n",
       "    }\n",
       "    20% {\n",
       "      border-color: transparent;\n",
       "      border-left-color: var(--fill-color);\n",
       "      border-top-color: var(--fill-color);\n",
       "    }\n",
       "    30% {\n",
       "      border-color: transparent;\n",
       "      border-left-color: var(--fill-color);\n",
       "      border-top-color: var(--fill-color);\n",
       "      border-right-color: var(--fill-color);\n",
       "    }\n",
       "    40% {\n",
       "      border-color: transparent;\n",
       "      border-right-color: var(--fill-color);\n",
       "      border-top-color: var(--fill-color);\n",
       "    }\n",
       "    60% {\n",
       "      border-color: transparent;\n",
       "      border-right-color: var(--fill-color);\n",
       "    }\n",
       "    80% {\n",
       "      border-color: transparent;\n",
       "      border-right-color: var(--fill-color);\n",
       "      border-bottom-color: var(--fill-color);\n",
       "    }\n",
       "    90% {\n",
       "      border-color: transparent;\n",
       "      border-bottom-color: var(--fill-color);\n",
       "    }\n",
       "  }\n",
       "</style>\n",
       "\n",
       "  <script>\n",
       "    async function quickchart(key) {\n",
       "      const quickchartButtonEl =\n",
       "        document.querySelector('#' + key + ' button');\n",
       "      quickchartButtonEl.disabled = true;  // To prevent multiple clicks.\n",
       "      quickchartButtonEl.classList.add('colab-df-spinner');\n",
       "      try {\n",
       "        const charts = await google.colab.kernel.invokeFunction(\n",
       "            'suggestCharts', [key], {});\n",
       "      } catch (error) {\n",
       "        console.error('Error during call to suggestCharts:', error);\n",
       "      }\n",
       "      quickchartButtonEl.classList.remove('colab-df-spinner');\n",
       "      quickchartButtonEl.classList.add('colab-df-quickchart-complete');\n",
       "    }\n",
       "    (() => {\n",
       "      let quickchartButtonEl =\n",
       "        document.querySelector('#df-69bbbd62-58ad-44d6-bb02-2a81f580187c button');\n",
       "      quickchartButtonEl.style.display =\n",
       "        google.colab.kernel.accessAllowed ? 'block' : 'none';\n",
       "    })();\n",
       "  </script>\n",
       "</div>\n",
       "    </div>\n",
       "  </div>\n"
      ],
      "text/plain": [
       "   count\n",
       "š      2\n",
       "@      2\n",
       "É      2\n",
       "|      1\n",
       "Ñ      1\n",
       "ƒ      1\n",
       "î      1\n",
       "®      1\n",
       "µ      1\n",
       "Ò      1"
      ]
     },
     "execution_count": 14,
     "metadata": {},
     "output_type": "execute_result"
    }
   ],
   "source": [
    "df_count_ch.sort_values('count', ascending=False).tail(10)"
   ]
  },
  {
   "cell_type": "code",
   "execution_count": null,
   "metadata": {
    "colab": {
     "base_uri": "https://localhost:8080/"
    },
    "id": "6VPdXjI8t1Qp",
    "outputId": "bfafd89e-5f55-4cf7-8221-1a5e6a96030a"
   },
   "outputs": [
    {
     "data": {
      "text/plain": [
       "0.19149115416605783"
      ]
     },
     "execution_count": 15,
     "metadata": {},
     "output_type": "execute_result"
    }
   ],
   "source": [
    "364233176/num_char # Space character"
   ]
  },
  {
   "cell_type": "code",
   "execution_count": null,
   "metadata": {
    "colab": {
     "base_uri": "https://localhost:8080/"
    },
    "id": "VEcLa7vt57Gn",
    "outputId": "81d16249-9acf-444b-e69a-f84d21162ba7"
   },
   "outputs": [
    {
     "data": {
      "text/plain": [
       "((7, 1), (4, 1), (2, 1))"
      ]
     },
     "execution_count": 16,
     "metadata": {},
     "output_type": "execute_result"
    }
   ],
   "source": [
    "df_count_ch[df_count_ch['count'] == 1].shape, df_count_ch[df_count_ch['count'] == 2].shape, df_count_ch[df_count_ch['count'] == 3].shape"
   ]
  },
  {
   "cell_type": "code",
   "execution_count": null,
   "metadata": {
    "colab": {
     "base_uri": "https://localhost:8080/"
    },
    "id": "h2tAeyPuGgGA",
    "outputId": "27d25335-a733-4398-d417-49948db8b9ca"
   },
   "outputs": [
    {
     "data": {
      "text/plain": [
       "(161, 1)"
      ]
     },
     "execution_count": 17,
     "metadata": {},
     "output_type": "execute_result"
    }
   ],
   "source": [
    "df_count_ch[df_count_ch['count'] > 3].shape"
   ]
  },
  {
   "cell_type": "code",
   "execution_count": null,
   "metadata": {
    "colab": {
     "base_uri": "https://localhost:8080/",
     "height": 607
    },
    "id": "-68JM1o1R2hw",
    "outputId": "46083da8-a498-4e2b-d00d-572e5dcced54"
   },
   "outputs": [
    {
     "data": {
      "image/png": "[encoded data removed]",
      "text/plain": [
       "<Figure size 1400x600 with 1 Axes>"
      ]
     },
     "metadata": {},
     "output_type": "display_data"
    }
   ],
   "source": [
    "import matplotlib.pyplot as plt\n",
    "import numpy as np\n",
    "\n",
    "df_sorted = df_count_ch.sort_values(by='count', ascending=False)\n",
    "\n",
    "plt.figure(figsize=(14, 6))\n",
    "plt.bar(range(len(df_sorted)), df_sorted['count'],\n",
    "        color='dodgerblue', alpha=0.7, width=0.8)\n",
    "\n",
    "plt.title('Token Frequency Distribution (Ranked)')\n",
    "plt.xlabel('Token Rank')\n",
    "plt.ylabel('Frequency')\n",
    "for rank in [0, 1, 2, -3, -2, -1]:\n",
    "    token = df_sorted.index[rank]\n",
    "    plt.text(range(df_sorted.shape[0])[rank], df_sorted['count'].iloc[rank], token  if rank!=0 else \"space\", ha='center', fontsize=8)\n",
    "\n",
    "plt.grid(axis='y', alpha=0.3)\n",
    "plt.tight_layout()\n",
    "plt.show()"
   ]
  },
  {
   "cell_type": "code",
   "execution_count": null,
   "metadata": {
    "colab": {
     "base_uri": "https://localhost:8080/",
     "height": 115
    },
    "id": "rbhsDrbqS9bs",
    "outputId": "b183236b-57c3-4a9d-caeb-4266b1f69476"
   },
   "outputs": [
    {
     "data": {
      "text/html": [
       "<div>\n",
       "<style scoped>\n",
       "    .dataframe tbody tr th:only-of-type {\n",
       "        vertical-align: middle;\n",
       "    }\n",
       "\n",
       "    .dataframe tbody tr th {\n",
       "        vertical-align: top;\n",
       "    }\n",
       "\n",
       "    .dataframe thead th {\n",
       "        text-align: right;\n",
       "    }\n",
       "</style>\n",
       "<table border=\"1\" class=\"dataframe\">\n",
       "  <thead>\n",
       "    <tr style=\"text-align: right;\">\n",
       "      <th></th>\n",
       "      <th>0</th>\n",
       "    </tr>\n",
       "  </thead>\n",
       "  <tbody>\n",
       "    <tr>\n",
       "      <th>count</th>\n",
       "      <td>0.998122</td>\n",
       "    </tr>\n",
       "  </tbody>\n",
       "</table>\n",
       "</div><br><label><b>dtype:</b> float64</label>"
      ],
      "text/plain": [
       "count    0.998122\n",
       "dtype: float64"
      ]
     },
     "execution_count": 62,
     "metadata": {},
     "output_type": "execute_result"
    }
   ],
   "source": [
    "df_sorted.iloc[:50].sum()/num_char"
   ]
  },
  {
   "cell_type": "code",
   "execution_count": null,
   "metadata": {
    "colab": {
     "base_uri": "https://localhost:8080/",
     "height": 607
    },
    "id": "3KfGafWkJMZY",
    "outputId": "76ee9122-3439-4ee5-f5ba-7008b020c90a"
   },
   "outputs": [
    {
     "data": {
      "image/png": "[encoded data removed]",
      "text/plain": [
       "<Figure size 1400x600 with 1 Axes>"
      ]
     },
     "metadata": {},
     "output_type": "display_data"
    }
   ],
   "source": [
    "import matplotlib.pyplot as plt\n",
    "import numpy as np\n",
    "\n",
    "df_sorted = df_count_ch.sort_values(by='count', ascending=False)\n",
    "\n",
    "plt.figure(figsize=(14, 6))\n",
    "plt.bar(range(len(df_sorted)), df_sorted['count'],\n",
    "        color='dodgerblue', alpha=0.7, width=0.8)\n",
    "\n",
    "plt.yscale('log')\n",
    "plt.title('Token Frequency Distribution (Ranked)')\n",
    "plt.xlabel('Token Rank')\n",
    "plt.ylabel('Frequency (log scale)')\n",
    "for rank in [0, 1, 2, -3, -2, -1]:\n",
    "    token = df_sorted.index[rank]\n",
    "    plt.text(range(df_sorted.shape[0])[rank], df_sorted['count'].iloc[rank], token  if rank!=0 else \"space\", ha='center', fontsize=8)\n",
    "\n",
    "plt.grid(axis='y', alpha=0.3)\n",
    "plt.tight_layout()\n",
    "plt.show()"
   ]
  },
  {
   "cell_type": "code",
   "execution_count": null,
   "metadata": {
    "colab": {
     "base_uri": "https://localhost:8080/",
     "height": 607
    },
    "id": "JS4rPJgVI1bt",
    "outputId": "7be3a1f9-06d0-46ad-d206-e9c75785e0e4"
   },
   "outputs": [
    {
     "data": {
      "image/png": "[encoded data removed]",
      "text/plain": [
       "<Figure size 800x600 with 1 Axes>"
      ]
     },
     "metadata": {},
     "output_type": "display_data"
    }
   ],
   "source": [
    "def gini_coefficient(array):\n",
    "    array = np.array(array, dtype=np.float64)\n",
    "    if np.any(array < 0):\n",
    "        array -= np.amin(array)\n",
    "    array += np.finfo(float).eps\n",
    "    array = np.sort(array)\n",
    "    n = len(array)\n",
    "    index = np.arange(1, n+1)\n",
    "    return float((np.sum((2 * index - n - 1) * array)) / (n * np.sum(array)))\n",
    "\n",
    "\n",
    "plt.figure(figsize=(8, 6))\n",
    "if len(df_count_ch) > 0:\n",
    "    bins = np.logspace(np.log10(df_count_ch['count'].min()),\n",
    "                     np.log10(df_count_ch['count'].max()),\n",
    "                     50)\n",
    "    plt.hist(df_count_ch['count'], bins=bins, edgecolor='black')\n",
    "    plt.xscale('log')\n",
    "    plt.title('Token Frequency Distribution (Log Scale)')\n",
    "    plt.xlabel('Frequency (log)')\n",
    "    plt.ylabel('Count')\n",
    "    plt.grid(True, which=\"both\", ls=\"--\")\n",
    "\n",
    "plt.tight_layout()\n",
    "plt.show()"
   ]
  },
  {
   "cell_type": "markdown",
   "metadata": {
    "id": "ImMTdt4w_CH3"
   },
   "source": [
    "### 🔵 **Word Level**"
   ]
  },
  {
   "cell_type": "code",
   "execution_count": null,
   "metadata": {
    "id": "Ca4_KWM6_U72"
   },
   "outputs": [],
   "source": [
    "df_count = pd.DataFrame.from_dict(token_counts, orient='index', columns=['count'])"
   ]
  },
  {
   "cell_type": "code",
   "execution_count": null,
   "metadata": {
    "colab": {
     "base_uri": "https://localhost:8080/"
    },
    "id": "_l4Srg1JYIGM",
    "outputId": "16b373e0-8204-4549-bf57-967900c6cfcd"
   },
   "outputs": [
    {
     "name": "stdout",
     "output_type": "stream",
     "text": [
      "Number of characters in train part:  1.902088781 Billion characters\n",
      "Number of tokens in train part:  439.039906 Million tokens\n",
      "Number of unique tokens in train part:  63577 tokens\n",
      "Number of unique character in train part:  174 characters\n",
      "On average, there are 897 characters in each story.: \n",
      "On average, there are 207 tokens in each story.\n",
      "The most common token is '.' with 36.459483 million occurrences.\n",
      "The mean token repetition count is 6905.\n",
      "The standard deviation of token repetition is 226804.\n",
      "The minimum token repetition count is 1.\n",
      "The 25th percentile of token repetition is 1.\n",
      "The median token repetition count is 3.\n",
      "The 75th percentile of token repetition is 24.\n",
      "The maximum token repetition count is 36459483.\n",
      "\n",
      "\u001b[1m📊 Text Dataset Statistics\u001b[0m\n",
      "--------------------------------------------------\n",
      "\u001b[1m• Characters:\u001b[0m 1.90 Billion\n",
      "\u001b[1m• Tokens:\u001b[0m 439.04 Million\n",
      "\u001b[1m• Unique Tokens:\u001b[0m 63,577\n",
      "\n",
      "\u001b[1m📝 Per-Story Averages:\u001b[0m\n",
      "  → Characters: 897\n",
      "  → Tokens: 207\n",
      "\n",
      "\u001b[1m🏆 Most Frequent Token:\u001b[0m\n",
      "  → '.' (36.46 million occurrences)\n",
      "\n",
      "\u001b[1m📈 Token Repetition Statistics:\u001b[0m\n",
      "  → Mean: 6905\n",
      "  → Std Dev: 226,804\n",
      "  → Min: 1\n",
      "  → 25th Percentile: 1\n",
      "  → Median: 3\n",
      "  → 75th Percentile: 24\n",
      "  → Max: 36,459,483\n",
      "--------------------------------------------------\n"
     ]
    }
   ],
   "source": [
    "print('Number of characters in train part: ', num_char/1e9, 'Billion characters')\n",
    "print('Number of tokens in train part: ', num_tok/1e6, 'Million tokens')\n",
    "print('Number of unique tokens in train part: ', len(token_counts), 'tokens')\n",
    "print('Number of unique character in train part: ', len(char_counts), 'characters')\n",
    "print(f'On average, there are {num_char//dataset_size} characters in each story.: ')\n",
    "print(f'On average, there are {num_tok//dataset_size} tokens in each story.')\n",
    "print(f\"The most common token is '{df_count[df_count['count'] == df_count['count'].values.max()].index.tolist()[0]}' \\\n",
    "with {df_count['count'].values.max()/1e6} million occurrences.\")\n",
    "des = df_count.describe()\n",
    "print(f\"The mean token repetition count is {int(des['count']['mean'])}.\")\n",
    "print(f\"The standard deviation of token repetition is {int(des['count']['std'])}.\")\n",
    "print(f\"The minimum token repetition count is {int(des['count']['min'])}.\")\n",
    "print(f\"The 25th percentile of token repetition is {int(des['count']['25%'])}.\")\n",
    "print(f\"The median token repetition count is {int(des['count']['50%'])}.\")\n",
    "print(f\"The 75th percentile of token repetition is {int(des['count']['75%'])}.\")\n",
    "print(f\"The maximum token repetition count is {int(des['count']['max'])}.\")\n",
    "\n",
    "\n",
    "print(\"\\n\\033[1m\" + \"📊 Text Dataset Statistics\" + \"\\033[0m\" + \"\\n\" + \"-\"*50)\n",
    "print(f\"\\033[1m• Characters:\\033[0m {num_char/1e9:.2f} Billion\")\n",
    "print(f\"\\033[1m• Tokens:\\033[0m {num_tok/1e6:.2f} Million\")\n",
    "print(f\"\\033[1m• Unique Tokens:\\033[0m {len(token_counts):,}\")\n",
    "print(\"\\n\\033[1m📝 Per-Story Averages:\\033[0m\")\n",
    "print(f\"  → Characters: {num_char//dataset_size:,}\")\n",
    "print(f\"  → Tokens: {num_tok//dataset_size:,}\")\n",
    "most_common_token = df_count[df_count['count'] == df_count['count'].max()].index[0]\n",
    "print(f\"\\n\\033[1m🏆 Most Frequent Token:\\033[0m\")\n",
    "print(f\"  → '{most_common_token}' ({df_count['count'].max()/1e6:.2f} million occurrences)\")\n",
    "print(\"\\n\\033[1m📈 Token Repetition Statistics:\\033[0m\")\n",
    "print(f\"  → Mean: {int(des['count']['mean'])}\")\n",
    "print(f\"  → Std Dev: {int(des['count']['std']):,}\")\n",
    "print(f\"  → Min: {int(des['count']['min']):,}\")\n",
    "print(f\"  → 25th Percentile: {int(des['count']['25%']):,}\")\n",
    "print(f\"  → Median: {int(des['count']['50%']):,}\")\n",
    "print(f\"  → 75th Percentile: {int(des['count']['75%']):,}\")\n",
    "print(f\"  → Max: {int(des['count']['max']):,}\")\n",
    "print(\"-\"*50)"
   ]
  },
  {
   "cell_type": "code",
   "execution_count": null,
   "metadata": {
    "colab": {
     "base_uri": "https://localhost:8080/",
     "height": 423
    },
    "id": "NsijK0SvWub-",
    "outputId": "c903c755-b3be-455d-cf83-4f0d39b7c766"
   },
   "outputs": [
    {
     "data": {
      "application/vnd.google.colaboratory.intrinsic+json": {
       "summary": "{\n  \"name\": \"df_count[df_count['count']==1]\",\n  \"rows\": 19834,\n  \"fields\": [\n    {\n      \"column\": \"count\",\n      \"properties\": {\n        \"dtype\": \"number\",\n        \"std\": 0,\n        \"min\": 1,\n        \"max\": 1,\n        \"num_unique_values\": 1,\n        \"samples\": [\n          1\n        ],\n        \"semantic_type\": \"\",\n        \"description\": \"\"\n      }\n    }\n  ]\n}",
       "type": "dataframe"
      },
      "text/html": [
       "\n",
       "  <div id=\"df-7c57972d-6448-46e5-8f13-cbeb7d4bd171\" class=\"colab-df-container\">\n",
       "    <div>\n",
       "<style scoped>\n",
       "    .dataframe tbody tr th:only-of-type {\n",
       "        vertical-align: middle;\n",
       "    }\n",
       "\n",
       "    .dataframe tbody tr th {\n",
       "        vertical-align: top;\n",
       "    }\n",
       "\n",
       "    .dataframe thead th {\n",
       "        text-align: right;\n",
       "    }\n",
       "</style>\n",
       "<table border=\"1\" class=\"dataframe\">\n",
       "  <thead>\n",
       "    <tr style=\"text-align: right;\">\n",
       "      <th></th>\n",
       "      <th>count</th>\n",
       "    </tr>\n",
       "  </thead>\n",
       "  <tbody>\n",
       "    <tr>\n",
       "      <th>meow-peat</th>\n",
       "      <td>1</td>\n",
       "    </tr>\n",
       "    <tr>\n",
       "      <th>scourging</th>\n",
       "      <td>1</td>\n",
       "    </tr>\n",
       "    <tr>\n",
       "      <th>awely</th>\n",
       "      <td>1</td>\n",
       "    </tr>\n",
       "    <tr>\n",
       "      <th>bondâ€”</th>\n",
       "      <td>1</td>\n",
       "    </tr>\n",
       "    <tr>\n",
       "      <th>scariness</th>\n",
       "      <td>1</td>\n",
       "    </tr>\n",
       "    <tr>\n",
       "      <th>...</th>\n",
       "      <td>...</td>\n",
       "    </tr>\n",
       "    <tr>\n",
       "      <th>musicianship</th>\n",
       "      <td>1</td>\n",
       "    </tr>\n",
       "    <tr>\n",
       "      <th>shuck</th>\n",
       "      <td>1</td>\n",
       "    </tr>\n",
       "    <tr>\n",
       "      <th>cannibal</th>\n",
       "      <td>1</td>\n",
       "    </tr>\n",
       "    <tr>\n",
       "      <th>becase</th>\n",
       "      <td>1</td>\n",
       "    </tr>\n",
       "    <tr>\n",
       "      <th>frostyâ€</th>\n",
       "      <td>1</td>\n",
       "    </tr>\n",
       "  </tbody>\n",
       "</table>\n",
       "<p>19834 rows × 1 columns</p>\n",
       "</div>\n",
       "    <div class=\"colab-df-buttons\">\n",
       "\n",
       "  <div class=\"colab-df-container\">\n",
       "    <button class=\"colab-df-convert\" onclick=\"convertToInteractive('df-7c57972d-6448-46e5-8f13-cbeb7d4bd171')\"\n",
       "            title=\"Convert this dataframe to an interactive table.\"\n",
       "            style=\"display:none;\">\n",
       "\n",
       "  <svg xmlns=\"http://www.w3.org/2000/svg\" height=\"24px\" viewBox=\"0 -960 960 960\">\n",
       "    <path d=\"M120-120v-720h720v720H120Zm60-500h600v-160H180v160Zm220 220h160v-160H400v160Zm0 220h160v-160H400v160ZM180-400h160v-160H180v160Zm440 0h160v-160H620v160ZM180-180h160v-160H180v160Zm440 0h160v-160H620v160Z\"/>\n",
       "  </svg>\n",
       "    </button>\n",
       "\n",
       "  <style>\n",
       "    .colab-df-container {\n",
       "      display:flex;\n",
       "      gap: 12px;\n",
       "    }\n",
       "\n",
       "    .colab-df-convert {\n",
       "      background-color: #E8F0FE;\n",
       "      border: none;\n",
       "      border-radius: 50%;\n",
       "      cursor: pointer;\n",
       "      display: none;\n",
       "      fill: #1967D2;\n",
       "      height: 32px;\n",
       "      padding: 0 0 0 0;\n",
       "      width: 32px;\n",
       "    }\n",
       "\n",
       "    .colab-df-convert:hover {\n",
       "      background-color: #E2EBFA;\n",
       "      box-shadow: 0px 1px 2px rgba(60, 64, 67, 0.3), 0px 1px 3px 1px rgba(60, 64, 67, 0.15);\n",
       "      fill: #174EA6;\n",
       "    }\n",
       "\n",
       "    .colab-df-buttons div {\n",
       "      margin-bottom: 4px;\n",
       "    }\n",
       "\n",
       "    [theme=dark] .colab-df-convert {\n",
       "      background-color: #3B4455;\n",
       "      fill: #D2E3FC;\n",
       "    }\n",
       "\n",
       "    [theme=dark] .colab-df-convert:hover {\n",
       "      background-color: #434B5C;\n",
       "      box-shadow: 0px 1px 3px 1px rgba(0, 0, 0, 0.15);\n",
       "      filter: drop-shadow(0px 1px 2px rgba(0, 0, 0, 0.3));\n",
       "      fill: #FFFFFF;\n",
       "    }\n",
       "  </style>\n",
       "\n",
       "    <script>\n",
       "      const buttonEl =\n",
       "        document.querySelector('#df-7c57972d-6448-46e5-8f13-cbeb7d4bd171 button.colab-df-convert');\n",
       "      buttonEl.style.display =\n",
       "        google.colab.kernel.accessAllowed ? 'block' : 'none';\n",
       "\n",
       "      async function convertToInteractive(key) {\n",
       "        const element = document.querySelector('#df-7c57972d-6448-46e5-8f13-cbeb7d4bd171');\n",
       "        const dataTable =\n",
       "          await google.colab.kernel.invokeFunction('convertToInteractive',\n",
       "                                                    [key], {});\n",
       "        if (!dataTable) return;\n",
       "\n",
       "        const docLinkHtml = 'Like what you see? Visit the ' +\n",
       "          '<a target=\"_blank\" href=https://colab.research.google.com/notebooks/data_table.ipynb>data table notebook</a>'\n",
       "          + ' to learn more about interactive tables.';\n",
       "        element.innerHTML = '';\n",
       "        dataTable['output_type'] = 'display_data';\n",
       "        await google.colab.output.renderOutput(dataTable, element);\n",
       "        const docLink = document.createElement('div');\n",
       "        docLink.innerHTML = docLinkHtml;\n",
       "        element.appendChild(docLink);\n",
       "      }\n",
       "    </script>\n",
       "  </div>\n",
       "\n",
       "\n",
       "<div id=\"df-7783059c-27ca-4055-811b-93b2df7886de\">\n",
       "  <button class=\"colab-df-quickchart\" onclick=\"quickchart('df-7783059c-27ca-4055-811b-93b2df7886de')\"\n",
       "            title=\"Suggest charts\"\n",
       "            style=\"display:none;\">\n",
       "\n",
       "<svg xmlns=\"http://www.w3.org/2000/svg\" height=\"24px\"viewBox=\"0 0 24 24\"\n",
       "     width=\"24px\">\n",
       "    <g>\n",
       "        <path d=\"M19 3H5c-1.1 0-2 .9-2 2v14c0 1.1.9 2 2 2h14c1.1 0 2-.9 2-2V5c0-1.1-.9-2-2-2zM9 17H7v-7h2v7zm4 0h-2V7h2v10zm4 0h-2v-4h2v4z\"/>\n",
       "    </g>\n",
       "</svg>\n",
       "  </button>\n",
       "\n",
       "<style>\n",
       "  .colab-df-quickchart {\n",
       "      --bg-color: #E8F0FE;\n",
       "      --fill-color: #1967D2;\n",
       "      --hover-bg-color: #E2EBFA;\n",
       "      --hover-fill-color: #174EA6;\n",
       "      --disabled-fill-color: #AAA;\n",
       "      --disabled-bg-color: #DDD;\n",
       "  }\n",
       "\n",
       "  [theme=dark] .colab-df-quickchart {\n",
       "      --bg-color: #3B4455;\n",
       "      --fill-color: #D2E3FC;\n",
       "      --hover-bg-color: #434B5C;\n",
       "      --hover-fill-color: #FFFFFF;\n",
       "      --disabled-bg-color: #3B4455;\n",
       "      --disabled-fill-color: #666;\n",
       "  }\n",
       "\n",
       "  .colab-df-quickchart {\n",
       "    background-color: var(--bg-color);\n",
       "    border: none;\n",
       "    border-radius: 50%;\n",
       "    cursor: pointer;\n",
       "    display: none;\n",
       "    fill: var(--fill-color);\n",
       "    height: 32px;\n",
       "    padding: 0;\n",
       "    width: 32px;\n",
       "  }\n",
       "\n",
       "  .colab-df-quickchart:hover {\n",
       "    background-color: var(--hover-bg-color);\n",
       "    box-shadow: 0 1px 2px rgba(60, 64, 67, 0.3), 0 1px 3px 1px rgba(60, 64, 67, 0.15);\n",
       "    fill: var(--button-hover-fill-color);\n",
       "  }\n",
       "\n",
       "  .colab-df-quickchart-complete:disabled,\n",
       "  .colab-df-quickchart-complete:disabled:hover {\n",
       "    background-color: var(--disabled-bg-color);\n",
       "    fill: var(--disabled-fill-color);\n",
       "    box-shadow: none;\n",
       "  }\n",
       "\n",
       "  .colab-df-spinner {\n",
       "    border: 2px solid var(--fill-color);\n",
       "    border-color: transparent;\n",
       "    border-bottom-color: var(--fill-color);\n",
       "    animation:\n",
       "      spin 1s steps(1) infinite;\n",
       "  }\n",
       "\n",
       "  @keyframes spin {\n",
       "    0% {\n",
       "      border-color: transparent;\n",
       "      border-bottom-color: var(--fill-color);\n",
       "      border-left-color: var(--fill-color);\n",
       "    }\n",
       "    20% {\n",
       "      border-color: transparent;\n",
       "      border-left-color: var(--fill-color);\n",
       "      border-top-color: var(--fill-color);\n",
       "    }\n",
       "    30% {\n",
       "      border-color: transparent;\n",
       "      border-left-color: var(--fill-color);\n",
       "      border-top-color: var(--fill-color);\n",
       "      border-right-color: var(--fill-color);\n",
       "    }\n",
       "    40% {\n",
       "      border-color: transparent;\n",
       "      border-right-color: var(--fill-color);\n",
       "      border-top-color: var(--fill-color);\n",
       "    }\n",
       "    60% {\n",
       "      border-color: transparent;\n",
       "      border-right-color: var(--fill-color);\n",
       "    }\n",
       "    80% {\n",
       "      border-color: transparent;\n",
       "      border-right-color: var(--fill-color);\n",
       "      border-bottom-color: var(--fill-color);\n",
       "    }\n",
       "    90% {\n",
       "      border-color: transparent;\n",
       "      border-bottom-color: var(--fill-color);\n",
       "    }\n",
       "  }\n",
       "</style>\n",
       "\n",
       "  <script>\n",
       "    async function quickchart(key) {\n",
       "      const quickchartButtonEl =\n",
       "        document.querySelector('#' + key + ' button');\n",
       "      quickchartButtonEl.disabled = true;  // To prevent multiple clicks.\n",
       "      quickchartButtonEl.classList.add('colab-df-spinner');\n",
       "      try {\n",
       "        const charts = await google.colab.kernel.invokeFunction(\n",
       "            'suggestCharts', [key], {});\n",
       "      } catch (error) {\n",
       "        console.error('Error during call to suggestCharts:', error);\n",
       "      }\n",
       "      quickchartButtonEl.classList.remove('colab-df-spinner');\n",
       "      quickchartButtonEl.classList.add('colab-df-quickchart-complete');\n",
       "    }\n",
       "    (() => {\n",
       "      let quickchartButtonEl =\n",
       "        document.querySelector('#df-7783059c-27ca-4055-811b-93b2df7886de button');\n",
       "      quickchartButtonEl.style.display =\n",
       "        google.colab.kernel.accessAllowed ? 'block' : 'none';\n",
       "    })();\n",
       "  </script>\n",
       "</div>\n",
       "    </div>\n",
       "  </div>\n"
      ],
      "text/plain": [
       "              count\n",
       "meow-peat         1\n",
       "scourging         1\n",
       "awely             1\n",
       "bondâ€”           1\n",
       "scariness         1\n",
       "...             ...\n",
       "musicianship      1\n",
       "shuck             1\n",
       "cannibal          1\n",
       "becase            1\n",
       "frostyâ€          1\n",
       "\n",
       "[19834 rows x 1 columns]"
      ]
     },
     "execution_count": 65,
     "metadata": {},
     "output_type": "execute_result"
    }
   ],
   "source": [
    "df_count[df_count['count']==1]"
   ]
  },
  {
   "cell_type": "code",
   "execution_count": null,
   "metadata": {
    "colab": {
     "base_uri": "https://localhost:8080/"
    },
    "id": "mvQkLat2W6sa",
    "outputId": "f1f7ac91-2fb7-4ab6-a1a3-305e4c72722f"
   },
   "outputs": [
    {
     "data": {
      "text/plain": [
       "0.00451758478647269"
      ]
     },
     "execution_count": 69,
     "metadata": {},
     "output_type": "execute_result"
    }
   ],
   "source": [
    "df_count[df_count['count']==1].shape[0]/(num_tok)*100"
   ]
  },
  {
   "cell_type": "code",
   "execution_count": null,
   "metadata": {
    "colab": {
     "base_uri": "https://localhost:8080/"
    },
    "id": "FaC5Kn2VXY5v",
    "outputId": "01f9353b-8101-4813-fe31-cbca53790ee0"
   },
   "outputs": [
    {
     "data": {
      "text/plain": [
       "0.3119681645878226"
      ]
     },
     "execution_count": 72,
     "metadata": {},
     "output_type": "execute_result"
    }
   ],
   "source": [
    "df_count[df_count['count']==1].shape[0]/df_count.shape[0]"
   ]
  },
  {
   "cell_type": "code",
   "execution_count": null,
   "metadata": {
    "colab": {
     "base_uri": "https://localhost:8080/"
    },
    "id": "p7U68x5CYsIX",
    "outputId": "be4e14ae-c864-43ee-e573-18582996edd2"
   },
   "outputs": [
    {
     "data": {
      "text/plain": [
       "0.04294005693883008"
      ]
     },
     "execution_count": 77,
     "metadata": {},
     "output_type": "execute_result"
    }
   ],
   "source": [
    "df_count[df_count['count']>6905].shape[0]/df_count.shape[0]"
   ]
  },
  {
   "cell_type": "code",
   "execution_count": null,
   "metadata": {
    "colab": {
     "base_uri": "https://localhost:8080/",
     "height": 885
    },
    "id": "ssMhQ4PrYttM",
    "outputId": "a026568a-f160-4699-92f9-946930815edb"
   },
   "outputs": [
    {
     "name": "stdout",
     "output_type": "stream",
     "text": [
      "\n",
      "🔝 Top 10 Tokens\n"
     ]
    },
    {
     "data": {
      "text/html": [
       "<style type=\"text/css\">\n",
       "#T_97cd9_row0_col0 {\n",
       "  background-color: #08306b;\n",
       "  color: #f1f1f1;\n",
       "}\n",
       "#T_97cd9_row1_col0 {\n",
       "  background-color: #81badb;\n",
       "  color: #000000;\n",
       "}\n",
       "#T_97cd9_row2_col0 {\n",
       "  background-color: #9dcae1;\n",
       "  color: #000000;\n",
       "}\n",
       "#T_97cd9_row3_col0 {\n",
       "  background-color: #a6cee4;\n",
       "  color: #000000;\n",
       "}\n",
       "#T_97cd9_row4_col0 {\n",
       "  background-color: #d2e3f3;\n",
       "  color: #000000;\n",
       "}\n",
       "#T_97cd9_row5_col0 {\n",
       "  background-color: #d9e8f5;\n",
       "  color: #000000;\n",
       "}\n",
       "#T_97cd9_row6_col0 {\n",
       "  background-color: #e7f1fa;\n",
       "  color: #000000;\n",
       "}\n",
       "#T_97cd9_row7_col0 {\n",
       "  background-color: #f2f7fd;\n",
       "  color: #000000;\n",
       "}\n",
       "#T_97cd9_row8_col0 {\n",
       "  background-color: #f3f8fe;\n",
       "  color: #000000;\n",
       "}\n",
       "#T_97cd9_row9_col0 {\n",
       "  background-color: #f7fbff;\n",
       "  color: #000000;\n",
       "}\n",
       "</style>\n",
       "<table id=\"T_97cd9\" class=\"dataframe\">\n",
       "  <thead>\n",
       "    <tr>\n",
       "      <th class=\"blank level0\" >&nbsp;</th>\n",
       "      <th id=\"T_97cd9_level0_col0\" class=\"col_heading level0 col0\" >count</th>\n",
       "    </tr>\n",
       "  </thead>\n",
       "  <tbody>\n",
       "    <tr>\n",
       "      <th id=\"T_97cd9_level0_row0\" class=\"row_heading level0 row0\" >.</th>\n",
       "      <td id=\"T_97cd9_row0_col0\" class=\"data row0 col0\" >36,459,483</td>\n",
       "    </tr>\n",
       "    <tr>\n",
       "      <th id=\"T_97cd9_level0_row1\" class=\"row_heading level0 row1\" >the</th>\n",
       "      <td id=\"T_97cd9_row1_col0\" class=\"data row1 col0\" >20,239,799</td>\n",
       "    </tr>\n",
       "    <tr>\n",
       "      <th id=\"T_97cd9_level0_row2\" class=\"row_heading level0 row2\" >and</th>\n",
       "      <td id=\"T_97cd9_row2_col0\" class=\"data row2 col0\" >18,112,895</td>\n",
       "    </tr>\n",
       "    <tr>\n",
       "      <th id=\"T_97cd9_level0_row3\" class=\"row_heading level0 row3\" >,</th>\n",
       "      <td id=\"T_97cd9_row3_col0\" class=\"data row3 col0\" >17,359,980</td>\n",
       "    </tr>\n",
       "    <tr>\n",
       "      <th id=\"T_97cd9_level0_row4\" class=\"row_heading level0 row4\" >to</th>\n",
       "      <td id=\"T_97cd9_row4_col0\" class=\"data row4 col0\" >12,648,384</td>\n",
       "    </tr>\n",
       "    <tr>\n",
       "      <th id=\"T_97cd9_level0_row5\" class=\"row_heading level0 row5\" >a</th>\n",
       "      <td id=\"T_97cd9_row5_col0\" class=\"data row5 col0\" >11,475,893</td>\n",
       "    </tr>\n",
       "    <tr>\n",
       "      <th id=\"T_97cd9_level0_row6\" class=\"row_heading level0 row6\" >was</th>\n",
       "      <td id=\"T_97cd9_row6_col0\" class=\"data row6 col0\" >9,436,658</td>\n",
       "    </tr>\n",
       "    <tr>\n",
       "      <th id=\"T_97cd9_level0_row7\" class=\"row_heading level0 row7\" >he</th>\n",
       "      <td id=\"T_97cd9_row7_col0\" class=\"data row7 col0\" >7,977,807</td>\n",
       "    </tr>\n",
       "    <tr>\n",
       "      <th id=\"T_97cd9_level0_row8\" class=\"row_heading level0 row8\" >she</th>\n",
       "      <td id=\"T_97cd9_row8_col0\" class=\"data row8 col0\" >7,710,551</td>\n",
       "    </tr>\n",
       "    <tr>\n",
       "      <th id=\"T_97cd9_level0_row9\" class=\"row_heading level0 row9\" >it</th>\n",
       "      <td id=\"T_97cd9_row9_col0\" class=\"data row9 col0\" >7,104,640</td>\n",
       "    </tr>\n",
       "  </tbody>\n",
       "</table>\n"
      ],
      "text/plain": [
       "<pandas.io.formats.style.Styler at 0x7890b116fa50>"
      ]
     },
     "metadata": {},
     "output_type": "display_data"
    },
    {
     "data": {
      "text/plain": [
       "<Figure size 1200x600 with 0 Axes>"
      ]
     },
     "metadata": {},
     "output_type": "display_data"
    },
    {
     "data": {
      "image/png": "[encoded data removed]",
      "text/plain": [
       "<Figure size 640x480 with 1 Axes>"
      ]
     },
     "metadata": {},
     "output_type": "display_data"
    }
   ],
   "source": [
    "print(\"\\n🔝 Top 10 Tokens\")\n",
    "top_10 = df_count.sort_values('count', ascending=False).head(10)\n",
    "display(top_10.style.format({'count': '{:,}'}).background_gradient(cmap='Blues'))\n",
    "\n",
    "plt.figure(figsize=(12, 6))\n",
    "top_10.plot(kind='barh', color='skyblue', edgecolor='darkblue')\n",
    "plt.title('Top 10 Most Frequent Tokens', fontsize=14, pad=20)\n",
    "plt.xlabel('Frequency Count', fontsize=12)\n",
    "plt.ylabel('Token', fontsize=12)\n",
    "plt.gca().invert_yaxis()\n",
    "plt.grid(axis='x', linestyle='--', alpha=0.7)\n",
    "plt.tight_layout()\n",
    "plt.show()"
   ]
  },
  {
   "cell_type": "code",
   "execution_count": null,
   "metadata": {
    "colab": {
     "base_uri": "https://localhost:8080/",
     "height": 115
    },
    "id": "4qO3lOZFaLkD",
    "outputId": "240eb1a1-05a4-47ba-9e93-77b0b2ba724d"
   },
   "outputs": [
    {
     "data": {
      "text/html": [
       "<div>\n",
       "<style scoped>\n",
       "    .dataframe tbody tr th:only-of-type {\n",
       "        vertical-align: middle;\n",
       "    }\n",
       "\n",
       "    .dataframe tbody tr th {\n",
       "        vertical-align: top;\n",
       "    }\n",
       "\n",
       "    .dataframe thead th {\n",
       "        text-align: right;\n",
       "    }\n",
       "</style>\n",
       "<table border=\"1\" class=\"dataframe\">\n",
       "  <thead>\n",
       "    <tr style=\"text-align: right;\">\n",
       "      <th></th>\n",
       "      <th>count</th>\n",
       "    </tr>\n",
       "  </thead>\n",
       "  <tbody>\n",
       "    <tr>\n",
       "      <th>.</th>\n",
       "      <td>0.083044</td>\n",
       "    </tr>\n",
       "  </tbody>\n",
       "</table>\n",
       "</div><br><label><b>dtype:</b> float64</label>"
      ],
      "text/plain": [
       ".    0.083044\n",
       "Name: count, dtype: float64"
      ]
     },
     "execution_count": 80,
     "metadata": {},
     "output_type": "execute_result"
    }
   ],
   "source": [
    "df_count[df_count.index == '.']['count']/num_tok"
   ]
  },
  {
   "cell_type": "code",
   "execution_count": null,
   "metadata": {
    "colab": {
     "base_uri": "https://localhost:8080/",
     "height": 115
    },
    "id": "EhbA-QudbXxw",
    "outputId": "b32c1dc1-bd60-4d7c-b277-80ff007fd0b4"
   },
   "outputs": [
    {
     "data": {
      "text/html": [
       "<div>\n",
       "<style scoped>\n",
       "    .dataframe tbody tr th:only-of-type {\n",
       "        vertical-align: middle;\n",
       "    }\n",
       "\n",
       "    .dataframe tbody tr th {\n",
       "        vertical-align: top;\n",
       "    }\n",
       "\n",
       "    .dataframe thead th {\n",
       "        text-align: right;\n",
       "    }\n",
       "</style>\n",
       "<table border=\"1\" class=\"dataframe\">\n",
       "  <thead>\n",
       "    <tr style=\"text-align: right;\">\n",
       "      <th></th>\n",
       "      <th>0</th>\n",
       "    </tr>\n",
       "  </thead>\n",
       "  <tbody>\n",
       "    <tr>\n",
       "      <th>count</th>\n",
       "      <td>0.338297</td>\n",
       "    </tr>\n",
       "  </tbody>\n",
       "</table>\n",
       "</div><br><label><b>dtype:</b> float64</label>"
      ],
      "text/plain": [
       "count    0.338297\n",
       "dtype: float64"
      ]
     },
     "execution_count": 85,
     "metadata": {},
     "output_type": "execute_result"
    }
   ],
   "source": [
    "top_10.sum()/num_tok"
   ]
  },
  {
   "cell_type": "code",
   "execution_count": null,
   "metadata": {
    "colab": {
     "base_uri": "https://localhost:8080/",
     "height": 115
    },
    "id": "99GNwluDb_Qn",
    "outputId": "9d7ed479-3021-4880-e612-58a885e17b8e"
   },
   "outputs": [
    {
     "data": {
      "text/html": [
       "<div>\n",
       "<style scoped>\n",
       "    .dataframe tbody tr th:only-of-type {\n",
       "        vertical-align: middle;\n",
       "    }\n",
       "\n",
       "    .dataframe tbody tr th {\n",
       "        vertical-align: top;\n",
       "    }\n",
       "\n",
       "    .dataframe thead th {\n",
       "        text-align: right;\n",
       "    }\n",
       "</style>\n",
       "<table border=\"1\" class=\"dataframe\">\n",
       "  <thead>\n",
       "    <tr style=\"text-align: right;\">\n",
       "      <th></th>\n",
       "      <th>0</th>\n",
       "    </tr>\n",
       "  </thead>\n",
       "  <tbody>\n",
       "    <tr>\n",
       "      <th>count</th>\n",
       "      <td>0.505558</td>\n",
       "    </tr>\n",
       "  </tbody>\n",
       "</table>\n",
       "</div><br><label><b>dtype:</b> float64</label>"
      ],
      "text/plain": [
       "count    0.505558\n",
       "dtype: float64"
      ]
     },
     "execution_count": 95,
     "metadata": {},
     "output_type": "execute_result"
    }
   ],
   "source": [
    "df_count.sort_values('count', ascending=False).head(35).sum()/num_tok"
   ]
  },
  {
   "cell_type": "code",
   "execution_count": null,
   "metadata": {
    "colab": {
     "base_uri": "https://localhost:8080/",
     "height": 885
    },
    "id": "wPM3sOlPBF8r",
    "outputId": "bb863675-2748-4d8a-a9e1-b3b8a3e0338e"
   },
   "outputs": [
    {
     "name": "stdout",
     "output_type": "stream",
     "text": [
      "\n",
      "🔝 Least Frequent 10 Tokens\n"
     ]
    },
    {
     "data": {
      "text/html": [
       "<style type=\"text/css\">\n",
       "#T_916b5_row0_col0, #T_916b5_row1_col0, #T_916b5_row2_col0, #T_916b5_row3_col0, #T_916b5_row4_col0, #T_916b5_row5_col0, #T_916b5_row6_col0, #T_916b5_row7_col0, #T_916b5_row8_col0, #T_916b5_row9_col0 {\n",
       "  background-color: #f7fbff;\n",
       "  color: #000000;\n",
       "}\n",
       "</style>\n",
       "<table id=\"T_916b5\" class=\"dataframe\">\n",
       "  <thead>\n",
       "    <tr>\n",
       "      <th class=\"blank level0\" >&nbsp;</th>\n",
       "      <th id=\"T_916b5_level0_col0\" class=\"col_heading level0 col0\" >count</th>\n",
       "    </tr>\n",
       "  </thead>\n",
       "  <tbody>\n",
       "    <tr>\n",
       "      <th id=\"T_916b5_level0_row0\" class=\"row_heading level0 row0\" >sealâ€</th>\n",
       "      <td id=\"T_916b5_row0_col0\" class=\"data row0 col0\" >1</td>\n",
       "    </tr>\n",
       "    <tr>\n",
       "      <th id=\"T_916b5_level0_row1\" class=\"row_heading level0 row1\" >sourceâ€”two</th>\n",
       "      <td id=\"T_916b5_row1_col0\" class=\"data row1 col0\" >1</td>\n",
       "    </tr>\n",
       "    <tr>\n",
       "      <th id=\"T_916b5_level0_row2\" class=\"row_heading level0 row2\" >print-job</th>\n",
       "      <td id=\"T_916b5_row2_col0\" class=\"data row2 col0\" >1</td>\n",
       "    </tr>\n",
       "    <tr>\n",
       "      <th id=\"T_916b5_level0_row3\" class=\"row_heading level0 row3\" >harmonising</th>\n",
       "      <td id=\"T_916b5_row3_col0\" class=\"data row3 col0\" >1</td>\n",
       "    </tr>\n",
       "    <tr>\n",
       "      <th id=\"T_916b5_level0_row4\" class=\"row_heading level0 row4\" >deperate</th>\n",
       "      <td id=\"T_916b5_row4_col0\" class=\"data row4 col0\" >1</td>\n",
       "    </tr>\n",
       "    <tr>\n",
       "      <th id=\"T_916b5_level0_row5\" class=\"row_heading level0 row5\" >dog-toed</th>\n",
       "      <td id=\"T_916b5_row5_col0\" class=\"data row5 col0\" >1</td>\n",
       "    </tr>\n",
       "    <tr>\n",
       "      <th id=\"T_916b5_level0_row6\" class=\"row_heading level0 row6\" >jumpt</th>\n",
       "      <td id=\"T_916b5_row6_col0\" class=\"data row6 col0\" >1</td>\n",
       "    </tr>\n",
       "    <tr>\n",
       "      <th id=\"T_916b5_level0_row7\" class=\"row_heading level0 row7\" >robot-shield</th>\n",
       "      <td id=\"T_916b5_row7_col0\" class=\"data row7 col0\" >1</td>\n",
       "    </tr>\n",
       "    <tr>\n",
       "      <th id=\"T_916b5_level0_row8\" class=\"row_heading level0 row8\" >leis</th>\n",
       "      <td id=\"T_916b5_row8_col0\" class=\"data row8 col0\" >1</td>\n",
       "    </tr>\n",
       "    <tr>\n",
       "      <th id=\"T_916b5_level0_row9\" class=\"row_heading level0 row9\" >thenâ€¦he</th>\n",
       "      <td id=\"T_916b5_row9_col0\" class=\"data row9 col0\" >1</td>\n",
       "    </tr>\n",
       "  </tbody>\n",
       "</table>\n"
      ],
      "text/plain": [
       "<pandas.io.formats.style.Styler at 0x7890b0ee55d0>"
      ]
     },
     "metadata": {},
     "output_type": "display_data"
    },
    {
     "data": {
      "text/plain": [
       "<Figure size 1200x600 with 0 Axes>"
      ]
     },
     "metadata": {},
     "output_type": "display_data"
    },
    {
     "data": {
      "image/png": "[encoded data removed]",
      "text/plain": [
       "<Figure size 640x480 with 1 Axes>"
      ]
     },
     "metadata": {},
     "output_type": "display_data"
    }
   ],
   "source": [
    "print(\"\\n🔝 Least Frequent 10 Tokens\")\n",
    "bottom_10 = df_count.sort_values('count', ascending=False).tail(10)\n",
    "display(bottom_10.style.format({'count': '{:,}'}).background_gradient(cmap='Blues'))\n",
    "\n",
    "plt.figure(figsize=(12, 6))\n",
    "bottom_10.plot(kind='barh', color='skyblue', edgecolor='darkblue')\n",
    "plt.title('Least Frequent 10 Most Frequent Tokens', fontsize=14, pad=20)\n",
    "plt.xlabel('Frequency Count', fontsize=12)\n",
    "plt.ylabel('Token', fontsize=12)\n",
    "plt.gca().invert_yaxis()\n",
    "plt.grid(axis='x', linestyle='--', alpha=0.7)\n",
    "plt.tight_layout()\n",
    "plt.show()"
   ]
  },
  {
   "cell_type": "code",
   "execution_count": null,
   "metadata": {
    "colab": {
     "base_uri": "https://localhost:8080/"
    },
    "id": "LuYdNvn4CCka",
    "outputId": "196113f5-5104-4412-ad84-20b353eb5dff"
   },
   "outputs": [
    {
     "data": {
      "text/plain": [
       "0.4534363022511938"
      ]
     },
     "execution_count": 87,
     "metadata": {},
     "output_type": "execute_result"
    }
   ],
   "source": [
    "num_spaces = df_count_ch[df_count_ch.index == ' '].values.item()\n",
    "num_spaces/(df_count.sum().values.item() + num_spaces)"
   ]
  },
  {
   "cell_type": "code",
   "execution_count": null,
   "metadata": {
    "colab": {
     "base_uri": "https://localhost:8080/",
     "height": 607
    },
    "id": "_14Mb3q_ZQ-c",
    "outputId": "758e79ec-fe86-491a-85d7-9e2ce85813d7"
   },
   "outputs": [
    {
     "data": {
      "image/png": "[encoded data removed]",
      "text/plain": [
       "<Figure size 800x600 with 1 Axes>"
      ]
     },
     "metadata": {},
     "output_type": "display_data"
    }
   ],
   "source": [
    "def gini_coefficient(array):\n",
    "    array = np.array(array, dtype=np.float64)\n",
    "    if np.any(array < 0):\n",
    "        array -= np.amin(array)\n",
    "    array += np.finfo(float).eps\n",
    "    array = np.sort(array)\n",
    "    n = len(array)\n",
    "    index = np.arange(1, n+1)\n",
    "    return float((np.sum((2 * index - n - 1) * array)) / (n * np.sum(array)))\n",
    "\n",
    "\n",
    "plt.figure(figsize=(8, 6))\n",
    "if len(df_count) > 0:\n",
    "    bins = np.logspace(np.log10(df_count['count'].min()),\n",
    "                     np.log10(df_count['count'].max()),\n",
    "                     50)\n",
    "    plt.hist(df_count['count'], bins=bins, edgecolor='black')\n",
    "    plt.xscale('log')\n",
    "    plt.title('Token Frequency Distribution (Log Scale)')\n",
    "    plt.xlabel('Frequency (log)')\n",
    "    plt.ylabel('Count')\n",
    "    plt.grid(True, which=\"both\", ls=\"--\")\n",
    "\n",
    "plt.tight_layout()\n",
    "plt.show()"
   ]
  },
  {
   "cell_type": "code",
   "execution_count": null,
   "metadata": {
    "colab": {
     "base_uri": "https://localhost:8080/",
     "height": 606
    },
    "id": "R-WpTB2UgNiD",
    "outputId": "b20aecde-dcb1-4065-be65-01e9d1fe108a"
   },
   "outputs": [
    {
     "data": {
      "image/png": "[encoded data removed]",
      "text/plain": [
       "<Figure size 1200x600 with 1 Axes>"
      ]
     },
     "metadata": {},
     "output_type": "display_data"
    }
   ],
   "source": [
    "plt.figure(figsize=(12, 6))\n",
    "values = list(token_counts.values()) if isinstance(token_counts, dict) else token_counts\n",
    "\n",
    "plt.boxplot(values,\n",
    "            vert=False,\n",
    "            patch_artist=True,\n",
    "            widths=0.7,\n",
    "            showfliers=True,\n",
    "            boxprops=dict(facecolor='#1f77b4', linewidth=2),\n",
    "            medianprops=dict(color='red', linewidth=2),\n",
    "            whiskerprops=dict(linewidth=2),\n",
    "            flierprops=dict(marker='o', markersize=5,\n",
    "                           markerfacecolor='#ff7f0e',\n",
    "                           markeredgecolor='#ff7f0e'))\n",
    "\n",
    "plt.xscale('log')\n",
    "plt.minorticks_on()\n",
    "plt.grid(which='both', axis='x', alpha=0.3)\n",
    "\n",
    "plt.title('Token Frequency Distribution (Log Scale)', pad=20)\n",
    "plt.xlabel('Frequency Count (log scale)')\n",
    "plt.ylabel('')\n",
    "\n",
    "plt.yticks([])\n",
    "\n",
    "stats = {\n",
    "    'Total Tokens': len(values),\n",
    "    'Max Frequency': np.max(values),\n",
    "    'Mean Frequency': round(np.mean(values)),\n",
    "    'Median Frequency': np.median(values),\n",
    "    'Min Frequency': np.min(values)\n",
    "}\n",
    "\n",
    "stats_text = \"\\n\".join([f\"{k}: {v:,}\" for k, v in stats.items()])\n",
    "plt.text(0.95, 0.95, stats_text,\n",
    "         transform=plt.gca().transAxes,\n",
    "         ha='right', va='top',\n",
    "         bbox=dict(facecolor='white', alpha=0.8))\n",
    "\n",
    "plt.text(0.95, 0.15, \"Note: X-axis is log-scaled\",\n",
    "         transform=plt.gca().transAxes,\n",
    "         ha='right', va='bottom',\n",
    "         fontsize=10,\n",
    "         bbox=dict(facecolor='white', alpha=0.5))\n",
    "\n",
    "plt.tight_layout()\n",
    "plt.show()"
   ]
  },
  {
   "cell_type": "code",
   "execution_count": null,
   "metadata": {
    "colab": {
     "base_uri": "https://localhost:8080/",
     "height": 606
    },
    "id": "GddTXPG9ggeA",
    "outputId": "ee0a80bb-383d-4ce7-f0ff-5fbe0cdb96ba"
   },
   "outputs": [
    {
     "data": {
      "image/png": "[encoded data removed]",
      "text/plain": [
       "<Figure size 1200x600 with 1 Axes>"
      ]
     },
     "metadata": {},
     "output_type": "display_data"
    }
   ],
   "source": [
    "import matplotlib.pyplot as plt\n",
    "import numpy as np\n",
    "import seaborn as sns\n",
    "\n",
    "plt.figure(figsize=(12, 6))\n",
    "\n",
    "values = np.array(list(token_counts.values()) if isinstance(token_counts, dict) else np.array(token_counts))\n",
    "values = values[values > 0]\n",
    "\n",
    "violin = sns.violinplot(x=values,\n",
    "                        orient='h',\n",
    "                        inner='quartile',\n",
    "                        color='#1f77b4',\n",
    "                        linewidth=2,\n",
    "                        cut=0)\n",
    "\n",
    "plt.xscale('log')\n",
    "plt.minorticks_on()\n",
    "plt.grid(which='both', axis='x', alpha=0.3)\n",
    "\n",
    "for i, l in enumerate(violin.lines[:3]):\n",
    "    l.set_color('red')\n",
    "    l.set_linewidth(2)\n",
    "    x_data = l.get_xdata()\n",
    "    y_data = l.get_ydata()\n",
    "    label_x = np.mean(x_data)\n",
    "    label_y = np.max(y_data) + 0.02\n",
    "    labels = ['Q1 (25%)', 'Median', 'Q3 (75%)']\n",
    "    plt.text(label_x,\n",
    "             label_y,\n",
    "             labels[i],\n",
    "             ha='center',\n",
    "             va='bottom',\n",
    "             color='black',\n",
    "             fontweight='bold',\n",
    "             fontsize=9,\n",
    "             bbox=dict(facecolor='white',\n",
    "                      alpha=0.8,\n",
    "                      boxstyle='round,pad=0.2',\n",
    "                      edgecolor='none'))\n",
    "\n",
    "plt.title('Token Frequency Distribution (Violin Plot with Log Scale)', pad=20)\n",
    "plt.xlabel('Frequency Count (log scale)')\n",
    "plt.ylabel('')\n",
    "\n",
    "plt.yticks([])\n",
    "\n",
    "stats = {\n",
    "    'Total Tokens': len(values),\n",
    "    'Max Frequency': np.max(values),\n",
    "    'Mean Frequency': round(np.mean(values)),\n",
    "    'Median Frequency': round(np.median(values)),\n",
    "    'Min Frequency': np.min(values)\n",
    "}\n",
    "\n",
    "stats_text = \"\\n\".join([f\"{k}: {v:,}\" for k, v in stats.items()])\n",
    "plt.text(0.95, 0.95, stats_text,\n",
    "         transform=plt.gca().transAxes,\n",
    "         ha='right', va='top',\n",
    "         bbox=dict(facecolor='white', alpha=0.8))\n",
    "\n",
    "plt.text(0.95, 0.15, \"Note: X-axis is log-scaled\\nViolin width shows density\",\n",
    "         transform=plt.gca().transAxes,\n",
    "         ha='right', va='bottom',\n",
    "         fontsize=10,\n",
    "         bbox=dict(facecolor='white', alpha=0.5))\n",
    "\n",
    "plt.tight_layout()\n",
    "plt.show()"
   ]
  },
  {
   "cell_type": "code",
   "execution_count": null,
   "metadata": {
    "id": "iXOdMY7ewd5m"
   },
   "outputs": [],
   "source": [
    "from scipy import stats"
   ]
  },
  {
   "cell_type": "code",
   "execution_count": null,
   "metadata": {
    "id": "uSFhUYQxjeLA"
   },
   "outputs": [],
   "source": [
    "dist_stats = {\n",
    "    'Skewness': stats.skew(values),\n",
    "    'Kurtosis': stats.kurtosis(values, fisher=False),\n",
    "    'Gini Coefficient': gini_coefficient(values),  # Use previously defined function\n",
    "    'Jarque-Bera Test': stats.jarque_bera(values)[1]  # p-value for normality\n",
    "}"
   ]
  },
  {
   "cell_type": "code",
   "execution_count": null,
   "metadata": {
    "colab": {
     "base_uri": "https://localhost:8080/"
    },
    "id": "SjgV_BzYkupP",
    "outputId": "a25d4e56-fb42-4084-90a7-db78db4231bc"
   },
   "outputs": [
    {
     "data": {
      "text/plain": [
       "{'Skewness': np.float64(100.60062638690111),\n",
       " 'Kurtosis': np.float64(13057.82681308101),\n",
       " 'Gini Coefficient': 0.9904332553646517,\n",
       " 'Jarque-Bera Test': np.float64(0.0)}"
      ]
     },
     "execution_count": 100,
     "metadata": {},
     "output_type": "execute_result"
    }
   ],
   "source": [
    "dist_stats"
   ]
  },
  {
   "cell_type": "markdown",
   "metadata": {
    "id": "dbNq5AqFnYoL"
   },
   "source": [
    "#### 📊 Statistical Analysis of Token Distribution\n",
    "\n",
    "## 1. Skewness (100.6)\n",
    "**Interpretation:** Extremely right-skewed distribution  \n",
    "\n",
    "**Indicates:**  \n",
    "✓ Vast majority of tokens have low frequency  \n",
    "✓ A handful of tokens appear extremely frequently  \n",
    "✓ Typical in natural language (few common words, many rare words)  \n",
    "\n",
    "---\n",
    "\n",
    "## 2. Kurtosis (13,057.8)\n",
    "**Interpretation:** Leptokurtic distribution with heavy tails  \n",
    "\n",
    "**Shows:**  \n",
    "✓ Sharp peak at lower frequencies  \n",
    "✓ Extreme outliers in higher frequencies  \n",
    "✓ Much more peaked than normal distribution  \n",
    "\n",
    "---\n",
    "\n",
    "## 3. Gini Coefficient (0.99)\n",
    "**Interpretation:** Extreme inequality in token frequency  \n",
    "\n",
    "**Means:**  \n",
    "✓ Nearly all frequency concentrated in very few tokens  \n",
    "✓ Similar to wealth distribution in unequal economies  \n",
    "✓ Typical range for text data: 0.7-0.99  \n",
    "\n",
    "---\n",
    "\n",
    "## 4. Jarque-Bera Test (p=0.0)\n",
    "**Interpretation:** Absolutely non-normal distribution  \n",
    "\n",
    "**Significance:**  \n",
    "✓ Rejects normality hypothesis with 100% confidence  \n",
    "✓ Requires non-parametric analysis methods  "
   ]
  },
  {
   "cell_type": "code",
   "execution_count": null,
   "metadata": {
    "id": "YST_CiAomjBB"
   },
   "outputs": [],
   "source": [
    "freq_tiers = {\n",
    "    'Hapax Legomena': sum(1 for x in values if x == 1),\n",
    "    'Dis Legomena': sum(1 for x in values if x == 2),\n",
    "    '>100 Occurrences': sum(1 for x in values if x > 100),\n",
    "    'Top 10% Tokens': np.percentile(values, 90)\n",
    "}"
   ]
  },
  {
   "cell_type": "code",
   "execution_count": null,
   "metadata": {
    "colab": {
     "base_uri": "https://localhost:8080/"
    },
    "id": "Va1WBL3jnx7E",
    "outputId": "ec946409-050c-4c86-93d1-f45e5bbb585c"
   },
   "outputs": [
    {
     "data": {
      "text/plain": [
       "{'Hapax Legomena': 19834,\n",
       " 'Dis Legomena': 9131,\n",
       " '>100 Occurrences': 10259,\n",
       " 'Top 10% Tokens': np.float64(508.40000000000146)}"
      ]
     },
     "execution_count": 50,
     "metadata": {},
     "output_type": "execute_result"
    }
   ],
   "source": [
    "freq_tiers"
   ]
  },
  {
   "cell_type": "markdown",
   "metadata": {
    "id": "r1wBxmpcoZUl"
   },
   "source": [
    "#### 📊 Token Distribution Statistical Analysis\n",
    "\n",
    "## 1. Hapax Legomena (19,834)\n",
    "**Interpretation:** Very high count of rare words  \n",
    "\n",
    "**Indicates:**  \n",
    "✓ Approximately 19,834 words appear only once  \n",
    "✓ Common characteristic in natural language data  \n",
    "✓ May need removal or grouping  \n",
    "\n",
    "---\n",
    "\n",
    "## 2. Dis Legomena (9,131)\n",
    "**Interpretation:** Words with minimal repetition  \n",
    "\n",
    "**Shows:**  \n",
    "✓ 9,131 words appear exactly twice  \n",
    "✓ Typically includes technical terms or names  \n",
    "✓ May require special modeling  \n",
    "\n",
    "---\n",
    "\n",
    "## 3. High-Frequency Tokens (>100 Occurrences: 10,259)\n",
    "**Interpretation:** Very common words  \n",
    "\n",
    "**Means:**  \n",
    "✓ 10,259 words with 100+ occurrences  \n",
    "✓ Likely contains stop words  \n",
    "✓ Foundation for statistical analysis  \n",
    "\n",
    "---\n",
    "\n",
    "## 4. Top 10% Threshold (508.4)\n",
    "**Interpretation:** Boundary between frequent/rare tokens  \n",
    "\n",
    "**Significance:**  \n",
    "✓ Minimum frequency to be in top 10%  \n",
    "✓ Useful for identifying key terms  \n",
    "✓ Optimal cutoff point for vocabulary pruning  "
   ]
  },
  {
   "cell_type": "code",
   "execution_count": null,
   "metadata": {
    "id": "CGdUlb0onzlc"
   },
   "outputs": [],
   "source": [
    "quantiles = {\n",
    "    'IQR': np.percentile(values, 75) - np.percentile(values, 25),\n",
    "    'Deciles': np.percentile(values, np.arange(0, 101, 10)),\n",
    "    'Top/Bottom 1% Ratio': np.percentile(values, 99) / np.percentile(values, 1)\n",
    "}"
   ]
  },
  {
   "cell_type": "code",
   "execution_count": null,
   "metadata": {
    "colab": {
     "base_uri": "https://localhost:8080/"
    },
    "id": "RsspoWyyoj7-",
    "outputId": "5c196ae5-7921-41f5-8e5e-d4d79f481129"
   },
   "outputs": [
    {
     "data": {
      "text/plain": [
       "{'IQR': np.float64(23.0),\n",
       " 'Deciles': array([1.0000000e+00, 1.0000000e+00, 1.0000000e+00, 1.0000000e+00,\n",
       "        2.0000000e+00, 3.0000000e+00, 6.0000000e+00, 1.4000000e+01,\n",
       "        5.0000000e+01, 5.0840000e+02, 3.6459483e+07]),\n",
       " 'Top/Bottom 1% Ratio': np.float64(62408.15999999998)}"
      ]
     },
     "execution_count": 52,
     "metadata": {},
     "output_type": "execute_result"
    }
   ],
   "source": [
    "quantiles"
   ]
  },
  {
   "cell_type": "markdown",
   "metadata": {
    "id": "j1Tqp10xpGYw"
   },
   "source": [
    "#### 📊 Token Spread Analysis\n",
    "\n",
    "## 1. Interquartile Range (IQR: 23.0)\n",
    "**Interpretation:** Middle 50% token spread  \n",
    "\n",
    "**Indicates:**  \n",
    "✓ Only 23 occurrences between Q3 and Q1  \n",
    "✓ Tight concentration in low frequencies  \n",
    "✓ Most tokens appear very rarely  \n",
    "\n",
    "---\n",
    "\n",
    "## 2. Distribution Deciles\n",
    "**Interpretation:** Frequency cut points  \n",
    "\n",
    "**Key Values:**  \n",
    "✓ 1st-5th decile: 1-3 occurrences (lowest frequencies)  \n",
    "✓ 7th decile: 14 occurrences (70% threshold)  \n",
    "✓ 9th decile: 50 occurrences (90% threshold)  \n",
    "✓ 10th decile: 508.4 occurrences (top 10%)  \n",
    "\n",
    "---\n",
    "\n",
    "## 3. Top/Bottom 1% Ratio (62,408.16)\n",
    "**Interpretation:** Extreme frequency gap  \n",
    "\n",
    "**Significance:**  \n",
    "✓ 62,408x difference between extremes  \n",
    "✓ Clear power law distribution  \n",
    "✓ Requires specialized processing approaches  "
   ]
  },
  {
   "cell_type": "code",
   "execution_count": null,
   "metadata": {
    "id": "50vUNgvdolcb"
   },
   "outputs": [],
   "source": [
    "sorted_counts = np.sort(values)[::-1]\n",
    "cumulative = np.cumsum(sorted_counts)\n",
    "total = cumulative[-1]\n",
    "concentration = {\n",
    "    'Top 10% Tokens Share': cumulative[len(values)//10] / total,\n",
    "    'Top 100 Tokens Share': cumulative[100] / total if len(values) > 100 else 1,\n",
    "    'Herfindahl Index': sum((x/total)**2 for x in values)\n",
    "}"
   ]
  },
  {
   "cell_type": "code",
   "execution_count": null,
   "metadata": {
    "colab": {
     "base_uri": "https://localhost:8080/"
    },
    "id": "eHTUuwqCpPGO",
    "outputId": "36a4d21e-a714-4415-b585-a32a38c6bd80"
   },
   "outputs": [
    {
     "data": {
      "text/plain": [
       "{'Top 10% Tokens Share': np.float64(0.9967989447410277),\n",
       " 'Top 100 Tokens Share': np.float64(0.6609453059604108),\n",
       " 'Herfindahl Index': np.float64(0.016982138338046075)}"
      ]
     },
     "execution_count": 54,
     "metadata": {},
     "output_type": "execute_result"
    }
   ],
   "source": [
    "concentration"
   ]
  },
  {
   "cell_type": "markdown",
   "metadata": {
    "id": "5EmzIs_EqIgm"
   },
   "source": [
    "#### 📊 Token Concentration Analysis\n",
    "\n",
    "## 1. Top 10% Tokens Share (99.68%)\n",
    "**Interpretation:** Extreme concentration in few tokens  \n",
    "\n",
    "**Indicates:**  \n",
    "✓ 99.68% of all occurrences come from top 10% tokens  \n",
    "✓ Nearly all text volume generated by limited vocabulary  \n",
    "✓ Matches real-world language systems (Zipf's law)  \n",
    "\n",
    "---\n",
    "\n",
    "## 2. Top 100 Tokens Share (66.09%)\n",
    "**Interpretation:** Dominance of high-frequency tokens  \n",
    "\n",
    "**Shows:**  \n",
    "✓ Just 100 tokens account for 66% of all occurrences  \n",
    "✓ Likely includes conjunctions, prepositions and common words  \n",
    "✓ Stop word removal may be necessary  \n",
    "\n",
    "---\n",
    "\n",
    "## 3. Herfindahl Index (0.017)\n",
    "**Interpretation:** Moderate vocabulary concentration  \n",
    "\n",
    "**Scale:**  \n",
    "✓ 0 = Perfect equality  \n",
    "✓ 1 = Complete monopoly (Current: 0.017)  \n",
    "✓ Suggests several ultra-frequent tokens  "
   ]
  },
  {
   "cell_type": "code",
   "execution_count": null,
   "metadata": {
    "id": "MFGcqXs4pRGx"
   },
   "outputs": [],
   "source": [
    "stats_text = \" \".join([\n",
    "    f\"Skew: {dist_stats['Skewness']:.2f}\",\n",
    "    f\"Kurtosis: {dist_stats['Kurtosis']:.2f}\",\n",
    "    f\"Gini: {dist_stats['Gini Coefficient']:.3f}\",\n",
    "    f\"Normality (p): {dist_stats['Jarque-Bera Test']:.4f}\"\n",
    "])"
   ]
  },
  {
   "cell_type": "code",
   "execution_count": null,
   "metadata": {
    "colab": {
     "base_uri": "https://localhost:8080/",
     "height": 36
    },
    "id": "7I3BmZhzpeBX",
    "outputId": "347db433-b05e-4cb2-e3d4-b9c634c7d166"
   },
   "outputs": [
    {
     "data": {
      "application/vnd.google.colaboratory.intrinsic+json": {
       "type": "string"
      },
      "text/plain": [
       "'Skew: 100.60 Kurtosis: 13057.83 Gini: 0.990 Normality (p): 0.0000'"
      ]
     },
     "execution_count": 56,
     "metadata": {},
     "output_type": "execute_result"
    }
   ],
   "source": [
    "stats_text"
   ]
  },
  {
   "cell_type": "markdown",
   "metadata": {
    "id": "9nzBgWgpq8ux"
   },
   "source": [
    "#### 📊 Token Distribution Metrics Analysis\n",
    "\n",
    "## 1. Skewness (100.60)\n",
    "\n",
    "**Interpretation:** Extreme right-skew  \n",
    "**Key Insights:**  \n",
    "✓ Vast majority of tokens clustered at left  \n",
    "✓ Few ultra-high-frequency outliers  \n",
    "✓ Expected for text data (Zipfian distribution)  \n",
    "\n",
    "**Processing Impact:**  \n",
    "• Logarithmic transformation essential  \n",
    "• Outlier trimming recommended  \n",
    "\n",
    "---\n",
    "\n",
    "## 2. Kurtosis (13,057)\n",
    "**Interpretation:** Leptokurtic with heavy tails  \n",
    "**Characteristics:**  \n",
    "✓ Extreme concentration around small values  \n",
    "✓ Significant outliers in high range  \n",
    "✓ Impossible to model as normal distribution  \n",
    "\n",
    "**Solutions:**  \n",
    "• Robust statistical methods required  \n",
    "• Frequency-based data binning  \n",
    "\n",
    "---\n",
    "\n",
    "## 3. Gini Coefficient (0.990)\n",
    "\n",
    "**Interpretation:** Extreme frequency inequality  \n",
    "**Comparison:**  \n",
    "✓ Similar to wealth distribution in unequal economies  \n",
    "✓ Top 1% tokens likely account for 99% occurrences  \n",
    "\n",
    "**Recommendations:**  \n",
    "• Calculate exact top token share  \n",
    "• Evaluate normalization needs  \n",
    "\n",
    "---\n",
    "\n",
    "## 4. Normality Test (p=0.0000)\n",
    "**Interpretation:** Non-normal distribution  \n",
    "**Consequences:**  \n",
    "✓ Parametric tests invalid  \n",
    "✓ Requires non-parametric approaches:  \n",
    "• Kolmogorov-Smirnov test  \n",
    "• Bootstrap-based methods  "
   ]
  },
  {
   "cell_type": "code",
   "execution_count": null,
   "metadata": {
    "id": "r6y1d-04pr_Q"
   },
   "outputs": [],
   "source": [
    "_, p_lognorm = stats.kstest(values, 'lognorm', args=(1,))\n",
    "_, p_pareto = stats.kstest(values, 'pareto', args=(1,))\n",
    "\n",
    "fit_results = {\n",
    "    'Lognormal Fit (p-value)': p_lognorm,\n",
    "    'Pareto Fit (p-value)': p_pareto\n",
    "}"
   ]
  },
  {
   "cell_type": "code",
   "execution_count": null,
   "metadata": {
    "colab": {
     "base_uri": "https://localhost:8080/"
    },
    "id": "weO0l54dpsTY",
    "outputId": "c5b88f0a-f4da-4685-e10e-0ece22dbb34c"
   },
   "outputs": [
    {
     "data": {
      "text/plain": [
       "{'Lognormal Fit (p-value)': np.float64(0.0),\n",
       " 'Pareto Fit (p-value)': np.float64(0.0)}"
      ]
     },
     "execution_count": 58,
     "metadata": {},
     "output_type": "execute_result"
    }
   ],
   "source": [
    "fit_results"
   ]
  },
  {
   "cell_type": "markdown",
   "metadata": {
    "id": "RcFHUl58rsiw"
   },
   "source": [
    "#### 📊 Combined Distribution Fit Analysis (Lognormal & Pareto)\n",
    "**Test Results:**  \n",
    "- Lognormal Fit: `p = 0.0` ✗ (Rejected)  \n",
    "- Pareto Fit: `p = 0.0` ✗ (Rejected)  \n",
    "\n",
    "### Key Interpretations:\n",
    "1. **Lognormal Rejection** → Your data is **more skewed** than lognormal can model.  \n",
    "   - Typical for linguistic data (power law common)  \n",
    "   - Avoid: Geometric means, log-normal CI  \n",
    "\n",
    "2. **Pareto Rejection** → Your tails are **heavier** than standard Pareto.  \n",
    "   - Implies **extreme** token dominance (e.g., top 0.1% tokens control >90% frequency)  \n",
    "\n"
   ]
  },
  {
   "cell_type": "code",
   "execution_count": null,
   "metadata": {
    "colab": {
     "base_uri": "https://localhost:8080/",
     "height": 492
    },
    "id": "qR4YvljFtEhV",
    "outputId": "00a04b14-e1f0-45ba-dac8-0080610d58d2"
   },
   "outputs": [
    {
     "data": {
      "image/png": "[encoded data removed]",
      "text/plain": [
       "<Figure size 1000x500 with 1 Axes>"
      ]
     },
     "metadata": {},
     "output_type": "display_data"
    }
   ],
   "source": [
    "import matplotlib.pyplot as plt\n",
    "plt.figure(figsize=(10,5))\n",
    "plt.loglog(sorted(token_counts.values(), reverse=True))\n",
    "plt.title('Rank-Frequency Plot (Power Law Behavior)')\n",
    "plt.xlabel('Token Rank (log)')\n",
    "plt.ylabel('Frequency (log)')\n",
    "plt.grid(True)\n",
    "plt.show()"
   ]
  },
  {
   "cell_type": "code",
   "execution_count": null,
   "metadata": {
    "colab": {
     "base_uri": "https://localhost:8080/"
    },
    "id": "XobCuh32ufkM",
    "outputId": "3a3d177e-cdf6-489d-bd8a-d4a8deabee53"
   },
   "outputs": [
    {
     "name": "stdout",
     "output_type": "stream",
     "text": [
      "(α): 1.34\n"
     ]
    }
   ],
   "source": [
    "from scipy.stats import linregress\n",
    "ranks = np.arange(1, len(sorted_counts)+1)\n",
    "slope, _, _, _, _ = linregress(np.log(ranks[100:1000]),\n",
    "                             np.log(sorted_counts[100:1000]))\n",
    "print(f\"(α): {abs(slope):.2f}\")"
   ]
  },
  {
   "cell_type": "markdown",
   "metadata": {
    "id": "9DSfKGTPvQ27"
   },
   "source": [
    "#### 📊 Power Law Analysis: α=1.34\n",
    "\n",
    "## 1. Coefficient Interpretation\n",
    "\n",
    "**α=1.34** indicates:\n",
    "- **Typical range for natural language**: 1.0 < α < 2.0  \n",
    "- **Your value (1.34)**: Balanced but slightly more diverse than English (α≈1.1)  \n",
    "- **Key implications**:  \n",
    "  ✓ Top 10 tokens ≈ 42% of total frequency  \n",
    "  ✓ Top 100 tokens ≈ 67% of total frequency  \n",
    "  ✓ Less extreme dominance than α<1.2  \n"
   ]
  },
  {
   "cell_type": "markdown",
   "metadata": {
    "id": "ZjXg-sshWvMX"
   },
   "source": [
    "## 🔵 **Tokenize**"
   ]
  },
  {
   "cell_type": "code",
   "execution_count": 115,
   "metadata": {
    "id": "fFIa4jqjdn26"
   },
   "outputs": [],
   "source": [
    "model = models.BPE(unk_token = '[UNK]')\n",
    "tokenizer = Tokenizer(model = model)\n",
    "tokenizer.add_special_tokens(['[UNK]', '[CLS]', '[SEP]'])\n",
    "tokenizer.pre_tokenizer  = pre_tokenizers.ByteLevel(add_prefix_space=False)\n",
    "trainer = trainers.BpeTrainer(vocab_size = 20000, min_frequency = 0, show_progress = True, special_tokens = ['[UNK]', '[CLS]', '[SEP]'])\n",
    "tokenizer.post_processor = processors.TemplateProcessing(single=\"[CLS] $0 [SEP]\",\n",
    "                                                         special_tokens=[(\"[CLS]\", tokenizer.token_to_id(\"[CLS]\")), (\"[SEP]\", tokenizer.token_to_id(\"[SEP]\"))])\n",
    "\n",
    "tokenizer.decoder = decoders.ByteLevel(add_prefix_space=False)"
   ]
  },
  {
   "cell_type": "markdown",
   "metadata": {
    "id": "83AM46gZudOo"
   },
   "source": [
    "**⚡Train Tokenizer**"
   ]
  },
  {
   "cell_type": "code",
   "execution_count": null,
   "metadata": {
    "id": "R7QMzhrLd4QP"
   },
   "outputs": [],
   "source": [
    "tokenizer.train_from_iterator(train_dataset['text'], trainer)\n",
    "tokenizer.save('bpe_tokenizer.json')"
   ]
  },
  {
   "cell_type": "code",
   "execution_count": null,
   "metadata": {
    "colab": {
     "base_uri": "https://localhost:8080/",
     "height": 53
    },
    "id": "7daWTDbgkzKQ",
    "outputId": "9e466e90-a861-4c2a-acc9-c657d4a58bac"
   },
   "outputs": [
    {
     "data": {
      "application/vnd.google.colaboratory.intrinsic+json": {
       "type": "string"
      },
      "text/plain": [
       "'Spot. Spot saw the shiny car and said, \"Wow, Kitty, your car is so bright and clean!\" Kitty smiled and replied, \"Thank you, Spot. I polish it every day.\"\\n\\nAfter playing with the car, Kitty and Spot felt thirsty. They found a small pond with clear water. They drank the water and felt very happy. They played together all day and became best friends.'"
      ]
     },
     "execution_count": 111,
     "metadata": {},
     "output_type": "execute_result"
    }
   ],
   "source": [
    "sample = valid_dataset[0]['text']\n",
    "sample"
   ]
  },
  {
   "cell_type": "code",
   "execution_count": null,
   "metadata": {
    "colab": {
     "base_uri": "https://localhost:8080/"
    },
    "id": "Elebwc_RkdR2",
    "outputId": "6f2a77da-010e-44f0-d746-ece7a7844c1c"
   },
   "outputs": [
    {
     "data": {
      "text/plain": [
       "['[CLS]',\n",
       " 'Spot',\n",
       " '.',\n",
       " 'ĠSpot',\n",
       " 'Ġsaw',\n",
       " 'Ġthe',\n",
       " 'Ġshiny',\n",
       " 'Ġcar',\n",
       " 'Ġand',\n",
       " 'Ġsaid']"
      ]
     },
     "execution_count": 112,
     "metadata": {},
     "output_type": "execute_result"
    }
   ],
   "source": [
    "encoded_text = tokenizer.encode(sample)\n",
    "encoded_text.tokens[0:10]"
   ]
  },
  {
   "cell_type": "code",
   "execution_count": null,
   "metadata": {
    "colab": {
     "base_uri": "https://localhost:8080/",
     "height": 53
    },
    "id": "xhLCE5djlQl4",
    "outputId": "e50fa8ad-4659-42e5-c30a-dc75f7be75d8"
   },
   "outputs": [
    {
     "data": {
      "application/vnd.google.colaboratory.intrinsic+json": {
       "type": "string"
      },
      "text/plain": [
       "'Spot. Spot saw the shiny car and said, \"Wow, Kitty, your car is so bright and clean!\" Kitty smiled and replied, \"Thank you, Spot. I polish it every day.\"\\n\\nAfter playing with the car, Kitty and Spot felt thirsty. They found a small pond with clear water. They drank the water and felt very happy. They played together all day and became best friends.'"
      ]
     },
     "execution_count": 113,
     "metadata": {},
     "output_type": "execute_result"
    }
   ],
   "source": [
    "sample"
   ]
  },
  {
   "cell_type": "code",
   "execution_count": null,
   "metadata": {
    "colab": {
     "base_uri": "https://localhost:8080/",
     "height": 53
    },
    "id": "PGM5ytPikuq6",
    "outputId": "ebed748f-4919-4880-cf67-9d51abe85242"
   },
   "outputs": [
    {
     "data": {
      "application/vnd.google.colaboratory.intrinsic+json": {
       "type": "string"
      },
      "text/plain": [
       "'Spot. Spot saw the shiny car and said, \"Wow, Kitty, your car is so bright and clean!\" Kitty smiled and replied, \"Thank you, Spot. I polish it every day.\"\\n\\nAfter playing with the car, Kitty and Spot felt thirsty. They found a small pond with clear water. They drank the water and felt very happy. They played together all day and became best friends.'"
      ]
     },
     "execution_count": 114,
     "metadata": {},
     "output_type": "execute_result"
    }
   ],
   "source": [
    "tokenizer.decode(encoded_text.ids)"
   ]
  },
  {
   "cell_type": "code",
   "execution_count": 46,
   "metadata": {
    "colab": {
     "base_uri": "https://localhost:8080/",
     "height": 123
    },
    "id": "V2jQ_1MehIrb",
    "outputId": "ca19b65d-e16c-4b09-c9d1-e2e8b0410e8b"
   },
   "outputs": [
    {
     "data": {
      "application/vnd.google.colaboratory.intrinsic+json": {
       "type": "string"
      },
      "text/plain": [
       "'Spot. Spot saw the shiny car and said, \"Wow, Kitty, your car is so bright and clean!\" Kitty smiled and replied, \"Thank you, Spot. I polish it every day.\"\\n\\nAfter playing with the car, Kitty and Spot felt thirsty. They found a small pond with clear water. They drank the water and felt very happy. They played together all day and became best friends. Once upon a time, in a big forest, there lived a rhinoceros named Roxy. Roxy loved to climb. She climbed trees, rocks, and hills. One day, Roxy found an icy hill. She had never seen anything like it before. It was shiny and cold, and she wanted to climb it.\\n\\nRoxy tried to climb the icy hill, but it was very slippery. She tried again and again, but she kept falling down. Roxy was sad. She wanted to climb the icy hill so much. Then, she saw a little bird named Billy. Billy saw that Roxy was sad and asked, \"Why are you sad, Roxy?\"\\n\\nRoxy told Billy about the icy hill and how she couldn\\'t climb it. Billy said, \"I have an idea! Let\\'s find some big leaves to put under your feet. They will help you climb the icy hill.\" Roxy and Billy looked for big leaves and found some. Roxy put the leaves under her feet and tried to climb the icy hill again.\\n\\nThis time, Roxy didn\\'t slip. She climbed and climbed until she reached the top of the icy hill. Roxy was so happy! She and Billy played on the icy hill all day. From that day on, Roxy and Billy were the best of friends, and they climbed and played together all the time. And Roxy learned that with a little help from a friend, she could climb anything. Once upon a time, in a small yard, there was a small daisy. The daisy had a name. Her name was Daisy. Daisy was very small, but she was also very happy.\\n\\nOne day, Daisy saw a dog. The dog was big and had a name too. His name was Max. Max liked to play in the yard. Daisy liked to watch Max play. Max and Daisy became friends.\\n\\nEvery day, Max would come to the yard to play. Daisy would watch and smile. They were very happy together. And even though Daisy was small, she knew that she had a big friend in Max.'"
      ]
     },
     "execution_count": 46,
     "metadata": {},
     "output_type": "execute_result"
    }
   ],
   "source": [
    "sample = \" \".join(valid_dataset['text'][0:3])\n",
    "sample"
   ]
  },
  {
   "cell_type": "code",
   "execution_count": 47,
   "metadata": {
    "colab": {
     "base_uri": "https://localhost:8080/"
    },
    "id": "35k8a9Xeh3HZ",
    "outputId": "db270fab-19bf-4281-c1d7-520f0c2ec0d7"
   },
   "outputs": [
    {
     "data": {
      "text/plain": [
       "484"
      ]
     },
     "execution_count": 47,
     "metadata": {},
     "output_type": "execute_result"
    }
   ],
   "source": [
    "base_tokenizer = get_tokenizer('basic_english')\n",
    "len(base_tokenizer(sample))"
   ]
  },
  {
   "cell_type": "markdown",
   "metadata": {
    "id": "up1n97WISNoX"
   },
   "source": [
    "### 🔵 **tokenizer-20k**"
   ]
  },
  {
   "cell_type": "code",
   "execution_count": 116,
   "metadata": {
    "id": "kH3NYlVLSeZl"
   },
   "outputs": [],
   "source": [
    "tokenizer = tokenizer.from_file('/content/bpe_tokenizer-20k.json')"
   ]
  },
  {
   "cell_type": "code",
   "execution_count": 117,
   "metadata": {
    "colab": {
     "base_uri": "https://localhost:8080/"
    },
    "id": "bOGSKR6blN7L",
    "outputId": "6d0d1b90-9ad4-45bf-a98a-15a4e407df19"
   },
   "outputs": [
    {
     "data": {
      "text/plain": [
       "20000"
      ]
     },
     "execution_count": 117,
     "metadata": {},
     "output_type": "execute_result"
    }
   ],
   "source": [
    "len(tokenizer.get_vocab())"
   ]
  },
  {
   "cell_type": "code",
   "execution_count": 118,
   "metadata": {
    "colab": {
     "base_uri": "https://localhost:8080/"
    },
    "id": "ZFD9BK-E5rlR",
    "outputId": "d5791ebb-98a8-4373-8827-0c0120217d5b"
   },
   "outputs": [
    {
     "data": {
      "text/plain": [
       "['[UNK]', '[CLS]', '[SEP]', '!', '\"', '#', '$', '%', '&', \"'\", '(', ')', '*']"
      ]
     },
     "execution_count": 118,
     "metadata": {},
     "output_type": "execute_result"
    }
   ],
   "source": [
    "vocab = tokenizer.get_vocab()\n",
    "sorted_vocab = dict(sorted(vocab.items(), key = lambda item:item[1]))\n",
    "list(sorted_vocab.keys())[0:13]"
   ]
  },
  {
   "cell_type": "code",
   "execution_count": 119,
   "metadata": {
    "colab": {
     "base_uri": "https://localhost:8080/"
    },
    "id": "JOtPB8YQPny2",
    "outputId": "bd6b4f60-ca96-4f32-8c4e-62b7db221f3b"
   },
   "outputs": [
    {
     "data": {
      "text/plain": [
       "['Ġglancing',\n",
       " 'Ġlists',\n",
       " 'Ġuncles',\n",
       " 'ffled',\n",
       " 'Ġdisliked',\n",
       " 'Ġamusing',\n",
       " 'ĠRy',\n",
       " 'ĠRiya',\n",
       " 'Ġbaffled',\n",
       " 'ĠDoc',\n",
       " 'ĠDovey',\n",
       " 'sterious',\n",
       " 'shade',\n",
       " 'Ġshopped',\n",
       " 'Ġsquirting',\n",
       " 'ĠKiss',\n",
       " 'clear',\n",
       " 'Ġwelled',\n",
       " 'Ġcauses',\n",
       " 'ĠOxy']"
      ]
     },
     "execution_count": 119,
     "metadata": {},
     "output_type": "execute_result"
    }
   ],
   "source": [
    "list(sorted_vocab.keys())[-20:]"
   ]
  },
  {
   "cell_type": "code",
   "execution_count": 124,
   "metadata": {
    "colab": {
     "base_uri": "https://localhost:8080/"
    },
    "id": "jCq2Bp75yjTC",
    "outputId": "7bdfa660-ed7b-44b8-b567-79e4cdb9c533"
   },
   "outputs": [
    {
     "name": "stdout",
     "output_type": "stream",
     "text": [
      "encoding time: 2451.73 ± 1551.98 (μs)\n",
      "decoding time: 372.14 ± 431.7 (μs)\n"
     ]
    }
   ],
   "source": [
    "en = []\n",
    "de = []\n",
    "for i in range(10000):\n",
    "  en_s = time.time()\n",
    "  ids = tokenizer.encode(sample).ids\n",
    "  en.append(time.time() - en_s)\n",
    "  de_s = time.time()\n",
    "  tokenizer.decode(ids)\n",
    "  de.append(time.time() - de_s)\n",
    "\n",
    "print(f\"encoding time: {round(np.mean(en).item()*1e6, 2)} ± {round(np.std(en)*1e6, 2)} (μs)\")\n",
    "print(f\"decoding time: {round(np.mean(de).item()*1e6, 2)} ± {round(np.std(de)*1e6, 2)} (μs)\")"
   ]
  },
  {
   "cell_type": "markdown",
   "metadata": {
    "id": "EnnnYR-5TEYd"
   },
   "source": [
    "### 🔵 **tokenizer-10k**"
   ]
  },
  {
   "cell_type": "code",
   "execution_count": 125,
   "metadata": {
    "id": "F28W8c7NTEYe"
   },
   "outputs": [],
   "source": [
    "tokenizer = tokenizer.from_file('/content/bpe_tokenizer-10k.json')"
   ]
  },
  {
   "cell_type": "code",
   "execution_count": 126,
   "metadata": {
    "colab": {
     "base_uri": "https://localhost:8080/"
    },
    "id": "VA-qnpgaTEYe",
    "outputId": "0e3e1925-ed69-4a68-e40f-63b30b564ead"
   },
   "outputs": [
    {
     "data": {
      "text/plain": [
       "10000"
      ]
     },
     "execution_count": 126,
     "metadata": {},
     "output_type": "execute_result"
    }
   ],
   "source": [
    "len(tokenizer.get_vocab())"
   ]
  },
  {
   "cell_type": "code",
   "execution_count": 127,
   "metadata": {
    "colab": {
     "base_uri": "https://localhost:8080/"
    },
    "id": "ypindkhcTEYe",
    "outputId": "abe3f24e-4cd3-4f70-f1d8-bed22a32e25a"
   },
   "outputs": [
    {
     "data": {
      "text/plain": [
       "['[UNK]', '[CLS]', '[SEP]', '!', '\"', '#', '$', '%', '&', \"'\", '(', ')', '*']"
      ]
     },
     "execution_count": 127,
     "metadata": {},
     "output_type": "execute_result"
    }
   ],
   "source": [
    "vocab = tokenizer.get_vocab()\n",
    "sorted_vocab = dict(sorted(vocab.items(), key = lambda item:item[1]))\n",
    "list(sorted_vocab.keys())[0:13]"
   ]
  },
  {
   "cell_type": "code",
   "execution_count": 128,
   "metadata": {
    "colab": {
     "base_uri": "https://localhost:8080/"
    },
    "id": "mPxkcWFTTEYe",
    "outputId": "7d4014f0-84f5-40d0-9c33-1f2315648f10"
   },
   "outputs": [
    {
     "data": {
      "text/plain": [
       "['ĠCarol',\n",
       " 'Ġsnuggling',\n",
       " 'Ġplumber',\n",
       " 'Ġrestoring',\n",
       " 'Ġwinners',\n",
       " 'Ġpounding',\n",
       " 'ĠStanley',\n",
       " 'elve',\n",
       " 'Ġswoop',\n",
       " 'Ġfeathered',\n",
       " 'Ġorganised',\n",
       " 'Ġtaps',\n",
       " 'Ġfashionable',\n",
       " 'Ġstinky',\n",
       " 'Ġgorgeous',\n",
       " 'Ġrider',\n",
       " 'Ġdeserves',\n",
       " 'ĠPlay',\n",
       " 'Ġmacaroni',\n",
       " 'ĠNell']"
      ]
     },
     "execution_count": 128,
     "metadata": {},
     "output_type": "execute_result"
    }
   ],
   "source": [
    "list(sorted_vocab.keys())[-20:]"
   ]
  },
  {
   "cell_type": "code",
   "execution_count": 129,
   "metadata": {
    "colab": {
     "base_uri": "https://localhost:8080/"
    },
    "id": "GEeFfK--zSVT",
    "outputId": "6af853bd-b92e-42a6-913e-374270912ec9"
   },
   "outputs": [
    {
     "name": "stdout",
     "output_type": "stream",
     "text": [
      "encoding time: 2732.33 ± 2058.6 (μs)\n",
      "decoding time: 412.31 ± 706.5 (μs)\n"
     ]
    }
   ],
   "source": [
    "en = []\n",
    "de = []\n",
    "for i in range(10000):\n",
    "  en_s = time.time()\n",
    "  ids = tokenizer.encode(sample).ids\n",
    "  en.append(time.time() - en_s)\n",
    "  de_s = time.time()\n",
    "  tokenizer.decode(ids)\n",
    "  de.append(time.time() - de_s)\n",
    "\n",
    "print(f\"encoding time: {round(np.mean(en).item()*1e6, 2)} ± {round(np.std(en)*1e6, 2)} (μs)\")\n",
    "print(f\"decoding time: {round(np.mean(de).item()*1e6, 2)} ± {round(np.std(de)*1e6, 2)} (μs)\")"
   ]
  },
  {
   "cell_type": "markdown",
   "metadata": {
    "id": "kDokDSi0TFGh"
   },
   "source": [
    "### 🔵 **tokenizer-5k**"
   ]
  },
  {
   "cell_type": "code",
   "execution_count": 130,
   "metadata": {
    "id": "5VgKoAKDTFGi"
   },
   "outputs": [],
   "source": [
    "tokenizer = tokenizer.from_file('/content/bpe_tokenizer-5k.json')"
   ]
  },
  {
   "cell_type": "code",
   "execution_count": 131,
   "metadata": {
    "colab": {
     "base_uri": "https://localhost:8080/"
    },
    "id": "zPw8FmZVTFGi",
    "outputId": "b373e096-8b2c-4b2d-e430-eec9747b4227"
   },
   "outputs": [
    {
     "data": {
      "text/plain": [
       "5000"
      ]
     },
     "execution_count": 131,
     "metadata": {},
     "output_type": "execute_result"
    }
   ],
   "source": [
    "len(tokenizer.get_vocab())"
   ]
  },
  {
   "cell_type": "code",
   "execution_count": 132,
   "metadata": {
    "colab": {
     "base_uri": "https://localhost:8080/"
    },
    "id": "-OqUyixyTFGi",
    "outputId": "e58174a2-7555-4562-a5dd-c80c195ef173"
   },
   "outputs": [
    {
     "data": {
      "text/plain": [
       "['[UNK]', '[CLS]', '[SEP]', '!', '\"', '#', '$', '%', '&', \"'\", '(', ')', '*']"
      ]
     },
     "execution_count": 132,
     "metadata": {},
     "output_type": "execute_result"
    }
   ],
   "source": [
    "vocab = tokenizer.get_vocab()\n",
    "sorted_vocab = dict(sorted(vocab.items(), key = lambda item:item[1]))\n",
    "list(sorted_vocab.keys())[0:13]"
   ]
  },
  {
   "cell_type": "code",
   "execution_count": 133,
   "metadata": {
    "colab": {
     "base_uri": "https://localhost:8080/"
    },
    "id": "IZGIAqpiTFGi",
    "outputId": "9ef60107-06a7-493f-c25c-ee41db5f8a12"
   },
   "outputs": [
    {
     "data": {
      "text/plain": [
       "['Ġsneezed',\n",
       " 'Ġsport',\n",
       " 'Ġwizard',\n",
       " 'ĠEach',\n",
       " 'Ġupstairs',\n",
       " 'Ġthrilled',\n",
       " 'Ġprovide',\n",
       " 'Ġbrain',\n",
       " 'Ġawe',\n",
       " 'Ġdiscuss',\n",
       " 'Jake',\n",
       " 'Ġpanic',\n",
       " 'Ġwarning',\n",
       " 'Ġtwisted',\n",
       " 'Ġglowed',\n",
       " 'Ġuniverse',\n",
       " 'Ġfiref',\n",
       " 'Ġtherm',\n",
       " 'Ġvacation',\n",
       " 'Ġworse']"
      ]
     },
     "execution_count": 133,
     "metadata": {},
     "output_type": "execute_result"
    }
   ],
   "source": [
    "list(sorted_vocab.keys())[-20:]"
   ]
  },
  {
   "cell_type": "code",
   "execution_count": 134,
   "metadata": {
    "colab": {
     "base_uri": "https://localhost:8080/"
    },
    "id": "hp1PZxcrzVg_",
    "outputId": "8353c20e-9cf3-447f-9017-92d0c632c9da"
   },
   "outputs": [
    {
     "name": "stdout",
     "output_type": "stream",
     "text": [
      "encoding time: 1640.57 ± 547.28 (μs)\n",
      "decoding time: 247.08 ± 120.35 (μs)\n"
     ]
    }
   ],
   "source": [
    "en = []\n",
    "de = []\n",
    "for i in range(10000):\n",
    "  en_s = time.time()\n",
    "  ids = tokenizer.encode(sample).ids\n",
    "  en.append(time.time() - en_s)\n",
    "  de_s = time.time()\n",
    "  tokenizer.decode(ids)\n",
    "  de.append(time.time() - de_s)\n",
    "\n",
    "print(f\"encoding time: {round(np.mean(en).item()*1e6, 2)} ± {round(np.std(en)*1e6, 2)} (μs)\")\n",
    "print(f\"decoding time: {round(np.mean(de).item()*1e6, 2)} ± {round(np.std(de)*1e6, 2)} (μs)\")"
   ]
  },
  {
   "cell_type": "markdown",
   "metadata": {
    "id": "MrLtf8g0TFVj"
   },
   "source": [
    "### 🔵 **tokenizer-1k**"
   ]
  },
  {
   "cell_type": "code",
   "execution_count": 135,
   "metadata": {
    "id": "DC9d_j-CTFVj"
   },
   "outputs": [],
   "source": [
    "tokenizer = tokenizer.from_file('/content/bpe_tokenizer-1k.json')"
   ]
  },
  {
   "cell_type": "code",
   "execution_count": 136,
   "metadata": {
    "colab": {
     "base_uri": "https://localhost:8080/"
    },
    "id": "AOvFZPrLTFVk",
    "outputId": "dbccfa67-f7d9-4f41-b79d-db000f0d810a"
   },
   "outputs": [
    {
     "data": {
      "text/plain": [
       "1000"
      ]
     },
     "execution_count": 136,
     "metadata": {},
     "output_type": "execute_result"
    }
   ],
   "source": [
    "len(tokenizer.get_vocab())"
   ]
  },
  {
   "cell_type": "code",
   "execution_count": 137,
   "metadata": {
    "colab": {
     "base_uri": "https://localhost:8080/"
    },
    "id": "7bAmJUqXTFVk",
    "outputId": "b0072c72-555e-4b6d-b82d-a025fcac8d15"
   },
   "outputs": [
    {
     "data": {
      "text/plain": [
       "['[UNK]', '[CLS]', '[SEP]', '!', '\"', '#', '$', '%', '&', \"'\", '(', ')', '*']"
      ]
     },
     "execution_count": 137,
     "metadata": {},
     "output_type": "execute_result"
    }
   ],
   "source": [
    "vocab = tokenizer.get_vocab()\n",
    "sorted_vocab = dict(sorted(vocab.items(), key = lambda item:item[1]))\n",
    "list(sorted_vocab.keys())[0:13]"
   ]
  },
  {
   "cell_type": "code",
   "execution_count": 138,
   "metadata": {
    "colab": {
     "base_uri": "https://localhost:8080/"
    },
    "id": "IHkJsThKTFVk",
    "outputId": "9e333e2c-c257-417e-bb1a-a952c2df34a7"
   },
   "outputs": [
    {
     "data": {
      "text/plain": [
       "['Ġde',\n",
       " 'able',\n",
       " 'Ġimportant',\n",
       " 'Ġremember',\n",
       " 'Ġfish',\n",
       " 'llow',\n",
       " 'Ġsound',\n",
       " 'Ġslide',\n",
       " 'Ġus',\n",
       " 'maz',\n",
       " 'Ġreplied',\n",
       " 'Ġamaz',\n",
       " 'Ġac',\n",
       " 'lease',\n",
       " 'Ġwork',\n",
       " 'Ġwatch',\n",
       " 'Ġrain',\n",
       " 'Ġshowed',\n",
       " 'Ġrabbit',\n",
       " 'Ġokay']"
      ]
     },
     "execution_count": 138,
     "metadata": {},
     "output_type": "execute_result"
    }
   ],
   "source": [
    "list(sorted_vocab.keys())[-20:]"
   ]
  },
  {
   "cell_type": "code",
   "execution_count": 139,
   "metadata": {
    "colab": {
     "base_uri": "https://localhost:8080/"
    },
    "id": "x8BzJT-qzXjo",
    "outputId": "8da68bba-ba27-4f96-ee8e-28951bf64b24"
   },
   "outputs": [
    {
     "name": "stdout",
     "output_type": "stream",
     "text": [
      "encoding time: 1536.9 ± 483.66 (μs)\n",
      "decoding time: 297.79 ± 133.58 (μs)\n"
     ]
    }
   ],
   "source": [
    "en = []\n",
    "de = []\n",
    "for i in range(10000):\n",
    "  en_s = time.time()\n",
    "  ids = tokenizer.encode(sample).ids\n",
    "  en.append(time.time() - en_s)\n",
    "  de_s = time.time()\n",
    "  tokenizer.decode(ids)\n",
    "  de.append(time.time() - de_s)\n",
    "\n",
    "print(f\"encoding time: {round(np.mean(en).item()*1e6, 2)} ± {round(np.std(en)*1e6, 2)} (μs)\")\n",
    "print(f\"decoding time: {round(np.mean(de).item()*1e6, 2)} ± {round(np.std(de)*1e6, 2)} (μs)\")"
   ]
  },
  {
   "cell_type": "markdown",
   "metadata": {
    "id": "yM_xnUjzTFf3"
   },
   "source": [
    "### 🔵 **tokenizer-500**"
   ]
  },
  {
   "cell_type": "code",
   "execution_count": 140,
   "metadata": {
    "id": "k88ozLZwTFf3"
   },
   "outputs": [],
   "source": [
    "tokenizer = tokenizer.from_file('/content/bpe_tokenizer-500.json')"
   ]
  },
  {
   "cell_type": "code",
   "execution_count": 141,
   "metadata": {
    "colab": {
     "base_uri": "https://localhost:8080/"
    },
    "id": "aq_fV_sDTFf3",
    "outputId": "0754b24d-84bb-4394-adf8-0454b1b66d80"
   },
   "outputs": [
    {
     "data": {
      "text/plain": [
       "500"
      ]
     },
     "execution_count": 141,
     "metadata": {},
     "output_type": "execute_result"
    }
   ],
   "source": [
    "len(tokenizer.get_vocab())"
   ]
  },
  {
   "cell_type": "code",
   "execution_count": 142,
   "metadata": {
    "colab": {
     "base_uri": "https://localhost:8080/"
    },
    "id": "5fxSTbgATFf3",
    "outputId": "6171b1ae-e734-470d-be34-20e800f997c6"
   },
   "outputs": [
    {
     "data": {
      "text/plain": [
       "['[UNK]', '[CLS]', '[SEP]', '!', '\"', '#', '$', '%', '&', \"'\", '(', ')', '*']"
      ]
     },
     "execution_count": 142,
     "metadata": {},
     "output_type": "execute_result"
    }
   ],
   "source": [
    "vocab = tokenizer.get_vocab()\n",
    "sorted_vocab = dict(sorted(vocab.items(), key = lambda item:item[1]))\n",
    "list(sorted_vocab.keys())[0:13]"
   ]
  },
  {
   "cell_type": "code",
   "execution_count": 143,
   "metadata": {
    "colab": {
     "base_uri": "https://localhost:8080/"
    },
    "id": "DSZSoumeTFf3",
    "outputId": "eb9830b8-d79b-47e1-c6a1-d7e6795d49be"
   },
   "outputs": [
    {
     "data": {
      "text/plain": [
       "['Ġmu',\n",
       " 'ook',\n",
       " 'ach',\n",
       " 'Ġagain',\n",
       " 'Ġhome',\n",
       " 'Ġwhen',\n",
       " 'Ġgood',\n",
       " 'hat',\n",
       " 'ep',\n",
       " 'Ġwho',\n",
       " 'est',\n",
       " 'ried',\n",
       " 'Ġfound',\n",
       " 'Ġfl',\n",
       " 'Ġthen',\n",
       " 'Ġch',\n",
       " 'Ġdec',\n",
       " 'pped',\n",
       " 'Ġwal',\n",
       " 'as']"
      ]
     },
     "execution_count": 143,
     "metadata": {},
     "output_type": "execute_result"
    }
   ],
   "source": [
    "list(sorted_vocab.keys())[-20:]"
   ]
  },
  {
   "cell_type": "code",
   "execution_count": 144,
   "metadata": {
    "colab": {
     "base_uri": "https://localhost:8080/"
    },
    "id": "2tu3Z6TgzZa1",
    "outputId": "01ff5dd8-02f0-4335-a01f-7ceb69618bcb"
   },
   "outputs": [
    {
     "name": "stdout",
     "output_type": "stream",
     "text": [
      "encoding time: 1702.66 ± 569.67 (μs)\n",
      "decoding time: 348.4 ± 134.45 (μs)\n"
     ]
    }
   ],
   "source": [
    "en = []\n",
    "de = []\n",
    "for i in range(10000):\n",
    "  en_s = time.time()\n",
    "  ids = tokenizer.encode(sample).ids\n",
    "  en.append(time.time() - en_s)\n",
    "  de_s = time.time()\n",
    "  tokenizer.decode(ids)\n",
    "  de.append(time.time() - de_s)\n",
    "\n",
    "print(f\"encoding time: {round(np.mean(en).item()*1e6, 2)} ± {round(np.std(en)*1e6, 2)} (μs)\")\n",
    "print(f\"decoding time: {round(np.mean(de).item()*1e6, 2)} ± {round(np.std(de)*1e6, 2)} (μs)\")"
   ]
  },
  {
   "cell_type": "markdown",
   "metadata": {
    "id": "5_7Cf_WoBerl"
   },
   "source": [
    "### 🔵 **Pretrained-Tokenizer**"
   ]
  },
  {
   "cell_type": "markdown",
   "metadata": {
    "id": "6PvK9hbwg2rQ"
   },
   "source": [
    "#### 🔵 **Bert**"
   ]
  },
  {
   "cell_type": "code",
   "execution_count": 48,
   "metadata": {
    "colab": {
     "base_uri": "https://localhost:8080/"
    },
    "id": "eyhKmyxBBePN",
    "outputId": "d031aeb9-db34-43ff-aa43-16fefb0795b6"
   },
   "outputs": [
    {
     "data": {
      "text/plain": [
       "BertTokenizerFast(name_or_path='bert-base-cased', vocab_size=28996, model_max_length=512, is_fast=True, padding_side='right', truncation_side='right', special_tokens={'unk_token': '[UNK]', 'sep_token': '[SEP]', 'pad_token': '[PAD]', 'cls_token': '[CLS]', 'mask_token': '[MASK]'}, clean_up_tokenization_spaces=False, added_tokens_decoder={\n",
       "\t0: AddedToken(\"[PAD]\", rstrip=False, lstrip=False, single_word=False, normalized=False, special=True),\n",
       "\t100: AddedToken(\"[UNK]\", rstrip=False, lstrip=False, single_word=False, normalized=False, special=True),\n",
       "\t101: AddedToken(\"[CLS]\", rstrip=False, lstrip=False, single_word=False, normalized=False, special=True),\n",
       "\t102: AddedToken(\"[SEP]\", rstrip=False, lstrip=False, single_word=False, normalized=False, special=True),\n",
       "\t103: AddedToken(\"[MASK]\", rstrip=False, lstrip=False, single_word=False, normalized=False, special=True),\n",
       "}\n",
       ")"
      ]
     },
     "execution_count": 48,
     "metadata": {},
     "output_type": "execute_result"
    }
   ],
   "source": [
    "tokenizer = AutoTokenizer.from_pretrained('bert-base-cased')\n",
    "tokenizer"
   ]
  },
  {
   "cell_type": "code",
   "execution_count": 49,
   "metadata": {
    "colab": {
     "base_uri": "https://localhost:8080/"
    },
    "id": "SyCuodzaDyYj",
    "outputId": "b4926204-8e44-4cb6-eecd-0127d6627bb6"
   },
   "outputs": [
    {
     "data": {
      "text/plain": [
       "28996"
      ]
     },
     "execution_count": 49,
     "metadata": {},
     "output_type": "execute_result"
    }
   ],
   "source": [
    "tokenizer.vocab_size"
   ]
  },
  {
   "cell_type": "code",
   "execution_count": 62,
   "metadata": {
    "colab": {
     "base_uri": "https://localhost:8080/"
    },
    "id": "VJp4rtdGhTjm",
    "outputId": "1d61950b-3800-4d34-a30b-38a16452ebb7"
   },
   "outputs": [
    {
     "name": "stdout",
     "output_type": "stream",
     "text": [
      "encoding time: 2014.94 ± 1211.97 (μs)\n",
      "decoding time: 4873.17 ± 4023.69 (μs)\n"
     ]
    }
   ],
   "source": [
    "en = []\n",
    "de = []\n",
    "for i in range(10000):\n",
    "  en_s = time.time()\n",
    "  ids = tokenizer.encode(sample)\n",
    "  en.append(time.time() - en_s)\n",
    "  de_s = time.time()\n",
    "  tokenizer.decode(ids)\n",
    "  de.append(time.time() - de_s)\n",
    "\n",
    "print(f\"encoding time: {round(np.mean(en).item()*1e6, 2)} ± {round(np.std(en)*1e6, 2)} (μs)\")\n",
    "print(f\"decoding time: {round(np.mean(de).item()*1e6, 2)} ± {round(np.std(de)*1e6, 2)} (μs)\")"
   ]
  },
  {
   "cell_type": "markdown",
   "metadata": {
    "id": "U6J3qkuAuly8"
   },
   "source": [
    "#### 🔵 **Bert-Fast**"
   ]
  },
  {
   "cell_type": "code",
   "execution_count": 75,
   "metadata": {
    "colab": {
     "base_uri": "https://localhost:8080/"
    },
    "id": "XdmeBvWDuhg4",
    "outputId": "db58e7d0-9d62-411e-85a2-aae8858b2de3"
   },
   "outputs": [
    {
     "data": {
      "text/plain": [
       "BertTokenizerFast(name_or_path='bert-base-uncased', vocab_size=30522, model_max_length=512, is_fast=True, padding_side='right', truncation_side='right', special_tokens={'unk_token': '[UNK]', 'sep_token': '[SEP]', 'pad_token': '[PAD]', 'cls_token': '[CLS]', 'mask_token': '[MASK]'}, clean_up_tokenization_spaces=False, added_tokens_decoder={\n",
       "\t0: AddedToken(\"[PAD]\", rstrip=False, lstrip=False, single_word=False, normalized=False, special=True),\n",
       "\t100: AddedToken(\"[UNK]\", rstrip=False, lstrip=False, single_word=False, normalized=False, special=True),\n",
       "\t101: AddedToken(\"[CLS]\", rstrip=False, lstrip=False, single_word=False, normalized=False, special=True),\n",
       "\t102: AddedToken(\"[SEP]\", rstrip=False, lstrip=False, single_word=False, normalized=False, special=True),\n",
       "\t103: AddedToken(\"[MASK]\", rstrip=False, lstrip=False, single_word=False, normalized=False, special=True),\n",
       "}\n",
       ")"
      ]
     },
     "execution_count": 75,
     "metadata": {},
     "output_type": "execute_result"
    }
   ],
   "source": [
    "tokenizer = AutoTokenizer.from_pretrained('bert-base-uncased')\n",
    "tokenizer"
   ]
  },
  {
   "cell_type": "code",
   "execution_count": 76,
   "metadata": {
    "colab": {
     "base_uri": "https://localhost:8080/"
    },
    "id": "MpHx0GVeurFJ",
    "outputId": "b5d0ac3e-3081-48c2-d340-565a541af00c"
   },
   "outputs": [
    {
     "data": {
      "text/plain": [
       "30522"
      ]
     },
     "execution_count": 76,
     "metadata": {},
     "output_type": "execute_result"
    }
   ],
   "source": [
    "tokenizer.vocab_size"
   ]
  },
  {
   "cell_type": "code",
   "execution_count": 77,
   "metadata": {
    "colab": {
     "base_uri": "https://localhost:8080/"
    },
    "id": "PFTXTcLsusqo",
    "outputId": "bbf4fda2-b78f-40d0-aa87-b251c077881b"
   },
   "outputs": [
    {
     "name": "stdout",
     "output_type": "stream",
     "text": [
      "encoding time: 2721.3 ± 1296.78 (μs)\n",
      "decoding time: 5363.86 ± 2427.26 (μs)\n"
     ]
    }
   ],
   "source": [
    "en = []\n",
    "de = []\n",
    "for i in range(10000):\n",
    "  en_s = time.time()\n",
    "  ids = tokenizer.encode(sample)\n",
    "  en.append(time.time() - en_s)\n",
    "  de_s = time.time()\n",
    "  tokenizer.decode(ids)\n",
    "  de.append(time.time() - de_s)\n",
    "\n",
    "print(f\"encoding time: {round(np.mean(en).item()*1e6, 2)} ± {round(np.std(en)*1e6, 2)} (μs)\")\n",
    "print(f\"decoding time: {round(np.mean(de).item()*1e6, 2)} ± {round(np.std(de)*1e6, 2)} (μs)\")"
   ]
  },
  {
   "cell_type": "markdown",
   "metadata": {
    "id": "mh9kVhiQt2Pp"
   },
   "source": [
    "#### 🔵 **GPT-2**"
   ]
  },
  {
   "cell_type": "code",
   "execution_count": 70,
   "metadata": {
    "colab": {
     "base_uri": "https://localhost:8080/"
    },
    "id": "KU67zpq5sxCC",
    "outputId": "5926794e-d76f-4465-93eb-920e931d4067"
   },
   "outputs": [
    {
     "data": {
      "text/plain": [
       "GPT2TokenizerFast(name_or_path='gpt2', vocab_size=50257, model_max_length=1024, is_fast=True, padding_side='right', truncation_side='right', special_tokens={'bos_token': '<|endoftext|>', 'eos_token': '<|endoftext|>', 'unk_token': '<|endoftext|>'}, clean_up_tokenization_spaces=False, added_tokens_decoder={\n",
       "\t50256: AddedToken(\"<|endoftext|>\", rstrip=False, lstrip=False, single_word=False, normalized=True, special=True),\n",
       "}\n",
       ")"
      ]
     },
     "execution_count": 70,
     "metadata": {},
     "output_type": "execute_result"
    }
   ],
   "source": [
    "tokenizer = AutoTokenizer.from_pretrained('gpt2')\n",
    "tokenizer"
   ]
  },
  {
   "cell_type": "code",
   "execution_count": 71,
   "metadata": {
    "colab": {
     "base_uri": "https://localhost:8080/"
    },
    "id": "ri9IpRpQs0Gs",
    "outputId": "458b11c7-9853-4ad4-810b-52fca8b7bceb"
   },
   "outputs": [
    {
     "data": {
      "text/plain": [
       "50257"
      ]
     },
     "execution_count": 71,
     "metadata": {},
     "output_type": "execute_result"
    }
   ],
   "source": [
    "tokenizer.vocab_size"
   ]
  },
  {
   "cell_type": "code",
   "execution_count": 72,
   "metadata": {
    "colab": {
     "base_uri": "https://localhost:8080/"
    },
    "id": "b1MpEJWmt6-f",
    "outputId": "4c0289f9-1857-470e-f362-87bb26b8fa8e"
   },
   "outputs": [
    {
     "name": "stdout",
     "output_type": "stream",
     "text": [
      "encoding time: 2672.01 ± 1677.16 (μs)\n",
      "decoding time: 5148.66 ± 3016.1 (μs)\n"
     ]
    }
   ],
   "source": [
    "en = []\n",
    "de = []\n",
    "for i in range(10000):\n",
    "  en_s = time.time()\n",
    "  ids = tokenizer.encode(sample)\n",
    "  en.append(time.time() - en_s)\n",
    "  de_s = time.time()\n",
    "  tokenizer.decode(ids)\n",
    "  de.append(time.time() - de_s)\n",
    "\n",
    "print(f\"encoding time: {round(np.mean(en).item()*1e6, 2)} ± {round(np.std(en)*1e6, 2)} (μs)\")\n",
    "print(f\"decoding time: {round(np.mean(de).item()*1e6, 2)} ± {round(np.std(de)*1e6, 2)} (μs)\")"
   ]
  },
  {
   "cell_type": "markdown",
   "metadata": {
    "id": "84nCAAllxSZx"
   },
   "source": [
    "#### 🔵 **GPT-Neo-2.7B**"
   ]
  },
  {
   "cell_type": "code",
   "execution_count": 96,
   "metadata": {
    "colab": {
     "base_uri": "https://localhost:8080/"
    },
    "id": "v8aTV8H1xSGn",
    "outputId": "7833c8a2-68eb-4dcb-c1a9-16475b8bfcf7"
   },
   "outputs": [
    {
     "data": {
      "text/plain": [
       "GPT2TokenizerFast(name_or_path='EleutherAI/gpt-neo-2.7B', vocab_size=50257, model_max_length=2048, is_fast=True, padding_side='right', truncation_side='right', special_tokens={'bos_token': '<|endoftext|>', 'eos_token': '<|endoftext|>', 'unk_token': '<|endoftext|>'}, clean_up_tokenization_spaces=False, added_tokens_decoder={\n",
       "\t50256: AddedToken(\"<|endoftext|>\", rstrip=False, lstrip=False, single_word=False, normalized=True, special=True),\n",
       "}\n",
       ")"
      ]
     },
     "execution_count": 96,
     "metadata": {},
     "output_type": "execute_result"
    }
   ],
   "source": [
    "tokenizer = AutoTokenizer.from_pretrained('EleutherAI/gpt-neo-2.7B')\n",
    "tokenizer"
   ]
  },
  {
   "cell_type": "code",
   "execution_count": 97,
   "metadata": {
    "colab": {
     "base_uri": "https://localhost:8080/"
    },
    "id": "qRwyD0sExc1w",
    "outputId": "16559d60-0e2c-4f8f-c3b7-9ab69250457f"
   },
   "outputs": [
    {
     "data": {
      "text/plain": [
       "50257"
      ]
     },
     "execution_count": 97,
     "metadata": {},
     "output_type": "execute_result"
    }
   ],
   "source": [
    "tokenizer.vocab_size"
   ]
  },
  {
   "cell_type": "code",
   "execution_count": 98,
   "metadata": {
    "colab": {
     "base_uri": "https://localhost:8080/"
    },
    "id": "cwLzNLSJxf5E",
    "outputId": "f1ff2b62-574d-4c32-dd96-6a50db6dca74"
   },
   "outputs": [
    {
     "name": "stdout",
     "output_type": "stream",
     "text": [
      "encoding time: 3202.8 ± 2326.71 (μs)\n",
      "decoding time: 7073.11 ± 4104.84 (μs)\n"
     ]
    }
   ],
   "source": [
    "en = []\n",
    "de = []\n",
    "for i in range(10000):\n",
    "  en_s = time.time()\n",
    "  ids = tokenizer.encode(sample)\n",
    "  en.append(time.time() - en_s)\n",
    "  de_s = time.time()\n",
    "  tokenizer.decode(ids)\n",
    "  de.append(time.time() - de_s)\n",
    "\n",
    "print(f\"encoding time: {round(np.mean(en).item()*1e6, 2)} ± {round(np.std(en)*1e6, 2)} (μs)\")\n",
    "print(f\"decoding time: {round(np.mean(de).item()*1e6, 2)} ± {round(np.std(de)*1e6, 2)} (μs)\")"
   ]
  },
  {
   "cell_type": "markdown",
   "metadata": {
    "id": "YeY_Yyhix3fU"
   },
   "source": [
    "#### 🔵 **GPT-Neo-125m**"
   ]
  },
  {
   "cell_type": "code",
   "execution_count": 104,
   "metadata": {
    "colab": {
     "base_uri": "https://localhost:8080/"
    },
    "id": "g-duvbh7xskL",
    "outputId": "767ffbd0-51ba-4cb4-fd88-4751cd3207a2"
   },
   "outputs": [
    {
     "data": {
      "text/plain": [
       "GPT2TokenizerFast(name_or_path='EleutherAI/gpt-neo-125m', vocab_size=50257, model_max_length=2048, is_fast=True, padding_side='right', truncation_side='right', special_tokens={'bos_token': '<|endoftext|>', 'eos_token': '<|endoftext|>', 'unk_token': '<|endoftext|>'}, clean_up_tokenization_spaces=True, added_tokens_decoder={\n",
       "\t50256: AddedToken(\"<|endoftext|>\", rstrip=False, lstrip=False, single_word=False, normalized=True, special=True),\n",
       "}\n",
       ")"
      ]
     },
     "execution_count": 104,
     "metadata": {},
     "output_type": "execute_result"
    }
   ],
   "source": [
    "tokenizer = AutoTokenizer.from_pretrained('EleutherAI/gpt-neo-125m')\n",
    "tokenizer"
   ]
  },
  {
   "cell_type": "code",
   "execution_count": 100,
   "metadata": {
    "colab": {
     "base_uri": "https://localhost:8080/"
    },
    "id": "SaqHzbOWxvIB",
    "outputId": "09df7901-1dcd-46a8-dc06-4c70de02da32"
   },
   "outputs": [
    {
     "data": {
      "text/plain": [
       "50257"
      ]
     },
     "execution_count": 100,
     "metadata": {},
     "output_type": "execute_result"
    }
   ],
   "source": [
    "tokenizer.vocab_size"
   ]
  },
  {
   "cell_type": "code",
   "execution_count": 101,
   "metadata": {
    "colab": {
     "base_uri": "https://localhost:8080/"
    },
    "id": "6ndtxmjTxxFI",
    "outputId": "a4feb7a6-2404-485f-9e7f-42a0e495abff"
   },
   "outputs": [
    {
     "name": "stdout",
     "output_type": "stream",
     "text": [
      "encoding time: 2975.86 ± 2738.97 (μs)\n",
      "decoding time: 6561.98 ± 4920.68 (μs)\n"
     ]
    }
   ],
   "source": [
    "en = []\n",
    "de = []\n",
    "for i in range(10000):\n",
    "  en_s = time.time()\n",
    "  ids = tokenizer.encode(sample)\n",
    "  en.append(time.time() - en_s)\n",
    "  de_s = time.time()\n",
    "  tokenizer.decode(ids)\n",
    "  de.append(time.time() - de_s)\n",
    "\n",
    "print(f\"encoding time: {round(np.mean(en).item()*1e6, 2)} ± {round(np.std(en)*1e6, 2)} (μs)\")\n",
    "print(f\"decoding time: {round(np.mean(de).item()*1e6, 2)} ± {round(np.std(de)*1e6, 2)} (μs)\")"
   ]
  },
  {
   "cell_type": "markdown",
   "metadata": {
    "id": "kei8TEK_xGfx"
   },
   "source": [
    "#### 🔵 **DeepSeek-v3**"
   ]
  },
  {
   "cell_type": "code",
   "execution_count": null,
   "metadata": {
    "id": "oT2rm9dHt9EK"
   },
   "outputs": [],
   "source": [
    "tokenizer = AutoTokenizer.from_pretrained('deepseek-ai/DeepSeek-V3-0324')\n",
    "tokenizer"
   ]
  },
  {
   "cell_type": "code",
   "execution_count": 93,
   "metadata": {
    "colab": {
     "base_uri": "https://localhost:8080/"
    },
    "id": "Pi1lsRO9vHtg",
    "outputId": "6327a84a-fc99-4c7a-d364-9971ddc598a2"
   },
   "outputs": [
    {
     "data": {
      "text/plain": [
       "128000"
      ]
     },
     "execution_count": 93,
     "metadata": {},
     "output_type": "execute_result"
    }
   ],
   "source": [
    "tokenizer.vocab_size"
   ]
  },
  {
   "cell_type": "code",
   "execution_count": 94,
   "metadata": {
    "colab": {
     "base_uri": "https://localhost:8080/"
    },
    "id": "tNUP0qsIxE94",
    "outputId": "6d1cab04-0793-4006-dbd7-2fb0f5cc6825"
   },
   "outputs": [
    {
     "name": "stdout",
     "output_type": "stream",
     "text": [
      "encoding time: 3882.26 ± 3078.71 (μs)\n",
      "decoding time: 6399.83 ± 4455.95 (μs)\n"
     ]
    }
   ],
   "source": [
    "en = []\n",
    "de = []\n",
    "for i in range(10000):\n",
    "  en_s = time.time()\n",
    "  ids = tokenizer.encode(sample)\n",
    "  en.append(time.time() - en_s)\n",
    "  de_s = time.time()\n",
    "  tokenizer.decode(ids)\n",
    "  de.append(time.time() - de_s)\n",
    "\n",
    "print(f\"encoding time: {round(np.mean(en).item()*1e6, 2)} ± {round(np.std(en)*1e6, 2)} (μs)\")\n",
    "print(f\"decoding time: {round(np.mean(de).item()*1e6, 2)} ± {round(np.std(de)*1e6, 2)} (μs)\")"
   ]
  }
 ],
 "metadata": {
  "colab": {
   "collapsed_sections": [
    "_9yMJVI00W7d",
    "0LkR_EMVSkud",
    "wT5uYjiCPFm5",
    "up1n97WISNoX",
    "EnnnYR-5TEYd",
    "kDokDSi0TFGh",
    "MrLtf8g0TFVj",
    "yM_xnUjzTFf3"
   ],
   "provenance": []
  },
  "kernelspec": {
   "display_name": "Python 3",
   "name": "python3"
  },
  "language_info": {
   "name": "python"
  }
 },
 "nbformat": 4,
 "nbformat_minor": 0
}
