{
 "cells": [
  {
   "cell_type": "markdown",
   "metadata": {
    "id": "t5ovy3muqKmg"
   },
   "source": [
    "# 🔵 **Dependencies**"
   ]
  },
  {
   "cell_type": "code",
   "execution_count": 1,
   "metadata": {
    "id": "4k72VSphEapY"
   },
   "outputs": [],
   "source": [
    "!pip install -q tiktoken"
   ]
  },
  {
   "cell_type": "code",
   "execution_count": 2,
   "metadata": {
    "colab": {
     "base_uri": "https://localhost:8080/"
    },
    "id": "uPpGTNdsqHu-",
    "outputId": "da95d6df-8633-47a9-ed6b-7cedb010ce8f"
   },
   "outputs": [
    {
     "name": "stdout",
     "output_type": "stream",
     "text": [
      "\u001b[2K   \u001b[90m━━━━━━━━━━━━━━━━━━━━━━━━━━━━━━━━━━━━━━━━\u001b[0m \u001b[32m962.6/962.6 kB\u001b[0m \u001b[31m16.7 MB/s\u001b[0m eta \u001b[36m0:00:00\u001b[0m\n",
      "\u001b[2K   \u001b[90m━━━━━━━━━━━━━━━━━━━━━━━━━━━━━━━━━━━━━━━━\u001b[0m \u001b[32m363.4/363.4 MB\u001b[0m \u001b[31m3.8 MB/s\u001b[0m eta \u001b[36m0:00:00\u001b[0m\n",
      "\u001b[2K   \u001b[90m━━━━━━━━━━━━━━━━━━━━━━━━━━━━━━━━━━━━━━━━\u001b[0m \u001b[32m13.8/13.8 MB\u001b[0m \u001b[31m58.9 MB/s\u001b[0m eta \u001b[36m0:00:00\u001b[0m\n",
      "\u001b[2K   \u001b[90m━━━━━━━━━━━━━━━━━━━━━━━━━━━━━━━━━━━━━━━━\u001b[0m \u001b[32m24.6/24.6 MB\u001b[0m \u001b[31m27.2 MB/s\u001b[0m eta \u001b[36m0:00:00\u001b[0m\n",
      "\u001b[2K   \u001b[90m━━━━━━━━━━━━━━━━━━━━━━━━━━━━━━━━━━━━━━━━\u001b[0m \u001b[32m883.7/883.7 kB\u001b[0m \u001b[31m34.7 MB/s\u001b[0m eta \u001b[36m0:00:00\u001b[0m\n",
      "\u001b[2K   \u001b[90m━━━━━━━━━━━━━━━━━━━━━━━━━━━━━━━━━━━━━━━━\u001b[0m \u001b[32m664.8/664.8 MB\u001b[0m \u001b[31m2.7 MB/s\u001b[0m eta \u001b[36m0:00:00\u001b[0m\n",
      "\u001b[2K   \u001b[90m━━━━━━━━━━━━━━━━━━━━━━━━━━━━━━━━━━━━━━━━\u001b[0m \u001b[32m211.5/211.5 MB\u001b[0m \u001b[31m6.7 MB/s\u001b[0m eta \u001b[36m0:00:00\u001b[0m\n",
      "\u001b[2K   \u001b[90m━━━━━━━━━━━━━━━━━━━━━━━━━━━━━━━━━━━━━━━━\u001b[0m \u001b[32m56.3/56.3 MB\u001b[0m \u001b[31m17.8 MB/s\u001b[0m eta \u001b[36m0:00:00\u001b[0m\n",
      "\u001b[2K   \u001b[90m━━━━━━━━━━━━━━━━━━━━━━━━━━━━━━━━━━━━━━━━\u001b[0m \u001b[32m127.9/127.9 MB\u001b[0m \u001b[31m7.6 MB/s\u001b[0m eta \u001b[36m0:00:00\u001b[0m\n",
      "\u001b[2K   \u001b[90m━━━━━━━━━━━━━━━━━━━━━━━━━━━━━━━━━━━━━━━━\u001b[0m \u001b[32m207.5/207.5 MB\u001b[0m \u001b[31m5.5 MB/s\u001b[0m eta \u001b[36m0:00:00\u001b[0m\n",
      "\u001b[2K   \u001b[90m━━━━━━━━━━━━━━━━━━━━━━━━━━━━━━━━━━━━━━━━\u001b[0m \u001b[32m21.1/21.1 MB\u001b[0m \u001b[31m17.3 MB/s\u001b[0m eta \u001b[36m0:00:00\u001b[0m\n",
      "\u001b[?25h"
     ]
    }
   ],
   "source": [
    "!pip install -q torchmetrics"
   ]
  },
  {
   "cell_type": "code",
   "execution_count": 3,
   "metadata": {
    "colab": {
     "base_uri": "https://localhost:8080/"
    },
    "id": "tzU0QH3-0zTW",
    "outputId": "bd88e142-107d-45c4-a6ed-e701ff792bd1"
   },
   "outputs": [
    {
     "name": "stdout",
     "output_type": "stream",
     "text": [
      "Requirement already satisfied: datasets in /usr/local/lib/python3.11/dist-packages (2.14.4)\n",
      "Collecting datasets\n",
      "  Downloading datasets-3.6.0-py3-none-any.whl.metadata (19 kB)\n",
      "Requirement already satisfied: filelock in /usr/local/lib/python3.11/dist-packages (from datasets) (3.18.0)\n",
      "Requirement already satisfied: numpy>=1.17 in /usr/local/lib/python3.11/dist-packages (from datasets) (2.0.2)\n",
      "Requirement already satisfied: pyarrow>=15.0.0 in /usr/local/lib/python3.11/dist-packages (from datasets) (18.1.0)\n",
      "Requirement already satisfied: dill<0.3.9,>=0.3.0 in /usr/local/lib/python3.11/dist-packages (from datasets) (0.3.7)\n",
      "Requirement already satisfied: pandas in /usr/local/lib/python3.11/dist-packages (from datasets) (2.2.2)\n",
      "Requirement already satisfied: requests>=2.32.2 in /usr/local/lib/python3.11/dist-packages (from datasets) (2.32.3)\n",
      "Requirement already satisfied: tqdm>=4.66.3 in /usr/local/lib/python3.11/dist-packages (from datasets) (4.67.1)\n",
      "Requirement already satisfied: xxhash in /usr/local/lib/python3.11/dist-packages (from datasets) (3.5.0)\n",
      "Requirement already satisfied: multiprocess<0.70.17 in /usr/local/lib/python3.11/dist-packages (from datasets) (0.70.15)\n",
      "Collecting fsspec<=2025.3.0,>=2023.1.0 (from fsspec[http]<=2025.3.0,>=2023.1.0->datasets)\n",
      "  Downloading fsspec-2025.3.0-py3-none-any.whl.metadata (11 kB)\n",
      "Requirement already satisfied: huggingface-hub>=0.24.0 in /usr/local/lib/python3.11/dist-packages (from datasets) (0.33.0)\n",
      "Requirement already satisfied: packaging in /usr/local/lib/python3.11/dist-packages (from datasets) (24.2)\n",
      "Requirement already satisfied: pyyaml>=5.1 in /usr/local/lib/python3.11/dist-packages (from datasets) (6.0.2)\n",
      "Requirement already satisfied: aiohttp!=4.0.0a0,!=4.0.0a1 in /usr/local/lib/python3.11/dist-packages (from fsspec[http]<=2025.3.0,>=2023.1.0->datasets) (3.11.15)\n",
      "Requirement already satisfied: typing-extensions>=3.7.4.3 in /usr/local/lib/python3.11/dist-packages (from huggingface-hub>=0.24.0->datasets) (4.14.0)\n",
      "Requirement already satisfied: hf-xet<2.0.0,>=1.1.2 in /usr/local/lib/python3.11/dist-packages (from huggingface-hub>=0.24.0->datasets) (1.1.5)\n",
      "Requirement already satisfied: charset-normalizer<4,>=2 in /usr/local/lib/python3.11/dist-packages (from requests>=2.32.2->datasets) (3.4.2)\n",
      "Requirement already satisfied: idna<4,>=2.5 in /usr/local/lib/python3.11/dist-packages (from requests>=2.32.2->datasets) (3.10)\n",
      "Requirement already satisfied: urllib3<3,>=1.21.1 in /usr/local/lib/python3.11/dist-packages (from requests>=2.32.2->datasets) (2.4.0)\n",
      "Requirement already satisfied: certifi>=2017.4.17 in /usr/local/lib/python3.11/dist-packages (from requests>=2.32.2->datasets) (2025.6.15)\n",
      "Requirement already satisfied: python-dateutil>=2.8.2 in /usr/local/lib/python3.11/dist-packages (from pandas->datasets) (2.9.0.post0)\n",
      "Requirement already satisfied: pytz>=2020.1 in /usr/local/lib/python3.11/dist-packages (from pandas->datasets) (2025.2)\n",
      "Requirement already satisfied: tzdata>=2022.7 in /usr/local/lib/python3.11/dist-packages (from pandas->datasets) (2025.2)\n",
      "Requirement already satisfied: aiohappyeyeballs>=2.3.0 in /usr/local/lib/python3.11/dist-packages (from aiohttp!=4.0.0a0,!=4.0.0a1->fsspec[http]<=2025.3.0,>=2023.1.0->datasets) (2.6.1)\n",
      "Requirement already satisfied: aiosignal>=1.1.2 in /usr/local/lib/python3.11/dist-packages (from aiohttp!=4.0.0a0,!=4.0.0a1->fsspec[http]<=2025.3.0,>=2023.1.0->datasets) (1.3.2)\n",
      "Requirement already satisfied: attrs>=17.3.0 in /usr/local/lib/python3.11/dist-packages (from aiohttp!=4.0.0a0,!=4.0.0a1->fsspec[http]<=2025.3.0,>=2023.1.0->datasets) (25.3.0)\n",
      "Requirement already satisfied: frozenlist>=1.1.1 in /usr/local/lib/python3.11/dist-packages (from aiohttp!=4.0.0a0,!=4.0.0a1->fsspec[http]<=2025.3.0,>=2023.1.0->datasets) (1.7.0)\n",
      "Requirement already satisfied: multidict<7.0,>=4.5 in /usr/local/lib/python3.11/dist-packages (from aiohttp!=4.0.0a0,!=4.0.0a1->fsspec[http]<=2025.3.0,>=2023.1.0->datasets) (6.4.4)\n",
      "Requirement already satisfied: propcache>=0.2.0 in /usr/local/lib/python3.11/dist-packages (from aiohttp!=4.0.0a0,!=4.0.0a1->fsspec[http]<=2025.3.0,>=2023.1.0->datasets) (0.3.2)\n",
      "Requirement already satisfied: yarl<2.0,>=1.17.0 in /usr/local/lib/python3.11/dist-packages (from aiohttp!=4.0.0a0,!=4.0.0a1->fsspec[http]<=2025.3.0,>=2023.1.0->datasets) (1.20.1)\n",
      "Requirement already satisfied: six>=1.5 in /usr/local/lib/python3.11/dist-packages (from python-dateutil>=2.8.2->pandas->datasets) (1.17.0)\n",
      "Downloading datasets-3.6.0-py3-none-any.whl (491 kB)\n",
      "\u001b[2K   \u001b[90m━━━━━━━━━━━━━━━━━━━━━━━━━━━━━━━━━━━━━━━━\u001b[0m \u001b[32m491.5/491.5 kB\u001b[0m \u001b[31m9.6 MB/s\u001b[0m eta \u001b[36m0:00:00\u001b[0m\n",
      "\u001b[?25hDownloading fsspec-2025.3.0-py3-none-any.whl (193 kB)\n",
      "\u001b[2K   \u001b[90m━━━━━━━━━━━━━━━━━━━━━━━━━━━━━━━━━━━━━━━━\u001b[0m \u001b[32m193.6/193.6 kB\u001b[0m \u001b[31m17.8 MB/s\u001b[0m eta \u001b[36m0:00:00\u001b[0m\n",
      "\u001b[?25hInstalling collected packages: fsspec, datasets\n",
      "  Attempting uninstall: fsspec\n",
      "    Found existing installation: fsspec 2025.3.2\n",
      "    Uninstalling fsspec-2025.3.2:\n",
      "      Successfully uninstalled fsspec-2025.3.2\n",
      "  Attempting uninstall: datasets\n",
      "    Found existing installation: datasets 2.14.4\n",
      "    Uninstalling datasets-2.14.4:\n",
      "      Successfully uninstalled datasets-2.14.4\n",
      "\u001b[31mERROR: pip's dependency resolver does not currently take into account all the packages that are installed. This behaviour is the source of the following dependency conflicts.\n",
      "gcsfs 2025.3.2 requires fsspec==2025.3.2, but you have fsspec 2025.3.0 which is incompatible.\u001b[0m\u001b[31m\n",
      "\u001b[0mSuccessfully installed datasets-3.6.0 fsspec-2025.3.0\n"
     ]
    }
   ],
   "source": [
    "!pip install -U datasets"
   ]
  },
  {
   "cell_type": "code",
   "execution_count": 4,
   "metadata": {
    "colab": {
     "base_uri": "https://localhost:8080/"
    },
    "id": "FbEFz7f2yP4z",
    "outputId": "bbbabe52-e0e1-4342-99dc-92a22c1dc8c1"
   },
   "outputs": [
    {
     "name": "stdout",
     "output_type": "stream",
     "text": [
      "\u001b[2K     \u001b[90m━━━━━━━━━━━━━━━━━━━━━━━━━━━━━━━━━━━━━━━━\u001b[0m \u001b[32m61.0/61.0 kB\u001b[0m \u001b[31m2.5 MB/s\u001b[0m eta \u001b[36m0:00:00\u001b[0m\n",
      "\u001b[2K     \u001b[90m━━━━━━━━━━━━━━━━━━━━━━━━━━━━━━━━━━━━━━━━\u001b[0m \u001b[32m60.6/60.6 kB\u001b[0m \u001b[31m4.3 MB/s\u001b[0m eta \u001b[36m0:00:00\u001b[0m\n",
      "\u001b[2K   \u001b[90m━━━━━━━━━━━━━━━━━━━━━━━━━━━━━━━━━━━━━━━━\u001b[0m \u001b[32m26.7/26.7 MB\u001b[0m \u001b[31m61.0 MB/s\u001b[0m eta \u001b[36m0:00:00\u001b[0m\n",
      "\u001b[2K   \u001b[90m━━━━━━━━━━━━━━━━━━━━━━━━━━━━━━━━━━━━━━━━\u001b[0m \u001b[32m18.3/18.3 MB\u001b[0m \u001b[31m106.7 MB/s\u001b[0m eta \u001b[36m0:00:00\u001b[0m\n",
      "\u001b[2K   \u001b[90m━━━━━━━━━━━━━━━━━━━━━━━━━━━━━━━━━━━━━━━━\u001b[0m \u001b[32m38.6/38.6 MB\u001b[0m \u001b[31m15.4 MB/s\u001b[0m eta \u001b[36m0:00:00\u001b[0m\n",
      "\u001b[?25h\u001b[31mERROR: pip's dependency resolver does not currently take into account all the packages that are installed. This behaviour is the source of the following dependency conflicts.\n",
      "tsfresh 0.21.0 requires scipy>=1.14.0; python_version >= \"3.10\", but you have scipy 1.13.1 which is incompatible.\n",
      "thinc 8.3.6 requires numpy<3.0.0,>=2.0.0, but you have numpy 1.26.4 which is incompatible.\u001b[0m\u001b[31m\n",
      "\u001b[0m"
     ]
    }
   ],
   "source": [
    "!pip install -q gensim"
   ]
  },
  {
   "cell_type": "markdown",
   "metadata": {
    "id": "_EPOwD_F0dWj"
   },
   "source": [
    "# 🔵 **Import Libraries**"
   ]
  },
  {
   "cell_type": "code",
   "execution_count": 1,
   "metadata": {
    "id": "goUJnNuf0hCW"
   },
   "outputs": [],
   "source": [
    "from tokenizers import Tokenizer, models, pre_tokenizers, trainers, processors, decoders\n",
    "import tokenizers\n",
    "import tiktoken\n",
    "import transformers\n",
    "from transformers import AutoTokenizer\n",
    "import nltk\n",
    "from nltk.tokenize import word_tokenize\n",
    "import datasets\n",
    "from datasets import load_dataset\n",
    "import torch\n",
    "from torch.utils.data import TensorDataset, DataLoader, random_split, Dataset\n",
    "from torch import nn, optim\n",
    "from torch.optim.lr_scheduler import OneCycleLR\n",
    "import torchmetrics as tm\n",
    "import gensim.downloader as api\n",
    "from gensim.models import Word2Vec\n",
    "from gensim.utils import simple_preprocess\n",
    "import pandas as pd\n",
    "import numpy as np\n",
    "from tqdm import tqdm\n",
    "from collections import Counter\n",
    "import matplotlib.pyplot as plt\n",
    "from IPython.display import Markdown, display\n",
    "import seaborn as sns\n",
    "import scipy\n",
    "from scipy import stats\n",
    "from scipy.stats import lognorm, pareto\n",
    "import sklearn\n",
    "from sklearn.cluster import KMeans\n",
    "from sklearn.manifold import TSNE\n",
    "import time\n",
    "import random"
   ]
  },
  {
   "cell_type": "code",
   "execution_count": 2,
   "metadata": {
    "colab": {
     "base_uri": "https://localhost:8080/"
    },
    "id": "_uHE_vIzx-fO",
    "outputId": "dcbb6e4c-d4bb-4dd4-c394-49e3f18f8183"
   },
   "outputs": [
    {
     "name": "stdout",
     "output_type": "stream",
     "text": [
      "torch:  2.6.0+cu124\n",
      "torchmetrics:  1.7.3\n",
      "nltk:  3.9.1\n",
      "transformers:  4.52.4\n",
      "datasets:  3.6.0\n",
      "numpy:  1.26.4\n",
      "pandas:  2.2.2\n",
      "tokenizers:  0.21.2\n",
      "tiktoken:  0.9.0\n",
      "seaborn:  0.13.2\n",
      "scipy:  1.13.1\n",
      "sklearn:  1.6.1\n"
     ]
    }
   ],
   "source": [
    "print('torch: ', torch.__version__)\n",
    "print('torchmetrics: ', tm.__version__)\n",
    "print('nltk: ', nltk.__version__)\n",
    "print('transformers: ', transformers.__version__)\n",
    "print('datasets: ', datasets.__version__)\n",
    "print('numpy: ', np.__version__)\n",
    "print('pandas: ', pd.__version__)\n",
    "print('tokenizers: ', tokenizers.__version__)\n",
    "print('tiktoken: ', tiktoken.__version__)\n",
    "print('seaborn: ', sns.__version__)\n",
    "print('scipy: ', scipy.__version__)\n",
    "print('sklearn: ', sklearn.__version__)"
   ]
  },
  {
   "cell_type": "markdown",
   "metadata": {
    "id": "kcgp9-0t0oLw"
   },
   "source": [
    "# 🔵 **TinyStories Dataset**"
   ]
  },
  {
   "cell_type": "markdown",
   "metadata": {
    "id": "0LkR_EMVSkud"
   },
   "source": [
    "## 🔵 **LoadDataset**"
   ]
  },
  {
   "cell_type": "code",
   "execution_count": 3,
   "metadata": {
    "colab": {
     "base_uri": "https://localhost:8080/"
    },
    "id": "mmsD9p730sfk",
    "outputId": "fef2e42b-3577-4bda-d345-2e03c788ac03"
   },
   "outputs": [
    {
     "name": "stderr",
     "output_type": "stream",
     "text": [
      "/usr/local/lib/python3.11/dist-packages/huggingface_hub/utils/_auth.py:94: UserWarning: \n",
      "The secret `HF_TOKEN` does not exist in your Colab secrets.\n",
      "To authenticate with the Hugging Face Hub, create a token in your settings tab (https://huggingface.co/settings/tokens), set it as secret in your Google Colab and restart your session.\n",
      "You will be able to reuse this secret in all of your notebooks.\n",
      "Please note that authentication is recommended but still optional to access public models or datasets.\n",
      "  warnings.warn(\n"
     ]
    },
    {
     "data": {
      "text/plain": [
       "DatasetDict({\n",
       "    train: Dataset({\n",
       "        features: ['text'],\n",
       "        num_rows: 2119719\n",
       "    })\n",
       "    validation: Dataset({\n",
       "        features: ['text'],\n",
       "        num_rows: 21990\n",
       "    })\n",
       "})"
      ]
     },
     "execution_count": 3,
     "metadata": {},
     "output_type": "execute_result"
    }
   ],
   "source": [
    "dataset = load_dataset(\"roneneldan/TinyStories\")\n",
    "dataset"
   ]
  },
  {
   "cell_type": "code",
   "execution_count": 4,
   "metadata": {
    "colab": {
     "base_uri": "https://localhost:8080/"
    },
    "id": "56LJ3CZK1_Lq",
    "outputId": "f43c3f99-a0c6-4d87-c574-856538d2a462"
   },
   "outputs": [
    {
     "name": "stdout",
     "output_type": "stream",
     "text": [
      "Number of train rows(stories):  2.119719 Million rows(stories)\n",
      "Number of valid rows(stories):  0.02199 Million rows(stories)\n"
     ]
    }
   ],
   "source": [
    "train_data = dataset['train']\n",
    "valid_data = dataset['validation']\n",
    "print('Number of train rows(stories): ', train_data.num_rows/1e6, 'Million rows(stories)')\n",
    "print('Number of valid rows(stories): ', valid_data.num_rows/1e6, 'Million rows(stories)')"
   ]
  },
  {
   "cell_type": "code",
   "execution_count": 5,
   "metadata": {
    "colab": {
     "base_uri": "https://localhost:8080/"
    },
    "id": "2KHuNjbSXFlX",
    "outputId": "efe66ee8-3423-406a-d065-07203aa28fce"
   },
   "outputs": [
    {
     "name": "stdout",
     "output_type": "stream",
     "text": [
      "story1: \n",
      "\n",
      " One day, a little girl named Lily found a needle in her room. She knew it was difficult to play with it because it was sharp. Lily wanted to share the needle with her mom, so she could sew a button on her shirt.\n",
      "\n",
      "Lily went to her mom and said, \"Mom, I found this needle. Can you share it with me and sew my shirt?\" Her mom smiled and said, \"Yes, Lily, we can share the needle and fix your shirt.\"\n",
      "\n",
      "Together, they shared the needle and sewed the button on Lily's shirt. It was not difficult for them because they were sharing and helping each other. After they finished, Lily thanked her mom for sharing the needle and fixing her shirt. They both felt happy because they had shared and worked together. \n",
      "\n",
      "story2: \n",
      "\n",
      " Once upon a time, there was a little car named Beep. Beep loved to go fast and play in the sun. Beep was a healthy car because he always had good fuel. Good fuel made Beep happy and strong.\n",
      "\n",
      "One day, Beep was driving in the park when he saw a big tree. The tree had many leaves that were falling. Beep liked how the leaves fall and wanted to play with them. Beep drove under the tree and watched the leaves fall on him. He laughed and beeped his horn.\n",
      "\n",
      "Beep played with the falling leaves all day. When it was time to go home, Beep knew he needed more fuel. He went to the fuel place and got more healthy fuel. Now, Beep was ready to go fast and play again the next day. And Beep lived happily ever after. \n",
      "\n",
      "story3: \n",
      "\n",
      " One day, a little fish named Fin was swimming near the shore. He saw a big crab and wanted to be friends. \"Hi, I am Fin. Do you want to play?\" asked the little fish. The crab looked at Fin and said, \"No, I don't want to play. I am cold and I don't feel fine.\"\n",
      "\n",
      "Fin felt sad but wanted to help the crab feel better. He swam away and thought of a plan. He remembered that the sun could make things warm. So, Fin swam to the top of the water and called to the sun, \"Please, sun, help my new friend feel fine and not freeze!\"\n",
      "\n",
      "The sun heard Fin's call and shone its warm light on the shore. The crab started to feel better and not so cold. He saw Fin and said, \"Thank you, little fish, for making me feel fine. I don't feel like I will freeze now. Let's play together!\" And so, Fin and the crab played and became good friends. \n",
      "\n",
      "story4: \n",
      "\n",
      " Once upon a time, in a land full of trees, there was a little cherry tree. The cherry tree was very sad because it did not have any friends. All the other trees were big and strong, but the cherry tree was small and weak. The cherry tree was envious of the big trees.\n",
      "\n",
      "One day, the cherry tree felt a tickle in its branches. It was a little spring wind. The wind told the cherry tree not to be sad. The wind said, \"You are special because you have sweet cherries that everyone loves.\" The cherry tree started to feel a little better.\n",
      "\n",
      "As time went on, the cherry tree grew more and more cherries. All the animals in the land came to eat the cherries and play under the cherry tree. The cherry tree was happy because it had many friends now. The cherry tree learned that being different can be a good thing. And they all lived happily ever after. \n",
      "\n",
      "story5: \n",
      "\n",
      " Once upon a time, there was a little girl named Lily. Lily liked to pretend she was a popular princess. She lived in a big castle with her best friends, a cat and a dog.\n",
      "\n",
      "One day, while playing in the castle, Lily found a big cobweb. The cobweb was in the way of her fun game. She wanted to get rid of it, but she was scared of the spider that lived there.\n",
      "\n",
      "Lily asked her friends, the cat and the dog, to help her. They all worked together to clean the cobweb. The spider was sad, but it found a new home outside. Lily, the cat, and the dog were happy they could play without the cobweb in the way. And they all lived happily ever after. \n",
      "\n"
     ]
    },
    {
     "data": {
      "text/plain": [
       "[None, None, None, None, None]"
      ]
     },
     "execution_count": 5,
     "metadata": {},
     "output_type": "execute_result"
    }
   ],
   "source": [
    "[print(f'story{i+1}: \\n\\n', train_data[i]['text'], '\\n') for i in range(5)]"
   ]
  },
  {
   "cell_type": "markdown",
   "metadata": {
    "id": "W12NSNHsx-fT"
   },
   "source": [
    "## 🔵 **Token Embedding (text representation)**"
   ]
  },
  {
   "cell_type": "markdown",
   "metadata": {
    "id": "2UljIXPSx-fT",
    "jp-MarkdownHeadingCollapsed": true
   },
   "source": [
    "### 🔵 **Download Pretrained**"
   ]
  },
  {
   "cell_type": "code",
   "execution_count": null,
   "metadata": {
    "id": "Pbe81ptZx-fU"
   },
   "outputs": [],
   "source": [
    "# glove-wiki-gigaword-300\n",
    "# fasttext-wiki-news-subwords-300\n",
    "word2vec_model = api.load(\"word2vec-google-news-300\")"
   ]
  },
  {
   "cell_type": "code",
   "execution_count": null,
   "metadata": {
    "id": "1z8BkRVsx-fU",
    "outputId": "a6a53a45-a22d-4000-8c33-9e8afa769de4"
   },
   "outputs": [
    {
     "data": {
      "text/plain": [
       "<gensim.models.keyedvectors.KeyedVectors at 0x15db8781880>"
      ]
     },
     "execution_count": 9,
     "metadata": {},
     "output_type": "execute_result"
    }
   ],
   "source": [
    "word2vec_model"
   ]
  },
  {
   "cell_type": "markdown",
   "metadata": {
    "id": "5vmQQS9Zx-fV",
    "jp-MarkdownHeadingCollapsed": true
   },
   "source": [
    "### 🔵 **Use Pretrained**"
   ]
  },
  {
   "cell_type": "code",
   "execution_count": null,
   "metadata": {
    "id": "s5r3X5-dx-fV",
    "outputId": "e345069c-160c-441e-cc8c-be0eff04e501"
   },
   "outputs": [
    {
     "data": {
      "text/plain": [
       "(3000000, 300)"
      ]
     },
     "execution_count": 12,
     "metadata": {},
     "output_type": "execute_result"
    }
   ],
   "source": [
    "word2vec_model.vectors.shape"
   ]
  },
  {
   "cell_type": "code",
   "execution_count": null,
   "metadata": {
    "id": "cLr7sCCpx-fW",
    "outputId": "f684266f-25b7-4bab-aa50-fcc010250dd8"
   },
   "outputs": [
    {
     "data": {
      "text/plain": [
       "(300,)"
      ]
     },
     "execution_count": 14,
     "metadata": {},
     "output_type": "execute_result"
    }
   ],
   "source": [
    "word2vec_model['king'].shape"
   ]
  },
  {
   "cell_type": "code",
   "execution_count": null,
   "metadata": {
    "id": "3GGuSf4Sx-fW",
    "outputId": "7d55b48b-a65d-401a-df63-3ab847fe545d"
   },
   "outputs": [
    {
     "data": {
      "text/plain": [
       "[('kings', 0.7138045430183411),\n",
       " ('queen', 0.6510957479476929),\n",
       " ('monarch', 0.6413194537162781),\n",
       " ('crown_prince', 0.6204220056533813),\n",
       " ('prince', 0.6159993410110474)]"
      ]
     },
     "execution_count": 16,
     "metadata": {},
     "output_type": "execute_result"
    }
   ],
   "source": [
    "word2vec_model.most_similar('king', topn = 5)"
   ]
  },
  {
   "cell_type": "code",
   "execution_count": null,
   "metadata": {
    "id": "EG9oa4_2x-fW",
    "outputId": "51e243ba-ff7c-4fd8-d200-bc95e8d2d416"
   },
   "outputs": [
    {
     "data": {
      "text/plain": [
       "[('queen', 0.7118193507194519), ('monarch', 0.6189674735069275)]"
      ]
     },
     "execution_count": 17,
     "metadata": {},
     "output_type": "execute_result"
    }
   ],
   "source": [
    "# king - man + woman = queen\n",
    "word2vec_model.most_similar(positive = ['king', 'woman'], negative = ['man'], topn = 2)"
   ]
  },
  {
   "cell_type": "code",
   "execution_count": null,
   "metadata": {
    "id": "Cq01NqSlx-fX",
    "outputId": "bf89d7d1-598f-40c9-a849-30af697300fd"
   },
   "outputs": [
    {
     "data": {
      "text/plain": [
       "[('birds', 0.5283597111701965), ('freshwater', 0.5271045565605164)]"
      ]
     },
     "execution_count": 18,
     "metadata": {},
     "output_type": "execute_result"
    }
   ],
   "source": [
    "word2vec_model.most_similar(positive = ['bird', 'water'], negative = ['sky'], topn = 2)"
   ]
  },
  {
   "cell_type": "code",
   "execution_count": null,
   "metadata": {
    "id": "vTMh2QF5x-fX",
    "outputId": "84990e02-01ee-4726-b842-8968053ce375"
   },
   "outputs": [
    {
     "data": {
      "text/plain": [
       "[('elementary', 0.7351498603820801), ('teachers', 0.6516026854515076)]"
      ]
     },
     "execution_count": 19,
     "metadata": {},
     "output_type": "execute_result"
    }
   ],
   "source": [
    "word2vec_model.most_similar(positive = ['school', 'teacher'], negative = ['student'], topn = 2)"
   ]
  },
  {
   "cell_type": "code",
   "execution_count": null,
   "metadata": {
    "id": "uz4-myVyx-fX",
    "outputId": "68d6f791-0c18-4c93-f254-13438c594fe9"
   },
   "outputs": [
    {
     "data": {
      "text/plain": [
       "[('evening', 0.5596994757652283), ('afternoon', 0.5337650775909424)]"
      ]
     },
     "execution_count": 20,
     "metadata": {},
     "output_type": "execute_result"
    }
   ],
   "source": [
    "word2vec_model.most_similar(positive = ['night', 'light'], negative = ['dark'], topn = 2)"
   ]
  },
  {
   "cell_type": "code",
   "execution_count": null,
   "metadata": {
    "id": "51jpmWsfx-fX",
    "outputId": "ff6f6c2a-6bb7-4bcf-f063-e0f01bfe4e7f"
   },
   "outputs": [
    {
     "data": {
      "text/plain": [
       "0.103139475"
      ]
     },
     "execution_count": 21,
     "metadata": {},
     "output_type": "execute_result"
    }
   ],
   "source": [
    "word2vec_model.similarity('night', 'light')"
   ]
  },
  {
   "cell_type": "code",
   "execution_count": null,
   "metadata": {
    "id": "a-GJmlqix-fZ",
    "outputId": "68480d73-0e39-48c4-9f2c-b7017ba1db9e"
   },
   "outputs": [
    {
     "data": {
      "text/plain": [
       "0.22546582"
      ]
     },
     "execution_count": 22,
     "metadata": {},
     "output_type": "execute_result"
    }
   ],
   "source": [
    "word2vec_model.similarity('night', 'dark')"
   ]
  },
  {
   "cell_type": "code",
   "execution_count": null,
   "metadata": {
    "id": "TwCM-Oo1x-fZ",
    "outputId": "dca695ad-daa7-470d-d73f-b786324959df"
   },
   "outputs": [
    {
     "data": {
      "text/plain": [
       "0.082372606"
      ]
     },
     "execution_count": 24,
     "metadata": {},
     "output_type": "execute_result"
    }
   ],
   "source": [
    "word2vec_model.similarity('night', 'black')"
   ]
  },
  {
   "cell_type": "code",
   "execution_count": null,
   "metadata": {
    "id": "TxEvTY0Yx-fZ",
    "outputId": "6db278f3-4429-40c4-e84e-e314a3085509"
   },
   "outputs": [
    {
     "data": {
      "text/plain": [
       "0.6382406"
      ]
     },
     "execution_count": 27,
     "metadata": {},
     "output_type": "execute_result"
    }
   ],
   "source": [
    "word2vec_model.similarity('school', 'teacher')"
   ]
  },
  {
   "cell_type": "code",
   "execution_count": null,
   "metadata": {
    "id": "py_TOg5Vx-fa",
    "outputId": "9d2adb3a-feb7-4a97-9103-a1774d34b621"
   },
   "outputs": [
    {
     "data": {
      "text/plain": [
       "0.6055627"
      ]
     },
     "execution_count": 29,
     "metadata": {},
     "output_type": "execute_result"
    }
   ],
   "source": [
    "word2vec_model.similarity('school', 'student')"
   ]
  },
  {
   "cell_type": "code",
   "execution_count": null,
   "metadata": {
    "id": "rROoddWrx-fa",
    "outputId": "f493f6b2-9c6f-49f9-fd45-ecf4ebca6acd"
   },
   "outputs": [
    {
     "data": {
      "text/plain": [
       "0.63013655"
      ]
     },
     "execution_count": 36,
     "metadata": {},
     "output_type": "execute_result"
    }
   ],
   "source": [
    "word2vec_model.similarity('teacher', 'student')"
   ]
  },
  {
   "cell_type": "code",
   "execution_count": null,
   "metadata": {
    "id": "FA3HIbNUx-fa",
    "outputId": "2e50231d-a834-4cea-c566-786750702f49"
   },
   "outputs": [
    {
     "data": {
      "text/plain": [
       "0.80922145"
      ]
     },
     "execution_count": 38,
     "metadata": {},
     "output_type": "execute_result"
    }
   ],
   "source": [
    "word2vec_model.similarity('white', 'black')"
   ]
  },
  {
   "cell_type": "code",
   "execution_count": null,
   "metadata": {
    "id": "ympqoPMKx-fa",
    "outputId": "55c7e9d3-d497-42ea-c13a-6b4e17179501"
   },
   "outputs": [
    {
     "data": {
      "text/plain": [
       "0.28512627"
      ]
     },
     "execution_count": 40,
     "metadata": {},
     "output_type": "execute_result"
    }
   ],
   "source": [
    "word2vec_model.similarity('white', 'light')"
   ]
  },
  {
   "cell_type": "markdown",
   "metadata": {
    "id": "AVb56aqzx-fa",
    "jp-MarkdownHeadingCollapsed": true
   },
   "source": [
    "### 🔵 **Gensim (Tiny Example)**"
   ]
  },
  {
   "cell_type": "code",
   "execution_count": null,
   "metadata": {
    "id": "REBjqj_Yx-fb",
    "outputId": "6b1c3d50-68ec-4bc5-e12e-634f63dc2917"
   },
   "outputs": [
    {
     "data": {
      "text/plain": [
       "[['I', 'love', 'natural', 'language', 'processing'],\n",
       " ['Word2vec', 'is', 'a', 'gereat', 'tool'],\n",
       " ['I', 'enjoy', 'working', 'with', 'text', 'data']]"
      ]
     },
     "execution_count": 43,
     "metadata": {},
     "output_type": "execute_result"
    }
   ],
   "source": [
    "sentences = [['I', 'love', 'natural', 'language', 'processing'],\n",
    "             ['Word2vec', 'is' ,'a', 'gereat', 'tool'],\n",
    "             ['I', 'enjoy', 'working', 'with', 'text', 'data']]\n",
    "sentences"
   ]
  },
  {
   "cell_type": "code",
   "execution_count": null,
   "metadata": {
    "id": "1QzylZHlx-fb"
   },
   "outputs": [],
   "source": [
    "model = Word2Vec(sentences, vector_size = 100, window = 5, min_count = 1, workers = 2)"
   ]
  },
  {
   "cell_type": "code",
   "execution_count": null,
   "metadata": {
    "id": "D2vScjICx-fb",
    "outputId": "2f9f7b50-0ae4-45bd-8a23-faf10512a4c2"
   },
   "outputs": [
    {
     "data": {
      "text/plain": [
       "<gensim.models.word2vec.Word2Vec at 0x15d8c63af60>"
      ]
     },
     "execution_count": 47,
     "metadata": {},
     "output_type": "execute_result"
    }
   ],
   "source": [
    "model"
   ]
  },
  {
   "cell_type": "code",
   "execution_count": null,
   "metadata": {
    "id": "p0AVmmhgx-fc",
    "outputId": "835fd588-6bb6-4dbf-fe92-9f0e372bc436"
   },
   "outputs": [
    {
     "data": {
      "text/plain": [
       "(100,)"
      ]
     },
     "execution_count": 49,
     "metadata": {},
     "output_type": "execute_result"
    }
   ],
   "source": [
    "model.wv['tool'].shape"
   ]
  },
  {
   "cell_type": "code",
   "execution_count": null,
   "metadata": {
    "id": "fefqiFYix-fc",
    "outputId": "bd4de6ef-a670-4f17-fa75-b0ebb06d59bb"
   },
   "outputs": [
    {
     "data": {
      "text/plain": [
       "(15, (15, 100))"
      ]
     },
     "execution_count": 51,
     "metadata": {},
     "output_type": "execute_result"
    }
   ],
   "source": [
    "len(model.wv), model.wv.vectors.shape"
   ]
  },
  {
   "cell_type": "code",
   "execution_count": null,
   "metadata": {
    "id": "ia9fTrW0x-fc",
    "outputId": "542f148d-4271-4f55-c30b-015f88e22895"
   },
   "outputs": [
    {
     "data": {
      "text/plain": [
       "[('is', 0.21617145836353302), ('language', 0.09310111403465271)]"
      ]
     },
     "execution_count": 53,
     "metadata": {},
     "output_type": "execute_result"
    }
   ],
   "source": [
    "model.wv.most_similar('I', topn = 2)"
   ]
  },
  {
   "cell_type": "code",
   "execution_count": null,
   "metadata": {
    "id": "KhDXZz_Ix-fc",
    "outputId": "f79d9cb2-64f4-433d-839d-263037f6f5ae"
   },
   "outputs": [
    {
     "data": {
      "text/plain": [
       "0.044689223"
      ]
     },
     "execution_count": 55,
     "metadata": {},
     "output_type": "execute_result"
    }
   ],
   "source": [
    "model.wv.similarity('is', 'a')"
   ]
  },
  {
   "cell_type": "markdown",
   "metadata": {
    "id": "2vbhlUCCx-fd",
    "jp-MarkdownHeadingCollapsed": true
   },
   "source": [
    "### 🔵 **Gensim (Full Exapmple)**"
   ]
  },
  {
   "cell_type": "code",
   "execution_count": null,
   "metadata": {
    "id": "kg-eIat-x-fd",
    "outputId": "18c746e2-2cbc-4baf-ebce-2a4b0e22395a"
   },
   "outputs": [
    {
     "data": {
      "text/plain": [
       "['spot', 'spot', 'saw', 'the', 'shiny', 'car', 'and', 'said', 'wow', 'kitty']"
      ]
     },
     "execution_count": 103,
     "metadata": {},
     "output_type": "execute_result"
    }
   ],
   "source": [
    "sample = valid_data['text']\n",
    "sentences = [simple_preprocess(st) for st in sample]\n",
    "sentences[0][0:10]"
   ]
  },
  {
   "cell_type": "code",
   "execution_count": null,
   "metadata": {
    "id": "cEBUWeHCx-fd"
   },
   "outputs": [],
   "source": [
    "model = Word2Vec(sentences, vector_size = 100, window = 5, min_count = 1, workers = 2)"
   ]
  },
  {
   "cell_type": "code",
   "execution_count": null,
   "metadata": {
    "id": "JBUe2Azgx-fq",
    "outputId": "7880e426-f53b-417a-c881-33c951004e39"
   },
   "outputs": [
    {
     "data": {
      "text/plain": [
       "(11705, 100)"
      ]
     },
     "execution_count": 105,
     "metadata": {},
     "output_type": "execute_result"
    }
   ],
   "source": [
    "model.wv.vectors.shape"
   ]
  },
  {
   "cell_type": "code",
   "execution_count": null,
   "metadata": {
    "id": "Kgz5HfWXx-fq",
    "outputId": "d6e9b9fd-b138-4403-8c6b-30b2d33b1007"
   },
   "outputs": [
    {
     "data": {
      "text/plain": [
       "[('gloomy', 0.6975486874580383),\n",
       " ('lightning', 0.6646126508712769),\n",
       " ('darker', 0.6427031755447388),\n",
       " ('storm', 0.6369167566299438),\n",
       " ('raining', 0.6023430228233337)]"
      ]
     },
     "execution_count": 106,
     "metadata": {},
     "output_type": "execute_result"
    }
   ],
   "source": [
    "model.wv.most_similar('dark', topn = 5)"
   ]
  },
  {
   "cell_type": "code",
   "execution_count": null,
   "metadata": {
    "id": "ZFSZcxn7x-fr",
    "outputId": "3e6f811f-6e53-4f81-83e6-9f8cb39e47f6"
   },
   "outputs": [
    {
     "data": {
      "text/plain": [
       "[('meeting', 0.746457040309906),\n",
       " ('restaurant', 0.7035642862319946),\n",
       " ('class', 0.7009042501449585),\n",
       " ('zoo', 0.6938849687576294),\n",
       " ('market', 0.6604704260826111)]"
      ]
     },
     "execution_count": 107,
     "metadata": {},
     "output_type": "execute_result"
    }
   ],
   "source": [
    "model.wv.most_similar('school', topn = 5)"
   ]
  },
  {
   "cell_type": "code",
   "execution_count": null,
   "metadata": {
    "id": "HB2a3dNGx-fr",
    "outputId": "9de48ecb-81bb-4d0c-8ede-8c8154870686"
   },
   "outputs": [
    {
     "data": {
      "text/plain": [
       "0.79607415"
      ]
     },
     "execution_count": 108,
     "metadata": {},
     "output_type": "execute_result"
    }
   ],
   "source": [
    "model.wv.similarity('king', 'queen')"
   ]
  },
  {
   "cell_type": "code",
   "execution_count": null,
   "metadata": {
    "id": "hgjV4neWx-fr",
    "outputId": "4cb0f7ca-23a1-4755-e0a4-2d532c66507a"
   },
   "outputs": [
    {
     "data": {
      "text/plain": [
       "(100,)"
      ]
     },
     "execution_count": 109,
     "metadata": {},
     "output_type": "execute_result"
    }
   ],
   "source": [
    "model.wv['king'].shape"
   ]
  },
  {
   "cell_type": "markdown",
   "metadata": {
    "id": "y61S6Tbjx-fs"
   },
   "source": [
    "### 🔵 **From Scratch**"
   ]
  },
  {
   "cell_type": "code",
   "execution_count": 6,
   "metadata": {
    "id": "FyrmPRcgx-fs"
   },
   "outputs": [],
   "source": [
    "model = models.BPE(unk_token = '[UNK]')\n",
    "tokenizer = Tokenizer(model = model)\n",
    "tokenizer.add_special_tokens(['[UNK]'])\n",
    "tokenizer.pre_tokenizer  = pre_tokenizers.ByteLevel(add_prefix_space=False)\n",
    "trainer = trainers.BpeTrainer(vocab_size = 50000, min_frequency = 0, show_progress = True, special_tokens = ['[UNK]'])\n",
    "\n",
    "tokenizer.decoder = decoders.ByteLevel(add_prefix_space=False)"
   ]
  },
  {
   "cell_type": "code",
   "execution_count": 7,
   "metadata": {
    "id": "V-myGb6sx-ft"
   },
   "outputs": [],
   "source": [
    "try:\n",
    "    tokenizer = tokenizer.from_file('bpe_tokenizer-50k.json')\n",
    "except:\n",
    "    tokenizer.train_from_iterator(train_data['text'], trainer)\n",
    "    tokenizer.save('bpe_tokenizer-50k.json')"
   ]
  },
  {
   "cell_type": "code",
   "execution_count": 8,
   "metadata": {
    "colab": {
     "base_uri": "https://localhost:8080/"
    },
    "id": "uzaMLmGIx-ft",
    "outputId": "7ace20bb-625a-4109-afb1-386b81cfc492"
   },
   "outputs": [
    {
     "data": {
      "text/plain": [
       "['[UNK]', '[CLS]', '[SEP]', '!', '\"', '#', '$', '%', '&', \"'\", '(', ')', '*']"
      ]
     },
     "execution_count": 8,
     "metadata": {},
     "output_type": "execute_result"
    }
   ],
   "source": [
    "vocab = tokenizer.get_vocab()\n",
    "sorted_vocab = dict(sorted(vocab.items(), key = lambda item:item[1]))\n",
    "list(sorted_vocab.keys())[0:13]"
   ]
  },
  {
   "cell_type": "code",
   "execution_count": 9,
   "metadata": {
    "colab": {
     "base_uri": "https://localhost:8080/"
    },
    "id": "N0Tljdtxx-ft",
    "outputId": "e303c81d-d7ea-409f-d3b4-b67cfe54885e"
   },
   "outputs": [
    {
     "data": {
      "text/plain": [
       "21990"
      ]
     },
     "execution_count": 9,
     "metadata": {},
     "output_type": "execute_result"
    }
   ],
   "source": [
    "len(valid_data)"
   ]
  },
  {
   "cell_type": "code",
   "execution_count": 10,
   "metadata": {
    "colab": {
     "base_uri": "https://localhost:8080/"
    },
    "id": "i6-ZCR_kx-ft",
    "outputId": "5e9c4522-d45a-4d45-a083-764405165d1c"
   },
   "outputs": [
    {
     "data": {
      "text/plain": [
       "(1902092921, 19212307)"
      ]
     },
     "execution_count": 10,
     "metadata": {},
     "output_type": "execute_result"
    }
   ],
   "source": [
    "train_text = ' '.join(train_data['text'])\n",
    "valid_text = ' '.join(valid_data['text'])\n",
    "len(train_text), len(valid_text)"
   ]
  },
  {
   "cell_type": "code",
   "execution_count": 29,
   "metadata": {
    "id": "QGab4W9dx-fu"
   },
   "outputs": [],
   "source": [
    "class TinyStoriesDataset(Dataset):\n",
    "    def __init__(self, text, window = 3, num_window = 10000, method = 'cbow', tokenizer = None):\n",
    "        self.wl = 50\n",
    "        self.window = window\n",
    "        self.num_window = num_window\n",
    "        self.method = method\n",
    "        if self.method != 'cbow' and self.method != 'skip-gram':\n",
    "            raise ValueError(f\"{method} dosn't exist! (cbow and skip-gram)\")\n",
    "        self.text = text\n",
    "        self.tokenizer = tokenizer\n",
    "        self.num_ch = len(text)\n",
    "        self.upper_limit = self.num_ch - len(''.join(self.tokenizer.encode\\\n",
    "                              (self.text[self.num_ch - int(self.window/2) * self.wl:]).tokens[-int(self.window/2):])) - self.wl\n",
    "\n",
    "        self.lower_limit = len(''.join(self.tokenizer.encode\\\n",
    "                              (self.text[:int(self.window/2) * self.wl]).tokens[:int(self.window/2)])) + self.wl\n",
    "\n",
    "    def __getsample__(self, r):\n",
    "        l = r - int(self.window/2)*self.wl\n",
    "        l = l if l>0 else 0\n",
    "        u = r + int(self.window/2)*self.wl\n",
    "        text = self.text[l:u]\n",
    "        tokens = self.tokenizer.encode(text).ids\n",
    "        r_c = random.randint(int(self.window/2), len(tokens)-1-int(self.window/2))\n",
    "        tokens = tokens[r_c - int(self.window/2):r_c+int(self.window/2)+1]\n",
    "        c = tokens[int(len(tokens)/2)]\n",
    "        tokens.remove(c)\n",
    "        if self.method == 'cbow':\n",
    "            return torch.tensor(tokens), torch.tensor(c)\n",
    "        e = random.choice(tokens)\n",
    "        if self.method == 'skip-gram':\n",
    "            return torch.tensor(c), torch.tensor(e)\n",
    "\n",
    "\n",
    "    def __getitem__(self, index):\n",
    "        r = random.randint(self.lower_limit, self.upper_limit-1)\n",
    "        return self.__getsample__(r)\n",
    "\n",
    "    def __len__(self):\n",
    "        return self.num_window"
   ]
  },
  {
   "cell_type": "code",
   "execution_count": 31,
   "metadata": {
    "colab": {
     "base_uri": "https://localhost:8080/"
    },
    "id": "sOGPC65rx-fv",
    "outputId": "aca73879-860b-4689-fbc8-36a7be892bfd"
   },
   "outputs": [
    {
     "data": {
      "text/plain": [
       "(100000, 20000)"
      ]
     },
     "execution_count": 31,
     "metadata": {},
     "output_type": "execute_result"
    }
   ],
   "source": [
    "window = 3\n",
    "num_window = 100000\n",
    "method = 'cbow'\n",
    "train_dataset = TinyStoriesDataset(train_text, window = window, num_window = num_window, method = method, tokenizer = tokenizer)\n",
    "valid_dataset = TinyStoriesDataset(valid_text, window = window, num_window = 20000, method = method, tokenizer = tokenizer)\n",
    "len(train_dataset), len(valid_dataset)"
   ]
  },
  {
   "cell_type": "code",
   "execution_count": 32,
   "metadata": {
    "colab": {
     "base_uri": "https://localhost:8080/"
    },
    "id": "j9co88DPx-fv",
    "outputId": "a023c129-b81a-4a24-8ccd-e9b24e5a0857"
   },
   "outputs": [
    {
     "data": {
      "text/plain": [
       "(tensor([580, 217]), tensor(16))"
      ]
     },
     "execution_count": 32,
     "metadata": {},
     "output_type": "execute_result"
    }
   ],
   "source": [
    "x, y = train_dataset[0]\n",
    "x, y"
   ]
  },
  {
   "cell_type": "code",
   "execution_count": 33,
   "metadata": {
    "id": "XWpSWGaAx-fw"
   },
   "outputs": [],
   "source": [
    "train_loader = DataLoader(train_dataset, batch_size = 4096, shuffle = True)\n",
    "valid_loader = DataLoader(valid_dataset, batch_size = 4096, shuffle = True)"
   ]
  },
  {
   "cell_type": "code",
   "execution_count": 34,
   "metadata": {
    "colab": {
     "base_uri": "https://localhost:8080/"
    },
    "id": "NpHKIgQEx-fx",
    "outputId": "530fc920-14e3-4535-aace-72db1d1e6ae9"
   },
   "outputs": [
    {
     "data": {
      "text/plain": [
       "(torch.Size([4096, 2]), torch.Size([4096]))"
      ]
     },
     "execution_count": 34,
     "metadata": {},
     "output_type": "execute_result"
    }
   ],
   "source": [
    "x, y = next(iter(train_loader))\n",
    "x.shape, y.shape"
   ]
  },
  {
   "cell_type": "code",
   "execution_count": 35,
   "metadata": {
    "id": "gyT7NFGNx-fx"
   },
   "outputs": [],
   "source": [
    "seed = 42\n",
    "vocab_size = len(tokenizer.get_vocab())"
   ]
  },
  {
   "cell_type": "code",
   "execution_count": 36,
   "metadata": {
    "id": "n3pePsBTx-fy"
   },
   "outputs": [],
   "source": [
    "class Word2VecEmbedding(nn.Module):\n",
    "    def __init__(self, vocab_size, embedd_dim, method = 'cbow'):\n",
    "        super(Word2VecEmbedding, self).__init__()\n",
    "        self.embedding = nn.Embedding(vocab_size, embedd_dim)\n",
    "        self.fc        = nn.Linear(embedd_dim, vocab_size)\n",
    "        self.method = method\n",
    "\n",
    "    def forward(self, input):\n",
    "        y = self.embedding(input)\n",
    "        if self.method == 'cbow':\n",
    "            y = torch.mean(y, dim = 1)\n",
    "        return self.fc(y)"
   ]
  },
  {
   "cell_type": "code",
   "execution_count": 37,
   "metadata": {
    "colab": {
     "base_uri": "https://localhost:8080/"
    },
    "id": "XY5Qhihgx-fy",
    "outputId": "179d0e92-ed0a-4d71-8667-9cbab5acb2f1"
   },
   "outputs": [
    {
     "data": {
      "text/plain": [
       "Word2VecEmbedding(\n",
       "  (embedding): Embedding(50000, 300)\n",
       "  (fc): Linear(in_features=300, out_features=50000, bias=True)\n",
       ")"
      ]
     },
     "execution_count": 37,
     "metadata": {},
     "output_type": "execute_result"
    }
   ],
   "source": [
    "model = Word2VecEmbedding(vocab_size, 300)\n",
    "model"
   ]
  },
  {
   "cell_type": "code",
   "execution_count": 38,
   "metadata": {
    "colab": {
     "base_uri": "https://localhost:8080/"
    },
    "id": "iDernW4qx-fz",
    "outputId": "2cd43a71-9e28-49bc-d65f-3d989578262c"
   },
   "outputs": [
    {
     "name": "stdout",
     "output_type": "stream",
     "text": [
      "torch.Size([4096, 2]) torch.Size([4096])\n",
      "torch.Size([4096, 50000])\n"
     ]
    }
   ],
   "source": [
    "x, y = next(iter(train_loader))\n",
    "print(x.shape, y.shape)\n",
    "print(model(x).shape)"
   ]
  },
  {
   "cell_type": "code",
   "execution_count": 39,
   "metadata": {
    "colab": {
     "base_uri": "https://localhost:8080/",
     "height": 36
    },
    "id": "D-gdsF0ix-fz",
    "outputId": "47df5eec-5b0c-4606-b195-35b37826e69c"
   },
   "outputs": [
    {
     "data": {
      "application/vnd.google.colaboratory.intrinsic+json": {
       "type": "string"
      },
      "text/plain": [
       "'cuda'"
      ]
     },
     "execution_count": 39,
     "metadata": {},
     "output_type": "execute_result"
    }
   ],
   "source": [
    "device = 'cuda' if torch.cuda.is_available() else 'cpu'\n",
    "device"
   ]
  },
  {
   "cell_type": "code",
   "execution_count": 40,
   "metadata": {
    "id": "cNSTIY0Dx-fz"
   },
   "outputs": [],
   "source": [
    "class AverageMeter(object):\n",
    "    \"\"\"Computes and stores the average and current value\"\"\"\n",
    "    def __init__(self):\n",
    "        self.reset()\n",
    "\n",
    "    def reset(self):\n",
    "        self.val = 0\n",
    "        self.avg = 0\n",
    "        self.sum = 0\n",
    "        self.count = 0\n",
    "\n",
    "    def update(self, val, n=1):\n",
    "        self.val = val\n",
    "        self.sum += val * n\n",
    "        self.count += n\n",
    "        self.avg = self.sum / self.count"
   ]
  },
  {
   "cell_type": "code",
   "execution_count": 41,
   "metadata": {
    "id": "5dTTpO9Tx-f0"
   },
   "outputs": [],
   "source": [
    "def num_trainable_params(model):\n",
    "  nums = sum(p.numel() for p in model.parameters() if p.requires_grad)/1e6\n",
    "  return nums"
   ]
  },
  {
   "cell_type": "code",
   "execution_count": 42,
   "metadata": {
    "id": "95x6TSV1x-f0"
   },
   "outputs": [],
   "source": [
    "def set_seed(seed):\n",
    "  np.random.seed(seed)\n",
    "  torch.manual_seed(seed)\n",
    "  if torch.cuda.is_available():\n",
    "      torch.cuda.manual_seed(seed)"
   ]
  },
  {
   "cell_type": "code",
   "execution_count": 43,
   "metadata": {
    "id": "Mj-k_jkrx-f0"
   },
   "outputs": [],
   "source": [
    "def train_one_epoch(model, train_loader, loss_func, metric, optimizer, shedular, epoch):\n",
    "    model.train()\n",
    "    train_loss=AverageMeter()\n",
    "    metric.reset()\n",
    "\n",
    "    with tqdm(train_loader, unit='batch') as tepoch:\n",
    "        for idx, (inputs, targets) in enumerate(tepoch):\n",
    "            if epoch is not None:\n",
    "                tepoch.set_description(f'Epoch={epoch}')\n",
    "\n",
    "            optimizer.zero_grad()\n",
    "            inputs = inputs.to(device)\n",
    "            targets = targets.to(device)\n",
    "            out = model(inputs)\n",
    "            loss = loss_func(out, targets)\n",
    "\n",
    "            loss.backward()\n",
    "            torch.nn.utils.clip_grad_norm_(model.parameters(), max_norm=5.0)\n",
    "            optimizer.step()\n",
    "            if shedular:\n",
    "                shedular.step()\n",
    "            train_loss.update(loss.item())\n",
    "            metric.update(out, targets)\n",
    "\n",
    "            tepoch.set_postfix(loss = train_loss.avg, accuracy = metric.compute().item())\n",
    "    return model, train_loss.avg, metric.compute().item()"
   ]
  },
  {
   "cell_type": "code",
   "execution_count": 44,
   "metadata": {
    "id": "MEy229tox-f1"
   },
   "outputs": [],
   "source": [
    "def validation(model, valid_loader, loss_func, metric, epoch):\n",
    "    model.eval()\n",
    "    valid_loss=AverageMeter()\n",
    "    metric.reset()\n",
    "\n",
    "    with tqdm(valid_loader, unit='batch') as tepoch:\n",
    "        for idx, (inputs, targets) in enumerate(tepoch):\n",
    "            if epoch is not None:\n",
    "                tepoch.set_description(f'Epoch={epoch}')\n",
    "\n",
    "            inputs = inputs.to(device)\n",
    "            targets = targets.to(device)\n",
    "            out = model(inputs)\n",
    "            loss = loss_func(out, targets)\n",
    "            valid_loss.update(loss.item())\n",
    "            metric.update(out, targets)\n",
    "\n",
    "            tepoch.set_postfix(loss = valid_loss.avg, accuracy = metric.compute().item())\n",
    "    return valid_loss.avg, metric.compute().item()"
   ]
  },
  {
   "cell_type": "code",
   "execution_count": 45,
   "metadata": {
    "colab": {
     "base_uri": "https://localhost:8080/"
    },
    "id": "u8WEeSYex-f1",
    "outputId": "e473ae8b-209f-4a81-b35b-57b07c703c2c"
   },
   "outputs": [
    {
     "data": {
      "text/plain": [
       "30.05"
      ]
     },
     "execution_count": 45,
     "metadata": {},
     "output_type": "execute_result"
    }
   ],
   "source": [
    "model = model = Word2VecEmbedding(vocab_size, 300).to(device)\n",
    "num_trainable_params(model)"
   ]
  },
  {
   "cell_type": "code",
   "execution_count": 46,
   "metadata": {
    "id": "D49bfDnRx-f2"
   },
   "outputs": [],
   "source": [
    "set_seed(seed)\n",
    "train_loader = DataLoader(train_dataset, batch_size = 2048, shuffle = True)"
   ]
  },
  {
   "cell_type": "code",
   "execution_count": 47,
   "metadata": {
    "id": "L5qhRJ1kx-f2"
   },
   "outputs": [],
   "source": [
    "train_loss_hist, train_acc_hist = [], []\n",
    "valid_loss_hist, valid_acc_hist = [], []\n",
    "best_loss, best_acc = torch.inf, 0"
   ]
  },
  {
   "cell_type": "code",
   "execution_count": 49,
   "metadata": {
    "id": "IR56i09Sx-f2"
   },
   "outputs": [],
   "source": [
    "lr = 0.02\n",
    "epochs = 500\n",
    "#optimizer = optim.SGD(model.parameters(), lr = lr, momentum = 0.9, weight_decay = 1e-5)\n",
    "optimizer = optim.AdamW(model.parameters(), lr = lr, weight_decay = 1e-5)\n",
    "scheduler = OneCycleLR(optimizer,\n",
    "                     max_lr=0.01,\n",
    "                     steps_per_epoch=len(train_loader),\n",
    "                     epochs=epochs,\n",
    "                     pct_start=3/epochs,\n",
    "                     anneal_strategy='cos',\n",
    "                     div_factor=25.0,\n",
    "                     final_div_factor=1e4,\n",
    "                     base_momentum=0.85,\n",
    "                     max_momentum=0.95,\n",
    "                     last_epoch=-1)\n",
    "loss_func = nn.CrossEntropyLoss()\n",
    "metric    = tm.Accuracy(task = 'multiclass', num_classes = vocab_size).to(device)"
   ]
  },
  {
   "cell_type": "code",
   "execution_count": 50,
   "metadata": {
    "colab": {
     "base_uri": "https://localhost:8080/"
    },
    "id": "jPMT615Fx-f3",
    "outputId": "28c3016e-d369-4deb-ec82-e4e9d3e53a19"
   },
   "outputs": [
    {
     "metadata": {
      "tags": null
     },
     "name": "stderr",
     "output_type": "stream",
     "text": [
      "Epoch=0: 100%|██████████| 49/49 [00:17<00:00,  2.74batch/s, accuracy=0.0545, loss=9.77]\n",
      "Epoch=0: 100%|██████████| 5/5 [00:02<00:00,  1.96batch/s, accuracy=0.143, loss=7.69]\n"
     ]
    },
    {
     "metadata": {
      "tags": null
     },
     "name": "stdout",
     "output_type": "stream",
     "text": [
      "==================================================\n",
      "model saved√\n",
      "==================================================\n"
     ]
    },
    {
     "metadata": {
      "tags": null
     },
     "name": "stderr",
     "output_type": "stream",
     "text": [
      "Epoch=1: 100%|██████████| 49/49 [00:16<00:00,  3.02batch/s, accuracy=0.214, loss=5.77]\n",
      "Epoch=1: 100%|██████████| 5/5 [00:03<00:00,  1.64batch/s, accuracy=0.278, loss=4.62]\n"
     ]
    },
    {
     "metadata": {
      "tags": null
     },
     "name": "stdout",
     "output_type": "stream",
     "text": [
      "==================================================\n",
      "model saved√\n",
      "==================================================\n"
     ]
    },
    {
     "metadata": {
      "tags": null
     },
     "name": "stderr",
     "output_type": "stream",
     "text": [
      "Epoch=2: 100%|██████████| 49/49 [00:18<00:00,  2.58batch/s, accuracy=0.302, loss=4.32]\n",
      "Epoch=2: 100%|██████████| 5/5 [00:02<00:00,  1.76batch/s, accuracy=0.315, loss=4.23]\n"
     ]
    },
    {
     "metadata": {
      "tags": null
     },
     "name": "stdout",
     "output_type": "stream",
     "text": [
      "==================================================\n",
      "model saved√\n",
      "==================================================\n"
     ]
    },
    {
     "metadata": {
      "tags": null
     },
     "name": "stderr",
     "output_type": "stream",
     "text": [
      "Epoch=3: 100%|██████████| 49/49 [00:16<00:00,  2.89batch/s, accuracy=0.327, loss=4.04]\n",
      "Epoch=3: 100%|██████████| 5/5 [00:02<00:00,  1.93batch/s, accuracy=0.333, loss=3.94]\n"
     ]
    },
    {
     "metadata": {
      "tags": null
     },
     "name": "stdout",
     "output_type": "stream",
     "text": [
      "==================================================\n",
      "model saved√\n",
      "==================================================\n"
     ]
    },
    {
     "metadata": {
      "tags": null
     },
     "name": "stderr",
     "output_type": "stream",
     "text": [
      "Epoch=4: 100%|██████████| 49/49 [00:16<00:00,  3.03batch/s, accuracy=0.34, loss=3.88]\n",
      "Epoch=4: 100%|██████████| 5/5 [00:02<00:00,  1.85batch/s, accuracy=0.344, loss=3.83]\n"
     ]
    },
    {
     "metadata": {
      "tags": null
     },
     "name": "stdout",
     "output_type": "stream",
     "text": [
      "==================================================\n",
      "model saved√\n",
      "==================================================\n"
     ]
    },
    {
     "metadata": {
      "tags": null
     },
     "name": "stderr",
     "output_type": "stream",
     "text": [
      "Epoch=5: 100%|██████████| 49/49 [00:16<00:00,  2.95batch/s, accuracy=0.351, loss=3.77]\n",
      "Epoch=5: 100%|██████████| 5/5 [00:02<00:00,  1.94batch/s, accuracy=0.35, loss=3.74]\n"
     ]
    },
    {
     "metadata": {
      "tags": null
     },
     "name": "stdout",
     "output_type": "stream",
     "text": [
      "==================================================\n",
      "model saved√\n",
      "==================================================\n"
     ]
    },
    {
     "metadata": {
      "tags": null
     },
     "name": "stderr",
     "output_type": "stream",
     "text": [
      "Epoch=6: 100%|██████████| 49/49 [00:16<00:00,  3.01batch/s, accuracy=0.351, loss=3.71]\n",
      "Epoch=6: 100%|██████████| 5/5 [00:03<00:00,  1.45batch/s, accuracy=0.356, loss=3.68]\n"
     ]
    },
    {
     "metadata": {
      "tags": null
     },
     "name": "stdout",
     "output_type": "stream",
     "text": [
      "==================================================\n",
      "model saved√\n",
      "==================================================\n"
     ]
    },
    {
     "metadata": {
      "tags": null
     },
     "name": "stderr",
     "output_type": "stream",
     "text": [
      "Epoch=7: 100%|██████████| 49/49 [00:16<00:00,  3.02batch/s, accuracy=0.357, loss=3.65]\n",
      "Epoch=7: 100%|██████████| 5/5 [00:02<00:00,  1.88batch/s, accuracy=0.354, loss=3.66]\n"
     ]
    },
    {
     "metadata": {
      "tags": null
     },
     "name": "stdout",
     "output_type": "stream",
     "text": [
      "==================================================\n"
     ]
    },
    {
     "metadata": {
      "tags": null
     },
     "name": "stderr",
     "output_type": "stream",
     "text": [
      "Epoch=8: 100%|██████████| 49/49 [00:16<00:00,  2.99batch/s, accuracy=0.357, loss=3.61]\n",
      "Epoch=8: 100%|██████████| 5/5 [00:02<00:00,  1.93batch/s, accuracy=0.357, loss=3.59]\n"
     ]
    },
    {
     "metadata": {
      "tags": null
     },
     "name": "stdout",
     "output_type": "stream",
     "text": [
      "==================================================\n",
      "model saved√\n",
      "==================================================\n"
     ]
    },
    {
     "metadata": {
      "tags": null
     },
     "name": "stderr",
     "output_type": "stream",
     "text": [
      "Epoch=9: 100%|██████████| 49/49 [00:15<00:00,  3.16batch/s, accuracy=0.363, loss=3.57]\n",
      "Epoch=9: 100%|██████████| 5/5 [00:02<00:00,  1.88batch/s, accuracy=0.357, loss=3.62]\n"
     ]
    },
    {
     "metadata": {
      "tags": null
     },
     "name": "stdout",
     "output_type": "stream",
     "text": [
      "==================================================\n"
     ]
    },
    {
     "metadata": {
      "tags": null
     },
     "name": "stderr",
     "output_type": "stream",
     "text": [
      "Epoch=10: 100%|██████████| 49/49 [00:16<00:00,  2.96batch/s, accuracy=0.36, loss=3.57]\n",
      "Epoch=10: 100%|██████████| 5/5 [00:02<00:00,  1.99batch/s, accuracy=0.351, loss=3.6]\n"
     ]
    },
    {
     "metadata": {
      "tags": null
     },
     "name": "stdout",
     "output_type": "stream",
     "text": [
      "==================================================\n"
     ]
    },
    {
     "metadata": {
      "tags": null
     },
     "name": "stderr",
     "output_type": "stream",
     "text": [
      "Epoch=11: 100%|██████████| 49/49 [00:15<00:00,  3.07batch/s, accuracy=0.364, loss=3.53]\n",
      "Epoch=11: 100%|██████████| 5/5 [00:02<00:00,  1.87batch/s, accuracy=0.363, loss=3.56]\n"
     ]
    },
    {
     "metadata": {
      "tags": null
     },
     "name": "stdout",
     "output_type": "stream",
     "text": [
      "==================================================\n",
      "model saved√\n",
      "==================================================\n"
     ]
    },
    {
     "metadata": {
      "tags": null
     },
     "name": "stderr",
     "output_type": "stream",
     "text": [
      "Epoch=12: 100%|██████████| 49/49 [00:16<00:00,  2.97batch/s, accuracy=0.36, loss=3.54]\n",
      "Epoch=12: 100%|██████████| 5/5 [00:02<00:00,  2.04batch/s, accuracy=0.371, loss=3.49]\n"
     ]
    },
    {
     "metadata": {
      "tags": null
     },
     "name": "stdout",
     "output_type": "stream",
     "text": [
      "==================================================\n",
      "model saved√\n",
      "==================================================\n"
     ]
    },
    {
     "metadata": {
      "tags": null
     },
     "name": "stderr",
     "output_type": "stream",
     "text": [
      "Epoch=13: 100%|██████████| 49/49 [00:16<00:00,  3.06batch/s, accuracy=0.365, loss=3.49]\n",
      "Epoch=13: 100%|██████████| 5/5 [00:02<00:00,  1.89batch/s, accuracy=0.361, loss=3.5]\n"
     ]
    },
    {
     "metadata": {
      "tags": null
     },
     "name": "stdout",
     "output_type": "stream",
     "text": [
      "==================================================\n"
     ]
    },
    {
     "metadata": {
      "tags": null
     },
     "name": "stderr",
     "output_type": "stream",
     "text": [
      "Epoch=14: 100%|██████████| 49/49 [00:16<00:00,  3.00batch/s, accuracy=0.365, loss=3.51]\n",
      "Epoch=14: 100%|██████████| 5/5 [00:02<00:00,  2.10batch/s, accuracy=0.366, loss=3.5]\n"
     ]
    },
    {
     "metadata": {
      "tags": null
     },
     "name": "stdout",
     "output_type": "stream",
     "text": [
      "==================================================\n"
     ]
    },
    {
     "metadata": {
      "tags": null
     },
     "name": "stderr",
     "output_type": "stream",
     "text": [
      "Epoch=15: 100%|██████████| 49/49 [00:15<00:00,  3.08batch/s, accuracy=0.368, loss=3.47]\n",
      "Epoch=15: 100%|██████████| 5/5 [00:03<00:00,  1.54batch/s, accuracy=0.361, loss=3.5]\n"
     ]
    },
    {
     "metadata": {
      "tags": null
     },
     "name": "stdout",
     "output_type": "stream",
     "text": [
      "==================================================\n"
     ]
    },
    {
     "metadata": {
      "tags": null
     },
     "name": "stderr",
     "output_type": "stream",
     "text": [
      "Epoch=16: 100%|██████████| 49/49 [00:16<00:00,  3.01batch/s, accuracy=0.369, loss=3.47]\n",
      "Epoch=16: 100%|██████████| 5/5 [00:02<00:00,  1.92batch/s, accuracy=0.366, loss=3.47]\n"
     ]
    },
    {
     "metadata": {
      "tags": null
     },
     "name": "stdout",
     "output_type": "stream",
     "text": [
      "==================================================\n"
     ]
    },
    {
     "metadata": {
      "tags": null
     },
     "name": "stderr",
     "output_type": "stream",
     "text": [
      "Epoch=17: 100%|██████████| 49/49 [00:16<00:00,  3.00batch/s, accuracy=0.371, loss=3.43]\n",
      "Epoch=17: 100%|██████████| 5/5 [00:03<00:00,  1.42batch/s, accuracy=0.369, loss=3.46]\n"
     ]
    },
    {
     "metadata": {
      "tags": null
     },
     "name": "stdout",
     "output_type": "stream",
     "text": [
      "==================================================\n"
     ]
    },
    {
     "metadata": {
      "tags": null
     },
     "name": "stderr",
     "output_type": "stream",
     "text": [
      "Epoch=18: 100%|██████████| 49/49 [00:16<00:00,  2.99batch/s, accuracy=0.366, loss=3.45]\n",
      "Epoch=18: 100%|██████████| 5/5 [00:02<00:00,  2.05batch/s, accuracy=0.37, loss=3.45]\n"
     ]
    },
    {
     "metadata": {
      "tags": null
     },
     "name": "stdout",
     "output_type": "stream",
     "text": [
      "==================================================\n"
     ]
    },
    {
     "metadata": {
      "tags": null
     },
     "name": "stderr",
     "output_type": "stream",
     "text": [
      "Epoch=19: 100%|██████████| 49/49 [00:16<00:00,  2.95batch/s, accuracy=0.37, loss=3.44]\n",
      "Epoch=19: 100%|██████████| 5/5 [00:02<00:00,  2.07batch/s, accuracy=0.367, loss=3.46]\n"
     ]
    },
    {
     "metadata": {
      "tags": null
     },
     "name": "stdout",
     "output_type": "stream",
     "text": [
      "==================================================\n"
     ]
    },
    {
     "metadata": {
      "tags": null
     },
     "name": "stderr",
     "output_type": "stream",
     "text": [
      "Epoch=20: 100%|██████████| 49/49 [00:15<00:00,  3.10batch/s, accuracy=0.368, loss=3.45]\n",
      "Epoch=20: 100%|██████████| 5/5 [00:02<00:00,  1.83batch/s, accuracy=0.368, loss=3.44]\n"
     ]
    },
    {
     "metadata": {
      "tags": null
     },
     "name": "stdout",
     "output_type": "stream",
     "text": [
      "==================================================\n"
     ]
    },
    {
     "metadata": {
      "tags": null
     },
     "name": "stderr",
     "output_type": "stream",
     "text": [
      "Epoch=21: 100%|██████████| 49/49 [00:16<00:00,  2.94batch/s, accuracy=0.369, loss=3.43]\n",
      "Epoch=21: 100%|██████████| 5/5 [00:02<00:00,  2.08batch/s, accuracy=0.372, loss=3.43]\n"
     ]
    },
    {
     "metadata": {
      "tags": null
     },
     "name": "stdout",
     "output_type": "stream",
     "text": [
      "==================================================\n",
      "model saved√\n",
      "==================================================\n"
     ]
    },
    {
     "metadata": {
      "tags": null
     },
     "name": "stderr",
     "output_type": "stream",
     "text": [
      "Epoch=22: 100%|██████████| 49/49 [00:16<00:00,  3.04batch/s, accuracy=0.368, loss=3.43]\n",
      "Epoch=22: 100%|██████████| 5/5 [00:02<00:00,  1.67batch/s, accuracy=0.371, loss=3.41]\n"
     ]
    },
    {
     "metadata": {
      "tags": null
     },
     "name": "stdout",
     "output_type": "stream",
     "text": [
      "==================================================\n"
     ]
    },
    {
     "metadata": {
      "tags": null
     },
     "name": "stderr",
     "output_type": "stream",
     "text": [
      "Epoch=23: 100%|██████████| 49/49 [00:16<00:00,  2.93batch/s, accuracy=0.369, loss=3.42]\n",
      "Epoch=23: 100%|██████████| 5/5 [00:02<00:00,  1.98batch/s, accuracy=0.371, loss=3.39]\n"
     ]
    },
    {
     "metadata": {
      "tags": null
     },
     "name": "stdout",
     "output_type": "stream",
     "text": [
      "==================================================\n"
     ]
    },
    {
     "metadata": {
      "tags": null
     },
     "name": "stderr",
     "output_type": "stream",
     "text": [
      "Epoch=24: 100%|██████████| 49/49 [00:16<00:00,  3.06batch/s, accuracy=0.37, loss=3.4]\n",
      "Epoch=24: 100%|██████████| 5/5 [00:03<00:00,  1.59batch/s, accuracy=0.369, loss=3.43]\n"
     ]
    },
    {
     "metadata": {
      "tags": null
     },
     "name": "stdout",
     "output_type": "stream",
     "text": [
      "==================================================\n"
     ]
    },
    {
     "metadata": {
      "tags": null
     },
     "name": "stderr",
     "output_type": "stream",
     "text": [
      "Epoch=25: 100%|██████████| 49/49 [00:15<00:00,  3.11batch/s, accuracy=0.369, loss=3.4]\n",
      "Epoch=25: 100%|██████████| 5/5 [00:02<00:00,  1.93batch/s, accuracy=0.371, loss=3.42]\n"
     ]
    },
    {
     "metadata": {
      "tags": null
     },
     "name": "stdout",
     "output_type": "stream",
     "text": [
      "==================================================\n"
     ]
    },
    {
     "metadata": {
      "tags": null
     },
     "name": "stderr",
     "output_type": "stream",
     "text": [
      "Epoch=26: 100%|██████████| 49/49 [00:15<00:00,  3.14batch/s, accuracy=0.372, loss=3.4]\n",
      "Epoch=26: 100%|██████████| 5/5 [00:03<00:00,  1.54batch/s, accuracy=0.382, loss=3.36]\n"
     ]
    },
    {
     "metadata": {
      "tags": null
     },
     "name": "stdout",
     "output_type": "stream",
     "text": [
      "==================================================\n",
      "model saved√\n",
      "==================================================\n"
     ]
    },
    {
     "metadata": {
      "tags": null
     },
     "name": "stderr",
     "output_type": "stream",
     "text": [
      "Epoch=27: 100%|██████████| 49/49 [00:15<00:00,  3.12batch/s, accuracy=0.371, loss=3.4]\n",
      "Epoch=27: 100%|██████████| 5/5 [00:02<00:00,  1.77batch/s, accuracy=0.364, loss=3.46]\n"
     ]
    },
    {
     "metadata": {
      "tags": null
     },
     "name": "stdout",
     "output_type": "stream",
     "text": [
      "==================================================\n"
     ]
    },
    {
     "metadata": {
      "tags": null
     },
     "name": "stderr",
     "output_type": "stream",
     "text": [
      "Epoch=28: 100%|██████████| 49/49 [00:16<00:00,  2.98batch/s, accuracy=0.371, loss=3.4]\n",
      "Epoch=28: 100%|██████████| 5/5 [00:02<00:00,  1.82batch/s, accuracy=0.37, loss=3.38]\n"
     ]
    },
    {
     "metadata": {
      "tags": null
     },
     "name": "stdout",
     "output_type": "stream",
     "text": [
      "==================================================\n"
     ]
    },
    {
     "metadata": {
      "tags": null
     },
     "name": "stderr",
     "output_type": "stream",
     "text": [
      "Epoch=29: 100%|██████████| 49/49 [00:16<00:00,  3.05batch/s, accuracy=0.369, loss=3.4]\n",
      "Epoch=29: 100%|██████████| 5/5 [00:02<00:00,  2.01batch/s, accuracy=0.38, loss=3.36]\n"
     ]
    },
    {
     "metadata": {
      "tags": null
     },
     "name": "stdout",
     "output_type": "stream",
     "text": [
      "==================================================\n"
     ]
    },
    {
     "metadata": {
      "tags": null
     },
     "name": "stderr",
     "output_type": "stream",
     "text": [
      "Epoch=30: 100%|██████████| 49/49 [00:16<00:00,  3.05batch/s, accuracy=0.371, loss=3.39]\n",
      "Epoch=30: 100%|██████████| 5/5 [00:02<00:00,  2.00batch/s, accuracy=0.371, loss=3.4]\n"
     ]
    },
    {
     "metadata": {
      "tags": null
     },
     "name": "stdout",
     "output_type": "stream",
     "text": [
      "==================================================\n"
     ]
    },
    {
     "metadata": {
      "tags": null
     },
     "name": "stderr",
     "output_type": "stream",
     "text": [
      "Epoch=31: 100%|██████████| 49/49 [00:16<00:00,  3.01batch/s, accuracy=0.375, loss=3.37]\n",
      "Epoch=31: 100%|██████████| 5/5 [00:02<00:00,  1.73batch/s, accuracy=0.368, loss=3.36]\n"
     ]
    },
    {
     "metadata": {
      "tags": null
     },
     "name": "stdout",
     "output_type": "stream",
     "text": [
      "==================================================\n"
     ]
    },
    {
     "metadata": {
      "tags": null
     },
     "name": "stderr",
     "output_type": "stream",
     "text": [
      "Epoch=32: 100%|██████████| 49/49 [00:17<00:00,  2.84batch/s, accuracy=0.371, loss=3.4]\n",
      "Epoch=32: 100%|██████████| 5/5 [00:02<00:00,  1.87batch/s, accuracy=0.366, loss=3.4]\n"
     ]
    },
    {
     "metadata": {
      "tags": null
     },
     "name": "stdout",
     "output_type": "stream",
     "text": [
      "==================================================\n"
     ]
    },
    {
     "metadata": {
      "tags": null
     },
     "name": "stderr",
     "output_type": "stream",
     "text": [
      "Epoch=33: 100%|██████████| 49/49 [00:16<00:00,  2.96batch/s, accuracy=0.371, loss=3.38]\n",
      "Epoch=33: 100%|██████████| 5/5 [00:03<00:00,  1.35batch/s, accuracy=0.372, loss=3.38]\n"
     ]
    },
    {
     "metadata": {
      "tags": null
     },
     "name": "stdout",
     "output_type": "stream",
     "text": [
      "==================================================\n"
     ]
    },
    {
     "metadata": {
      "tags": null
     },
     "name": "stderr",
     "output_type": "stream",
     "text": [
      "Epoch=34: 100%|██████████| 49/49 [00:16<00:00,  2.89batch/s, accuracy=0.37, loss=3.39]\n",
      "Epoch=34: 100%|██████████| 5/5 [00:02<00:00,  1.85batch/s, accuracy=0.378, loss=3.36]\n"
     ]
    },
    {
     "metadata": {
      "tags": null
     },
     "name": "stdout",
     "output_type": "stream",
     "text": [
      "==================================================\n"
     ]
    },
    {
     "metadata": {
      "tags": null
     },
     "name": "stderr",
     "output_type": "stream",
     "text": [
      "Epoch=35: 100%|██████████| 49/49 [00:16<00:00,  2.92batch/s, accuracy=0.372, loss=3.37]\n",
      "Epoch=35: 100%|██████████| 5/5 [00:02<00:00,  1.76batch/s, accuracy=0.37, loss=3.4]\n"
     ]
    },
    {
     "metadata": {
      "tags": null
     },
     "name": "stdout",
     "output_type": "stream",
     "text": [
      "==================================================\n"
     ]
    },
    {
     "metadata": {
      "tags": null
     },
     "name": "stderr",
     "output_type": "stream",
     "text": [
      "Epoch=36: 100%|██████████| 49/49 [00:16<00:00,  3.03batch/s, accuracy=0.375, loss=3.36]\n",
      "Epoch=36: 100%|██████████| 5/5 [00:02<00:00,  2.01batch/s, accuracy=0.373, loss=3.36]\n"
     ]
    },
    {
     "metadata": {
      "tags": null
     },
     "name": "stdout",
     "output_type": "stream",
     "text": [
      "==================================================\n"
     ]
    },
    {
     "metadata": {
      "tags": null
     },
     "name": "stderr",
     "output_type": "stream",
     "text": [
      "Epoch=37: 100%|██████████| 49/49 [00:16<00:00,  2.90batch/s, accuracy=0.372, loss=3.37]\n",
      "Epoch=37: 100%|██████████| 5/5 [00:02<00:00,  1.70batch/s, accuracy=0.375, loss=3.35]\n"
     ]
    },
    {
     "metadata": {
      "tags": null
     },
     "name": "stdout",
     "output_type": "stream",
     "text": [
      "==================================================\n"
     ]
    },
    {
     "metadata": {
      "tags": null
     },
     "name": "stderr",
     "output_type": "stream",
     "text": [
      "Epoch=38: 100%|██████████| 49/49 [00:15<00:00,  3.09batch/s, accuracy=0.373, loss=3.37]\n",
      "Epoch=38: 100%|██████████| 5/5 [00:03<00:00,  1.62batch/s, accuracy=0.374, loss=3.36]\n"
     ]
    },
    {
     "metadata": {
      "tags": null
     },
     "name": "stdout",
     "output_type": "stream",
     "text": [
      "==================================================\n"
     ]
    },
    {
     "metadata": {
      "tags": null
     },
     "name": "stderr",
     "output_type": "stream",
     "text": [
      "Epoch=39: 100%|██████████| 49/49 [00:16<00:00,  3.01batch/s, accuracy=0.372, loss=3.37]\n",
      "Epoch=39: 100%|██████████| 5/5 [00:02<00:00,  1.76batch/s, accuracy=0.373, loss=3.36]\n"
     ]
    },
    {
     "metadata": {
      "tags": null
     },
     "name": "stdout",
     "output_type": "stream",
     "text": [
      "==================================================\n"
     ]
    },
    {
     "metadata": {
      "tags": null
     },
     "name": "stderr",
     "output_type": "stream",
     "text": [
      "Epoch=40: 100%|██████████| 49/49 [00:15<00:00,  3.08batch/s, accuracy=0.373, loss=3.35]\n",
      "Epoch=40: 100%|██████████| 5/5 [00:03<00:00,  1.58batch/s, accuracy=0.372, loss=3.4]\n"
     ]
    },
    {
     "metadata": {
      "tags": null
     },
     "name": "stdout",
     "output_type": "stream",
     "text": [
      "==================================================\n"
     ]
    },
    {
     "metadata": {
      "tags": null
     },
     "name": "stderr",
     "output_type": "stream",
     "text": [
      "Epoch=41: 100%|██████████| 49/49 [00:16<00:00,  3.00batch/s, accuracy=0.372, loss=3.38]\n",
      "Epoch=41: 100%|██████████| 5/5 [00:02<00:00,  1.77batch/s, accuracy=0.375, loss=3.36]\n"
     ]
    },
    {
     "metadata": {
      "tags": null
     },
     "name": "stdout",
     "output_type": "stream",
     "text": [
      "==================================================\n"
     ]
    },
    {
     "metadata": {
      "tags": null
     },
     "name": "stderr",
     "output_type": "stream",
     "text": [
      "Epoch=42: 100%|██████████| 49/49 [00:16<00:00,  2.92batch/s, accuracy=0.374, loss=3.36]\n",
      "Epoch=42: 100%|██████████| 5/5 [00:02<00:00,  2.03batch/s, accuracy=0.372, loss=3.36]\n"
     ]
    },
    {
     "metadata": {
      "tags": null
     },
     "name": "stdout",
     "output_type": "stream",
     "text": [
      "==================================================\n"
     ]
    },
    {
     "metadata": {
      "tags": null
     },
     "name": "stderr",
     "output_type": "stream",
     "text": [
      "Epoch=43: 100%|██████████| 49/49 [00:16<00:00,  3.02batch/s, accuracy=0.373, loss=3.36]\n",
      "Epoch=43: 100%|██████████| 5/5 [00:02<00:00,  1.89batch/s, accuracy=0.377, loss=3.31]\n"
     ]
    },
    {
     "metadata": {
      "tags": null
     },
     "name": "stdout",
     "output_type": "stream",
     "text": [
      "==================================================\n"
     ]
    },
    {
     "metadata": {
      "tags": null
     },
     "name": "stderr",
     "output_type": "stream",
     "text": [
      "Epoch=44: 100%|██████████| 49/49 [00:17<00:00,  2.82batch/s, accuracy=0.378, loss=3.33]\n",
      "Epoch=44: 100%|██████████| 5/5 [00:02<00:00,  1.98batch/s, accuracy=0.372, loss=3.38]\n"
     ]
    },
    {
     "metadata": {
      "tags": null
     },
     "name": "stdout",
     "output_type": "stream",
     "text": [
      "==================================================\n"
     ]
    },
    {
     "metadata": {
      "tags": null
     },
     "name": "stderr",
     "output_type": "stream",
     "text": [
      "Epoch=45: 100%|██████████| 49/49 [00:16<00:00,  2.97batch/s, accuracy=0.373, loss=3.35]\n",
      "Epoch=45: 100%|██████████| 5/5 [00:03<00:00,  1.52batch/s, accuracy=0.373, loss=3.38]\n"
     ]
    },
    {
     "metadata": {
      "tags": null
     },
     "name": "stdout",
     "output_type": "stream",
     "text": [
      "==================================================\n"
     ]
    },
    {
     "metadata": {
      "tags": null
     },
     "name": "stderr",
     "output_type": "stream",
     "text": [
      "Epoch=46: 100%|██████████| 49/49 [00:16<00:00,  2.96batch/s, accuracy=0.374, loss=3.36]\n",
      "Epoch=46: 100%|██████████| 5/5 [00:02<00:00,  2.11batch/s, accuracy=0.369, loss=3.34]\n"
     ]
    },
    {
     "metadata": {
      "tags": null
     },
     "name": "stdout",
     "output_type": "stream",
     "text": [
      "==================================================\n"
     ]
    },
    {
     "metadata": {
      "tags": null
     },
     "name": "stderr",
     "output_type": "stream",
     "text": [
      "Epoch=47: 100%|██████████| 49/49 [00:16<00:00,  3.01batch/s, accuracy=0.374, loss=3.34]\n",
      "Epoch=47: 100%|██████████| 5/5 [00:03<00:00,  1.41batch/s, accuracy=0.371, loss=3.32]\n"
     ]
    },
    {
     "metadata": {
      "tags": null
     },
     "name": "stdout",
     "output_type": "stream",
     "text": [
      "==================================================\n"
     ]
    },
    {
     "metadata": {
      "tags": null
     },
     "name": "stderr",
     "output_type": "stream",
     "text": [
      "Epoch=48: 100%|██████████| 49/49 [00:16<00:00,  2.94batch/s, accuracy=0.374, loss=3.34]\n",
      "Epoch=48: 100%|██████████| 5/5 [00:02<00:00,  1.93batch/s, accuracy=0.372, loss=3.32]\n"
     ]
    },
    {
     "metadata": {
      "tags": null
     },
     "name": "stdout",
     "output_type": "stream",
     "text": [
      "==================================================\n"
     ]
    },
    {
     "metadata": {
      "tags": null
     },
     "name": "stderr",
     "output_type": "stream",
     "text": [
      "Epoch=49: 100%|██████████| 49/49 [00:17<00:00,  2.88batch/s, accuracy=0.373, loss=3.34]\n",
      "Epoch=49: 100%|██████████| 5/5 [00:03<00:00,  1.62batch/s, accuracy=0.383, loss=3.32]\n"
     ]
    },
    {
     "metadata": {
      "tags": null
     },
     "name": "stdout",
     "output_type": "stream",
     "text": [
      "==================================================\n",
      "model saved√\n",
      "==================================================\n"
     ]
    },
    {
     "metadata": {
      "tags": null
     },
     "name": "stderr",
     "output_type": "stream",
     "text": [
      "Epoch=50: 100%|██████████| 49/49 [00:17<00:00,  2.85batch/s, accuracy=0.374, loss=3.34]\n",
      "Epoch=50: 100%|██████████| 5/5 [00:03<00:00,  1.55batch/s, accuracy=0.379, loss=3.35]\n"
     ]
    },
    {
     "metadata": {
      "tags": null
     },
     "name": "stdout",
     "output_type": "stream",
     "text": [
      "==================================================\n"
     ]
    },
    {
     "metadata": {
      "tags": null
     },
     "name": "stderr",
     "output_type": "stream",
     "text": [
      "Epoch=51: 100%|██████████| 49/49 [00:16<00:00,  3.06batch/s, accuracy=0.374, loss=3.34]\n",
      "Epoch=51: 100%|██████████| 5/5 [00:02<00:00,  1.74batch/s, accuracy=0.375, loss=3.33]\n"
     ]
    },
    {
     "metadata": {
      "tags": null
     },
     "name": "stdout",
     "output_type": "stream",
     "text": [
      "==================================================\n"
     ]
    },
    {
     "metadata": {
      "tags": null
     },
     "name": "stderr",
     "output_type": "stream",
     "text": [
      "Epoch=52: 100%|██████████| 49/49 [00:16<00:00,  2.94batch/s, accuracy=0.379, loss=3.32]\n",
      "Epoch=52: 100%|██████████| 5/5 [00:03<00:00,  1.61batch/s, accuracy=0.371, loss=3.34]\n"
     ]
    },
    {
     "metadata": {
      "tags": null
     },
     "name": "stdout",
     "output_type": "stream",
     "text": [
      "==================================================\n"
     ]
    },
    {
     "metadata": {
      "tags": null
     },
     "name": "stderr",
     "output_type": "stream",
     "text": [
      "Epoch=53: 100%|██████████| 49/49 [00:16<00:00,  2.90batch/s, accuracy=0.373, loss=3.34]\n",
      "Epoch=53: 100%|██████████| 5/5 [00:02<00:00,  1.95batch/s, accuracy=0.373, loss=3.31]\n"
     ]
    },
    {
     "metadata": {
      "tags": null
     },
     "name": "stdout",
     "output_type": "stream",
     "text": [
      "==================================================\n"
     ]
    },
    {
     "metadata": {
      "tags": null
     },
     "name": "stderr",
     "output_type": "stream",
     "text": [
      "Epoch=54: 100%|██████████| 49/49 [00:16<00:00,  2.92batch/s, accuracy=0.373, loss=3.35]\n",
      "Epoch=54: 100%|██████████| 5/5 [00:02<00:00,  1.82batch/s, accuracy=0.376, loss=3.32]\n"
     ]
    },
    {
     "metadata": {
      "tags": null
     },
     "name": "stdout",
     "output_type": "stream",
     "text": [
      "==================================================\n"
     ]
    },
    {
     "metadata": {
      "tags": null
     },
     "name": "stderr",
     "output_type": "stream",
     "text": [
      "Epoch=55: 100%|██████████| 49/49 [00:15<00:00,  3.14batch/s, accuracy=0.376, loss=3.33]\n",
      "Epoch=55: 100%|██████████| 5/5 [00:02<00:00,  1.85batch/s, accuracy=0.372, loss=3.37]\n"
     ]
    },
    {
     "metadata": {
      "tags": null
     },
     "name": "stdout",
     "output_type": "stream",
     "text": [
      "==================================================\n"
     ]
    },
    {
     "metadata": {
      "tags": null
     },
     "name": "stderr",
     "output_type": "stream",
     "text": [
      "Epoch=56: 100%|██████████| 49/49 [00:16<00:00,  2.93batch/s, accuracy=0.373, loss=3.34]\n",
      "Epoch=56: 100%|██████████| 5/5 [00:02<00:00,  1.97batch/s, accuracy=0.367, loss=3.37]\n"
     ]
    },
    {
     "metadata": {
      "tags": null
     },
     "name": "stdout",
     "output_type": "stream",
     "text": [
      "==================================================\n"
     ]
    },
    {
     "metadata": {
      "tags": null
     },
     "name": "stderr",
     "output_type": "stream",
     "text": [
      "Epoch=57: 100%|██████████| 49/49 [00:16<00:00,  3.02batch/s, accuracy=0.373, loss=3.32]\n",
      "Epoch=57: 100%|██████████| 5/5 [00:02<00:00,  1.75batch/s, accuracy=0.38, loss=3.33]\n"
     ]
    },
    {
     "metadata": {
      "tags": null
     },
     "name": "stdout",
     "output_type": "stream",
     "text": [
      "==================================================\n"
     ]
    },
    {
     "metadata": {
      "tags": null
     },
     "name": "stderr",
     "output_type": "stream",
     "text": [
      "Epoch=58: 100%|██████████| 49/49 [00:16<00:00,  2.94batch/s, accuracy=0.372, loss=3.34]\n",
      "Epoch=58: 100%|██████████| 5/5 [00:02<00:00,  1.92batch/s, accuracy=0.38, loss=3.31]\n"
     ]
    },
    {
     "metadata": {
      "tags": null
     },
     "name": "stdout",
     "output_type": "stream",
     "text": [
      "==================================================\n"
     ]
    },
    {
     "metadata": {
      "tags": null
     },
     "name": "stderr",
     "output_type": "stream",
     "text": [
      "Epoch=59: 100%|██████████| 49/49 [00:15<00:00,  3.16batch/s, accuracy=0.375, loss=3.33]\n",
      "Epoch=59: 100%|██████████| 5/5 [00:03<00:00,  1.55batch/s, accuracy=0.377, loss=3.33]\n"
     ]
    },
    {
     "metadata": {
      "tags": null
     },
     "name": "stdout",
     "output_type": "stream",
     "text": [
      "==================================================\n"
     ]
    },
    {
     "metadata": {
      "tags": null
     },
     "name": "stderr",
     "output_type": "stream",
     "text": [
      "Epoch=60: 100%|██████████| 49/49 [00:15<00:00,  3.07batch/s, accuracy=0.378, loss=3.31]\n",
      "Epoch=60: 100%|██████████| 5/5 [00:02<00:00,  1.87batch/s, accuracy=0.373, loss=3.33]\n"
     ]
    },
    {
     "metadata": {
      "tags": null
     },
     "name": "stdout",
     "output_type": "stream",
     "text": [
      "==================================================\n"
     ]
    },
    {
     "metadata": {
      "tags": null
     },
     "name": "stderr",
     "output_type": "stream",
     "text": [
      "Epoch=61: 100%|██████████| 49/49 [00:16<00:00,  3.00batch/s, accuracy=0.375, loss=3.34]\n",
      "Epoch=61: 100%|██████████| 5/5 [00:02<00:00,  1.74batch/s, accuracy=0.378, loss=3.32]\n"
     ]
    },
    {
     "metadata": {
      "tags": null
     },
     "name": "stdout",
     "output_type": "stream",
     "text": [
      "==================================================\n"
     ]
    },
    {
     "metadata": {
      "tags": null
     },
     "name": "stderr",
     "output_type": "stream",
     "text": [
      "Epoch=62: 100%|██████████| 49/49 [00:16<00:00,  3.01batch/s, accuracy=0.377, loss=3.31]\n",
      "Epoch=62: 100%|██████████| 5/5 [00:02<00:00,  1.99batch/s, accuracy=0.373, loss=3.35]\n"
     ]
    },
    {
     "metadata": {
      "tags": null
     },
     "name": "stdout",
     "output_type": "stream",
     "text": [
      "==================================================\n"
     ]
    },
    {
     "metadata": {
      "tags": null
     },
     "name": "stderr",
     "output_type": "stream",
     "text": [
      "Epoch=63: 100%|██████████| 49/49 [00:16<00:00,  3.00batch/s, accuracy=0.377, loss=3.32]\n",
      "Epoch=63: 100%|██████████| 5/5 [00:02<00:00,  2.11batch/s, accuracy=0.38, loss=3.3]\n"
     ]
    },
    {
     "metadata": {
      "tags": null
     },
     "name": "stdout",
     "output_type": "stream",
     "text": [
      "==================================================\n"
     ]
    },
    {
     "metadata": {
      "tags": null
     },
     "name": "stderr",
     "output_type": "stream",
     "text": [
      "Epoch=64: 100%|██████████| 49/49 [00:15<00:00,  3.07batch/s, accuracy=0.373, loss=3.32]\n",
      "Epoch=64: 100%|██████████| 5/5 [00:02<00:00,  1.83batch/s, accuracy=0.377, loss=3.32]\n"
     ]
    },
    {
     "metadata": {
      "tags": null
     },
     "name": "stdout",
     "output_type": "stream",
     "text": [
      "==================================================\n"
     ]
    },
    {
     "metadata": {
      "tags": null
     },
     "name": "stderr",
     "output_type": "stream",
     "text": [
      "Epoch=65: 100%|██████████| 49/49 [00:16<00:00,  2.95batch/s, accuracy=0.376, loss=3.32]\n",
      "Epoch=65: 100%|██████████| 5/5 [00:02<00:00,  1.88batch/s, accuracy=0.378, loss=3.31]\n"
     ]
    },
    {
     "metadata": {
      "tags": null
     },
     "name": "stdout",
     "output_type": "stream",
     "text": [
      "==================================================\n"
     ]
    },
    {
     "metadata": {
      "tags": null
     },
     "name": "stderr",
     "output_type": "stream",
     "text": [
      "Epoch=66: 100%|██████████| 49/49 [00:16<00:00,  2.89batch/s, accuracy=0.375, loss=3.32]\n",
      "Epoch=66: 100%|██████████| 5/5 [00:03<00:00,  1.50batch/s, accuracy=0.374, loss=3.32]\n"
     ]
    },
    {
     "metadata": {
      "tags": null
     },
     "name": "stdout",
     "output_type": "stream",
     "text": [
      "==================================================\n"
     ]
    },
    {
     "metadata": {
      "tags": null
     },
     "name": "stderr",
     "output_type": "stream",
     "text": [
      "Epoch=67: 100%|██████████| 49/49 [00:15<00:00,  3.10batch/s, accuracy=0.376, loss=3.32]\n",
      "Epoch=67: 100%|██████████| 5/5 [00:02<00:00,  1.94batch/s, accuracy=0.377, loss=3.32]\n"
     ]
    },
    {
     "metadata": {
      "tags": null
     },
     "name": "stdout",
     "output_type": "stream",
     "text": [
      "==================================================\n"
     ]
    },
    {
     "metadata": {
      "tags": null
     },
     "name": "stderr",
     "output_type": "stream",
     "text": [
      "Epoch=68: 100%|██████████| 49/49 [00:15<00:00,  3.11batch/s, accuracy=0.378, loss=3.3]\n",
      "Epoch=68: 100%|██████████| 5/5 [00:03<00:00,  1.56batch/s, accuracy=0.384, loss=3.26]\n"
     ]
    },
    {
     "metadata": {
      "tags": null
     },
     "name": "stdout",
     "output_type": "stream",
     "text": [
      "==================================================\n",
      "model saved√\n",
      "==================================================\n"
     ]
    },
    {
     "metadata": {
      "tags": null
     },
     "name": "stderr",
     "output_type": "stream",
     "text": [
      "Epoch=69: 100%|██████████| 49/49 [00:16<00:00,  3.01batch/s, accuracy=0.373, loss=3.33]\n",
      "Epoch=69: 100%|██████████| 5/5 [00:02<00:00,  1.76batch/s, accuracy=0.374, loss=3.33]\n"
     ]
    },
    {
     "metadata": {
      "tags": null
     },
     "name": "stdout",
     "output_type": "stream",
     "text": [
      "==================================================\n"
     ]
    },
    {
     "metadata": {
      "tags": null
     },
     "name": "stderr",
     "output_type": "stream",
     "text": [
      "Epoch=70: 100%|██████████| 49/49 [00:16<00:00,  2.95batch/s, accuracy=0.377, loss=3.3]\n",
      "Epoch=70: 100%|██████████| 5/5 [00:02<00:00,  1.75batch/s, accuracy=0.378, loss=3.3]\n"
     ]
    },
    {
     "metadata": {
      "tags": null
     },
     "name": "stdout",
     "output_type": "stream",
     "text": [
      "==================================================\n"
     ]
    },
    {
     "metadata": {
      "tags": null
     },
     "name": "stderr",
     "output_type": "stream",
     "text": [
      "Epoch=71: 100%|██████████| 49/49 [00:15<00:00,  3.06batch/s, accuracy=0.376, loss=3.31]\n",
      "Epoch=71: 100%|██████████| 5/5 [00:02<00:00,  1.89batch/s, accuracy=0.38, loss=3.29]\n"
     ]
    },
    {
     "metadata": {
      "tags": null
     },
     "name": "stdout",
     "output_type": "stream",
     "text": [
      "==================================================\n"
     ]
    },
    {
     "metadata": {
      "tags": null
     },
     "name": "stderr",
     "output_type": "stream",
     "text": [
      "Epoch=72: 100%|██████████| 49/49 [00:16<00:00,  3.02batch/s, accuracy=0.377, loss=3.29]\n",
      "Epoch=72: 100%|██████████| 5/5 [00:02<00:00,  1.85batch/s, accuracy=0.375, loss=3.29]\n"
     ]
    },
    {
     "metadata": {
      "tags": null
     },
     "name": "stdout",
     "output_type": "stream",
     "text": [
      "==================================================\n"
     ]
    },
    {
     "metadata": {
      "tags": null
     },
     "name": "stderr",
     "output_type": "stream",
     "text": [
      "Epoch=73: 100%|██████████| 49/49 [00:15<00:00,  3.11batch/s, accuracy=0.375, loss=3.31]\n",
      "Epoch=73: 100%|██████████| 5/5 [00:02<00:00,  2.11batch/s, accuracy=0.38, loss=3.28]\n"
     ]
    },
    {
     "metadata": {
      "tags": null
     },
     "name": "stdout",
     "output_type": "stream",
     "text": [
      "==================================================\n"
     ]
    },
    {
     "metadata": {
      "tags": null
     },
     "name": "stderr",
     "output_type": "stream",
     "text": [
      "Epoch=74: 100%|██████████| 49/49 [00:16<00:00,  2.96batch/s, accuracy=0.376, loss=3.3]\n",
      "Epoch=74: 100%|██████████| 5/5 [00:02<00:00,  1.84batch/s, accuracy=0.378, loss=3.31]\n"
     ]
    },
    {
     "metadata": {
      "tags": null
     },
     "name": "stdout",
     "output_type": "stream",
     "text": [
      "==================================================\n"
     ]
    },
    {
     "metadata": {
      "tags": null
     },
     "name": "stderr",
     "output_type": "stream",
     "text": [
      "Epoch=75: 100%|██████████| 49/49 [00:15<00:00,  3.11batch/s, accuracy=0.378, loss=3.29]\n",
      "Epoch=75: 100%|██████████| 5/5 [00:02<00:00,  2.03batch/s, accuracy=0.379, loss=3.3]\n"
     ]
    },
    {
     "metadata": {
      "tags": null
     },
     "name": "stdout",
     "output_type": "stream",
     "text": [
      "==================================================\n"
     ]
    },
    {
     "metadata": {
      "tags": null
     },
     "name": "stderr",
     "output_type": "stream",
     "text": [
      "Epoch=76: 100%|██████████| 49/49 [00:16<00:00,  2.99batch/s, accuracy=0.377, loss=3.3]\n",
      "Epoch=76: 100%|██████████| 5/5 [00:02<00:00,  1.81batch/s, accuracy=0.374, loss=3.31]\n"
     ]
    },
    {
     "metadata": {
      "tags": null
     },
     "name": "stdout",
     "output_type": "stream",
     "text": [
      "==================================================\n"
     ]
    },
    {
     "metadata": {
      "tags": null
     },
     "name": "stderr",
     "output_type": "stream",
     "text": [
      "Epoch=77: 100%|██████████| 49/49 [00:16<00:00,  2.94batch/s, accuracy=0.377, loss=3.29]\n",
      "Epoch=77: 100%|██████████| 5/5 [00:03<00:00,  1.64batch/s, accuracy=0.38, loss=3.28]\n"
     ]
    },
    {
     "metadata": {
      "tags": null
     },
     "name": "stdout",
     "output_type": "stream",
     "text": [
      "==================================================\n"
     ]
    },
    {
     "metadata": {
      "tags": null
     },
     "name": "stderr",
     "output_type": "stream",
     "text": [
      "Epoch=78: 100%|██████████| 49/49 [00:16<00:00,  2.98batch/s, accuracy=0.378, loss=3.3]\n",
      "Epoch=78: 100%|██████████| 5/5 [00:02<00:00,  1.93batch/s, accuracy=0.375, loss=3.3]\n"
     ]
    },
    {
     "metadata": {
      "tags": null
     },
     "name": "stdout",
     "output_type": "stream",
     "text": [
      "==================================================\n"
     ]
    },
    {
     "metadata": {
      "tags": null
     },
     "name": "stderr",
     "output_type": "stream",
     "text": [
      "Epoch=79: 100%|██████████| 49/49 [00:16<00:00,  3.02batch/s, accuracy=0.376, loss=3.31]\n",
      "Epoch=79: 100%|██████████| 5/5 [00:03<00:00,  1.44batch/s, accuracy=0.378, loss=3.26]\n"
     ]
    },
    {
     "metadata": {
      "tags": null
     },
     "name": "stdout",
     "output_type": "stream",
     "text": [
      "==================================================\n"
     ]
    },
    {
     "metadata": {
      "tags": null
     },
     "name": "stderr",
     "output_type": "stream",
     "text": [
      "Epoch=80: 100%|██████████| 49/49 [00:15<00:00,  3.09batch/s, accuracy=0.375, loss=3.31]\n",
      "Epoch=80: 100%|██████████| 5/5 [00:02<00:00,  2.13batch/s, accuracy=0.38, loss=3.31]\n"
     ]
    },
    {
     "metadata": {
      "tags": null
     },
     "name": "stdout",
     "output_type": "stream",
     "text": [
      "==================================================\n"
     ]
    },
    {
     "metadata": {
      "tags": null
     },
     "name": "stderr",
     "output_type": "stream",
     "text": [
      "Epoch=81: 100%|██████████| 49/49 [00:15<00:00,  3.07batch/s, accuracy=0.379, loss=3.28]\n",
      "Epoch=81: 100%|██████████| 5/5 [00:03<00:00,  1.60batch/s, accuracy=0.371, loss=3.33]\n"
     ]
    },
    {
     "metadata": {
      "tags": null
     },
     "name": "stdout",
     "output_type": "stream",
     "text": [
      "==================================================\n"
     ]
    },
    {
     "metadata": {
      "tags": null
     },
     "name": "stderr",
     "output_type": "stream",
     "text": [
      "Epoch=82: 100%|██████████| 49/49 [00:16<00:00,  3.00batch/s, accuracy=0.377, loss=3.29]\n",
      "Epoch=82: 100%|██████████| 5/5 [00:02<00:00,  1.87batch/s, accuracy=0.379, loss=3.28]\n"
     ]
    },
    {
     "metadata": {
      "tags": null
     },
     "name": "stdout",
     "output_type": "stream",
     "text": [
      "==================================================\n"
     ]
    },
    {
     "metadata": {
      "tags": null
     },
     "name": "stderr",
     "output_type": "stream",
     "text": [
      "Epoch=83: 100%|██████████| 49/49 [00:16<00:00,  2.90batch/s, accuracy=0.377, loss=3.3]\n",
      "Epoch=83: 100%|██████████| 5/5 [00:02<00:00,  1.99batch/s, accuracy=0.376, loss=3.28]\n"
     ]
    },
    {
     "metadata": {
      "tags": null
     },
     "name": "stdout",
     "output_type": "stream",
     "text": [
      "==================================================\n"
     ]
    },
    {
     "metadata": {
      "tags": null
     },
     "name": "stderr",
     "output_type": "stream",
     "text": [
      "Epoch=84: 100%|██████████| 49/49 [00:15<00:00,  3.08batch/s, accuracy=0.379, loss=3.28]\n",
      "Epoch=84: 100%|██████████| 5/5 [00:02<00:00,  2.06batch/s, accuracy=0.373, loss=3.29]\n"
     ]
    },
    {
     "metadata": {
      "tags": null
     },
     "name": "stdout",
     "output_type": "stream",
     "text": [
      "==================================================\n"
     ]
    },
    {
     "metadata": {
      "tags": null
     },
     "name": "stderr",
     "output_type": "stream",
     "text": [
      "Epoch=85: 100%|██████████| 49/49 [00:16<00:00,  2.98batch/s, accuracy=0.376, loss=3.29]\n",
      "Epoch=85: 100%|██████████| 5/5 [00:02<00:00,  1.85batch/s, accuracy=0.375, loss=3.29]\n"
     ]
    },
    {
     "metadata": {
      "tags": null
     },
     "name": "stdout",
     "output_type": "stream",
     "text": [
      "==================================================\n"
     ]
    },
    {
     "metadata": {
      "tags": null
     },
     "name": "stderr",
     "output_type": "stream",
     "text": [
      "Epoch=86: 100%|██████████| 49/49 [00:16<00:00,  3.03batch/s, accuracy=0.378, loss=3.3]\n",
      "Epoch=86: 100%|██████████| 5/5 [00:02<00:00,  1.87batch/s, accuracy=0.379, loss=3.3]\n"
     ]
    },
    {
     "metadata": {
      "tags": null
     },
     "name": "stdout",
     "output_type": "stream",
     "text": [
      "==================================================\n"
     ]
    },
    {
     "metadata": {
      "tags": null
     },
     "name": "stderr",
     "output_type": "stream",
     "text": [
      "Epoch=87: 100%|██████████| 49/49 [00:16<00:00,  3.00batch/s, accuracy=0.377, loss=3.29]\n",
      "Epoch=87: 100%|██████████| 5/5 [00:02<00:00,  2.01batch/s, accuracy=0.38, loss=3.25]\n"
     ]
    },
    {
     "metadata": {
      "tags": null
     },
     "name": "stdout",
     "output_type": "stream",
     "text": [
      "==================================================\n"
     ]
    },
    {
     "metadata": {
      "tags": null
     },
     "name": "stderr",
     "output_type": "stream",
     "text": [
      "Epoch=88: 100%|██████████| 49/49 [00:16<00:00,  3.03batch/s, accuracy=0.376, loss=3.29]\n",
      "Epoch=88: 100%|██████████| 5/5 [00:03<00:00,  1.63batch/s, accuracy=0.382, loss=3.29]\n"
     ]
    },
    {
     "metadata": {
      "tags": null
     },
     "name": "stdout",
     "output_type": "stream",
     "text": [
      "==================================================\n"
     ]
    },
    {
     "metadata": {
      "tags": null
     },
     "name": "stderr",
     "output_type": "stream",
     "text": [
      "Epoch=89: 100%|██████████| 49/49 [00:15<00:00,  3.13batch/s, accuracy=0.378, loss=3.29]\n",
      "Epoch=89: 100%|██████████| 5/5 [00:02<00:00,  1.94batch/s, accuracy=0.384, loss=3.26]\n"
     ]
    },
    {
     "metadata": {
      "tags": null
     },
     "name": "stdout",
     "output_type": "stream",
     "text": [
      "==================================================\n"
     ]
    },
    {
     "metadata": {
      "tags": null
     },
     "name": "stderr",
     "output_type": "stream",
     "text": [
      "Epoch=90: 100%|██████████| 49/49 [00:15<00:00,  3.07batch/s, accuracy=0.376, loss=3.3]\n",
      "Epoch=90: 100%|██████████| 5/5 [00:03<00:00,  1.50batch/s, accuracy=0.38, loss=3.25]\n"
     ]
    },
    {
     "metadata": {
      "tags": null
     },
     "name": "stdout",
     "output_type": "stream",
     "text": [
      "==================================================\n"
     ]
    },
    {
     "metadata": {
      "tags": null
     },
     "name": "stderr",
     "output_type": "stream",
     "text": [
      "Epoch=91: 100%|██████████| 49/49 [00:15<00:00,  3.11batch/s, accuracy=0.375, loss=3.28]\n",
      "Epoch=91: 100%|██████████| 5/5 [00:02<00:00,  2.02batch/s, accuracy=0.375, loss=3.29]\n"
     ]
    },
    {
     "metadata": {
      "tags": null
     },
     "name": "stdout",
     "output_type": "stream",
     "text": [
      "==================================================\n"
     ]
    },
    {
     "metadata": {
      "tags": null
     },
     "name": "stderr",
     "output_type": "stream",
     "text": [
      "Epoch=92: 100%|██████████| 49/49 [00:16<00:00,  3.03batch/s, accuracy=0.375, loss=3.3]\n",
      "Epoch=92: 100%|██████████| 5/5 [00:03<00:00,  1.57batch/s, accuracy=0.377, loss=3.27]\n"
     ]
    },
    {
     "metadata": {
      "tags": null
     },
     "name": "stdout",
     "output_type": "stream",
     "text": [
      "==================================================\n"
     ]
    },
    {
     "metadata": {
      "tags": null
     },
     "name": "stderr",
     "output_type": "stream",
     "text": [
      "Epoch=93: 100%|██████████| 49/49 [00:15<00:00,  3.14batch/s, accuracy=0.378, loss=3.28]\n",
      "Epoch=93: 100%|██████████| 5/5 [00:02<00:00,  2.08batch/s, accuracy=0.38, loss=3.29]\n"
     ]
    },
    {
     "metadata": {
      "tags": null
     },
     "name": "stdout",
     "output_type": "stream",
     "text": [
      "==================================================\n"
     ]
    },
    {
     "metadata": {
      "tags": null
     },
     "name": "stderr",
     "output_type": "stream",
     "text": [
      "Epoch=94: 100%|██████████| 49/49 [00:16<00:00,  3.01batch/s, accuracy=0.378, loss=3.28]\n",
      "Epoch=94: 100%|██████████| 5/5 [00:02<00:00,  1.77batch/s, accuracy=0.383, loss=3.28]\n"
     ]
    },
    {
     "metadata": {
      "tags": null
     },
     "name": "stdout",
     "output_type": "stream",
     "text": [
      "==================================================\n"
     ]
    },
    {
     "metadata": {
      "tags": null
     },
     "name": "stderr",
     "output_type": "stream",
     "text": [
      "Epoch=95: 100%|██████████| 49/49 [00:15<00:00,  3.11batch/s, accuracy=0.375, loss=3.28]\n",
      "Epoch=95: 100%|██████████| 5/5 [00:02<00:00,  1.88batch/s, accuracy=0.378, loss=3.29]\n"
     ]
    },
    {
     "metadata": {
      "tags": null
     },
     "name": "stdout",
     "output_type": "stream",
     "text": [
      "==================================================\n"
     ]
    },
    {
     "metadata": {
      "tags": null
     },
     "name": "stderr",
     "output_type": "stream",
     "text": [
      "Epoch=96: 100%|██████████| 49/49 [00:16<00:00,  2.97batch/s, accuracy=0.379, loss=3.25]\n",
      "Epoch=96: 100%|██████████| 5/5 [00:02<00:00,  2.01batch/s, accuracy=0.378, loss=3.25]\n"
     ]
    },
    {
     "metadata": {
      "tags": null
     },
     "name": "stdout",
     "output_type": "stream",
     "text": [
      "==================================================\n"
     ]
    },
    {
     "metadata": {
      "tags": null
     },
     "name": "stderr",
     "output_type": "stream",
     "text": [
      "Epoch=97: 100%|██████████| 49/49 [00:16<00:00,  3.04batch/s, accuracy=0.379, loss=3.26]\n",
      "Epoch=97: 100%|██████████| 5/5 [00:02<00:00,  2.08batch/s, accuracy=0.375, loss=3.27]\n"
     ]
    },
    {
     "metadata": {
      "tags": null
     },
     "name": "stdout",
     "output_type": "stream",
     "text": [
      "==================================================\n"
     ]
    },
    {
     "metadata": {
      "tags": null
     },
     "name": "stderr",
     "output_type": "stream",
     "text": [
      "Epoch=98: 100%|██████████| 49/49 [00:16<00:00,  3.02batch/s, accuracy=0.378, loss=3.28]\n",
      "Epoch=98: 100%|██████████| 5/5 [00:02<00:00,  1.78batch/s, accuracy=0.383, loss=3.28]\n"
     ]
    },
    {
     "metadata": {
      "tags": null
     },
     "name": "stdout",
     "output_type": "stream",
     "text": [
      "==================================================\n"
     ]
    },
    {
     "metadata": {
      "tags": null
     },
     "name": "stderr",
     "output_type": "stream",
     "text": [
      "Epoch=99: 100%|██████████| 49/49 [00:16<00:00,  2.97batch/s, accuracy=0.377, loss=3.27]\n",
      "Epoch=99: 100%|██████████| 5/5 [00:02<00:00,  1.74batch/s, accuracy=0.38, loss=3.26]\n"
     ]
    },
    {
     "metadata": {
      "tags": null
     },
     "name": "stdout",
     "output_type": "stream",
     "text": [
      "==================================================\n"
     ]
    },
    {
     "metadata": {
      "tags": null
     },
     "name": "stderr",
     "output_type": "stream",
     "text": [
      "Epoch=100: 100%|██████████| 49/49 [00:16<00:00,  2.97batch/s, accuracy=0.379, loss=3.27]\n",
      "Epoch=100: 100%|██████████| 5/5 [00:02<00:00,  2.03batch/s, accuracy=0.377, loss=3.31]\n"
     ]
    },
    {
     "metadata": {
      "tags": null
     },
     "name": "stdout",
     "output_type": "stream",
     "text": [
      "==================================================\n"
     ]
    },
    {
     "metadata": {
      "tags": null
     },
     "name": "stderr",
     "output_type": "stream",
     "text": [
      "Epoch=101: 100%|██████████| 49/49 [00:16<00:00,  3.06batch/s, accuracy=0.38, loss=3.25]\n",
      "Epoch=101: 100%|██████████| 5/5 [00:03<00:00,  1.51batch/s, accuracy=0.383, loss=3.24]\n"
     ]
    },
    {
     "metadata": {
      "tags": null
     },
     "name": "stdout",
     "output_type": "stream",
     "text": [
      "==================================================\n"
     ]
    },
    {
     "metadata": {
      "tags": null
     },
     "name": "stderr",
     "output_type": "stream",
     "text": [
      "Epoch=102: 100%|██████████| 49/49 [00:15<00:00,  3.19batch/s, accuracy=0.377, loss=3.27]\n",
      "Epoch=102: 100%|██████████| 5/5 [00:02<00:00,  1.83batch/s, accuracy=0.38, loss=3.27]\n"
     ]
    },
    {
     "metadata": {
      "tags": null
     },
     "name": "stdout",
     "output_type": "stream",
     "text": [
      "==================================================\n"
     ]
    },
    {
     "metadata": {
      "tags": null
     },
     "name": "stderr",
     "output_type": "stream",
     "text": [
      "Epoch=103: 100%|██████████| 49/49 [00:16<00:00,  3.06batch/s, accuracy=0.378, loss=3.27]\n",
      "Epoch=103: 100%|██████████| 5/5 [00:03<00:00,  1.53batch/s, accuracy=0.376, loss=3.27]\n"
     ]
    },
    {
     "metadata": {
      "tags": null
     },
     "name": "stdout",
     "output_type": "stream",
     "text": [
      "==================================================\n"
     ]
    },
    {
     "metadata": {
      "tags": null
     },
     "name": "stderr",
     "output_type": "stream",
     "text": [
      "Epoch=104: 100%|██████████| 49/49 [00:16<00:00,  3.04batch/s, accuracy=0.382, loss=3.25]\n",
      "Epoch=104: 100%|██████████| 5/5 [00:02<00:00,  1.80batch/s, accuracy=0.378, loss=3.3]\n"
     ]
    },
    {
     "metadata": {
      "tags": null
     },
     "name": "stdout",
     "output_type": "stream",
     "text": [
      "==================================================\n"
     ]
    },
    {
     "metadata": {
      "tags": null
     },
     "name": "stderr",
     "output_type": "stream",
     "text": [
      "Epoch=105: 100%|██████████| 49/49 [00:16<00:00,  3.02batch/s, accuracy=0.379, loss=3.28]\n",
      "Epoch=105: 100%|██████████| 5/5 [00:02<00:00,  1.70batch/s, accuracy=0.378, loss=3.25]\n"
     ]
    },
    {
     "metadata": {
      "tags": null
     },
     "name": "stdout",
     "output_type": "stream",
     "text": [
      "==================================================\n"
     ]
    },
    {
     "metadata": {
      "tags": null
     },
     "name": "stderr",
     "output_type": "stream",
     "text": [
      "Epoch=106: 100%|██████████| 49/49 [00:15<00:00,  3.14batch/s, accuracy=0.38, loss=3.26]\n",
      "Epoch=106: 100%|██████████| 5/5 [00:02<00:00,  2.03batch/s, accuracy=0.376, loss=3.28]\n"
     ]
    },
    {
     "metadata": {
      "tags": null
     },
     "name": "stdout",
     "output_type": "stream",
     "text": [
      "==================================================\n"
     ]
    },
    {
     "metadata": {
      "tags": null
     },
     "name": "stderr",
     "output_type": "stream",
     "text": [
      "Epoch=107: 100%|██████████| 49/49 [00:16<00:00,  2.94batch/s, accuracy=0.379, loss=3.26]\n",
      "Epoch=107: 100%|██████████| 5/5 [00:02<00:00,  1.77batch/s, accuracy=0.375, loss=3.25]\n"
     ]
    },
    {
     "metadata": {
      "tags": null
     },
     "name": "stdout",
     "output_type": "stream",
     "text": [
      "==================================================\n"
     ]
    },
    {
     "metadata": {
      "tags": null
     },
     "name": "stderr",
     "output_type": "stream",
     "text": [
      "Epoch=108: 100%|██████████| 49/49 [00:16<00:00,  3.06batch/s, accuracy=0.377, loss=3.27]\n",
      "Epoch=108: 100%|██████████| 5/5 [00:02<00:00,  1.90batch/s, accuracy=0.378, loss=3.27]\n"
     ]
    },
    {
     "metadata": {
      "tags": null
     },
     "name": "stdout",
     "output_type": "stream",
     "text": [
      "==================================================\n"
     ]
    },
    {
     "metadata": {
      "tags": null
     },
     "name": "stderr",
     "output_type": "stream",
     "text": [
      "Epoch=109: 100%|██████████| 49/49 [00:16<00:00,  2.94batch/s, accuracy=0.377, loss=3.28]\n",
      "Epoch=109: 100%|██████████| 5/5 [00:02<00:00,  1.95batch/s, accuracy=0.383, loss=3.28]\n"
     ]
    },
    {
     "metadata": {
      "tags": null
     },
     "name": "stdout",
     "output_type": "stream",
     "text": [
      "==================================================\n"
     ]
    },
    {
     "metadata": {
      "tags": null
     },
     "name": "stderr",
     "output_type": "stream",
     "text": [
      "Epoch=110: 100%|██████████| 49/49 [00:15<00:00,  3.13batch/s, accuracy=0.379, loss=3.27]\n",
      "Epoch=110: 100%|██████████| 5/5 [00:02<00:00,  1.98batch/s, accuracy=0.378, loss=3.26]\n"
     ]
    },
    {
     "metadata": {
      "tags": null
     },
     "name": "stdout",
     "output_type": "stream",
     "text": [
      "==================================================\n"
     ]
    },
    {
     "metadata": {
      "tags": null
     },
     "name": "stderr",
     "output_type": "stream",
     "text": [
      "Epoch=111: 100%|██████████| 49/49 [00:16<00:00,  2.94batch/s, accuracy=0.377, loss=3.27]\n",
      "Epoch=111: 100%|██████████| 5/5 [00:02<00:00,  1.98batch/s, accuracy=0.378, loss=3.25]\n"
     ]
    },
    {
     "metadata": {
      "tags": null
     },
     "name": "stdout",
     "output_type": "stream",
     "text": [
      "==================================================\n"
     ]
    },
    {
     "metadata": {
      "tags": null
     },
     "name": "stderr",
     "output_type": "stream",
     "text": [
      "Epoch=112: 100%|██████████| 49/49 [00:16<00:00,  3.05batch/s, accuracy=0.382, loss=3.24]\n",
      "Epoch=112: 100%|██████████| 5/5 [00:03<00:00,  1.58batch/s, accuracy=0.378, loss=3.24]\n"
     ]
    },
    {
     "metadata": {
      "tags": null
     },
     "name": "stdout",
     "output_type": "stream",
     "text": [
      "==================================================\n"
     ]
    },
    {
     "metadata": {
      "tags": null
     },
     "name": "stderr",
     "output_type": "stream",
     "text": [
      "Epoch=113: 100%|██████████| 49/49 [00:16<00:00,  3.05batch/s, accuracy=0.383, loss=3.24]\n",
      "Epoch=113: 100%|██████████| 5/5 [00:02<00:00,  1.96batch/s, accuracy=0.386, loss=3.26]\n"
     ]
    },
    {
     "metadata": {
      "tags": null
     },
     "name": "stdout",
     "output_type": "stream",
     "text": [
      "==================================================\n",
      "model saved√\n",
      "==================================================\n"
     ]
    },
    {
     "metadata": {
      "tags": null
     },
     "name": "stderr",
     "output_type": "stream",
     "text": [
      "Epoch=114: 100%|██████████| 49/49 [00:16<00:00,  3.04batch/s, accuracy=0.38, loss=3.25]\n",
      "Epoch=114: 100%|██████████| 5/5 [00:03<00:00,  1.60batch/s, accuracy=0.381, loss=3.26]\n"
     ]
    },
    {
     "metadata": {
      "tags": null
     },
     "name": "stdout",
     "output_type": "stream",
     "text": [
      "==================================================\n"
     ]
    },
    {
     "metadata": {
      "tags": null
     },
     "name": "stderr",
     "output_type": "stream",
     "text": [
      "Epoch=115: 100%|██████████| 49/49 [00:16<00:00,  2.98batch/s, accuracy=0.378, loss=3.27]\n",
      "Epoch=115: 100%|██████████| 5/5 [00:03<00:00,  1.66batch/s, accuracy=0.382, loss=3.28]\n"
     ]
    },
    {
     "metadata": {
      "tags": null
     },
     "name": "stdout",
     "output_type": "stream",
     "text": [
      "==================================================\n"
     ]
    },
    {
     "metadata": {
      "tags": null
     },
     "name": "stderr",
     "output_type": "stream",
     "text": [
      "Epoch=116: 100%|██████████| 49/49 [00:16<00:00,  2.96batch/s, accuracy=0.383, loss=3.24]\n",
      "Epoch=116: 100%|██████████| 5/5 [00:02<00:00,  2.06batch/s, accuracy=0.379, loss=3.23]\n"
     ]
    },
    {
     "metadata": {
      "tags": null
     },
     "name": "stdout",
     "output_type": "stream",
     "text": [
      "==================================================\n"
     ]
    },
    {
     "metadata": {
      "tags": null
     },
     "name": "stderr",
     "output_type": "stream",
     "text": [
      "Epoch=117: 100%|██████████| 49/49 [00:16<00:00,  3.05batch/s, accuracy=0.377, loss=3.25]\n",
      "Epoch=117: 100%|██████████| 5/5 [00:02<00:00,  2.01batch/s, accuracy=0.376, loss=3.28]\n"
     ]
    },
    {
     "metadata": {
      "tags": null
     },
     "name": "stdout",
     "output_type": "stream",
     "text": [
      "==================================================\n"
     ]
    },
    {
     "metadata": {
      "tags": null
     },
     "name": "stderr",
     "output_type": "stream",
     "text": [
      "Epoch=118: 100%|██████████| 49/49 [00:16<00:00,  2.94batch/s, accuracy=0.379, loss=3.26]\n",
      "Epoch=118: 100%|██████████| 5/5 [00:02<00:00,  1.93batch/s, accuracy=0.38, loss=3.25]\n"
     ]
    },
    {
     "metadata": {
      "tags": null
     },
     "name": "stdout",
     "output_type": "stream",
     "text": [
      "==================================================\n"
     ]
    },
    {
     "metadata": {
      "tags": null
     },
     "name": "stderr",
     "output_type": "stream",
     "text": [
      "Epoch=119: 100%|██████████| 49/49 [00:15<00:00,  3.14batch/s, accuracy=0.38, loss=3.25]\n",
      "Epoch=119: 100%|██████████| 5/5 [00:02<00:00,  1.85batch/s, accuracy=0.377, loss=3.28]\n"
     ]
    },
    {
     "metadata": {
      "tags": null
     },
     "name": "stdout",
     "output_type": "stream",
     "text": [
      "==================================================\n"
     ]
    },
    {
     "metadata": {
      "tags": null
     },
     "name": "stderr",
     "output_type": "stream",
     "text": [
      "Epoch=120: 100%|██████████| 49/49 [00:16<00:00,  2.95batch/s, accuracy=0.376, loss=3.27]\n",
      "Epoch=120: 100%|██████████| 5/5 [00:02<00:00,  2.00batch/s, accuracy=0.382, loss=3.23]\n"
     ]
    },
    {
     "metadata": {
      "tags": null
     },
     "name": "stdout",
     "output_type": "stream",
     "text": [
      "==================================================\n"
     ]
    },
    {
     "metadata": {
      "tags": null
     },
     "name": "stderr",
     "output_type": "stream",
     "text": [
      "Epoch=121: 100%|██████████| 49/49 [00:15<00:00,  3.09batch/s, accuracy=0.38, loss=3.26]\n",
      "Epoch=121: 100%|██████████| 5/5 [00:03<00:00,  1.57batch/s, accuracy=0.377, loss=3.27]\n"
     ]
    },
    {
     "metadata": {
      "tags": null
     },
     "name": "stdout",
     "output_type": "stream",
     "text": [
      "==================================================\n"
     ]
    },
    {
     "metadata": {
      "tags": null
     },
     "name": "stderr",
     "output_type": "stream",
     "text": [
      "Epoch=122: 100%|██████████| 49/49 [00:16<00:00,  2.98batch/s, accuracy=0.376, loss=3.27]\n",
      "Epoch=122: 100%|██████████| 5/5 [00:02<00:00,  1.83batch/s, accuracy=0.38, loss=3.25]\n"
     ]
    },
    {
     "metadata": {
      "tags": null
     },
     "name": "stdout",
     "output_type": "stream",
     "text": [
      "==================================================\n"
     ]
    },
    {
     "metadata": {
      "tags": null
     },
     "name": "stderr",
     "output_type": "stream",
     "text": [
      "Epoch=123: 100%|██████████| 49/49 [00:15<00:00,  3.21batch/s, accuracy=0.381, loss=3.24]\n",
      "Epoch=123: 100%|██████████| 5/5 [00:03<00:00,  1.50batch/s, accuracy=0.376, loss=3.26]\n"
     ]
    },
    {
     "metadata": {
      "tags": null
     },
     "name": "stdout",
     "output_type": "stream",
     "text": [
      "==================================================\n"
     ]
    },
    {
     "metadata": {
      "tags": null
     },
     "name": "stderr",
     "output_type": "stream",
     "text": [
      "Epoch=124: 100%|██████████| 49/49 [00:15<00:00,  3.08batch/s, accuracy=0.379, loss=3.25]\n",
      "Epoch=124: 100%|██████████| 5/5 [00:02<00:00,  1.93batch/s, accuracy=0.38, loss=3.24]\n"
     ]
    },
    {
     "metadata": {
      "tags": null
     },
     "name": "stdout",
     "output_type": "stream",
     "text": [
      "==================================================\n"
     ]
    },
    {
     "metadata": {
      "tags": null
     },
     "name": "stderr",
     "output_type": "stream",
     "text": [
      "Epoch=125: 100%|██████████| 49/49 [00:16<00:00,  3.06batch/s, accuracy=0.377, loss=3.25]\n",
      "Epoch=125: 100%|██████████| 5/5 [00:03<00:00,  1.47batch/s, accuracy=0.379, loss=3.27]\n"
     ]
    },
    {
     "metadata": {
      "tags": null
     },
     "name": "stdout",
     "output_type": "stream",
     "text": [
      "==================================================\n"
     ]
    },
    {
     "metadata": {
      "tags": null
     },
     "name": "stderr",
     "output_type": "stream",
     "text": [
      "Epoch=126: 100%|██████████| 49/49 [00:15<00:00,  3.07batch/s, accuracy=0.382, loss=3.23]\n",
      "Epoch=126: 100%|██████████| 5/5 [00:02<00:00,  1.92batch/s, accuracy=0.377, loss=3.27]\n"
     ]
    },
    {
     "metadata": {
      "tags": null
     },
     "name": "stdout",
     "output_type": "stream",
     "text": [
      "==================================================\n"
     ]
    },
    {
     "metadata": {
      "tags": null
     },
     "name": "stderr",
     "output_type": "stream",
     "text": [
      "Epoch=127: 100%|██████████| 49/49 [00:15<00:00,  3.06batch/s, accuracy=0.381, loss=3.24]\n",
      "Epoch=127: 100%|██████████| 5/5 [00:02<00:00,  1.75batch/s, accuracy=0.381, loss=3.26]\n"
     ]
    },
    {
     "metadata": {
      "tags": null
     },
     "name": "stdout",
     "output_type": "stream",
     "text": [
      "==================================================\n"
     ]
    },
    {
     "metadata": {
      "tags": null
     },
     "name": "stderr",
     "output_type": "stream",
     "text": [
      "Epoch=128: 100%|██████████| 49/49 [00:15<00:00,  3.09batch/s, accuracy=0.378, loss=3.25]\n",
      "Epoch=128: 100%|██████████| 5/5 [00:02<00:00,  1.93batch/s, accuracy=0.379, loss=3.26]\n"
     ]
    },
    {
     "metadata": {
      "tags": null
     },
     "name": "stdout",
     "output_type": "stream",
     "text": [
      "==================================================\n"
     ]
    },
    {
     "metadata": {
      "tags": null
     },
     "name": "stderr",
     "output_type": "stream",
     "text": [
      "Epoch=129: 100%|██████████| 49/49 [00:16<00:00,  2.94batch/s, accuracy=0.381, loss=3.25]\n",
      "Epoch=129: 100%|██████████| 5/5 [00:02<00:00,  2.03batch/s, accuracy=0.385, loss=3.21]\n"
     ]
    },
    {
     "metadata": {
      "tags": null
     },
     "name": "stdout",
     "output_type": "stream",
     "text": [
      "==================================================\n"
     ]
    },
    {
     "metadata": {
      "tags": null
     },
     "name": "stderr",
     "output_type": "stream",
     "text": [
      "Epoch=130: 100%|██████████| 49/49 [00:15<00:00,  3.15batch/s, accuracy=0.381, loss=3.25]\n",
      "Epoch=130: 100%|██████████| 5/5 [00:02<00:00,  1.81batch/s, accuracy=0.384, loss=3.26]\n"
     ]
    },
    {
     "metadata": {
      "tags": null
     },
     "name": "stdout",
     "output_type": "stream",
     "text": [
      "==================================================\n"
     ]
    },
    {
     "metadata": {
      "tags": null
     },
     "name": "stderr",
     "output_type": "stream",
     "text": [
      "Epoch=131: 100%|██████████| 49/49 [00:16<00:00,  3.01batch/s, accuracy=0.382, loss=3.24]\n",
      "Epoch=131: 100%|██████████| 5/5 [00:02<00:00,  1.70batch/s, accuracy=0.378, loss=3.27]\n"
     ]
    },
    {
     "metadata": {
      "tags": null
     },
     "name": "stdout",
     "output_type": "stream",
     "text": [
      "==================================================\n"
     ]
    },
    {
     "metadata": {
      "tags": null
     },
     "name": "stderr",
     "output_type": "stream",
     "text": [
      "Epoch=132: 100%|██████████| 49/49 [00:16<00:00,  3.04batch/s, accuracy=0.381, loss=3.24]\n",
      "Epoch=132: 100%|██████████| 5/5 [00:02<00:00,  1.99batch/s, accuracy=0.383, loss=3.22]\n"
     ]
    },
    {
     "metadata": {
      "tags": null
     },
     "name": "stdout",
     "output_type": "stream",
     "text": [
      "==================================================\n"
     ]
    },
    {
     "metadata": {
      "tags": null
     },
     "name": "stderr",
     "output_type": "stream",
     "text": [
      "Epoch=133: 100%|██████████| 49/49 [00:16<00:00,  3.03batch/s, accuracy=0.381, loss=3.23]\n",
      "Epoch=133: 100%|██████████| 5/5 [00:02<00:00,  1.84batch/s, accuracy=0.386, loss=3.25]\n"
     ]
    },
    {
     "metadata": {
      "tags": null
     },
     "name": "stdout",
     "output_type": "stream",
     "text": [
      "==================================================\n",
      "model saved√\n",
      "==================================================\n"
     ]
    },
    {
     "metadata": {
      "tags": null
     },
     "name": "stderr",
     "output_type": "stream",
     "text": [
      "Epoch=134: 100%|██████████| 49/49 [00:16<00:00,  3.03batch/s, accuracy=0.378, loss=3.25]\n",
      "Epoch=134: 100%|██████████| 5/5 [00:02<00:00,  1.83batch/s, accuracy=0.382, loss=3.25]\n"
     ]
    },
    {
     "metadata": {
      "tags": null
     },
     "name": "stdout",
     "output_type": "stream",
     "text": [
      "==================================================\n"
     ]
    },
    {
     "metadata": {
      "tags": null
     },
     "name": "stderr",
     "output_type": "stream",
     "text": [
      "Epoch=135: 100%|██████████| 49/49 [00:15<00:00,  3.14batch/s, accuracy=0.382, loss=3.23]\n",
      "Epoch=135: 100%|██████████| 5/5 [00:02<00:00,  1.99batch/s, accuracy=0.382, loss=3.26]\n"
     ]
    },
    {
     "metadata": {
      "tags": null
     },
     "name": "stdout",
     "output_type": "stream",
     "text": [
      "==================================================\n"
     ]
    },
    {
     "metadata": {
      "tags": null
     },
     "name": "stderr",
     "output_type": "stream",
     "text": [
      "Epoch=136: 100%|██████████| 49/49 [00:16<00:00,  3.03batch/s, accuracy=0.379, loss=3.24]\n",
      "Epoch=136: 100%|██████████| 5/5 [00:02<00:00,  2.03batch/s, accuracy=0.384, loss=3.24]\n"
     ]
    },
    {
     "metadata": {
      "tags": null
     },
     "name": "stdout",
     "output_type": "stream",
     "text": [
      "==================================================\n"
     ]
    },
    {
     "metadata": {
      "tags": null
     },
     "name": "stderr",
     "output_type": "stream",
     "text": [
      "Epoch=137: 100%|██████████| 49/49 [00:15<00:00,  3.12batch/s, accuracy=0.381, loss=3.24]\n",
      "Epoch=137: 100%|██████████| 5/5 [00:02<00:00,  1.74batch/s, accuracy=0.379, loss=3.23]\n"
     ]
    },
    {
     "metadata": {
      "tags": null
     },
     "name": "stdout",
     "output_type": "stream",
     "text": [
      "==================================================\n"
     ]
    },
    {
     "metadata": {
      "tags": null
     },
     "name": "stderr",
     "output_type": "stream",
     "text": [
      "Epoch=138: 100%|██████████| 49/49 [00:16<00:00,  3.05batch/s, accuracy=0.38, loss=3.24]\n",
      "Epoch=138: 100%|██████████| 5/5 [00:02<00:00,  1.99batch/s, accuracy=0.378, loss=3.23]\n"
     ]
    },
    {
     "metadata": {
      "tags": null
     },
     "name": "stdout",
     "output_type": "stream",
     "text": [
      "==================================================\n"
     ]
    },
    {
     "metadata": {
      "tags": null
     },
     "name": "stderr",
     "output_type": "stream",
     "text": [
      "Epoch=139: 100%|██████████| 49/49 [00:15<00:00,  3.09batch/s, accuracy=0.381, loss=3.23]\n",
      "Epoch=139: 100%|██████████| 5/5 [00:03<00:00,  1.61batch/s, accuracy=0.381, loss=3.26]\n"
     ]
    },
    {
     "metadata": {
      "tags": null
     },
     "name": "stdout",
     "output_type": "stream",
     "text": [
      "==================================================\n"
     ]
    },
    {
     "metadata": {
      "tags": null
     },
     "name": "stderr",
     "output_type": "stream",
     "text": [
      "Epoch=140: 100%|██████████| 49/49 [00:15<00:00,  3.13batch/s, accuracy=0.383, loss=3.22]\n",
      "Epoch=140: 100%|██████████| 5/5 [00:02<00:00,  2.08batch/s, accuracy=0.379, loss=3.26]\n"
     ]
    },
    {
     "metadata": {
      "tags": null
     },
     "name": "stdout",
     "output_type": "stream",
     "text": [
      "==================================================\n"
     ]
    },
    {
     "metadata": {
      "tags": null
     },
     "name": "stderr",
     "output_type": "stream",
     "text": [
      "Epoch=141: 100%|██████████| 49/49 [00:15<00:00,  3.08batch/s, accuracy=0.382, loss=3.22]\n",
      "Epoch=141: 100%|██████████| 5/5 [00:03<00:00,  1.45batch/s, accuracy=0.378, loss=3.23]\n"
     ]
    },
    {
     "metadata": {
      "tags": null
     },
     "name": "stdout",
     "output_type": "stream",
     "text": [
      "==================================================\n"
     ]
    },
    {
     "metadata": {
      "tags": null
     },
     "name": "stderr",
     "output_type": "stream",
     "text": [
      "Epoch=142: 100%|██████████| 49/49 [00:15<00:00,  3.10batch/s, accuracy=0.379, loss=3.24]\n",
      "Epoch=142: 100%|██████████| 5/5 [00:02<00:00,  1.96batch/s, accuracy=0.381, loss=3.25]\n"
     ]
    },
    {
     "metadata": {
      "tags": null
     },
     "name": "stdout",
     "output_type": "stream",
     "text": [
      "==================================================\n"
     ]
    },
    {
     "metadata": {
      "tags": null
     },
     "name": "stderr",
     "output_type": "stream",
     "text": [
      "Epoch=143: 100%|██████████| 49/49 [00:15<00:00,  3.10batch/s, accuracy=0.379, loss=3.24]\n",
      "Epoch=143: 100%|██████████| 5/5 [00:03<00:00,  1.51batch/s, accuracy=0.38, loss=3.25]\n"
     ]
    },
    {
     "metadata": {
      "tags": null
     },
     "name": "stdout",
     "output_type": "stream",
     "text": [
      "==================================================\n"
     ]
    },
    {
     "metadata": {
      "tags": null
     },
     "name": "stderr",
     "output_type": "stream",
     "text": [
      "Epoch=144: 100%|██████████| 49/49 [00:15<00:00,  3.16batch/s, accuracy=0.382, loss=3.22]\n",
      "Epoch=144: 100%|██████████| 5/5 [00:02<00:00,  2.16batch/s, accuracy=0.377, loss=3.25]\n"
     ]
    },
    {
     "metadata": {
      "tags": null
     },
     "name": "stdout",
     "output_type": "stream",
     "text": [
      "==================================================\n"
     ]
    },
    {
     "metadata": {
      "tags": null
     },
     "name": "stderr",
     "output_type": "stream",
     "text": [
      "Epoch=145: 100%|██████████| 49/49 [00:15<00:00,  3.07batch/s, accuracy=0.38, loss=3.23]\n",
      "Epoch=145: 100%|██████████| 5/5 [00:03<00:00,  1.52batch/s, accuracy=0.387, loss=3.22]\n"
     ]
    },
    {
     "metadata": {
      "tags": null
     },
     "name": "stdout",
     "output_type": "stream",
     "text": [
      "==================================================\n",
      "model saved√\n",
      "==================================================\n"
     ]
    },
    {
     "metadata": {
      "tags": null
     },
     "name": "stderr",
     "output_type": "stream",
     "text": [
      "Epoch=146: 100%|██████████| 49/49 [00:15<00:00,  3.19batch/s, accuracy=0.382, loss=3.22]\n",
      "Epoch=146: 100%|██████████| 5/5 [00:03<00:00,  1.48batch/s, accuracy=0.385, loss=3.21]\n"
     ]
    },
    {
     "metadata": {
      "tags": null
     },
     "name": "stdout",
     "output_type": "stream",
     "text": [
      "==================================================\n"
     ]
    },
    {
     "metadata": {
      "tags": null
     },
     "name": "stderr",
     "output_type": "stream",
     "text": [
      "Epoch=147: 100%|██████████| 49/49 [00:15<00:00,  3.10batch/s, accuracy=0.382, loss=3.23]\n",
      "Epoch=147: 100%|██████████| 5/5 [00:02<00:00,  1.91batch/s, accuracy=0.379, loss=3.25]\n"
     ]
    },
    {
     "metadata": {
      "tags": null
     },
     "name": "stdout",
     "output_type": "stream",
     "text": [
      "==================================================\n"
     ]
    },
    {
     "metadata": {
      "tags": null
     },
     "name": "stderr",
     "output_type": "stream",
     "text": [
      "Epoch=148: 100%|██████████| 49/49 [00:16<00:00,  2.92batch/s, accuracy=0.38, loss=3.23]\n",
      "Epoch=148: 100%|██████████| 5/5 [00:02<00:00,  1.79batch/s, accuracy=0.379, loss=3.22]\n"
     ]
    },
    {
     "metadata": {
      "tags": null
     },
     "name": "stdout",
     "output_type": "stream",
     "text": [
      "==================================================\n"
     ]
    },
    {
     "metadata": {
      "tags": null
     },
     "name": "stderr",
     "output_type": "stream",
     "text": [
      "Epoch=149: 100%|██████████| 49/49 [00:15<00:00,  3.14batch/s, accuracy=0.383, loss=3.23]\n",
      "Epoch=149: 100%|██████████| 5/5 [00:02<00:00,  2.07batch/s, accuracy=0.377, loss=3.25]\n"
     ]
    },
    {
     "metadata": {
      "tags": null
     },
     "name": "stdout",
     "output_type": "stream",
     "text": [
      "==================================================\n"
     ]
    },
    {
     "metadata": {
      "tags": null
     },
     "name": "stderr",
     "output_type": "stream",
     "text": [
      "Epoch=150: 100%|██████████| 49/49 [00:16<00:00,  3.04batch/s, accuracy=0.38, loss=3.23]\n",
      "Epoch=150: 100%|██████████| 5/5 [00:02<00:00,  1.78batch/s, accuracy=0.382, loss=3.22]\n"
     ]
    },
    {
     "metadata": {
      "tags": null
     },
     "name": "stdout",
     "output_type": "stream",
     "text": [
      "==================================================\n"
     ]
    },
    {
     "metadata": {
      "tags": null
     },
     "name": "stderr",
     "output_type": "stream",
     "text": [
      "Epoch=151: 100%|██████████| 49/49 [00:15<00:00,  3.10batch/s, accuracy=0.382, loss=3.22]\n",
      "Epoch=151: 100%|██████████| 5/5 [00:02<00:00,  2.01batch/s, accuracy=0.382, loss=3.22]\n"
     ]
    },
    {
     "metadata": {
      "tags": null
     },
     "name": "stdout",
     "output_type": "stream",
     "text": [
      "==================================================\n"
     ]
    },
    {
     "metadata": {
      "tags": null
     },
     "name": "stderr",
     "output_type": "stream",
     "text": [
      "Epoch=152: 100%|██████████| 49/49 [00:16<00:00,  2.98batch/s, accuracy=0.381, loss=3.24]\n",
      "Epoch=152: 100%|██████████| 5/5 [00:02<00:00,  1.84batch/s, accuracy=0.381, loss=3.24]\n"
     ]
    },
    {
     "metadata": {
      "tags": null
     },
     "name": "stdout",
     "output_type": "stream",
     "text": [
      "==================================================\n"
     ]
    },
    {
     "metadata": {
      "tags": null
     },
     "name": "stderr",
     "output_type": "stream",
     "text": [
      "Epoch=153: 100%|██████████| 49/49 [00:15<00:00,  3.11batch/s, accuracy=0.382, loss=3.22]\n",
      "Epoch=153: 100%|██████████| 5/5 [00:02<00:00,  1.96batch/s, accuracy=0.383, loss=3.19]\n"
     ]
    },
    {
     "metadata": {
      "tags": null
     },
     "name": "stdout",
     "output_type": "stream",
     "text": [
      "==================================================\n"
     ]
    },
    {
     "metadata": {
      "tags": null
     },
     "name": "stderr",
     "output_type": "stream",
     "text": [
      "Epoch=154: 100%|██████████| 49/49 [00:16<00:00,  2.96batch/s, accuracy=0.384, loss=3.21]\n",
      "Epoch=154: 100%|██████████| 5/5 [00:02<00:00,  1.79batch/s, accuracy=0.378, loss=3.23]\n"
     ]
    },
    {
     "metadata": {
      "tags": null
     },
     "name": "stdout",
     "output_type": "stream",
     "text": [
      "==================================================\n"
     ]
    },
    {
     "metadata": {
      "tags": null
     },
     "name": "stderr",
     "output_type": "stream",
     "text": [
      "Epoch=155: 100%|██████████| 49/49 [00:15<00:00,  3.08batch/s, accuracy=0.382, loss=3.22]\n",
      "Epoch=155: 100%|██████████| 5/5 [00:02<00:00,  1.90batch/s, accuracy=0.382, loss=3.23]\n"
     ]
    },
    {
     "metadata": {
      "tags": null
     },
     "name": "stdout",
     "output_type": "stream",
     "text": [
      "==================================================\n"
     ]
    },
    {
     "metadata": {
      "tags": null
     },
     "name": "stderr",
     "output_type": "stream",
     "text": [
      "Epoch=156: 100%|██████████| 49/49 [00:16<00:00,  2.94batch/s, accuracy=0.385, loss=3.2]\n",
      "Epoch=156: 100%|██████████| 5/5 [00:02<00:00,  1.82batch/s, accuracy=0.382, loss=3.26]\n"
     ]
    },
    {
     "metadata": {
      "tags": null
     },
     "name": "stdout",
     "output_type": "stream",
     "text": [
      "==================================================\n"
     ]
    },
    {
     "metadata": {
      "tags": null
     },
     "name": "stderr",
     "output_type": "stream",
     "text": [
      "Epoch=157: 100%|██████████| 49/49 [00:15<00:00,  3.17batch/s, accuracy=0.383, loss=3.21]\n",
      "Epoch=157: 100%|██████████| 5/5 [00:02<00:00,  1.76batch/s, accuracy=0.384, loss=3.21]\n"
     ]
    },
    {
     "metadata": {
      "tags": null
     },
     "name": "stdout",
     "output_type": "stream",
     "text": [
      "==================================================\n"
     ]
    },
    {
     "metadata": {
      "tags": null
     },
     "name": "stderr",
     "output_type": "stream",
     "text": [
      "Epoch=158: 100%|██████████| 49/49 [00:16<00:00,  3.03batch/s, accuracy=0.386, loss=3.19]\n",
      "Epoch=158: 100%|██████████| 5/5 [00:02<00:00,  1.86batch/s, accuracy=0.382, loss=3.22]\n"
     ]
    },
    {
     "metadata": {
      "tags": null
     },
     "name": "stdout",
     "output_type": "stream",
     "text": [
      "==================================================\n"
     ]
    },
    {
     "metadata": {
      "tags": null
     },
     "name": "stderr",
     "output_type": "stream",
     "text": [
      "Epoch=159: 100%|██████████| 49/49 [00:15<00:00,  3.13batch/s, accuracy=0.385, loss=3.2]\n",
      "Epoch=159: 100%|██████████| 5/5 [00:03<00:00,  1.59batch/s, accuracy=0.383, loss=3.19]\n"
     ]
    },
    {
     "metadata": {
      "tags": null
     },
     "name": "stdout",
     "output_type": "stream",
     "text": [
      "==================================================\n"
     ]
    },
    {
     "metadata": {
      "tags": null
     },
     "name": "stderr",
     "output_type": "stream",
     "text": [
      "Epoch=160: 100%|██████████| 49/49 [00:15<00:00,  3.13batch/s, accuracy=0.379, loss=3.24]\n",
      "Epoch=160: 100%|██████████| 5/5 [00:02<00:00,  1.84batch/s, accuracy=0.388, loss=3.21]\n"
     ]
    },
    {
     "metadata": {
      "tags": null
     },
     "name": "stdout",
     "output_type": "stream",
     "text": [
      "==================================================\n",
      "model saved√\n",
      "==================================================\n"
     ]
    },
    {
     "name": "stderr",
     "output_type": "stream",
     "text": [
      "Epoch=161: 100%|██████████| 49/49 [00:15<00:00,  3.12batch/s, accuracy=0.382, loss=3.21]\n",
      "Epoch=161: 100%|██████████| 5/5 [00:02<00:00,  2.06batch/s, accuracy=0.38, loss=3.21]\n"
     ]
    },
    {
     "name": "stdout",
     "output_type": "stream",
     "text": [
      "==================================================\n"
     ]
    },
    {
     "name": "stderr",
     "output_type": "stream",
     "text": [
      "Epoch=162: 100%|██████████| 49/49 [00:15<00:00,  3.17batch/s, accuracy=0.385, loss=3.2]\n",
      "Epoch=162: 100%|██████████| 5/5 [00:03<00:00,  1.55batch/s, accuracy=0.389, loss=3.21]\n"
     ]
    },
    {
     "name": "stdout",
     "output_type": "stream",
     "text": [
      "==================================================\n",
      "model saved√\n",
      "==================================================\n"
     ]
    },
    {
     "name": "stderr",
     "output_type": "stream",
     "text": [
      "Epoch=163: 100%|██████████| 49/49 [00:15<00:00,  3.13batch/s, accuracy=0.381, loss=3.22]\n",
      "Epoch=163: 100%|██████████| 5/5 [00:02<00:00,  2.09batch/s, accuracy=0.375, loss=3.23]\n"
     ]
    },
    {
     "name": "stdout",
     "output_type": "stream",
     "text": [
      "==================================================\n"
     ]
    },
    {
     "name": "stderr",
     "output_type": "stream",
     "text": [
      "Epoch=164: 100%|██████████| 49/49 [00:17<00:00,  2.87batch/s, accuracy=0.384, loss=3.2]\n",
      "Epoch=164: 100%|██████████| 5/5 [00:02<00:00,  1.83batch/s, accuracy=0.386, loss=3.2]\n"
     ]
    },
    {
     "name": "stdout",
     "output_type": "stream",
     "text": [
      "==================================================\n"
     ]
    },
    {
     "name": "stderr",
     "output_type": "stream",
     "text": [
      "Epoch=165: 100%|██████████| 49/49 [00:15<00:00,  3.12batch/s, accuracy=0.383, loss=3.21]\n",
      "Epoch=165: 100%|██████████| 5/5 [00:02<00:00,  2.18batch/s, accuracy=0.387, loss=3.17]\n"
     ]
    },
    {
     "name": "stdout",
     "output_type": "stream",
     "text": [
      "==================================================\n"
     ]
    },
    {
     "name": "stderr",
     "output_type": "stream",
     "text": [
      "Epoch=166: 100%|██████████| 49/49 [00:16<00:00,  2.95batch/s, accuracy=0.381, loss=3.22]\n",
      "Epoch=166: 100%|██████████| 5/5 [00:02<00:00,  2.01batch/s, accuracy=0.382, loss=3.2]\n"
     ]
    },
    {
     "name": "stdout",
     "output_type": "stream",
     "text": [
      "==================================================\n"
     ]
    },
    {
     "name": "stderr",
     "output_type": "stream",
     "text": [
      "Epoch=167: 100%|██████████| 49/49 [00:15<00:00,  3.10batch/s, accuracy=0.384, loss=3.2]\n",
      "Epoch=167: 100%|██████████| 5/5 [00:02<00:00,  1.69batch/s, accuracy=0.386, loss=3.19]\n"
     ]
    },
    {
     "name": "stdout",
     "output_type": "stream",
     "text": [
      "==================================================\n"
     ]
    },
    {
     "name": "stderr",
     "output_type": "stream",
     "text": [
      "Epoch=168: 100%|██████████| 49/49 [00:15<00:00,  3.08batch/s, accuracy=0.381, loss=3.21]\n",
      "Epoch=168: 100%|██████████| 5/5 [00:02<00:00,  2.09batch/s, accuracy=0.39, loss=3.15]\n"
     ]
    },
    {
     "name": "stdout",
     "output_type": "stream",
     "text": [
      "==================================================\n",
      "model saved√\n",
      "==================================================\n"
     ]
    },
    {
     "name": "stderr",
     "output_type": "stream",
     "text": [
      "Epoch=169: 100%|██████████| 49/49 [00:16<00:00,  3.02batch/s, accuracy=0.382, loss=3.21]\n",
      "Epoch=169: 100%|██████████| 5/5 [00:02<00:00,  2.01batch/s, accuracy=0.383, loss=3.23]\n"
     ]
    },
    {
     "name": "stdout",
     "output_type": "stream",
     "text": [
      "==================================================\n"
     ]
    },
    {
     "name": "stderr",
     "output_type": "stream",
     "text": [
      "Epoch=170: 100%|██████████| 49/49 [00:15<00:00,  3.14batch/s, accuracy=0.382, loss=3.2]\n",
      "Epoch=170: 100%|██████████| 5/5 [00:02<00:00,  1.99batch/s, accuracy=0.389, loss=3.19]\n"
     ]
    },
    {
     "name": "stdout",
     "output_type": "stream",
     "text": [
      "==================================================\n"
     ]
    },
    {
     "name": "stderr",
     "output_type": "stream",
     "text": [
      "Epoch=171: 100%|██████████| 49/49 [00:16<00:00,  3.04batch/s, accuracy=0.384, loss=3.19]\n",
      "Epoch=171: 100%|██████████| 5/5 [00:02<00:00,  1.87batch/s, accuracy=0.379, loss=3.23]\n"
     ]
    },
    {
     "name": "stdout",
     "output_type": "stream",
     "text": [
      "==================================================\n"
     ]
    },
    {
     "name": "stderr",
     "output_type": "stream",
     "text": [
      "Epoch=172: 100%|██████████| 49/49 [00:15<00:00,  3.12batch/s, accuracy=0.383, loss=3.21]\n",
      "Epoch=172: 100%|██████████| 5/5 [00:02<00:00,  1.68batch/s, accuracy=0.386, loss=3.19]\n"
     ]
    },
    {
     "name": "stdout",
     "output_type": "stream",
     "text": [
      "==================================================\n"
     ]
    },
    {
     "name": "stderr",
     "output_type": "stream",
     "text": [
      "Epoch=173: 100%|██████████| 49/49 [00:15<00:00,  3.13batch/s, accuracy=0.382, loss=3.2]\n",
      "Epoch=173: 100%|██████████| 5/5 [00:02<00:00,  1.90batch/s, accuracy=0.39, loss=3.16]\n"
     ]
    },
    {
     "name": "stdout",
     "output_type": "stream",
     "text": [
      "==================================================\n"
     ]
    },
    {
     "name": "stderr",
     "output_type": "stream",
     "text": [
      "Epoch=174: 100%|██████████| 49/49 [00:15<00:00,  3.16batch/s, accuracy=0.386, loss=3.19]\n",
      "Epoch=174: 100%|██████████| 5/5 [00:03<00:00,  1.65batch/s, accuracy=0.382, loss=3.22]\n"
     ]
    },
    {
     "name": "stdout",
     "output_type": "stream",
     "text": [
      "==================================================\n"
     ]
    },
    {
     "name": "stderr",
     "output_type": "stream",
     "text": [
      "Epoch=175: 100%|██████████| 49/49 [00:15<00:00,  3.09batch/s, accuracy=0.384, loss=3.2]\n",
      "Epoch=175: 100%|██████████| 5/5 [00:02<00:00,  2.11batch/s, accuracy=0.386, loss=3.21]\n"
     ]
    },
    {
     "name": "stdout",
     "output_type": "stream",
     "text": [
      "==================================================\n"
     ]
    },
    {
     "name": "stderr",
     "output_type": "stream",
     "text": [
      "Epoch=176: 100%|██████████| 49/49 [00:15<00:00,  3.13batch/s, accuracy=0.385, loss=3.2]\n",
      "Epoch=176: 100%|██████████| 5/5 [00:03<00:00,  1.63batch/s, accuracy=0.383, loss=3.22]\n"
     ]
    },
    {
     "name": "stdout",
     "output_type": "stream",
     "text": [
      "==================================================\n"
     ]
    },
    {
     "name": "stderr",
     "output_type": "stream",
     "text": [
      "Epoch=177: 100%|██████████| 49/49 [00:15<00:00,  3.09batch/s, accuracy=0.385, loss=3.2]\n",
      "Epoch=177: 100%|██████████| 5/5 [00:02<00:00,  2.07batch/s, accuracy=0.387, loss=3.2]\n"
     ]
    },
    {
     "name": "stdout",
     "output_type": "stream",
     "text": [
      "==================================================\n"
     ]
    },
    {
     "name": "stderr",
     "output_type": "stream",
     "text": [
      "Epoch=178: 100%|██████████| 49/49 [00:16<00:00,  3.03batch/s, accuracy=0.385, loss=3.19]\n",
      "Epoch=178: 100%|██████████| 5/5 [00:02<00:00,  1.90batch/s, accuracy=0.389, loss=3.14]\n"
     ]
    },
    {
     "name": "stdout",
     "output_type": "stream",
     "text": [
      "==================================================\n"
     ]
    },
    {
     "name": "stderr",
     "output_type": "stream",
     "text": [
      "Epoch=179: 100%|██████████| 49/49 [00:15<00:00,  3.09batch/s, accuracy=0.385, loss=3.2]\n",
      "Epoch=179: 100%|██████████| 5/5 [00:02<00:00,  2.06batch/s, accuracy=0.379, loss=3.2]\n"
     ]
    },
    {
     "name": "stdout",
     "output_type": "stream",
     "text": [
      "==================================================\n"
     ]
    },
    {
     "name": "stderr",
     "output_type": "stream",
     "text": [
      "Epoch=180: 100%|██████████| 49/49 [00:16<00:00,  2.93batch/s, accuracy=0.384, loss=3.21]\n",
      "Epoch=180: 100%|██████████| 5/5 [00:02<00:00,  1.72batch/s, accuracy=0.382, loss=3.24]\n"
     ]
    },
    {
     "name": "stdout",
     "output_type": "stream",
     "text": [
      "==================================================\n"
     ]
    },
    {
     "name": "stderr",
     "output_type": "stream",
     "text": [
      "Epoch=181: 100%|██████████| 49/49 [00:15<00:00,  3.11batch/s, accuracy=0.382, loss=3.21]\n",
      "Epoch=181: 100%|██████████| 5/5 [00:02<00:00,  1.90batch/s, accuracy=0.381, loss=3.2]\n"
     ]
    },
    {
     "name": "stdout",
     "output_type": "stream",
     "text": [
      "==================================================\n"
     ]
    },
    {
     "name": "stderr",
     "output_type": "stream",
     "text": [
      "Epoch=182: 100%|██████████| 49/49 [00:15<00:00,  3.09batch/s, accuracy=0.386, loss=3.18]\n",
      "Epoch=182: 100%|██████████| 5/5 [00:02<00:00,  1.99batch/s, accuracy=0.386, loss=3.17]\n"
     ]
    },
    {
     "name": "stdout",
     "output_type": "stream",
     "text": [
      "==================================================\n"
     ]
    },
    {
     "name": "stderr",
     "output_type": "stream",
     "text": [
      "Epoch=183: 100%|██████████| 49/49 [00:15<00:00,  3.17batch/s, accuracy=0.383, loss=3.19]\n",
      "Epoch=183: 100%|██████████| 5/5 [00:02<00:00,  1.82batch/s, accuracy=0.392, loss=3.18]\n"
     ]
    },
    {
     "name": "stdout",
     "output_type": "stream",
     "text": [
      "==================================================\n",
      "model saved√\n",
      "==================================================\n"
     ]
    },
    {
     "name": "stderr",
     "output_type": "stream",
     "text": [
      "Epoch=184: 100%|██████████| 49/49 [00:15<00:00,  3.09batch/s, accuracy=0.387, loss=3.18]\n",
      "Epoch=184: 100%|██████████| 5/5 [00:02<00:00,  2.13batch/s, accuracy=0.387, loss=3.2]\n"
     ]
    },
    {
     "name": "stdout",
     "output_type": "stream",
     "text": [
      "==================================================\n"
     ]
    },
    {
     "name": "stderr",
     "output_type": "stream",
     "text": [
      "Epoch=185: 100%|██████████| 49/49 [00:16<00:00,  3.02batch/s, accuracy=0.388, loss=3.19]\n",
      "Epoch=185: 100%|██████████| 5/5 [00:02<00:00,  1.87batch/s, accuracy=0.38, loss=3.19]\n"
     ]
    },
    {
     "name": "stdout",
     "output_type": "stream",
     "text": [
      "==================================================\n"
     ]
    },
    {
     "name": "stderr",
     "output_type": "stream",
     "text": [
      "Epoch=186: 100%|██████████| 49/49 [00:15<00:00,  3.13batch/s, accuracy=0.383, loss=3.19]\n",
      "Epoch=186: 100%|██████████| 5/5 [00:02<00:00,  1.84batch/s, accuracy=0.383, loss=3.17]\n"
     ]
    },
    {
     "name": "stdout",
     "output_type": "stream",
     "text": [
      "==================================================\n"
     ]
    },
    {
     "name": "stderr",
     "output_type": "stream",
     "text": [
      "Epoch=187: 100%|██████████| 49/49 [00:15<00:00,  3.17batch/s, accuracy=0.387, loss=3.18]\n",
      "Epoch=187: 100%|██████████| 5/5 [00:02<00:00,  1.93batch/s, accuracy=0.389, loss=3.19]\n"
     ]
    },
    {
     "name": "stdout",
     "output_type": "stream",
     "text": [
      "==================================================\n"
     ]
    },
    {
     "name": "stderr",
     "output_type": "stream",
     "text": [
      "Epoch=188: 100%|██████████| 49/49 [00:15<00:00,  3.12batch/s, accuracy=0.381, loss=3.2]\n",
      "Epoch=188: 100%|██████████| 5/5 [00:02<00:00,  1.68batch/s, accuracy=0.384, loss=3.21]\n"
     ]
    },
    {
     "name": "stdout",
     "output_type": "stream",
     "text": [
      "==================================================\n"
     ]
    },
    {
     "name": "stderr",
     "output_type": "stream",
     "text": [
      "Epoch=189: 100%|██████████| 49/49 [00:15<00:00,  3.15batch/s, accuracy=0.382, loss=3.2]\n",
      "Epoch=189: 100%|██████████| 5/5 [00:02<00:00,  1.86batch/s, accuracy=0.378, loss=3.23]\n"
     ]
    },
    {
     "name": "stdout",
     "output_type": "stream",
     "text": [
      "==================================================\n"
     ]
    },
    {
     "name": "stderr",
     "output_type": "stream",
     "text": [
      "Epoch=190: 100%|██████████| 49/49 [00:15<00:00,  3.14batch/s, accuracy=0.383, loss=3.19]\n",
      "Epoch=190: 100%|██████████| 5/5 [00:03<00:00,  1.66batch/s, accuracy=0.382, loss=3.21]\n"
     ]
    },
    {
     "name": "stdout",
     "output_type": "stream",
     "text": [
      "==================================================\n"
     ]
    },
    {
     "name": "stderr",
     "output_type": "stream",
     "text": [
      "Epoch=191: 100%|██████████| 49/49 [00:15<00:00,  3.20batch/s, accuracy=0.385, loss=3.19]\n",
      "Epoch=191: 100%|██████████| 5/5 [00:02<00:00,  1.97batch/s, accuracy=0.389, loss=3.15]\n"
     ]
    },
    {
     "name": "stdout",
     "output_type": "stream",
     "text": [
      "==================================================\n"
     ]
    },
    {
     "name": "stderr",
     "output_type": "stream",
     "text": [
      "Epoch=192: 100%|██████████| 49/49 [00:15<00:00,  3.11batch/s, accuracy=0.385, loss=3.18]\n",
      "Epoch=192: 100%|██████████| 5/5 [00:02<00:00,  1.69batch/s, accuracy=0.386, loss=3.18]\n"
     ]
    },
    {
     "name": "stdout",
     "output_type": "stream",
     "text": [
      "==================================================\n"
     ]
    },
    {
     "name": "stderr",
     "output_type": "stream",
     "text": [
      "Epoch=193: 100%|██████████| 49/49 [00:15<00:00,  3.11batch/s, accuracy=0.386, loss=3.17]\n",
      "Epoch=193: 100%|██████████| 5/5 [00:02<00:00,  2.06batch/s, accuracy=0.385, loss=3.19]\n"
     ]
    },
    {
     "name": "stdout",
     "output_type": "stream",
     "text": [
      "==================================================\n"
     ]
    },
    {
     "name": "stderr",
     "output_type": "stream",
     "text": [
      "Epoch=194: 100%|██████████| 49/49 [00:16<00:00,  3.05batch/s, accuracy=0.385, loss=3.19]\n",
      "Epoch=194: 100%|██████████| 5/5 [00:03<00:00,  1.57batch/s, accuracy=0.387, loss=3.17]\n"
     ]
    },
    {
     "name": "stdout",
     "output_type": "stream",
     "text": [
      "==================================================\n"
     ]
    },
    {
     "name": "stderr",
     "output_type": "stream",
     "text": [
      "Epoch=195: 100%|██████████| 49/49 [00:15<00:00,  3.09batch/s, accuracy=0.387, loss=3.17]\n",
      "Epoch=195: 100%|██████████| 5/5 [00:02<00:00,  2.18batch/s, accuracy=0.387, loss=3.14]\n"
     ]
    },
    {
     "name": "stdout",
     "output_type": "stream",
     "text": [
      "==================================================\n"
     ]
    },
    {
     "name": "stderr",
     "output_type": "stream",
     "text": [
      "Epoch=196: 100%|██████████| 49/49 [00:16<00:00,  3.00batch/s, accuracy=0.387, loss=3.17]\n",
      "Epoch=196: 100%|██████████| 5/5 [00:02<00:00,  1.86batch/s, accuracy=0.384, loss=3.18]\n"
     ]
    },
    {
     "name": "stdout",
     "output_type": "stream",
     "text": [
      "==================================================\n"
     ]
    },
    {
     "name": "stderr",
     "output_type": "stream",
     "text": [
      "Epoch=197: 100%|██████████| 49/49 [00:16<00:00,  2.92batch/s, accuracy=0.385, loss=3.18]\n",
      "Epoch=197: 100%|██████████| 5/5 [00:02<00:00,  1.82batch/s, accuracy=0.391, loss=3.18]\n"
     ]
    },
    {
     "name": "stdout",
     "output_type": "stream",
     "text": [
      "==================================================\n"
     ]
    },
    {
     "name": "stderr",
     "output_type": "stream",
     "text": [
      "Epoch=198: 100%|██████████| 49/49 [00:16<00:00,  2.99batch/s, accuracy=0.386, loss=3.16]\n",
      "Epoch=198: 100%|██████████| 5/5 [00:02<00:00,  1.88batch/s, accuracy=0.384, loss=3.19]\n"
     ]
    },
    {
     "name": "stdout",
     "output_type": "stream",
     "text": [
      "==================================================\n"
     ]
    },
    {
     "name": "stderr",
     "output_type": "stream",
     "text": [
      "Epoch=199: 100%|██████████| 49/49 [00:16<00:00,  3.05batch/s, accuracy=0.385, loss=3.18]\n",
      "Epoch=199: 100%|██████████| 5/5 [00:03<00:00,  1.60batch/s, accuracy=0.387, loss=3.2]\n"
     ]
    },
    {
     "name": "stdout",
     "output_type": "stream",
     "text": [
      "==================================================\n"
     ]
    },
    {
     "name": "stderr",
     "output_type": "stream",
     "text": [
      "Epoch=200: 100%|██████████| 49/49 [00:15<00:00,  3.13batch/s, accuracy=0.383, loss=3.19]\n",
      "Epoch=200: 100%|██████████| 5/5 [00:02<00:00,  1.85batch/s, accuracy=0.39, loss=3.16]\n"
     ]
    },
    {
     "name": "stdout",
     "output_type": "stream",
     "text": [
      "==================================================\n"
     ]
    },
    {
     "name": "stderr",
     "output_type": "stream",
     "text": [
      "Epoch=201: 100%|██████████| 49/49 [00:16<00:00,  3.00batch/s, accuracy=0.384, loss=3.19]\n",
      "Epoch=201: 100%|██████████| 5/5 [00:02<00:00,  1.90batch/s, accuracy=0.386, loss=3.17]\n"
     ]
    },
    {
     "name": "stdout",
     "output_type": "stream",
     "text": [
      "==================================================\n"
     ]
    },
    {
     "name": "stderr",
     "output_type": "stream",
     "text": [
      "Epoch=202: 100%|██████████| 49/49 [00:16<00:00,  3.05batch/s, accuracy=0.388, loss=3.17]\n",
      "Epoch=202: 100%|██████████| 5/5 [00:02<00:00,  2.02batch/s, accuracy=0.389, loss=3.19]\n"
     ]
    },
    {
     "name": "stdout",
     "output_type": "stream",
     "text": [
      "==================================================\n"
     ]
    },
    {
     "name": "stderr",
     "output_type": "stream",
     "text": [
      "Epoch=203: 100%|██████████| 49/49 [00:16<00:00,  2.99batch/s, accuracy=0.387, loss=3.16]\n",
      "Epoch=203: 100%|██████████| 5/5 [00:02<00:00,  1.87batch/s, accuracy=0.379, loss=3.23]\n"
     ]
    },
    {
     "name": "stdout",
     "output_type": "stream",
     "text": [
      "==================================================\n"
     ]
    },
    {
     "name": "stderr",
     "output_type": "stream",
     "text": [
      "Epoch=204: 100%|██████████| 49/49 [00:15<00:00,  3.17batch/s, accuracy=0.386, loss=3.18]\n",
      "Epoch=204: 100%|██████████| 5/5 [00:02<00:00,  2.04batch/s, accuracy=0.381, loss=3.18]\n"
     ]
    },
    {
     "name": "stdout",
     "output_type": "stream",
     "text": [
      "==================================================\n"
     ]
    },
    {
     "name": "stderr",
     "output_type": "stream",
     "text": [
      "Epoch=205: 100%|██████████| 49/49 [00:16<00:00,  3.02batch/s, accuracy=0.384, loss=3.17]\n",
      "Epoch=205: 100%|██████████| 5/5 [00:02<00:00,  1.87batch/s, accuracy=0.38, loss=3.18]\n"
     ]
    },
    {
     "name": "stdout",
     "output_type": "stream",
     "text": [
      "==================================================\n"
     ]
    },
    {
     "name": "stderr",
     "output_type": "stream",
     "text": [
      "Epoch=206: 100%|██████████| 49/49 [00:15<00:00,  3.10batch/s, accuracy=0.388, loss=3.16]\n",
      "Epoch=206: 100%|██████████| 5/5 [00:02<00:00,  1.94batch/s, accuracy=0.39, loss=3.14]\n"
     ]
    },
    {
     "name": "stdout",
     "output_type": "stream",
     "text": [
      "==================================================\n"
     ]
    },
    {
     "name": "stderr",
     "output_type": "stream",
     "text": [
      "Epoch=207: 100%|██████████| 49/49 [00:16<00:00,  2.99batch/s, accuracy=0.386, loss=3.17]\n",
      "Epoch=207: 100%|██████████| 5/5 [00:02<00:00,  1.85batch/s, accuracy=0.389, loss=3.15]\n"
     ]
    },
    {
     "name": "stdout",
     "output_type": "stream",
     "text": [
      "==================================================\n"
     ]
    },
    {
     "name": "stderr",
     "output_type": "stream",
     "text": [
      "Epoch=208: 100%|██████████| 49/49 [00:15<00:00,  3.09batch/s, accuracy=0.386, loss=3.17]\n",
      "Epoch=208: 100%|██████████| 5/5 [00:03<00:00,  1.65batch/s, accuracy=0.398, loss=3.13]\n"
     ]
    },
    {
     "name": "stdout",
     "output_type": "stream",
     "text": [
      "==================================================\n",
      "model saved√\n",
      "==================================================\n"
     ]
    },
    {
     "name": "stderr",
     "output_type": "stream",
     "text": [
      "Epoch=209: 100%|██████████| 49/49 [00:15<00:00,  3.11batch/s, accuracy=0.385, loss=3.17]\n",
      "Epoch=209: 100%|██████████| 5/5 [00:03<00:00,  1.55batch/s, accuracy=0.381, loss=3.18]\n"
     ]
    },
    {
     "name": "stdout",
     "output_type": "stream",
     "text": [
      "==================================================\n"
     ]
    },
    {
     "name": "stderr",
     "output_type": "stream",
     "text": [
      "Epoch=210: 100%|██████████| 49/49 [00:15<00:00,  3.10batch/s, accuracy=0.386, loss=3.18]\n",
      "Epoch=210: 100%|██████████| 5/5 [00:02<00:00,  2.04batch/s, accuracy=0.381, loss=3.17]\n"
     ]
    },
    {
     "name": "stdout",
     "output_type": "stream",
     "text": [
      "==================================================\n"
     ]
    },
    {
     "name": "stderr",
     "output_type": "stream",
     "text": [
      "Epoch=211: 100%|██████████| 49/49 [00:16<00:00,  3.03batch/s, accuracy=0.385, loss=3.16]\n",
      "Epoch=211: 100%|██████████| 5/5 [00:02<00:00,  1.74batch/s, accuracy=0.391, loss=3.16]\n"
     ]
    },
    {
     "name": "stdout",
     "output_type": "stream",
     "text": [
      "==================================================\n"
     ]
    },
    {
     "name": "stderr",
     "output_type": "stream",
     "text": [
      "Epoch=212: 100%|██████████| 49/49 [00:15<00:00,  3.10batch/s, accuracy=0.387, loss=3.16]\n",
      "Epoch=212: 100%|██████████| 5/5 [00:02<00:00,  1.95batch/s, accuracy=0.391, loss=3.15]\n"
     ]
    },
    {
     "name": "stdout",
     "output_type": "stream",
     "text": [
      "==================================================\n"
     ]
    },
    {
     "name": "stderr",
     "output_type": "stream",
     "text": [
      "Epoch=213: 100%|██████████| 49/49 [00:17<00:00,  2.87batch/s, accuracy=0.387, loss=3.16]\n",
      "Epoch=213: 100%|██████████| 5/5 [00:02<00:00,  1.82batch/s, accuracy=0.386, loss=3.19]\n"
     ]
    },
    {
     "name": "stdout",
     "output_type": "stream",
     "text": [
      "==================================================\n"
     ]
    },
    {
     "name": "stderr",
     "output_type": "stream",
     "text": [
      "Epoch=214: 100%|██████████| 49/49 [00:15<00:00,  3.12batch/s, accuracy=0.386, loss=3.17]\n",
      "Epoch=214: 100%|██████████| 5/5 [00:02<00:00,  1.94batch/s, accuracy=0.385, loss=3.2]\n"
     ]
    },
    {
     "name": "stdout",
     "output_type": "stream",
     "text": [
      "==================================================\n"
     ]
    },
    {
     "name": "stderr",
     "output_type": "stream",
     "text": [
      "Epoch=215: 100%|██████████| 49/49 [00:16<00:00,  3.00batch/s, accuracy=0.386, loss=3.17]\n",
      "Epoch=215: 100%|██████████| 5/5 [00:02<00:00,  2.08batch/s, accuracy=0.381, loss=3.21]\n"
     ]
    },
    {
     "name": "stdout",
     "output_type": "stream",
     "text": [
      "==================================================\n"
     ]
    },
    {
     "name": "stderr",
     "output_type": "stream",
     "text": [
      "Epoch=216: 100%|██████████| 49/49 [00:15<00:00,  3.15batch/s, accuracy=0.386, loss=3.16]\n",
      "Epoch=216: 100%|██████████| 5/5 [00:02<00:00,  1.73batch/s, accuracy=0.378, loss=3.2]\n"
     ]
    },
    {
     "name": "stdout",
     "output_type": "stream",
     "text": [
      "==================================================\n"
     ]
    },
    {
     "name": "stderr",
     "output_type": "stream",
     "text": [
      "Epoch=217: 100%|██████████| 49/49 [00:15<00:00,  3.12batch/s, accuracy=0.388, loss=3.17]\n",
      "Epoch=217: 100%|██████████| 5/5 [00:02<00:00,  2.08batch/s, accuracy=0.384, loss=3.16]\n"
     ]
    },
    {
     "name": "stdout",
     "output_type": "stream",
     "text": [
      "==================================================\n"
     ]
    },
    {
     "name": "stderr",
     "output_type": "stream",
     "text": [
      "Epoch=218: 100%|██████████| 49/49 [00:15<00:00,  3.13batch/s, accuracy=0.388, loss=3.16]\n",
      "Epoch=218: 100%|██████████| 5/5 [00:03<00:00,  1.56batch/s, accuracy=0.387, loss=3.17]\n"
     ]
    },
    {
     "name": "stdout",
     "output_type": "stream",
     "text": [
      "==================================================\n"
     ]
    },
    {
     "name": "stderr",
     "output_type": "stream",
     "text": [
      "Epoch=219: 100%|██████████| 49/49 [00:15<00:00,  3.10batch/s, accuracy=0.387, loss=3.16]\n",
      "Epoch=219: 100%|██████████| 5/5 [00:02<00:00,  2.08batch/s, accuracy=0.388, loss=3.17]\n"
     ]
    },
    {
     "name": "stdout",
     "output_type": "stream",
     "text": [
      "==================================================\n"
     ]
    },
    {
     "name": "stderr",
     "output_type": "stream",
     "text": [
      "Epoch=220: 100%|██████████| 49/49 [00:15<00:00,  3.13batch/s, accuracy=0.385, loss=3.16]\n",
      "Epoch=220: 100%|██████████| 5/5 [00:03<00:00,  1.64batch/s, accuracy=0.391, loss=3.14]\n"
     ]
    },
    {
     "name": "stdout",
     "output_type": "stream",
     "text": [
      "==================================================\n"
     ]
    },
    {
     "name": "stderr",
     "output_type": "stream",
     "text": [
      "Epoch=221: 100%|██████████| 49/49 [00:15<00:00,  3.16batch/s, accuracy=0.389, loss=3.15]\n",
      "Epoch=221: 100%|██████████| 5/5 [00:02<00:00,  1.90batch/s, accuracy=0.389, loss=3.13]\n"
     ]
    },
    {
     "name": "stdout",
     "output_type": "stream",
     "text": [
      "==================================================\n"
     ]
    },
    {
     "name": "stderr",
     "output_type": "stream",
     "text": [
      "Epoch=222: 100%|██████████| 49/49 [00:15<00:00,  3.11batch/s, accuracy=0.39, loss=3.13]\n",
      "Epoch=222: 100%|██████████| 5/5 [00:02<00:00,  1.72batch/s, accuracy=0.388, loss=3.13]\n"
     ]
    },
    {
     "name": "stdout",
     "output_type": "stream",
     "text": [
      "==================================================\n"
     ]
    },
    {
     "name": "stderr",
     "output_type": "stream",
     "text": [
      "Epoch=223: 100%|██████████| 49/49 [00:15<00:00,  3.10batch/s, accuracy=0.387, loss=3.15]\n",
      "Epoch=223: 100%|██████████| 5/5 [00:02<00:00,  1.93batch/s, accuracy=0.384, loss=3.17]\n"
     ]
    },
    {
     "name": "stdout",
     "output_type": "stream",
     "text": [
      "==================================================\n"
     ]
    },
    {
     "name": "stderr",
     "output_type": "stream",
     "text": [
      "Epoch=224: 100%|██████████| 49/49 [00:16<00:00,  3.02batch/s, accuracy=0.391, loss=3.14]\n",
      "Epoch=224: 100%|██████████| 5/5 [00:02<00:00,  2.04batch/s, accuracy=0.384, loss=3.16]\n"
     ]
    },
    {
     "name": "stdout",
     "output_type": "stream",
     "text": [
      "==================================================\n"
     ]
    },
    {
     "name": "stderr",
     "output_type": "stream",
     "text": [
      "Epoch=225: 100%|██████████| 49/49 [00:15<00:00,  3.17batch/s, accuracy=0.39, loss=3.15]\n",
      "Epoch=225: 100%|██████████| 5/5 [00:02<00:00,  1.98batch/s, accuracy=0.39, loss=3.16]\n"
     ]
    },
    {
     "name": "stdout",
     "output_type": "stream",
     "text": [
      "==================================================\n"
     ]
    },
    {
     "name": "stderr",
     "output_type": "stream",
     "text": [
      "Epoch=226: 100%|██████████| 49/49 [00:15<00:00,  3.12batch/s, accuracy=0.387, loss=3.16]\n",
      "Epoch=226: 100%|██████████| 5/5 [00:02<00:00,  2.01batch/s, accuracy=0.398, loss=3.13]\n"
     ]
    },
    {
     "name": "stdout",
     "output_type": "stream",
     "text": [
      "==================================================\n"
     ]
    },
    {
     "name": "stderr",
     "output_type": "stream",
     "text": [
      "Epoch=227: 100%|██████████| 49/49 [00:15<00:00,  3.19batch/s, accuracy=0.385, loss=3.17]\n",
      "Epoch=227: 100%|██████████| 5/5 [00:02<00:00,  1.94batch/s, accuracy=0.391, loss=3.16]\n"
     ]
    },
    {
     "name": "stdout",
     "output_type": "stream",
     "text": [
      "==================================================\n"
     ]
    },
    {
     "name": "stderr",
     "output_type": "stream",
     "text": [
      "Epoch=228: 100%|██████████| 49/49 [00:16<00:00,  3.00batch/s, accuracy=0.388, loss=3.13]\n",
      "Epoch=228: 100%|██████████| 5/5 [00:02<00:00,  2.03batch/s, accuracy=0.384, loss=3.16]\n"
     ]
    },
    {
     "name": "stdout",
     "output_type": "stream",
     "text": [
      "==================================================\n"
     ]
    },
    {
     "name": "stderr",
     "output_type": "stream",
     "text": [
      "Epoch=229: 100%|██████████| 49/49 [00:16<00:00,  2.96batch/s, accuracy=0.39, loss=3.13]\n",
      "Epoch=229: 100%|██████████| 5/5 [00:02<00:00,  2.01batch/s, accuracy=0.385, loss=3.17]\n"
     ]
    },
    {
     "name": "stdout",
     "output_type": "stream",
     "text": [
      "==================================================\n"
     ]
    },
    {
     "name": "stderr",
     "output_type": "stream",
     "text": [
      "Epoch=230: 100%|██████████| 49/49 [00:17<00:00,  2.84batch/s, accuracy=0.389, loss=3.14]\n",
      "Epoch=230: 100%|██████████| 5/5 [00:02<00:00,  1.87batch/s, accuracy=0.389, loss=3.17]\n"
     ]
    },
    {
     "name": "stdout",
     "output_type": "stream",
     "text": [
      "==================================================\n"
     ]
    },
    {
     "name": "stderr",
     "output_type": "stream",
     "text": [
      "Epoch=231: 100%|██████████| 49/49 [00:15<00:00,  3.06batch/s, accuracy=0.388, loss=3.14]\n",
      "Epoch=231: 100%|██████████| 5/5 [00:03<00:00,  1.66batch/s, accuracy=0.394, loss=3.14]\n"
     ]
    },
    {
     "name": "stdout",
     "output_type": "stream",
     "text": [
      "==================================================\n"
     ]
    },
    {
     "name": "stderr",
     "output_type": "stream",
     "text": [
      "Epoch=232: 100%|██████████| 49/49 [00:15<00:00,  3.08batch/s, accuracy=0.39, loss=3.13]\n",
      "Epoch=232: 100%|██████████| 5/5 [00:02<00:00,  1.89batch/s, accuracy=0.394, loss=3.13]\n"
     ]
    },
    {
     "name": "stdout",
     "output_type": "stream",
     "text": [
      "==================================================\n"
     ]
    },
    {
     "name": "stderr",
     "output_type": "stream",
     "text": [
      "Epoch=233: 100%|██████████| 49/49 [00:16<00:00,  3.05batch/s, accuracy=0.386, loss=3.15]\n",
      "Epoch=233: 100%|██████████| 5/5 [00:02<00:00,  1.76batch/s, accuracy=0.39, loss=3.12]\n"
     ]
    },
    {
     "name": "stdout",
     "output_type": "stream",
     "text": [
      "==================================================\n"
     ]
    },
    {
     "name": "stderr",
     "output_type": "stream",
     "text": [
      "Epoch=234: 100%|██████████| 49/49 [00:15<00:00,  3.21batch/s, accuracy=0.388, loss=3.14]\n",
      "Epoch=234: 100%|██████████| 5/5 [00:02<00:00,  1.92batch/s, accuracy=0.39, loss=3.14]\n"
     ]
    },
    {
     "name": "stdout",
     "output_type": "stream",
     "text": [
      "==================================================\n"
     ]
    },
    {
     "name": "stderr",
     "output_type": "stream",
     "text": [
      "Epoch=235: 100%|██████████| 49/49 [00:15<00:00,  3.07batch/s, accuracy=0.387, loss=3.15]\n",
      "Epoch=235: 100%|██████████| 5/5 [00:02<00:00,  1.91batch/s, accuracy=0.392, loss=3.13]\n"
     ]
    },
    {
     "name": "stdout",
     "output_type": "stream",
     "text": [
      "==================================================\n"
     ]
    },
    {
     "name": "stderr",
     "output_type": "stream",
     "text": [
      "Epoch=236: 100%|██████████| 49/49 [00:15<00:00,  3.15batch/s, accuracy=0.387, loss=3.15]\n",
      "Epoch=236: 100%|██████████| 5/5 [00:02<00:00,  1.99batch/s, accuracy=0.394, loss=3.12]\n"
     ]
    },
    {
     "name": "stdout",
     "output_type": "stream",
     "text": [
      "==================================================\n"
     ]
    },
    {
     "name": "stderr",
     "output_type": "stream",
     "text": [
      "Epoch=237: 100%|██████████| 49/49 [00:16<00:00,  3.05batch/s, accuracy=0.391, loss=3.13]\n",
      "Epoch=237: 100%|██████████| 5/5 [00:02<00:00,  2.09batch/s, accuracy=0.387, loss=3.15]\n"
     ]
    },
    {
     "name": "stdout",
     "output_type": "stream",
     "text": [
      "==================================================\n"
     ]
    },
    {
     "name": "stderr",
     "output_type": "stream",
     "text": [
      "Epoch=238: 100%|██████████| 49/49 [00:15<00:00,  3.15batch/s, accuracy=0.389, loss=3.14]\n",
      "Epoch=238: 100%|██████████| 5/5 [00:02<00:00,  2.20batch/s, accuracy=0.386, loss=3.14]\n"
     ]
    },
    {
     "name": "stdout",
     "output_type": "stream",
     "text": [
      "==================================================\n"
     ]
    },
    {
     "name": "stderr",
     "output_type": "stream",
     "text": [
      "Epoch=239: 100%|██████████| 49/49 [00:15<00:00,  3.11batch/s, accuracy=0.388, loss=3.13]\n",
      "Epoch=239: 100%|██████████| 5/5 [00:02<00:00,  1.85batch/s, accuracy=0.388, loss=3.11]\n"
     ]
    },
    {
     "name": "stdout",
     "output_type": "stream",
     "text": [
      "==================================================\n"
     ]
    },
    {
     "name": "stderr",
     "output_type": "stream",
     "text": [
      "Epoch=240: 100%|██████████| 49/49 [00:15<00:00,  3.16batch/s, accuracy=0.39, loss=3.15]\n",
      "Epoch=240: 100%|██████████| 5/5 [00:02<00:00,  2.08batch/s, accuracy=0.388, loss=3.14]\n"
     ]
    },
    {
     "name": "stdout",
     "output_type": "stream",
     "text": [
      "==================================================\n"
     ]
    },
    {
     "name": "stderr",
     "output_type": "stream",
     "text": [
      "Epoch=241: 100%|██████████| 49/49 [00:16<00:00,  3.03batch/s, accuracy=0.389, loss=3.13]\n",
      "Epoch=241: 100%|██████████| 5/5 [00:02<00:00,  1.95batch/s, accuracy=0.392, loss=3.14]\n"
     ]
    },
    {
     "name": "stdout",
     "output_type": "stream",
     "text": [
      "==================================================\n"
     ]
    },
    {
     "name": "stderr",
     "output_type": "stream",
     "text": [
      "Epoch=242: 100%|██████████| 49/49 [00:15<00:00,  3.16batch/s, accuracy=0.39, loss=3.13]\n",
      "Epoch=242: 100%|██████████| 5/5 [00:02<00:00,  2.10batch/s, accuracy=0.389, loss=3.2]\n"
     ]
    },
    {
     "name": "stdout",
     "output_type": "stream",
     "text": [
      "==================================================\n"
     ]
    },
    {
     "name": "stderr",
     "output_type": "stream",
     "text": [
      "Epoch=243: 100%|██████████| 49/49 [00:15<00:00,  3.11batch/s, accuracy=0.392, loss=3.13]\n",
      "Epoch=243: 100%|██████████| 5/5 [00:02<00:00,  1.94batch/s, accuracy=0.386, loss=3.19]\n"
     ]
    },
    {
     "name": "stdout",
     "output_type": "stream",
     "text": [
      "==================================================\n"
     ]
    },
    {
     "name": "stderr",
     "output_type": "stream",
     "text": [
      "Epoch=244: 100%|██████████| 49/49 [00:15<00:00,  3.17batch/s, accuracy=0.39, loss=3.13]\n",
      "Epoch=244: 100%|██████████| 5/5 [00:02<00:00,  2.08batch/s, accuracy=0.394, loss=3.15]\n"
     ]
    },
    {
     "name": "stdout",
     "output_type": "stream",
     "text": [
      "==================================================\n"
     ]
    },
    {
     "name": "stderr",
     "output_type": "stream",
     "text": [
      "Epoch=245: 100%|██████████| 49/49 [00:16<00:00,  3.05batch/s, accuracy=0.39, loss=3.14]\n",
      "Epoch=245: 100%|██████████| 5/5 [00:02<00:00,  1.95batch/s, accuracy=0.391, loss=3.12]\n"
     ]
    },
    {
     "name": "stdout",
     "output_type": "stream",
     "text": [
      "==================================================\n"
     ]
    },
    {
     "name": "stderr",
     "output_type": "stream",
     "text": [
      "Epoch=246: 100%|██████████| 49/49 [00:15<00:00,  3.16batch/s, accuracy=0.39, loss=3.14]\n",
      "Epoch=246: 100%|██████████| 5/5 [00:02<00:00,  1.95batch/s, accuracy=0.399, loss=3.11]\n"
     ]
    },
    {
     "name": "stdout",
     "output_type": "stream",
     "text": [
      "==================================================\n",
      "model saved√\n",
      "==================================================\n"
     ]
    },
    {
     "name": "stderr",
     "output_type": "stream",
     "text": [
      "Epoch=247: 100%|██████████| 49/49 [00:15<00:00,  3.09batch/s, accuracy=0.392, loss=3.12]\n",
      "Epoch=247: 100%|██████████| 5/5 [00:02<00:00,  2.07batch/s, accuracy=0.39, loss=3.14]\n"
     ]
    },
    {
     "name": "stdout",
     "output_type": "stream",
     "text": [
      "==================================================\n"
     ]
    },
    {
     "name": "stderr",
     "output_type": "stream",
     "text": [
      "Epoch=248: 100%|██████████| 49/49 [00:16<00:00,  3.06batch/s, accuracy=0.387, loss=3.13]\n",
      "Epoch=248: 100%|██████████| 5/5 [00:02<00:00,  1.92batch/s, accuracy=0.386, loss=3.17]\n"
     ]
    },
    {
     "name": "stdout",
     "output_type": "stream",
     "text": [
      "==================================================\n"
     ]
    },
    {
     "name": "stderr",
     "output_type": "stream",
     "text": [
      "Epoch=249: 100%|██████████| 49/49 [00:15<00:00,  3.11batch/s, accuracy=0.392, loss=3.11]\n",
      "Epoch=249: 100%|██████████| 5/5 [00:02<00:00,  1.79batch/s, accuracy=0.395, loss=3.11]\n"
     ]
    },
    {
     "name": "stdout",
     "output_type": "stream",
     "text": [
      "==================================================\n"
     ]
    },
    {
     "name": "stderr",
     "output_type": "stream",
     "text": [
      "Epoch=250: 100%|██████████| 49/49 [00:15<00:00,  3.13batch/s, accuracy=0.388, loss=3.13]\n",
      "Epoch=250: 100%|██████████| 5/5 [00:02<00:00,  1.88batch/s, accuracy=0.38, loss=3.18]\n"
     ]
    },
    {
     "name": "stdout",
     "output_type": "stream",
     "text": [
      "==================================================\n"
     ]
    },
    {
     "name": "stderr",
     "output_type": "stream",
     "text": [
      "Epoch=251: 100%|██████████| 49/49 [00:15<00:00,  3.14batch/s, accuracy=0.387, loss=3.12]\n",
      "Epoch=251: 100%|██████████| 5/5 [00:02<00:00,  1.71batch/s, accuracy=0.39, loss=3.14]\n"
     ]
    },
    {
     "name": "stdout",
     "output_type": "stream",
     "text": [
      "==================================================\n"
     ]
    },
    {
     "name": "stderr",
     "output_type": "stream",
     "text": [
      "Epoch=252: 100%|██████████| 49/49 [00:15<00:00,  3.19batch/s, accuracy=0.393, loss=3.11]\n",
      "Epoch=252: 100%|██████████| 5/5 [00:02<00:00,  1.96batch/s, accuracy=0.388, loss=3.15]\n"
     ]
    },
    {
     "name": "stdout",
     "output_type": "stream",
     "text": [
      "==================================================\n"
     ]
    },
    {
     "name": "stderr",
     "output_type": "stream",
     "text": [
      "Epoch=253: 100%|██████████| 49/49 [00:15<00:00,  3.13batch/s, accuracy=0.39, loss=3.13]\n",
      "Epoch=253: 100%|██████████| 5/5 [00:03<00:00,  1.66batch/s, accuracy=0.389, loss=3.13]\n"
     ]
    },
    {
     "name": "stdout",
     "output_type": "stream",
     "text": [
      "==================================================\n"
     ]
    },
    {
     "name": "stderr",
     "output_type": "stream",
     "text": [
      "Epoch=254: 100%|██████████| 49/49 [00:15<00:00,  3.12batch/s, accuracy=0.39, loss=3.11]\n",
      "Epoch=254: 100%|██████████| 5/5 [00:02<00:00,  1.92batch/s, accuracy=0.391, loss=3.13]\n"
     ]
    },
    {
     "name": "stdout",
     "output_type": "stream",
     "text": [
      "==================================================\n"
     ]
    },
    {
     "name": "stderr",
     "output_type": "stream",
     "text": [
      "Epoch=255: 100%|██████████| 49/49 [00:15<00:00,  3.12batch/s, accuracy=0.393, loss=3.12]\n",
      "Epoch=255: 100%|██████████| 5/5 [00:02<00:00,  1.79batch/s, accuracy=0.392, loss=3.15]\n"
     ]
    },
    {
     "name": "stdout",
     "output_type": "stream",
     "text": [
      "==================================================\n"
     ]
    },
    {
     "name": "stderr",
     "output_type": "stream",
     "text": [
      "Epoch=256: 100%|██████████| 49/49 [00:15<00:00,  3.18batch/s, accuracy=0.392, loss=3.11]\n",
      "Epoch=256: 100%|██████████| 5/5 [00:02<00:00,  2.07batch/s, accuracy=0.39, loss=3.15]\n"
     ]
    },
    {
     "name": "stdout",
     "output_type": "stream",
     "text": [
      "==================================================\n"
     ]
    },
    {
     "name": "stderr",
     "output_type": "stream",
     "text": [
      "Epoch=257: 100%|██████████| 49/49 [00:16<00:00,  3.06batch/s, accuracy=0.391, loss=3.12]\n",
      "Epoch=257: 100%|██████████| 5/5 [00:02<00:00,  1.75batch/s, accuracy=0.389, loss=3.13]\n"
     ]
    },
    {
     "name": "stdout",
     "output_type": "stream",
     "text": [
      "==================================================\n"
     ]
    },
    {
     "name": "stderr",
     "output_type": "stream",
     "text": [
      "Epoch=258: 100%|██████████| 49/49 [00:15<00:00,  3.19batch/s, accuracy=0.392, loss=3.11]\n",
      "Epoch=258: 100%|██████████| 5/5 [00:02<00:00,  2.11batch/s, accuracy=0.393, loss=3.1]\n"
     ]
    },
    {
     "name": "stdout",
     "output_type": "stream",
     "text": [
      "==================================================\n"
     ]
    },
    {
     "name": "stderr",
     "output_type": "stream",
     "text": [
      "Epoch=259: 100%|██████████| 49/49 [00:15<00:00,  3.08batch/s, accuracy=0.389, loss=3.12]\n",
      "Epoch=259: 100%|██████████| 5/5 [00:02<00:00,  1.77batch/s, accuracy=0.394, loss=3.11]\n"
     ]
    },
    {
     "name": "stdout",
     "output_type": "stream",
     "text": [
      "==================================================\n"
     ]
    },
    {
     "name": "stderr",
     "output_type": "stream",
     "text": [
      "Epoch=260: 100%|██████████| 49/49 [00:15<00:00,  3.10batch/s, accuracy=0.394, loss=3.11]\n",
      "Epoch=260: 100%|██████████| 5/5 [00:02<00:00,  2.15batch/s, accuracy=0.398, loss=3.1]\n"
     ]
    },
    {
     "name": "stdout",
     "output_type": "stream",
     "text": [
      "==================================================\n"
     ]
    },
    {
     "name": "stderr",
     "output_type": "stream",
     "text": [
      "Epoch=261: 100%|██████████| 49/49 [00:16<00:00,  3.02batch/s, accuracy=0.39, loss=3.15]\n",
      "Epoch=261: 100%|██████████| 5/5 [00:02<00:00,  1.92batch/s, accuracy=0.392, loss=3.09]\n"
     ]
    },
    {
     "name": "stdout",
     "output_type": "stream",
     "text": [
      "==================================================\n"
     ]
    },
    {
     "name": "stderr",
     "output_type": "stream",
     "text": [
      "Epoch=262: 100%|██████████| 49/49 [00:15<00:00,  3.10batch/s, accuracy=0.391, loss=3.12]\n",
      "Epoch=262: 100%|██████████| 5/5 [00:02<00:00,  2.08batch/s, accuracy=0.387, loss=3.12]\n"
     ]
    },
    {
     "name": "stdout",
     "output_type": "stream",
     "text": [
      "==================================================\n"
     ]
    },
    {
     "name": "stderr",
     "output_type": "stream",
     "text": [
      "Epoch=263: 100%|██████████| 49/49 [00:16<00:00,  2.93batch/s, accuracy=0.389, loss=3.11]\n",
      "Epoch=263: 100%|██████████| 5/5 [00:02<00:00,  1.78batch/s, accuracy=0.396, loss=3.09]\n"
     ]
    },
    {
     "name": "stdout",
     "output_type": "stream",
     "text": [
      "==================================================\n"
     ]
    },
    {
     "name": "stderr",
     "output_type": "stream",
     "text": [
      "Epoch=264: 100%|██████████| 49/49 [00:15<00:00,  3.08batch/s, accuracy=0.392, loss=3.11]\n",
      "Epoch=264: 100%|██████████| 5/5 [00:02<00:00,  1.82batch/s, accuracy=0.396, loss=3.1]\n"
     ]
    },
    {
     "name": "stdout",
     "output_type": "stream",
     "text": [
      "==================================================\n"
     ]
    },
    {
     "name": "stderr",
     "output_type": "stream",
     "text": [
      "Epoch=265: 100%|██████████| 49/49 [00:15<00:00,  3.12batch/s, accuracy=0.393, loss=3.11]\n",
      "Epoch=265: 100%|██████████| 5/5 [00:02<00:00,  2.12batch/s, accuracy=0.392, loss=3.12]\n"
     ]
    },
    {
     "name": "stdout",
     "output_type": "stream",
     "text": [
      "==================================================\n"
     ]
    },
    {
     "name": "stderr",
     "output_type": "stream",
     "text": [
      "Epoch=266: 100%|██████████| 49/49 [00:15<00:00,  3.15batch/s, accuracy=0.392, loss=3.11]\n",
      "Epoch=266: 100%|██████████| 5/5 [00:03<00:00,  1.54batch/s, accuracy=0.394, loss=3.11]\n"
     ]
    },
    {
     "name": "stdout",
     "output_type": "stream",
     "text": [
      "==================================================\n"
     ]
    },
    {
     "name": "stderr",
     "output_type": "stream",
     "text": [
      "Epoch=267: 100%|██████████| 49/49 [00:15<00:00,  3.16batch/s, accuracy=0.391, loss=3.12]\n",
      "Epoch=267: 100%|██████████| 5/5 [00:02<00:00,  2.06batch/s, accuracy=0.389, loss=3.13]\n"
     ]
    },
    {
     "name": "stdout",
     "output_type": "stream",
     "text": [
      "==================================================\n"
     ]
    },
    {
     "name": "stderr",
     "output_type": "stream",
     "text": [
      "Epoch=268: 100%|██████████| 49/49 [00:15<00:00,  3.15batch/s, accuracy=0.391, loss=3.1]\n",
      "Epoch=268: 100%|██████████| 5/5 [00:03<00:00,  1.56batch/s, accuracy=0.389, loss=3.14]\n"
     ]
    },
    {
     "name": "stdout",
     "output_type": "stream",
     "text": [
      "==================================================\n"
     ]
    },
    {
     "name": "stderr",
     "output_type": "stream",
     "text": [
      "Epoch=269: 100%|██████████| 49/49 [00:15<00:00,  3.22batch/s, accuracy=0.39, loss=3.12]\n",
      "Epoch=269: 100%|██████████| 5/5 [00:02<00:00,  2.13batch/s, accuracy=0.394, loss=3.1]\n"
     ]
    },
    {
     "name": "stdout",
     "output_type": "stream",
     "text": [
      "==================================================\n"
     ]
    },
    {
     "name": "stderr",
     "output_type": "stream",
     "text": [
      "Epoch=270: 100%|██████████| 49/49 [00:15<00:00,  3.12batch/s, accuracy=0.392, loss=3.11]\n",
      "Epoch=270: 100%|██████████| 5/5 [00:03<00:00,  1.59batch/s, accuracy=0.394, loss=3.12]\n"
     ]
    },
    {
     "name": "stdout",
     "output_type": "stream",
     "text": [
      "==================================================\n"
     ]
    },
    {
     "name": "stderr",
     "output_type": "stream",
     "text": [
      "Epoch=271: 100%|██████████| 49/49 [00:15<00:00,  3.17batch/s, accuracy=0.392, loss=3.1]\n",
      "Epoch=271: 100%|██████████| 5/5 [00:02<00:00,  2.11batch/s, accuracy=0.388, loss=3.15]\n"
     ]
    },
    {
     "name": "stdout",
     "output_type": "stream",
     "text": [
      "==================================================\n"
     ]
    },
    {
     "name": "stderr",
     "output_type": "stream",
     "text": [
      "Epoch=272: 100%|██████████| 49/49 [00:15<00:00,  3.12batch/s, accuracy=0.395, loss=3.09]\n",
      "Epoch=272: 100%|██████████| 5/5 [00:03<00:00,  1.66batch/s, accuracy=0.391, loss=3.11]\n"
     ]
    },
    {
     "name": "stdout",
     "output_type": "stream",
     "text": [
      "==================================================\n"
     ]
    },
    {
     "name": "stderr",
     "output_type": "stream",
     "text": [
      "Epoch=273: 100%|██████████| 49/49 [00:15<00:00,  3.10batch/s, accuracy=0.393, loss=3.11]\n",
      "Epoch=273: 100%|██████████| 5/5 [00:02<00:00,  2.14batch/s, accuracy=0.399, loss=3.05]\n"
     ]
    },
    {
     "name": "stdout",
     "output_type": "stream",
     "text": [
      "==================================================\n"
     ]
    },
    {
     "name": "stderr",
     "output_type": "stream",
     "text": [
      "Epoch=274: 100%|██████████| 49/49 [00:16<00:00,  3.00batch/s, accuracy=0.391, loss=3.11]\n",
      "Epoch=274: 100%|██████████| 5/5 [00:02<00:00,  2.08batch/s, accuracy=0.391, loss=3.12]\n"
     ]
    },
    {
     "name": "stdout",
     "output_type": "stream",
     "text": [
      "==================================================\n"
     ]
    },
    {
     "name": "stderr",
     "output_type": "stream",
     "text": [
      "Epoch=275: 100%|██████████| 49/49 [00:15<00:00,  3.13batch/s, accuracy=0.391, loss=3.1]\n",
      "Epoch=275: 100%|██████████| 5/5 [00:02<00:00,  1.93batch/s, accuracy=0.395, loss=3.09]\n"
     ]
    },
    {
     "name": "stdout",
     "output_type": "stream",
     "text": [
      "==================================================\n"
     ]
    },
    {
     "name": "stderr",
     "output_type": "stream",
     "text": [
      "Epoch=276: 100%|██████████| 49/49 [00:16<00:00,  3.01batch/s, accuracy=0.394, loss=3.1]\n",
      "Epoch=276: 100%|██████████| 5/5 [00:02<00:00,  2.07batch/s, accuracy=0.391, loss=3.11]\n"
     ]
    },
    {
     "name": "stdout",
     "output_type": "stream",
     "text": [
      "==================================================\n"
     ]
    },
    {
     "name": "stderr",
     "output_type": "stream",
     "text": [
      "Epoch=277: 100%|██████████| 49/49 [00:15<00:00,  3.13batch/s, accuracy=0.393, loss=3.1]\n",
      "Epoch=277: 100%|██████████| 5/5 [00:02<00:00,  1.88batch/s, accuracy=0.393, loss=3.13]\n"
     ]
    },
    {
     "name": "stdout",
     "output_type": "stream",
     "text": [
      "==================================================\n"
     ]
    },
    {
     "name": "stderr",
     "output_type": "stream",
     "text": [
      "Epoch=278: 100%|██████████| 49/49 [00:15<00:00,  3.09batch/s, accuracy=0.393, loss=3.09]\n",
      "Epoch=278: 100%|██████████| 5/5 [00:02<00:00,  2.08batch/s, accuracy=0.392, loss=3.11]\n"
     ]
    },
    {
     "name": "stdout",
     "output_type": "stream",
     "text": [
      "==================================================\n"
     ]
    },
    {
     "name": "stderr",
     "output_type": "stream",
     "text": [
      "Epoch=279: 100%|██████████| 49/49 [00:15<00:00,  3.11batch/s, accuracy=0.392, loss=3.1]\n",
      "Epoch=279: 100%|██████████| 5/5 [00:02<00:00,  1.73batch/s, accuracy=0.396, loss=3.08]\n"
     ]
    },
    {
     "name": "stdout",
     "output_type": "stream",
     "text": [
      "==================================================\n"
     ]
    },
    {
     "name": "stderr",
     "output_type": "stream",
     "text": [
      "Epoch=280: 100%|██████████| 49/49 [00:16<00:00,  2.95batch/s, accuracy=0.393, loss=3.1]\n",
      "Epoch=280: 100%|██████████| 5/5 [00:02<00:00,  1.90batch/s, accuracy=0.4, loss=3.08]\n"
     ]
    },
    {
     "name": "stdout",
     "output_type": "stream",
     "text": [
      "==================================================\n",
      "model saved√\n",
      "==================================================\n"
     ]
    },
    {
     "name": "stderr",
     "output_type": "stream",
     "text": [
      "Epoch=281: 100%|██████████| 49/49 [00:15<00:00,  3.14batch/s, accuracy=0.392, loss=3.1]\n",
      "Epoch=281: 100%|██████████| 5/5 [00:02<00:00,  1.96batch/s, accuracy=0.393, loss=3.09]\n"
     ]
    },
    {
     "name": "stdout",
     "output_type": "stream",
     "text": [
      "==================================================\n"
     ]
    },
    {
     "name": "stderr",
     "output_type": "stream",
     "text": [
      "Epoch=282: 100%|██████████| 49/49 [00:15<00:00,  3.20batch/s, accuracy=0.391, loss=3.1]\n",
      "Epoch=282: 100%|██████████| 5/5 [00:03<00:00,  1.62batch/s, accuracy=0.391, loss=3.1]\n"
     ]
    },
    {
     "name": "stdout",
     "output_type": "stream",
     "text": [
      "==================================================\n"
     ]
    },
    {
     "name": "stderr",
     "output_type": "stream",
     "text": [
      "Epoch=283: 100%|██████████| 49/49 [00:15<00:00,  3.08batch/s, accuracy=0.392, loss=3.09]\n",
      "Epoch=283: 100%|██████████| 5/5 [00:02<00:00,  2.06batch/s, accuracy=0.391, loss=3.12]\n"
     ]
    },
    {
     "name": "stdout",
     "output_type": "stream",
     "text": [
      "==================================================\n"
     ]
    },
    {
     "name": "stderr",
     "output_type": "stream",
     "text": [
      "Epoch=284: 100%|██████████| 49/49 [00:15<00:00,  3.11batch/s, accuracy=0.394, loss=3.08]\n",
      "Epoch=284: 100%|██████████| 5/5 [00:03<00:00,  1.65batch/s, accuracy=0.401, loss=3.06]\n"
     ]
    },
    {
     "name": "stdout",
     "output_type": "stream",
     "text": [
      "==================================================\n",
      "model saved√\n",
      "==================================================\n"
     ]
    },
    {
     "name": "stderr",
     "output_type": "stream",
     "text": [
      "Epoch=285: 100%|██████████| 49/49 [00:15<00:00,  3.12batch/s, accuracy=0.392, loss=3.11]\n",
      "Epoch=285: 100%|██████████| 5/5 [00:02<00:00,  1.76batch/s, accuracy=0.388, loss=3.11]\n"
     ]
    },
    {
     "name": "stdout",
     "output_type": "stream",
     "text": [
      "==================================================\n"
     ]
    },
    {
     "name": "stderr",
     "output_type": "stream",
     "text": [
      "Epoch=286: 100%|██████████| 49/49 [00:15<00:00,  3.19batch/s, accuracy=0.394, loss=3.09]\n",
      "Epoch=286: 100%|██████████| 5/5 [00:02<00:00,  1.92batch/s, accuracy=0.395, loss=3.09]\n"
     ]
    },
    {
     "name": "stdout",
     "output_type": "stream",
     "text": [
      "==================================================\n"
     ]
    },
    {
     "name": "stderr",
     "output_type": "stream",
     "text": [
      "Epoch=287: 100%|██████████| 49/49 [00:15<00:00,  3.09batch/s, accuracy=0.391, loss=3.11]\n",
      "Epoch=287: 100%|██████████| 5/5 [00:02<00:00,  1.88batch/s, accuracy=0.393, loss=3.08]\n"
     ]
    },
    {
     "name": "stdout",
     "output_type": "stream",
     "text": [
      "==================================================\n"
     ]
    },
    {
     "name": "stderr",
     "output_type": "stream",
     "text": [
      "Epoch=288: 100%|██████████| 49/49 [00:15<00:00,  3.08batch/s, accuracy=0.391, loss=3.1]\n",
      "Epoch=288: 100%|██████████| 5/5 [00:02<00:00,  2.15batch/s, accuracy=0.395, loss=3.09]\n"
     ]
    },
    {
     "name": "stdout",
     "output_type": "stream",
     "text": [
      "==================================================\n"
     ]
    },
    {
     "name": "stderr",
     "output_type": "stream",
     "text": [
      "Epoch=289: 100%|██████████| 49/49 [00:16<00:00,  3.02batch/s, accuracy=0.394, loss=3.09]\n",
      "Epoch=289: 100%|██████████| 5/5 [00:02<00:00,  1.90batch/s, accuracy=0.394, loss=3.08]\n"
     ]
    },
    {
     "name": "stdout",
     "output_type": "stream",
     "text": [
      "==================================================\n"
     ]
    },
    {
     "name": "stderr",
     "output_type": "stream",
     "text": [
      "Epoch=290: 100%|██████████| 49/49 [00:15<00:00,  3.19batch/s, accuracy=0.393, loss=3.09]\n",
      "Epoch=290: 100%|██████████| 5/5 [00:02<00:00,  2.22batch/s, accuracy=0.391, loss=3.09]\n"
     ]
    },
    {
     "name": "stdout",
     "output_type": "stream",
     "text": [
      "==================================================\n"
     ]
    },
    {
     "name": "stderr",
     "output_type": "stream",
     "text": [
      "Epoch=291: 100%|██████████| 49/49 [00:16<00:00,  3.04batch/s, accuracy=0.396, loss=3.07]\n",
      "Epoch=291: 100%|██████████| 5/5 [00:02<00:00,  2.12batch/s, accuracy=0.389, loss=3.11]\n"
     ]
    },
    {
     "name": "stdout",
     "output_type": "stream",
     "text": [
      "==================================================\n"
     ]
    },
    {
     "name": "stderr",
     "output_type": "stream",
     "text": [
      "Epoch=292: 100%|██████████| 49/49 [00:15<00:00,  3.19batch/s, accuracy=0.392, loss=3.1]\n",
      "Epoch=292: 100%|██████████| 5/5 [00:02<00:00,  1.92batch/s, accuracy=0.389, loss=3.11]\n"
     ]
    },
    {
     "name": "stdout",
     "output_type": "stream",
     "text": [
      "==================================================\n"
     ]
    },
    {
     "name": "stderr",
     "output_type": "stream",
     "text": [
      "Epoch=293: 100%|██████████| 49/49 [00:15<00:00,  3.08batch/s, accuracy=0.392, loss=3.09]\n",
      "Epoch=293: 100%|██████████| 5/5 [00:02<00:00,  2.13batch/s, accuracy=0.39, loss=3.13]\n"
     ]
    },
    {
     "name": "stdout",
     "output_type": "stream",
     "text": [
      "==================================================\n"
     ]
    },
    {
     "name": "stderr",
     "output_type": "stream",
     "text": [
      "Epoch=294: 100%|██████████| 49/49 [00:15<00:00,  3.13batch/s, accuracy=0.392, loss=3.08]\n",
      "Epoch=294: 100%|██████████| 5/5 [00:02<00:00,  2.06batch/s, accuracy=0.393, loss=3.12]\n"
     ]
    },
    {
     "name": "stdout",
     "output_type": "stream",
     "text": [
      "==================================================\n"
     ]
    },
    {
     "name": "stderr",
     "output_type": "stream",
     "text": [
      "Epoch=295: 100%|██████████| 49/49 [00:15<00:00,  3.13batch/s, accuracy=0.394, loss=3.08]\n",
      "Epoch=295: 100%|██████████| 5/5 [00:02<00:00,  1.90batch/s, accuracy=0.402, loss=3.08]\n"
     ]
    },
    {
     "name": "stdout",
     "output_type": "stream",
     "text": [
      "==================================================\n",
      "model saved√\n",
      "==================================================\n"
     ]
    },
    {
     "name": "stderr",
     "output_type": "stream",
     "text": [
      "Epoch=296: 100%|██████████| 49/49 [00:16<00:00,  3.04batch/s, accuracy=0.395, loss=3.09]\n",
      "Epoch=296: 100%|██████████| 5/5 [00:03<00:00,  1.63batch/s, accuracy=0.394, loss=3.09]\n"
     ]
    },
    {
     "name": "stdout",
     "output_type": "stream",
     "text": [
      "==================================================\n"
     ]
    },
    {
     "name": "stderr",
     "output_type": "stream",
     "text": [
      "Epoch=297: 100%|██████████| 49/49 [00:15<00:00,  3.10batch/s, accuracy=0.393, loss=3.07]\n",
      "Epoch=297: 100%|██████████| 5/5 [00:02<00:00,  1.96batch/s, accuracy=0.397, loss=3.06]\n"
     ]
    },
    {
     "name": "stdout",
     "output_type": "stream",
     "text": [
      "==================================================\n"
     ]
    },
    {
     "name": "stderr",
     "output_type": "stream",
     "text": [
      "Epoch=298: 100%|██████████| 49/49 [00:16<00:00,  3.06batch/s, accuracy=0.397, loss=3.07]\n",
      "Epoch=298: 100%|██████████| 5/5 [00:02<00:00,  1.97batch/s, accuracy=0.397, loss=3.07]\n"
     ]
    },
    {
     "name": "stdout",
     "output_type": "stream",
     "text": [
      "==================================================\n"
     ]
    },
    {
     "name": "stderr",
     "output_type": "stream",
     "text": [
      "Epoch=299: 100%|██████████| 49/49 [00:15<00:00,  3.20batch/s, accuracy=0.393, loss=3.08]\n",
      "Epoch=299: 100%|██████████| 5/5 [00:02<00:00,  1.98batch/s, accuracy=0.391, loss=3.13]\n"
     ]
    },
    {
     "name": "stdout",
     "output_type": "stream",
     "text": [
      "==================================================\n"
     ]
    },
    {
     "name": "stderr",
     "output_type": "stream",
     "text": [
      "Epoch=300: 100%|██████████| 49/49 [00:16<00:00,  3.02batch/s, accuracy=0.393, loss=3.08]\n",
      "Epoch=300: 100%|██████████| 5/5 [00:02<00:00,  2.12batch/s, accuracy=0.397, loss=3.08]\n"
     ]
    },
    {
     "name": "stdout",
     "output_type": "stream",
     "text": [
      "==================================================\n"
     ]
    },
    {
     "name": "stderr",
     "output_type": "stream",
     "text": [
      "Epoch=301: 100%|██████████| 49/49 [00:15<00:00,  3.11batch/s, accuracy=0.396, loss=3.07]\n",
      "Epoch=301: 100%|██████████| 5/5 [00:02<00:00,  2.10batch/s, accuracy=0.397, loss=3.08]\n"
     ]
    },
    {
     "name": "stdout",
     "output_type": "stream",
     "text": [
      "==================================================\n"
     ]
    },
    {
     "name": "stderr",
     "output_type": "stream",
     "text": [
      "Epoch=302: 100%|██████████| 49/49 [00:16<00:00,  3.02batch/s, accuracy=0.395, loss=3.07]\n",
      "Epoch=302: 100%|██████████| 5/5 [00:02<00:00,  1.92batch/s, accuracy=0.401, loss=3.05]\n"
     ]
    },
    {
     "name": "stdout",
     "output_type": "stream",
     "text": [
      "==================================================\n"
     ]
    },
    {
     "name": "stderr",
     "output_type": "stream",
     "text": [
      "Epoch=303: 100%|██████████| 49/49 [00:15<00:00,  3.17batch/s, accuracy=0.395, loss=3.07]\n",
      "Epoch=303: 100%|██████████| 5/5 [00:02<00:00,  2.19batch/s, accuracy=0.397, loss=3.08]\n"
     ]
    },
    {
     "name": "stdout",
     "output_type": "stream",
     "text": [
      "==================================================\n"
     ]
    },
    {
     "name": "stderr",
     "output_type": "stream",
     "text": [
      "Epoch=304: 100%|██████████| 49/49 [00:15<00:00,  3.07batch/s, accuracy=0.393, loss=3.07]\n",
      "Epoch=304: 100%|██████████| 5/5 [00:02<00:00,  1.94batch/s, accuracy=0.393, loss=3.08]\n"
     ]
    },
    {
     "name": "stdout",
     "output_type": "stream",
     "text": [
      "==================================================\n"
     ]
    },
    {
     "name": "stderr",
     "output_type": "stream",
     "text": [
      "Epoch=305: 100%|██████████| 49/49 [00:15<00:00,  3.16batch/s, accuracy=0.396, loss=3.08]\n",
      "Epoch=305: 100%|██████████| 5/5 [00:02<00:00,  2.12batch/s, accuracy=0.393, loss=3.07]\n"
     ]
    },
    {
     "name": "stdout",
     "output_type": "stream",
     "text": [
      "==================================================\n"
     ]
    },
    {
     "name": "stderr",
     "output_type": "stream",
     "text": [
      "Epoch=306: 100%|██████████| 49/49 [00:15<00:00,  3.06batch/s, accuracy=0.396, loss=3.07]\n",
      "Epoch=306: 100%|██████████| 5/5 [00:02<00:00,  1.99batch/s, accuracy=0.393, loss=3.09]\n"
     ]
    },
    {
     "name": "stdout",
     "output_type": "stream",
     "text": [
      "==================================================\n"
     ]
    },
    {
     "name": "stderr",
     "output_type": "stream",
     "text": [
      "Epoch=307: 100%|██████████| 49/49 [00:15<00:00,  3.12batch/s, accuracy=0.395, loss=3.07]\n",
      "Epoch=307: 100%|██████████| 5/5 [00:02<00:00,  1.98batch/s, accuracy=0.394, loss=3.09]\n"
     ]
    },
    {
     "name": "stdout",
     "output_type": "stream",
     "text": [
      "==================================================\n"
     ]
    },
    {
     "name": "stderr",
     "output_type": "stream",
     "text": [
      "Epoch=308: 100%|██████████| 49/49 [00:15<00:00,  3.09batch/s, accuracy=0.395, loss=3.08]\n",
      "Epoch=308: 100%|██████████| 5/5 [00:02<00:00,  1.91batch/s, accuracy=0.389, loss=3.08]\n"
     ]
    },
    {
     "name": "stdout",
     "output_type": "stream",
     "text": [
      "==================================================\n"
     ]
    },
    {
     "name": "stderr",
     "output_type": "stream",
     "text": [
      "Epoch=309: 100%|██████████| 49/49 [00:15<00:00,  3.16batch/s, accuracy=0.394, loss=3.08]\n",
      "Epoch=309: 100%|██████████| 5/5 [00:02<00:00,  1.97batch/s, accuracy=0.393, loss=3.09]\n"
     ]
    },
    {
     "name": "stdout",
     "output_type": "stream",
     "text": [
      "==================================================\n"
     ]
    },
    {
     "name": "stderr",
     "output_type": "stream",
     "text": [
      "Epoch=310: 100%|██████████| 49/49 [00:16<00:00,  3.04batch/s, accuracy=0.394, loss=3.08]\n",
      "Epoch=310: 100%|██████████| 5/5 [00:02<00:00,  2.05batch/s, accuracy=0.396, loss=3.05]\n"
     ]
    },
    {
     "name": "stdout",
     "output_type": "stream",
     "text": [
      "==================================================\n"
     ]
    },
    {
     "name": "stderr",
     "output_type": "stream",
     "text": [
      "Epoch=311: 100%|██████████| 49/49 [00:15<00:00,  3.13batch/s, accuracy=0.397, loss=3.07]\n",
      "Epoch=311: 100%|██████████| 5/5 [00:03<00:00,  1.57batch/s, accuracy=0.404, loss=3.03]\n"
     ]
    },
    {
     "name": "stdout",
     "output_type": "stream",
     "text": [
      "==================================================\n",
      "model saved√\n",
      "==================================================\n"
     ]
    },
    {
     "name": "stderr",
     "output_type": "stream",
     "text": [
      "Epoch=312: 100%|██████████| 49/49 [00:15<00:00,  3.22batch/s, accuracy=0.392, loss=3.07]\n",
      "Epoch=312: 100%|██████████| 5/5 [00:02<00:00,  1.69batch/s, accuracy=0.397, loss=3.08]\n"
     ]
    },
    {
     "name": "stdout",
     "output_type": "stream",
     "text": [
      "==================================================\n"
     ]
    },
    {
     "name": "stderr",
     "output_type": "stream",
     "text": [
      "Epoch=313: 100%|██████████| 49/49 [00:16<00:00,  2.92batch/s, accuracy=0.392, loss=3.08]\n",
      "Epoch=313: 100%|██████████| 5/5 [00:02<00:00,  1.86batch/s, accuracy=0.399, loss=3.05]\n"
     ]
    },
    {
     "name": "stdout",
     "output_type": "stream",
     "text": [
      "==================================================\n"
     ]
    },
    {
     "name": "stderr",
     "output_type": "stream",
     "text": [
      "Epoch=314: 100%|██████████| 49/49 [00:16<00:00,  3.02batch/s, accuracy=0.391, loss=3.08]\n",
      "Epoch=314: 100%|██████████| 5/5 [00:02<00:00,  1.88batch/s, accuracy=0.396, loss=3.08]\n"
     ]
    },
    {
     "name": "stdout",
     "output_type": "stream",
     "text": [
      "==================================================\n"
     ]
    },
    {
     "name": "stderr",
     "output_type": "stream",
     "text": [
      "Epoch=315: 100%|██████████| 49/49 [00:15<00:00,  3.07batch/s, accuracy=0.395, loss=3.08]\n",
      "Epoch=315: 100%|██████████| 5/5 [00:02<00:00,  2.08batch/s, accuracy=0.4, loss=3.06]\n"
     ]
    },
    {
     "name": "stdout",
     "output_type": "stream",
     "text": [
      "==================================================\n"
     ]
    },
    {
     "name": "stderr",
     "output_type": "stream",
     "text": [
      "Epoch=316: 100%|██████████| 49/49 [00:16<00:00,  3.01batch/s, accuracy=0.395, loss=3.07]\n",
      "Epoch=316: 100%|██████████| 5/5 [00:02<00:00,  1.93batch/s, accuracy=0.393, loss=3.07]\n"
     ]
    },
    {
     "name": "stdout",
     "output_type": "stream",
     "text": [
      "==================================================\n"
     ]
    },
    {
     "name": "stderr",
     "output_type": "stream",
     "text": [
      "Epoch=317: 100%|██████████| 49/49 [00:15<00:00,  3.12batch/s, accuracy=0.396, loss=3.05]\n",
      "Epoch=317: 100%|██████████| 5/5 [00:02<00:00,  2.04batch/s, accuracy=0.4, loss=3.07]\n"
     ]
    },
    {
     "name": "stdout",
     "output_type": "stream",
     "text": [
      "==================================================\n"
     ]
    },
    {
     "name": "stderr",
     "output_type": "stream",
     "text": [
      "Epoch=318: 100%|██████████| 49/49 [00:16<00:00,  2.94batch/s, accuracy=0.395, loss=3.06]\n",
      "Epoch=318: 100%|██████████| 5/5 [00:02<00:00,  2.12batch/s, accuracy=0.4, loss=3.07]\n"
     ]
    },
    {
     "name": "stdout",
     "output_type": "stream",
     "text": [
      "==================================================\n"
     ]
    },
    {
     "name": "stderr",
     "output_type": "stream",
     "text": [
      "Epoch=319: 100%|██████████| 49/49 [00:15<00:00,  3.11batch/s, accuracy=0.397, loss=3.08]\n",
      "Epoch=319: 100%|██████████| 5/5 [00:02<00:00,  1.76batch/s, accuracy=0.399, loss=3.1]\n"
     ]
    },
    {
     "name": "stdout",
     "output_type": "stream",
     "text": [
      "==================================================\n"
     ]
    },
    {
     "name": "stderr",
     "output_type": "stream",
     "text": [
      "Epoch=320: 100%|██████████| 49/49 [00:16<00:00,  3.04batch/s, accuracy=0.396, loss=3.06]\n",
      "Epoch=320: 100%|██████████| 5/5 [00:02<00:00,  2.12batch/s, accuracy=0.4, loss=3.06]\n"
     ]
    },
    {
     "name": "stdout",
     "output_type": "stream",
     "text": [
      "==================================================\n"
     ]
    },
    {
     "name": "stderr",
     "output_type": "stream",
     "text": [
      "Epoch=321: 100%|██████████| 49/49 [00:15<00:00,  3.11batch/s, accuracy=0.395, loss=3.07]\n",
      "Epoch=321: 100%|██████████| 5/5 [00:02<00:00,  1.70batch/s, accuracy=0.393, loss=3.05]\n"
     ]
    },
    {
     "name": "stdout",
     "output_type": "stream",
     "text": [
      "==================================================\n"
     ]
    },
    {
     "name": "stderr",
     "output_type": "stream",
     "text": [
      "Epoch=322: 100%|██████████| 49/49 [00:15<00:00,  3.12batch/s, accuracy=0.398, loss=3.05]\n",
      "Epoch=322: 100%|██████████| 5/5 [00:02<00:00,  1.91batch/s, accuracy=0.397, loss=3.06]\n"
     ]
    },
    {
     "name": "stdout",
     "output_type": "stream",
     "text": [
      "==================================================\n"
     ]
    },
    {
     "name": "stderr",
     "output_type": "stream",
     "text": [
      "Epoch=323: 100%|██████████| 49/49 [00:15<00:00,  3.10batch/s, accuracy=0.397, loss=3.06]\n",
      "Epoch=323: 100%|██████████| 5/5 [00:03<00:00,  1.65batch/s, accuracy=0.393, loss=3.1]\n"
     ]
    },
    {
     "name": "stdout",
     "output_type": "stream",
     "text": [
      "==================================================\n"
     ]
    },
    {
     "name": "stderr",
     "output_type": "stream",
     "text": [
      "Epoch=324: 100%|██████████| 49/49 [00:15<00:00,  3.13batch/s, accuracy=0.398, loss=3.06]\n",
      "Epoch=324: 100%|██████████| 5/5 [00:02<00:00,  1.92batch/s, accuracy=0.399, loss=3.07]\n"
     ]
    },
    {
     "name": "stdout",
     "output_type": "stream",
     "text": [
      "==================================================\n"
     ]
    },
    {
     "name": "stderr",
     "output_type": "stream",
     "text": [
      "Epoch=325: 100%|██████████| 49/49 [00:15<00:00,  3.19batch/s, accuracy=0.4, loss=3.05]\n",
      "Epoch=325: 100%|██████████| 5/5 [00:02<00:00,  1.69batch/s, accuracy=0.394, loss=3.09]\n"
     ]
    },
    {
     "name": "stdout",
     "output_type": "stream",
     "text": [
      "==================================================\n"
     ]
    },
    {
     "name": "stderr",
     "output_type": "stream",
     "text": [
      "Epoch=326: 100%|██████████| 49/49 [00:15<00:00,  3.08batch/s, accuracy=0.398, loss=3.05]\n",
      "Epoch=326: 100%|██████████| 5/5 [00:02<00:00,  1.92batch/s, accuracy=0.403, loss=3.04]\n"
     ]
    },
    {
     "name": "stdout",
     "output_type": "stream",
     "text": [
      "==================================================\n"
     ]
    },
    {
     "name": "stderr",
     "output_type": "stream",
     "text": [
      "Epoch=327: 100%|██████████| 49/49 [00:16<00:00,  3.01batch/s, accuracy=0.396, loss=3.07]\n",
      "Epoch=327: 100%|██████████| 5/5 [00:02<00:00,  2.01batch/s, accuracy=0.403, loss=3.04]\n"
     ]
    },
    {
     "name": "stdout",
     "output_type": "stream",
     "text": [
      "==================================================\n"
     ]
    },
    {
     "name": "stderr",
     "output_type": "stream",
     "text": [
      "Epoch=328: 100%|██████████| 49/49 [00:16<00:00,  3.05batch/s, accuracy=0.396, loss=3.06]\n",
      "Epoch=328: 100%|██████████| 5/5 [00:02<00:00,  2.11batch/s, accuracy=0.403, loss=3.06]\n"
     ]
    },
    {
     "name": "stdout",
     "output_type": "stream",
     "text": [
      "==================================================\n"
     ]
    },
    {
     "name": "stderr",
     "output_type": "stream",
     "text": [
      "Epoch=329: 100%|██████████| 49/49 [00:16<00:00,  2.98batch/s, accuracy=0.395, loss=3.07]\n",
      "Epoch=329: 100%|██████████| 5/5 [00:02<00:00,  1.69batch/s, accuracy=0.397, loss=3.08]\n"
     ]
    },
    {
     "name": "stdout",
     "output_type": "stream",
     "text": [
      "==================================================\n"
     ]
    },
    {
     "name": "stderr",
     "output_type": "stream",
     "text": [
      "Epoch=330: 100%|██████████| 49/49 [00:15<00:00,  3.08batch/s, accuracy=0.396, loss=3.07]\n",
      "Epoch=330: 100%|██████████| 5/5 [00:02<00:00,  1.95batch/s, accuracy=0.401, loss=3.06]\n"
     ]
    },
    {
     "name": "stdout",
     "output_type": "stream",
     "text": [
      "==================================================\n"
     ]
    },
    {
     "name": "stderr",
     "output_type": "stream",
     "text": [
      "Epoch=331: 100%|██████████| 49/49 [00:16<00:00,  3.05batch/s, accuracy=0.394, loss=3.06]\n",
      "Epoch=331: 100%|██████████| 5/5 [00:02<00:00,  1.94batch/s, accuracy=0.393, loss=3.04]\n"
     ]
    },
    {
     "name": "stdout",
     "output_type": "stream",
     "text": [
      "==================================================\n"
     ]
    },
    {
     "name": "stderr",
     "output_type": "stream",
     "text": [
      "Epoch=332: 100%|██████████| 49/49 [00:15<00:00,  3.14batch/s, accuracy=0.399, loss=3.04]\n",
      "Epoch=332: 100%|██████████| 5/5 [00:02<00:00,  1.81batch/s, accuracy=0.397, loss=3.07]\n"
     ]
    },
    {
     "name": "stdout",
     "output_type": "stream",
     "text": [
      "==================================================\n"
     ]
    },
    {
     "name": "stderr",
     "output_type": "stream",
     "text": [
      "Epoch=333: 100%|██████████| 49/49 [00:15<00:00,  3.09batch/s, accuracy=0.396, loss=3.06]\n",
      "Epoch=333: 100%|██████████| 5/5 [00:02<00:00,  1.96batch/s, accuracy=0.4, loss=3.05]\n"
     ]
    },
    {
     "name": "stdout",
     "output_type": "stream",
     "text": [
      "==================================================\n"
     ]
    },
    {
     "name": "stderr",
     "output_type": "stream",
     "text": [
      "Epoch=334: 100%|██████████| 49/49 [00:15<00:00,  3.20batch/s, accuracy=0.398, loss=3.05]\n",
      "Epoch=334: 100%|██████████| 5/5 [00:03<00:00,  1.64batch/s, accuracy=0.4, loss=3.04]\n"
     ]
    },
    {
     "name": "stdout",
     "output_type": "stream",
     "text": [
      "==================================================\n"
     ]
    },
    {
     "name": "stderr",
     "output_type": "stream",
     "text": [
      "Epoch=335: 100%|██████████| 49/49 [00:15<00:00,  3.16batch/s, accuracy=0.396, loss=3.07]\n",
      "Epoch=335: 100%|██████████| 5/5 [00:02<00:00,  1.91batch/s, accuracy=0.396, loss=3.08]\n"
     ]
    },
    {
     "name": "stdout",
     "output_type": "stream",
     "text": [
      "==================================================\n"
     ]
    },
    {
     "name": "stderr",
     "output_type": "stream",
     "text": [
      "Epoch=336: 100%|██████████| 49/49 [00:15<00:00,  3.15batch/s, accuracy=0.398, loss=3.06]\n",
      "Epoch=336: 100%|██████████| 5/5 [00:03<00:00,  1.62batch/s, accuracy=0.4, loss=3.03]\n"
     ]
    },
    {
     "name": "stdout",
     "output_type": "stream",
     "text": [
      "==================================================\n"
     ]
    },
    {
     "name": "stderr",
     "output_type": "stream",
     "text": [
      "Epoch=337: 100%|██████████| 49/49 [00:15<00:00,  3.08batch/s, accuracy=0.399, loss=3.05]\n",
      "Epoch=337: 100%|██████████| 5/5 [00:02<00:00,  2.07batch/s, accuracy=0.397, loss=3.06]\n"
     ]
    },
    {
     "name": "stdout",
     "output_type": "stream",
     "text": [
      "==================================================\n"
     ]
    },
    {
     "name": "stderr",
     "output_type": "stream",
     "text": [
      "Epoch=338: 100%|██████████| 49/49 [00:15<00:00,  3.19batch/s, accuracy=0.398, loss=3.04]\n",
      "Epoch=338: 100%|██████████| 5/5 [00:03<00:00,  1.61batch/s, accuracy=0.393, loss=3.07]\n"
     ]
    },
    {
     "name": "stdout",
     "output_type": "stream",
     "text": [
      "==================================================\n"
     ]
    },
    {
     "name": "stderr",
     "output_type": "stream",
     "text": [
      "Epoch=339: 100%|██████████| 49/49 [00:15<00:00,  3.15batch/s, accuracy=0.398, loss=3.05]\n",
      "Epoch=339: 100%|██████████| 5/5 [00:02<00:00,  2.04batch/s, accuracy=0.398, loss=3.06]\n"
     ]
    },
    {
     "name": "stdout",
     "output_type": "stream",
     "text": [
      "==================================================\n"
     ]
    },
    {
     "name": "stderr",
     "output_type": "stream",
     "text": [
      "Epoch=340: 100%|██████████| 49/49 [00:15<00:00,  3.12batch/s, accuracy=0.398, loss=3.06]\n",
      "Epoch=340: 100%|██████████| 5/5 [00:02<00:00,  1.71batch/s, accuracy=0.397, loss=3.06]\n"
     ]
    },
    {
     "name": "stdout",
     "output_type": "stream",
     "text": [
      "==================================================\n"
     ]
    },
    {
     "name": "stderr",
     "output_type": "stream",
     "text": [
      "Epoch=341: 100%|██████████| 49/49 [00:15<00:00,  3.13batch/s, accuracy=0.398, loss=3.04]\n",
      "Epoch=341: 100%|██████████| 5/5 [00:02<00:00,  2.10batch/s, accuracy=0.393, loss=3.1]\n"
     ]
    },
    {
     "name": "stdout",
     "output_type": "stream",
     "text": [
      "==================================================\n"
     ]
    },
    {
     "name": "stderr",
     "output_type": "stream",
     "text": [
      "Epoch=342: 100%|██████████| 49/49 [00:16<00:00,  2.92batch/s, accuracy=0.397, loss=3.05]\n",
      "Epoch=342: 100%|██████████| 5/5 [00:02<00:00,  1.93batch/s, accuracy=0.4, loss=3.07]\n"
     ]
    },
    {
     "name": "stdout",
     "output_type": "stream",
     "text": [
      "==================================================\n"
     ]
    },
    {
     "name": "stderr",
     "output_type": "stream",
     "text": [
      "Epoch=343: 100%|██████████| 49/49 [00:15<00:00,  3.11batch/s, accuracy=0.399, loss=3.05]\n",
      "Epoch=343: 100%|██████████| 5/5 [00:02<00:00,  2.02batch/s, accuracy=0.402, loss=3.03]\n"
     ]
    },
    {
     "name": "stdout",
     "output_type": "stream",
     "text": [
      "==================================================\n"
     ]
    },
    {
     "name": "stderr",
     "output_type": "stream",
     "text": [
      "Epoch=344: 100%|██████████| 49/49 [00:16<00:00,  2.93batch/s, accuracy=0.398, loss=3.04]\n",
      "Epoch=344: 100%|██████████| 5/5 [00:02<00:00,  1.86batch/s, accuracy=0.399, loss=3.06]\n"
     ]
    },
    {
     "name": "stdout",
     "output_type": "stream",
     "text": [
      "==================================================\n"
     ]
    },
    {
     "name": "stderr",
     "output_type": "stream",
     "text": [
      "Epoch=345: 100%|██████████| 49/49 [00:16<00:00,  3.05batch/s, accuracy=0.398, loss=3.05]\n",
      "Epoch=345: 100%|██████████| 5/5 [00:02<00:00,  1.75batch/s, accuracy=0.401, loss=3.03]\n"
     ]
    },
    {
     "name": "stdout",
     "output_type": "stream",
     "text": [
      "==================================================\n"
     ]
    },
    {
     "name": "stderr",
     "output_type": "stream",
     "text": [
      "Epoch=346: 100%|██████████| 49/49 [00:16<00:00,  2.96batch/s, accuracy=0.399, loss=3.03]\n",
      "Epoch=346: 100%|██████████| 5/5 [00:02<00:00,  1.90batch/s, accuracy=0.404, loss=3]\n"
     ]
    },
    {
     "name": "stdout",
     "output_type": "stream",
     "text": [
      "==================================================\n"
     ]
    },
    {
     "name": "stderr",
     "output_type": "stream",
     "text": [
      "Epoch=347: 100%|██████████| 49/49 [00:15<00:00,  3.13batch/s, accuracy=0.4, loss=3.04]\n",
      "Epoch=347: 100%|██████████| 5/5 [00:03<00:00,  1.55batch/s, accuracy=0.396, loss=3.07]\n"
     ]
    },
    {
     "name": "stdout",
     "output_type": "stream",
     "text": [
      "==================================================\n"
     ]
    },
    {
     "name": "stderr",
     "output_type": "stream",
     "text": [
      "Epoch=348: 100%|██████████| 49/49 [00:15<00:00,  3.16batch/s, accuracy=0.397, loss=3.05]\n",
      "Epoch=348: 100%|██████████| 5/5 [00:02<00:00,  2.08batch/s, accuracy=0.397, loss=3.05]\n"
     ]
    },
    {
     "name": "stdout",
     "output_type": "stream",
     "text": [
      "==================================================\n"
     ]
    },
    {
     "name": "stderr",
     "output_type": "stream",
     "text": [
      "Epoch=349: 100%|██████████| 49/49 [00:15<00:00,  3.08batch/s, accuracy=0.399, loss=3.04]\n",
      "Epoch=349: 100%|██████████| 5/5 [00:02<00:00,  1.71batch/s, accuracy=0.405, loss=3.03]\n"
     ]
    },
    {
     "name": "stdout",
     "output_type": "stream",
     "text": [
      "==================================================\n",
      "model saved√\n",
      "==================================================\n"
     ]
    },
    {
     "name": "stderr",
     "output_type": "stream",
     "text": [
      "Epoch=350: 100%|██████████| 49/49 [00:15<00:00,  3.09batch/s, accuracy=0.399, loss=3.05]\n",
      "Epoch=350: 100%|██████████| 5/5 [00:03<00:00,  1.65batch/s, accuracy=0.398, loss=3.05]\n"
     ]
    },
    {
     "name": "stdout",
     "output_type": "stream",
     "text": [
      "==================================================\n"
     ]
    },
    {
     "name": "stderr",
     "output_type": "stream",
     "text": [
      "Epoch=351: 100%|██████████| 49/49 [00:15<00:00,  3.16batch/s, accuracy=0.399, loss=3.04]\n",
      "Epoch=351: 100%|██████████| 5/5 [00:02<00:00,  1.86batch/s, accuracy=0.402, loss=3.05]\n"
     ]
    },
    {
     "name": "stdout",
     "output_type": "stream",
     "text": [
      "==================================================\n"
     ]
    },
    {
     "name": "stderr",
     "output_type": "stream",
     "text": [
      "Epoch=352: 100%|██████████| 49/49 [00:16<00:00,  3.01batch/s, accuracy=0.398, loss=3.04]\n",
      "Epoch=352: 100%|██████████| 5/5 [00:02<00:00,  1.89batch/s, accuracy=0.392, loss=3.07]\n"
     ]
    },
    {
     "name": "stdout",
     "output_type": "stream",
     "text": [
      "==================================================\n"
     ]
    },
    {
     "name": "stderr",
     "output_type": "stream",
     "text": [
      "Epoch=353: 100%|██████████| 49/49 [00:15<00:00,  3.13batch/s, accuracy=0.397, loss=3.05]\n",
      "Epoch=353: 100%|██████████| 5/5 [00:02<00:00,  1.90batch/s, accuracy=0.396, loss=3.06]\n"
     ]
    },
    {
     "name": "stdout",
     "output_type": "stream",
     "text": [
      "==================================================\n"
     ]
    },
    {
     "name": "stderr",
     "output_type": "stream",
     "text": [
      "Epoch=354: 100%|██████████| 49/49 [00:16<00:00,  3.03batch/s, accuracy=0.4, loss=3.04]\n",
      "Epoch=354: 100%|██████████| 5/5 [00:02<00:00,  2.02batch/s, accuracy=0.402, loss=3.02]\n"
     ]
    },
    {
     "name": "stdout",
     "output_type": "stream",
     "text": [
      "==================================================\n"
     ]
    },
    {
     "name": "stderr",
     "output_type": "stream",
     "text": [
      "Epoch=355: 100%|██████████| 49/49 [00:15<00:00,  3.13batch/s, accuracy=0.401, loss=3.04]\n",
      "Epoch=355: 100%|██████████| 5/5 [00:02<00:00,  2.19batch/s, accuracy=0.396, loss=3.05]\n"
     ]
    },
    {
     "name": "stdout",
     "output_type": "stream",
     "text": [
      "==================================================\n"
     ]
    },
    {
     "name": "stderr",
     "output_type": "stream",
     "text": [
      "Epoch=356: 100%|██████████| 49/49 [00:16<00:00,  3.00batch/s, accuracy=0.399, loss=3.04]\n",
      "Epoch=356: 100%|██████████| 5/5 [00:02<00:00,  1.90batch/s, accuracy=0.394, loss=3.07]\n"
     ]
    },
    {
     "name": "stdout",
     "output_type": "stream",
     "text": [
      "==================================================\n"
     ]
    },
    {
     "name": "stderr",
     "output_type": "stream",
     "text": [
      "Epoch=357: 100%|██████████| 49/49 [00:16<00:00,  3.06batch/s, accuracy=0.397, loss=3.04]\n",
      "Epoch=357: 100%|██████████| 5/5 [00:02<00:00,  2.09batch/s, accuracy=0.398, loss=3.07]\n"
     ]
    },
    {
     "name": "stdout",
     "output_type": "stream",
     "text": [
      "==================================================\n"
     ]
    },
    {
     "name": "stderr",
     "output_type": "stream",
     "text": [
      "Epoch=358: 100%|██████████| 49/49 [00:16<00:00,  2.97batch/s, accuracy=0.398, loss=3.05]\n",
      "Epoch=358: 100%|██████████| 5/5 [00:02<00:00,  1.94batch/s, accuracy=0.397, loss=3.04]\n"
     ]
    },
    {
     "name": "stdout",
     "output_type": "stream",
     "text": [
      "==================================================\n"
     ]
    },
    {
     "name": "stderr",
     "output_type": "stream",
     "text": [
      "Epoch=359: 100%|██████████| 49/49 [00:15<00:00,  3.13batch/s, accuracy=0.398, loss=3.05]\n",
      "Epoch=359: 100%|██████████| 5/5 [00:02<00:00,  1.84batch/s, accuracy=0.401, loss=3.03]\n"
     ]
    },
    {
     "name": "stdout",
     "output_type": "stream",
     "text": [
      "==================================================\n"
     ]
    },
    {
     "name": "stderr",
     "output_type": "stream",
     "text": [
      "Epoch=360: 100%|██████████| 49/49 [00:15<00:00,  3.13batch/s, accuracy=0.4, loss=3.03]\n",
      "Epoch=360: 100%|██████████| 5/5 [00:02<00:00,  1.95batch/s, accuracy=0.399, loss=3.04]\n"
     ]
    },
    {
     "name": "stdout",
     "output_type": "stream",
     "text": [
      "==================================================\n"
     ]
    },
    {
     "name": "stderr",
     "output_type": "stream",
     "text": [
      "Epoch=361: 100%|██████████| 49/49 [00:15<00:00,  3.16batch/s, accuracy=0.399, loss=3.03]\n",
      "Epoch=361: 100%|██████████| 5/5 [00:02<00:00,  1.68batch/s, accuracy=0.399, loss=3.07]\n"
     ]
    },
    {
     "name": "stdout",
     "output_type": "stream",
     "text": [
      "==================================================\n"
     ]
    },
    {
     "name": "stderr",
     "output_type": "stream",
     "text": [
      "Epoch=362: 100%|██████████| 49/49 [00:15<00:00,  3.11batch/s, accuracy=0.4, loss=3.05]\n",
      "Epoch=362: 100%|██████████| 5/5 [00:02<00:00,  1.88batch/s, accuracy=0.395, loss=3.05]\n"
     ]
    },
    {
     "name": "stdout",
     "output_type": "stream",
     "text": [
      "==================================================\n"
     ]
    },
    {
     "name": "stderr",
     "output_type": "stream",
     "text": [
      "Epoch=363: 100%|██████████| 49/49 [00:17<00:00,  2.88batch/s, accuracy=0.402, loss=3.03]\n",
      "Epoch=363: 100%|██████████| 5/5 [00:02<00:00,  1.84batch/s, accuracy=0.405, loss=3.02]\n"
     ]
    },
    {
     "name": "stdout",
     "output_type": "stream",
     "text": [
      "==================================================\n",
      "model saved√\n",
      "==================================================\n"
     ]
    },
    {
     "name": "stderr",
     "output_type": "stream",
     "text": [
      "Epoch=364: 100%|██████████| 49/49 [00:15<00:00,  3.15batch/s, accuracy=0.399, loss=3.04]\n",
      "Epoch=364: 100%|██████████| 5/5 [00:02<00:00,  1.70batch/s, accuracy=0.402, loss=3.05]\n"
     ]
    },
    {
     "name": "stdout",
     "output_type": "stream",
     "text": [
      "==================================================\n"
     ]
    },
    {
     "name": "stderr",
     "output_type": "stream",
     "text": [
      "Epoch=365: 100%|██████████| 49/49 [00:15<00:00,  3.10batch/s, accuracy=0.403, loss=3.01]\n",
      "Epoch=365: 100%|██████████| 5/5 [00:02<00:00,  1.93batch/s, accuracy=0.403, loss=2.99]\n"
     ]
    },
    {
     "name": "stdout",
     "output_type": "stream",
     "text": [
      "==================================================\n"
     ]
    },
    {
     "name": "stderr",
     "output_type": "stream",
     "text": [
      "Epoch=366: 100%|██████████| 49/49 [00:15<00:00,  3.10batch/s, accuracy=0.398, loss=3.03]\n",
      "Epoch=366: 100%|██████████| 5/5 [00:03<00:00,  1.61batch/s, accuracy=0.401, loss=3.04]\n"
     ]
    },
    {
     "name": "stdout",
     "output_type": "stream",
     "text": [
      "==================================================\n"
     ]
    },
    {
     "name": "stderr",
     "output_type": "stream",
     "text": [
      "Epoch=367: 100%|██████████| 49/49 [00:15<00:00,  3.13batch/s, accuracy=0.401, loss=3.04]\n",
      "Epoch=367: 100%|██████████| 5/5 [00:02<00:00,  1.91batch/s, accuracy=0.401, loss=3.02]\n"
     ]
    },
    {
     "name": "stdout",
     "output_type": "stream",
     "text": [
      "==================================================\n"
     ]
    },
    {
     "name": "stderr",
     "output_type": "stream",
     "text": [
      "Epoch=368: 100%|██████████| 49/49 [00:15<00:00,  3.10batch/s, accuracy=0.4, loss=3.03]\n",
      "Epoch=368: 100%|██████████| 5/5 [00:02<00:00,  1.82batch/s, accuracy=0.407, loss=3.03]\n"
     ]
    },
    {
     "name": "stdout",
     "output_type": "stream",
     "text": [
      "==================================================\n",
      "model saved√\n",
      "==================================================\n"
     ]
    },
    {
     "name": "stderr",
     "output_type": "stream",
     "text": [
      "Epoch=369: 100%|██████████| 49/49 [00:16<00:00,  3.04batch/s, accuracy=0.402, loss=3.02]\n",
      "Epoch=369: 100%|██████████| 5/5 [00:02<00:00,  1.79batch/s, accuracy=0.399, loss=3.05]\n"
     ]
    },
    {
     "name": "stdout",
     "output_type": "stream",
     "text": [
      "==================================================\n"
     ]
    },
    {
     "name": "stderr",
     "output_type": "stream",
     "text": [
      "Epoch=370: 100%|██████████| 49/49 [00:15<00:00,  3.13batch/s, accuracy=0.399, loss=3.03]\n",
      "Epoch=370: 100%|██████████| 5/5 [00:02<00:00,  2.09batch/s, accuracy=0.401, loss=3.04]\n"
     ]
    },
    {
     "name": "stdout",
     "output_type": "stream",
     "text": [
      "==================================================\n"
     ]
    },
    {
     "name": "stderr",
     "output_type": "stream",
     "text": [
      "Epoch=371: 100%|██████████| 49/49 [00:16<00:00,  3.03batch/s, accuracy=0.399, loss=3.02]\n",
      "Epoch=371: 100%|██████████| 5/5 [00:02<00:00,  1.94batch/s, accuracy=0.4, loss=3.05]\n"
     ]
    },
    {
     "name": "stdout",
     "output_type": "stream",
     "text": [
      "==================================================\n"
     ]
    },
    {
     "name": "stderr",
     "output_type": "stream",
     "text": [
      "Epoch=372: 100%|██████████| 49/49 [00:15<00:00,  3.18batch/s, accuracy=0.399, loss=3.04]\n",
      "Epoch=372: 100%|██████████| 5/5 [00:02<00:00,  2.16batch/s, accuracy=0.404, loss=3.03]\n"
     ]
    },
    {
     "name": "stdout",
     "output_type": "stream",
     "text": [
      "==================================================\n"
     ]
    },
    {
     "name": "stderr",
     "output_type": "stream",
     "text": [
      "Epoch=373: 100%|██████████| 49/49 [00:16<00:00,  3.00batch/s, accuracy=0.399, loss=3.03]\n",
      "Epoch=373: 100%|██████████| 5/5 [00:02<00:00,  2.07batch/s, accuracy=0.4, loss=3.01]\n"
     ]
    },
    {
     "name": "stdout",
     "output_type": "stream",
     "text": [
      "==================================================\n"
     ]
    },
    {
     "name": "stderr",
     "output_type": "stream",
     "text": [
      "Epoch=374: 100%|██████████| 49/49 [00:15<00:00,  3.08batch/s, accuracy=0.4, loss=3.03]\n",
      "Epoch=374: 100%|██████████| 5/5 [00:02<00:00,  1.89batch/s, accuracy=0.402, loss=3.03]\n"
     ]
    },
    {
     "name": "stdout",
     "output_type": "stream",
     "text": [
      "==================================================\n"
     ]
    },
    {
     "name": "stderr",
     "output_type": "stream",
     "text": [
      "Epoch=375: 100%|██████████| 49/49 [00:16<00:00,  2.96batch/s, accuracy=0.401, loss=3.02]\n",
      "Epoch=375: 100%|██████████| 5/5 [00:02<00:00,  2.05batch/s, accuracy=0.402, loss=3.03]\n"
     ]
    },
    {
     "name": "stdout",
     "output_type": "stream",
     "text": [
      "==================================================\n"
     ]
    },
    {
     "name": "stderr",
     "output_type": "stream",
     "text": [
      "Epoch=376: 100%|██████████| 49/49 [00:15<00:00,  3.13batch/s, accuracy=0.4, loss=3.01]\n",
      "Epoch=376: 100%|██████████| 5/5 [00:02<00:00,  1.71batch/s, accuracy=0.4, loss=3.02]\n"
     ]
    },
    {
     "name": "stdout",
     "output_type": "stream",
     "text": [
      "==================================================\n"
     ]
    },
    {
     "name": "stderr",
     "output_type": "stream",
     "text": [
      "Epoch=377: 100%|██████████| 49/49 [00:15<00:00,  3.07batch/s, accuracy=0.399, loss=3.03]\n",
      "Epoch=377: 100%|██████████| 5/5 [00:02<00:00,  2.10batch/s, accuracy=0.402, loss=3.05]\n"
     ]
    },
    {
     "name": "stdout",
     "output_type": "stream",
     "text": [
      "==================================================\n"
     ]
    },
    {
     "name": "stderr",
     "output_type": "stream",
     "text": [
      "Epoch=378: 100%|██████████| 49/49 [00:15<00:00,  3.16batch/s, accuracy=0.396, loss=3.04]\n",
      "Epoch=378: 100%|██████████| 5/5 [00:03<00:00,  1.56batch/s, accuracy=0.396, loss=3.01]\n"
     ]
    },
    {
     "name": "stdout",
     "output_type": "stream",
     "text": [
      "==================================================\n"
     ]
    },
    {
     "name": "stderr",
     "output_type": "stream",
     "text": [
      "Epoch=379: 100%|██████████| 49/49 [00:16<00:00,  2.98batch/s, accuracy=0.4, loss=3.04]\n",
      "Epoch=379: 100%|██████████| 5/5 [00:02<00:00,  1.96batch/s, accuracy=0.401, loss=3.01]\n"
     ]
    },
    {
     "name": "stdout",
     "output_type": "stream",
     "text": [
      "==================================================\n"
     ]
    },
    {
     "name": "stderr",
     "output_type": "stream",
     "text": [
      "Epoch=380: 100%|██████████| 49/49 [00:16<00:00,  3.04batch/s, accuracy=0.402, loss=3.02]\n",
      "Epoch=380: 100%|██████████| 5/5 [00:02<00:00,  1.72batch/s, accuracy=0.405, loss=3.02]\n"
     ]
    },
    {
     "name": "stdout",
     "output_type": "stream",
     "text": [
      "==================================================\n"
     ]
    },
    {
     "name": "stderr",
     "output_type": "stream",
     "text": [
      "Epoch=381: 100%|██████████| 49/49 [00:15<00:00,  3.17batch/s, accuracy=0.397, loss=3.04]\n",
      "Epoch=381: 100%|██████████| 5/5 [00:02<00:00,  2.09batch/s, accuracy=0.394, loss=3.1]\n"
     ]
    },
    {
     "name": "stdout",
     "output_type": "stream",
     "text": [
      "==================================================\n"
     ]
    },
    {
     "name": "stderr",
     "output_type": "stream",
     "text": [
      "Epoch=382: 100%|██████████| 49/49 [00:16<00:00,  2.97batch/s, accuracy=0.398, loss=3.04]\n",
      "Epoch=382: 100%|██████████| 5/5 [00:02<00:00,  2.09batch/s, accuracy=0.395, loss=3.05]\n"
     ]
    },
    {
     "name": "stdout",
     "output_type": "stream",
     "text": [
      "==================================================\n"
     ]
    },
    {
     "name": "stderr",
     "output_type": "stream",
     "text": [
      "Epoch=383: 100%|██████████| 49/49 [00:15<00:00,  3.13batch/s, accuracy=0.4, loss=3.03]\n",
      "Epoch=383: 100%|██████████| 5/5 [00:02<00:00,  1.92batch/s, accuracy=0.404, loss=3.02]\n"
     ]
    },
    {
     "name": "stdout",
     "output_type": "stream",
     "text": [
      "==================================================\n"
     ]
    },
    {
     "name": "stderr",
     "output_type": "stream",
     "text": [
      "Epoch=384: 100%|██████████| 49/49 [00:16<00:00,  2.97batch/s, accuracy=0.401, loss=3.03]\n",
      "Epoch=384: 100%|██████████| 5/5 [00:02<00:00,  2.15batch/s, accuracy=0.405, loss=3.01]\n"
     ]
    },
    {
     "name": "stdout",
     "output_type": "stream",
     "text": [
      "==================================================\n"
     ]
    },
    {
     "name": "stderr",
     "output_type": "stream",
     "text": [
      "Epoch=385: 100%|██████████| 49/49 [00:15<00:00,  3.19batch/s, accuracy=0.4, loss=3.02]\n",
      "Epoch=385: 100%|██████████| 5/5 [00:02<00:00,  1.93batch/s, accuracy=0.403, loss=3.04]\n"
     ]
    },
    {
     "name": "stdout",
     "output_type": "stream",
     "text": [
      "==================================================\n"
     ]
    },
    {
     "name": "stderr",
     "output_type": "stream",
     "text": [
      "Epoch=386: 100%|██████████| 49/49 [00:16<00:00,  3.02batch/s, accuracy=0.401, loss=3.02]\n",
      "Epoch=386: 100%|██████████| 5/5 [00:02<00:00,  2.11batch/s, accuracy=0.402, loss=3.03]\n"
     ]
    },
    {
     "name": "stdout",
     "output_type": "stream",
     "text": [
      "==================================================\n"
     ]
    },
    {
     "name": "stderr",
     "output_type": "stream",
     "text": [
      "Epoch=387: 100%|██████████| 49/49 [00:15<00:00,  3.07batch/s, accuracy=0.403, loss=3]\n",
      "Epoch=387: 100%|██████████| 5/5 [00:02<00:00,  1.69batch/s, accuracy=0.4, loss=3.02]\n"
     ]
    },
    {
     "name": "stdout",
     "output_type": "stream",
     "text": [
      "==================================================\n"
     ]
    },
    {
     "name": "stderr",
     "output_type": "stream",
     "text": [
      "Epoch=388: 100%|██████████| 49/49 [00:15<00:00,  3.10batch/s, accuracy=0.4, loss=3.02]\n",
      "Epoch=388: 100%|██████████| 5/5 [00:02<00:00,  2.10batch/s, accuracy=0.405, loss=3.03]\n"
     ]
    },
    {
     "name": "stdout",
     "output_type": "stream",
     "text": [
      "==================================================\n"
     ]
    },
    {
     "name": "stderr",
     "output_type": "stream",
     "text": [
      "Epoch=389: 100%|██████████| 49/49 [00:15<00:00,  3.14batch/s, accuracy=0.402, loss=3.02]\n",
      "Epoch=389: 100%|██████████| 5/5 [00:03<00:00,  1.59batch/s, accuracy=0.4, loss=3.05]\n"
     ]
    },
    {
     "name": "stdout",
     "output_type": "stream",
     "text": [
      "==================================================\n"
     ]
    },
    {
     "name": "stderr",
     "output_type": "stream",
     "text": [
      "Epoch=390: 100%|██████████| 49/49 [00:15<00:00,  3.15batch/s, accuracy=0.402, loss=3.02]\n",
      "Epoch=390: 100%|██████████| 5/5 [00:02<00:00,  2.11batch/s, accuracy=0.408, loss=3.02]\n"
     ]
    },
    {
     "name": "stdout",
     "output_type": "stream",
     "text": [
      "==================================================\n",
      "model saved√\n",
      "==================================================\n"
     ]
    },
    {
     "name": "stderr",
     "output_type": "stream",
     "text": [
      "Epoch=391: 100%|██████████| 49/49 [00:15<00:00,  3.10batch/s, accuracy=0.398, loss=3.03]\n",
      "Epoch=391: 100%|██████████| 5/5 [00:02<00:00,  2.06batch/s, accuracy=0.404, loss=3.03]\n"
     ]
    },
    {
     "name": "stdout",
     "output_type": "stream",
     "text": [
      "==================================================\n"
     ]
    },
    {
     "name": "stderr",
     "output_type": "stream",
     "text": [
      "Epoch=392: 100%|██████████| 49/49 [00:15<00:00,  3.11batch/s, accuracy=0.401, loss=3.02]\n",
      "Epoch=392: 100%|██████████| 5/5 [00:03<00:00,  1.66batch/s, accuracy=0.401, loss=3.01]\n"
     ]
    },
    {
     "name": "stdout",
     "output_type": "stream",
     "text": [
      "==================================================\n"
     ]
    },
    {
     "name": "stderr",
     "output_type": "stream",
     "text": [
      "Epoch=393: 100%|██████████| 49/49 [00:15<00:00,  3.09batch/s, accuracy=0.4, loss=3.01]\n",
      "Epoch=393: 100%|██████████| 5/5 [00:02<00:00,  2.17batch/s, accuracy=0.404, loss=3.01]\n"
     ]
    },
    {
     "name": "stdout",
     "output_type": "stream",
     "text": [
      "==================================================\n"
     ]
    },
    {
     "name": "stderr",
     "output_type": "stream",
     "text": [
      "Epoch=394: 100%|██████████| 49/49 [00:16<00:00,  3.05batch/s, accuracy=0.401, loss=3.02]\n",
      "Epoch=394: 100%|██████████| 5/5 [00:02<00:00,  1.91batch/s, accuracy=0.403, loss=3.02]\n"
     ]
    },
    {
     "name": "stdout",
     "output_type": "stream",
     "text": [
      "==================================================\n"
     ]
    },
    {
     "name": "stderr",
     "output_type": "stream",
     "text": [
      "Epoch=395: 100%|██████████| 49/49 [00:16<00:00,  3.05batch/s, accuracy=0.403, loss=3.02]\n",
      "Epoch=395: 100%|██████████| 5/5 [00:02<00:00,  1.96batch/s, accuracy=0.405, loss=2.99]\n"
     ]
    },
    {
     "name": "stdout",
     "output_type": "stream",
     "text": [
      "==================================================\n"
     ]
    },
    {
     "name": "stderr",
     "output_type": "stream",
     "text": [
      "Epoch=396: 100%|██████████| 49/49 [00:16<00:00,  2.97batch/s, accuracy=0.4, loss=3.02]\n",
      "Epoch=396: 100%|██████████| 5/5 [00:02<00:00,  1.84batch/s, accuracy=0.401, loss=3.03]\n"
     ]
    },
    {
     "name": "stdout",
     "output_type": "stream",
     "text": [
      "==================================================\n"
     ]
    },
    {
     "name": "stderr",
     "output_type": "stream",
     "text": [
      "Epoch=397: 100%|██████████| 49/49 [00:15<00:00,  3.15batch/s, accuracy=0.399, loss=3.03]\n",
      "Epoch=397: 100%|██████████| 5/5 [00:02<00:00,  1.90batch/s, accuracy=0.401, loss=3]\n"
     ]
    },
    {
     "name": "stdout",
     "output_type": "stream",
     "text": [
      "==================================================\n"
     ]
    },
    {
     "name": "stderr",
     "output_type": "stream",
     "text": [
      "Epoch=398: 100%|██████████| 49/49 [00:15<00:00,  3.09batch/s, accuracy=0.4, loss=3.03]\n",
      "Epoch=398: 100%|██████████| 5/5 [00:02<00:00,  1.94batch/s, accuracy=0.405, loss=3.01]\n"
     ]
    },
    {
     "name": "stdout",
     "output_type": "stream",
     "text": [
      "==================================================\n"
     ]
    },
    {
     "name": "stderr",
     "output_type": "stream",
     "text": [
      "Epoch=399: 100%|██████████| 49/49 [00:15<00:00,  3.14batch/s, accuracy=0.403, loss=3.01]\n",
      "Epoch=399: 100%|██████████| 5/5 [00:02<00:00,  1.80batch/s, accuracy=0.401, loss=3.01]\n"
     ]
    },
    {
     "name": "stdout",
     "output_type": "stream",
     "text": [
      "==================================================\n"
     ]
    },
    {
     "name": "stderr",
     "output_type": "stream",
     "text": [
      "Epoch=400: 100%|██████████| 49/49 [00:16<00:00,  2.97batch/s, accuracy=0.399, loss=3.03]\n",
      "Epoch=400: 100%|██████████| 5/5 [00:02<00:00,  2.11batch/s, accuracy=0.406, loss=3.03]\n"
     ]
    },
    {
     "name": "stdout",
     "output_type": "stream",
     "text": [
      "==================================================\n"
     ]
    },
    {
     "name": "stderr",
     "output_type": "stream",
     "text": [
      "Epoch=401: 100%|██████████| 49/49 [00:15<00:00,  3.14batch/s, accuracy=0.402, loss=3.02]\n",
      "Epoch=401: 100%|██████████| 5/5 [00:03<00:00,  1.55batch/s, accuracy=0.406, loss=2.99]\n"
     ]
    },
    {
     "name": "stdout",
     "output_type": "stream",
     "text": [
      "==================================================\n"
     ]
    },
    {
     "name": "stderr",
     "output_type": "stream",
     "text": [
      "Epoch=402: 100%|██████████| 49/49 [00:15<00:00,  3.15batch/s, accuracy=0.404, loss=3]\n",
      "Epoch=402: 100%|██████████| 5/5 [00:02<00:00,  2.19batch/s, accuracy=0.402, loss=3.01]\n"
     ]
    },
    {
     "name": "stdout",
     "output_type": "stream",
     "text": [
      "==================================================\n"
     ]
    },
    {
     "name": "stderr",
     "output_type": "stream",
     "text": [
      "Epoch=403: 100%|██████████| 49/49 [00:15<00:00,  3.12batch/s, accuracy=0.402, loss=3.02]\n",
      "Epoch=403: 100%|██████████| 5/5 [00:03<00:00,  1.55batch/s, accuracy=0.408, loss=3]\n"
     ]
    },
    {
     "name": "stdout",
     "output_type": "stream",
     "text": [
      "==================================================\n"
     ]
    },
    {
     "name": "stderr",
     "output_type": "stream",
     "text": [
      "Epoch=404: 100%|██████████| 49/49 [00:15<00:00,  3.09batch/s, accuracy=0.398, loss=3.03]\n",
      "Epoch=404: 100%|██████████| 5/5 [00:02<00:00,  2.10batch/s, accuracy=0.401, loss=3.04]\n"
     ]
    },
    {
     "name": "stdout",
     "output_type": "stream",
     "text": [
      "==================================================\n"
     ]
    },
    {
     "name": "stderr",
     "output_type": "stream",
     "text": [
      "Epoch=405: 100%|██████████| 49/49 [00:16<00:00,  3.03batch/s, accuracy=0.403, loss=3.02]\n",
      "Epoch=405: 100%|██████████| 5/5 [00:02<00:00,  1.82batch/s, accuracy=0.403, loss=3.02]\n"
     ]
    },
    {
     "name": "stdout",
     "output_type": "stream",
     "text": [
      "==================================================\n"
     ]
    },
    {
     "name": "stderr",
     "output_type": "stream",
     "text": [
      "Epoch=406: 100%|██████████| 49/49 [00:15<00:00,  3.08batch/s, accuracy=0.403, loss=3.01]\n",
      "Epoch=406: 100%|██████████| 5/5 [00:02<00:00,  2.17batch/s, accuracy=0.403, loss=3.02]\n"
     ]
    },
    {
     "name": "stdout",
     "output_type": "stream",
     "text": [
      "==================================================\n"
     ]
    },
    {
     "name": "stderr",
     "output_type": "stream",
     "text": [
      "Epoch=407: 100%|██████████| 49/49 [00:15<00:00,  3.07batch/s, accuracy=0.404, loss=3.01]\n",
      "Epoch=407: 100%|██████████| 5/5 [00:02<00:00,  1.86batch/s, accuracy=0.4, loss=3.02]\n"
     ]
    },
    {
     "name": "stdout",
     "output_type": "stream",
     "text": [
      "==================================================\n"
     ]
    },
    {
     "name": "stderr",
     "output_type": "stream",
     "text": [
      "Epoch=408: 100%|██████████| 49/49 [00:15<00:00,  3.15batch/s, accuracy=0.402, loss=3.01]\n",
      "Epoch=408: 100%|██████████| 5/5 [00:02<00:00,  2.17batch/s, accuracy=0.399, loss=3.02]\n"
     ]
    },
    {
     "name": "stdout",
     "output_type": "stream",
     "text": [
      "==================================================\n"
     ]
    },
    {
     "name": "stderr",
     "output_type": "stream",
     "text": [
      "Epoch=409: 100%|██████████| 49/49 [00:16<00:00,  3.02batch/s, accuracy=0.401, loss=3.02]\n",
      "Epoch=409: 100%|██████████| 5/5 [00:02<00:00,  2.07batch/s, accuracy=0.406, loss=3.01]\n"
     ]
    },
    {
     "name": "stdout",
     "output_type": "stream",
     "text": [
      "==================================================\n"
     ]
    },
    {
     "name": "stderr",
     "output_type": "stream",
     "text": [
      "Epoch=410: 100%|██████████| 49/49 [00:15<00:00,  3.13batch/s, accuracy=0.402, loss=3.01]\n",
      "Epoch=410: 100%|██████████| 5/5 [00:02<00:00,  1.86batch/s, accuracy=0.398, loss=3.06]\n"
     ]
    },
    {
     "name": "stdout",
     "output_type": "stream",
     "text": [
      "==================================================\n"
     ]
    },
    {
     "name": "stderr",
     "output_type": "stream",
     "text": [
      "Epoch=411: 100%|██████████| 49/49 [00:15<00:00,  3.07batch/s, accuracy=0.401, loss=3.01]\n",
      "Epoch=411: 100%|██████████| 5/5 [00:02<00:00,  2.04batch/s, accuracy=0.403, loss=2.99]\n"
     ]
    },
    {
     "name": "stdout",
     "output_type": "stream",
     "text": [
      "==================================================\n"
     ]
    },
    {
     "name": "stderr",
     "output_type": "stream",
     "text": [
      "Epoch=412: 100%|██████████| 49/49 [00:16<00:00,  3.04batch/s, accuracy=0.4, loss=3.01]\n",
      "Epoch=412: 100%|██████████| 5/5 [00:03<00:00,  1.52batch/s, accuracy=0.405, loss=2.98]\n"
     ]
    },
    {
     "name": "stdout",
     "output_type": "stream",
     "text": [
      "==================================================\n"
     ]
    },
    {
     "name": "stderr",
     "output_type": "stream",
     "text": [
      "Epoch=413: 100%|██████████| 49/49 [00:16<00:00,  3.05batch/s, accuracy=0.402, loss=3]\n",
      "Epoch=413: 100%|██████████| 5/5 [00:02<00:00,  2.12batch/s, accuracy=0.397, loss=3.04]\n"
     ]
    },
    {
     "name": "stdout",
     "output_type": "stream",
     "text": [
      "==================================================\n"
     ]
    },
    {
     "name": "stderr",
     "output_type": "stream",
     "text": [
      "Epoch=414: 100%|██████████| 49/49 [00:15<00:00,  3.08batch/s, accuracy=0.402, loss=3.01]\n",
      "Epoch=414: 100%|██████████| 5/5 [00:03<00:00,  1.55batch/s, accuracy=0.399, loss=3.02]\n"
     ]
    },
    {
     "name": "stdout",
     "output_type": "stream",
     "text": [
      "==================================================\n"
     ]
    },
    {
     "name": "stderr",
     "output_type": "stream",
     "text": [
      "Epoch=415: 100%|██████████| 49/49 [00:15<00:00,  3.13batch/s, accuracy=0.4, loss=3.01]\n",
      "Epoch=415: 100%|██████████| 5/5 [00:02<00:00,  2.20batch/s, accuracy=0.403, loss=3.03]\n"
     ]
    },
    {
     "name": "stdout",
     "output_type": "stream",
     "text": [
      "==================================================\n"
     ]
    },
    {
     "name": "stderr",
     "output_type": "stream",
     "text": [
      "Epoch=416: 100%|██████████| 49/49 [00:15<00:00,  3.10batch/s, accuracy=0.405, loss=3]\n",
      "Epoch=416: 100%|██████████| 5/5 [00:03<00:00,  1.63batch/s, accuracy=0.407, loss=3.01]\n"
     ]
    },
    {
     "name": "stdout",
     "output_type": "stream",
     "text": [
      "==================================================\n"
     ]
    },
    {
     "name": "stderr",
     "output_type": "stream",
     "text": [
      "Epoch=417: 100%|██████████| 49/49 [00:15<00:00,  3.11batch/s, accuracy=0.402, loss=3.01]\n",
      "Epoch=417: 100%|██████████| 5/5 [00:02<00:00,  2.08batch/s, accuracy=0.402, loss=3.01]\n"
     ]
    },
    {
     "name": "stdout",
     "output_type": "stream",
     "text": [
      "==================================================\n"
     ]
    },
    {
     "name": "stderr",
     "output_type": "stream",
     "text": [
      "Epoch=418: 100%|██████████| 49/49 [00:16<00:00,  3.00batch/s, accuracy=0.404, loss=3.01]\n",
      "Epoch=418: 100%|██████████| 5/5 [00:02<00:00,  2.03batch/s, accuracy=0.405, loss=3.02]\n"
     ]
    },
    {
     "name": "stdout",
     "output_type": "stream",
     "text": [
      "==================================================\n"
     ]
    },
    {
     "name": "stderr",
     "output_type": "stream",
     "text": [
      "Epoch=419: 100%|██████████| 49/49 [00:15<00:00,  3.14batch/s, accuracy=0.403, loss=3]\n",
      "Epoch=419: 100%|██████████| 5/5 [00:02<00:00,  1.95batch/s, accuracy=0.405, loss=3.01]\n"
     ]
    },
    {
     "name": "stdout",
     "output_type": "stream",
     "text": [
      "==================================================\n"
     ]
    },
    {
     "name": "stderr",
     "output_type": "stream",
     "text": [
      "Epoch=420: 100%|██████████| 49/49 [00:15<00:00,  3.09batch/s, accuracy=0.405, loss=3]\n",
      "Epoch=420: 100%|██████████| 5/5 [00:02<00:00,  2.11batch/s, accuracy=0.404, loss=3.01]\n"
     ]
    },
    {
     "name": "stdout",
     "output_type": "stream",
     "text": [
      "==================================================\n"
     ]
    },
    {
     "name": "stderr",
     "output_type": "stream",
     "text": [
      "Epoch=421: 100%|██████████| 49/49 [00:15<00:00,  3.13batch/s, accuracy=0.404, loss=3]\n",
      "Epoch=421: 100%|██████████| 5/5 [00:02<00:00,  1.91batch/s, accuracy=0.403, loss=2.97]\n"
     ]
    },
    {
     "name": "stdout",
     "output_type": "stream",
     "text": [
      "==================================================\n"
     ]
    },
    {
     "name": "stderr",
     "output_type": "stream",
     "text": [
      "Epoch=422: 100%|██████████| 49/49 [00:16<00:00,  2.98batch/s, accuracy=0.404, loss=3]\n",
      "Epoch=422: 100%|██████████| 5/5 [00:02<00:00,  2.04batch/s, accuracy=0.401, loss=3.03]\n"
     ]
    },
    {
     "name": "stdout",
     "output_type": "stream",
     "text": [
      "==================================================\n"
     ]
    },
    {
     "name": "stderr",
     "output_type": "stream",
     "text": [
      "Epoch=423: 100%|██████████| 49/49 [00:15<00:00,  3.12batch/s, accuracy=0.403, loss=3]\n",
      "Epoch=423: 100%|██████████| 5/5 [00:02<00:00,  1.91batch/s, accuracy=0.401, loss=3.02]\n"
     ]
    },
    {
     "name": "stdout",
     "output_type": "stream",
     "text": [
      "==================================================\n"
     ]
    },
    {
     "name": "stderr",
     "output_type": "stream",
     "text": [
      "Epoch=424: 100%|██████████| 49/49 [00:15<00:00,  3.10batch/s, accuracy=0.404, loss=3]\n",
      "Epoch=424: 100%|██████████| 5/5 [00:02<00:00,  2.17batch/s, accuracy=0.411, loss=2.98]\n"
     ]
    },
    {
     "name": "stdout",
     "output_type": "stream",
     "text": [
      "==================================================\n",
      "model saved√\n",
      "==================================================\n"
     ]
    },
    {
     "name": "stderr",
     "output_type": "stream",
     "text": [
      "Epoch=425: 100%|██████████| 49/49 [00:16<00:00,  2.99batch/s, accuracy=0.405, loss=3]\n",
      "Epoch=425: 100%|██████████| 5/5 [00:02<00:00,  1.90batch/s, accuracy=0.409, loss=3]\n"
     ]
    },
    {
     "name": "stdout",
     "output_type": "stream",
     "text": [
      "==================================================\n"
     ]
    },
    {
     "name": "stderr",
     "output_type": "stream",
     "text": [
      "Epoch=426: 100%|██████████| 49/49 [00:15<00:00,  3.07batch/s, accuracy=0.401, loss=3]\n",
      "Epoch=426: 100%|██████████| 5/5 [00:02<00:00,  1.95batch/s, accuracy=0.402, loss=3]\n"
     ]
    },
    {
     "name": "stdout",
     "output_type": "stream",
     "text": [
      "==================================================\n"
     ]
    },
    {
     "name": "stderr",
     "output_type": "stream",
     "text": [
      "Epoch=427: 100%|██████████| 49/49 [00:16<00:00,  2.98batch/s, accuracy=0.404, loss=3.01]\n",
      "Epoch=427: 100%|██████████| 5/5 [00:02<00:00,  2.06batch/s, accuracy=0.401, loss=3.03]\n"
     ]
    },
    {
     "name": "stdout",
     "output_type": "stream",
     "text": [
      "==================================================\n"
     ]
    },
    {
     "name": "stderr",
     "output_type": "stream",
     "text": [
      "Epoch=428: 100%|██████████| 49/49 [00:15<00:00,  3.18batch/s, accuracy=0.404, loss=3]\n",
      "Epoch=428: 100%|██████████| 5/5 [00:03<00:00,  1.48batch/s, accuracy=0.404, loss=3]\n"
     ]
    },
    {
     "name": "stdout",
     "output_type": "stream",
     "text": [
      "==================================================\n"
     ]
    },
    {
     "name": "stderr",
     "output_type": "stream",
     "text": [
      "Epoch=429: 100%|██████████| 49/49 [00:16<00:00,  2.99batch/s, accuracy=0.401, loss=3]\n",
      "Epoch=429: 100%|██████████| 5/5 [00:02<00:00,  2.04batch/s, accuracy=0.405, loss=3]\n"
     ]
    },
    {
     "name": "stdout",
     "output_type": "stream",
     "text": [
      "==================================================\n"
     ]
    },
    {
     "name": "stderr",
     "output_type": "stream",
     "text": [
      "Epoch=430: 100%|██████████| 49/49 [00:15<00:00,  3.07batch/s, accuracy=0.404, loss=3]\n",
      "Epoch=430: 100%|██████████| 5/5 [00:02<00:00,  1.70batch/s, accuracy=0.398, loss=3.06]\n"
     ]
    },
    {
     "name": "stdout",
     "output_type": "stream",
     "text": [
      "==================================================\n"
     ]
    },
    {
     "name": "stderr",
     "output_type": "stream",
     "text": [
      "Epoch=431: 100%|██████████| 49/49 [00:15<00:00,  3.14batch/s, accuracy=0.399, loss=3.02]\n",
      "Epoch=431: 100%|██████████| 5/5 [00:02<00:00,  2.04batch/s, accuracy=0.396, loss=3.04]\n"
     ]
    },
    {
     "name": "stdout",
     "output_type": "stream",
     "text": [
      "==================================================\n"
     ]
    },
    {
     "name": "stderr",
     "output_type": "stream",
     "text": [
      "Epoch=432: 100%|██████████| 49/49 [00:16<00:00,  2.98batch/s, accuracy=0.403, loss=3.01]\n",
      "Epoch=432: 100%|██████████| 5/5 [00:02<00:00,  2.02batch/s, accuracy=0.404, loss=3.01]\n"
     ]
    },
    {
     "name": "stdout",
     "output_type": "stream",
     "text": [
      "==================================================\n"
     ]
    },
    {
     "name": "stderr",
     "output_type": "stream",
     "text": [
      "Epoch=433: 100%|██████████| 49/49 [00:15<00:00,  3.21batch/s, accuracy=0.404, loss=2.99]\n",
      "Epoch=433: 100%|██████████| 5/5 [00:02<00:00,  2.05batch/s, accuracy=0.403, loss=3.01]\n"
     ]
    },
    {
     "name": "stdout",
     "output_type": "stream",
     "text": [
      "==================================================\n"
     ]
    },
    {
     "name": "stderr",
     "output_type": "stream",
     "text": [
      "Epoch=434: 100%|██████████| 49/49 [00:16<00:00,  3.01batch/s, accuracy=0.4, loss=3.02]\n",
      "Epoch=434: 100%|██████████| 5/5 [00:02<00:00,  1.91batch/s, accuracy=0.405, loss=3]\n"
     ]
    },
    {
     "name": "stdout",
     "output_type": "stream",
     "text": [
      "==================================================\n"
     ]
    },
    {
     "name": "stderr",
     "output_type": "stream",
     "text": [
      "Epoch=435: 100%|██████████| 49/49 [00:15<00:00,  3.09batch/s, accuracy=0.405, loss=3.01]\n",
      "Epoch=435: 100%|██████████| 5/5 [00:02<00:00,  2.09batch/s, accuracy=0.404, loss=2.99]\n"
     ]
    },
    {
     "name": "stdout",
     "output_type": "stream",
     "text": [
      "==================================================\n"
     ]
    },
    {
     "name": "stderr",
     "output_type": "stream",
     "text": [
      "Epoch=436: 100%|██████████| 49/49 [00:16<00:00,  2.98batch/s, accuracy=0.403, loss=3]\n",
      "Epoch=436: 100%|██████████| 5/5 [00:02<00:00,  2.03batch/s, accuracy=0.401, loss=3.02]\n"
     ]
    },
    {
     "name": "stdout",
     "output_type": "stream",
     "text": [
      "==================================================\n"
     ]
    },
    {
     "name": "stderr",
     "output_type": "stream",
     "text": [
      "Epoch=437: 100%|██████████| 49/49 [00:15<00:00,  3.19batch/s, accuracy=0.406, loss=2.99]\n",
      "Epoch=437: 100%|██████████| 5/5 [00:02<00:00,  1.87batch/s, accuracy=0.397, loss=3.05]\n"
     ]
    },
    {
     "name": "stdout",
     "output_type": "stream",
     "text": [
      "==================================================\n"
     ]
    },
    {
     "name": "stderr",
     "output_type": "stream",
     "text": [
      "Epoch=438: 100%|██████████| 49/49 [00:16<00:00,  3.03batch/s, accuracy=0.401, loss=3]\n",
      "Epoch=438: 100%|██████████| 5/5 [00:02<00:00,  2.10batch/s, accuracy=0.4, loss=3.02]\n"
     ]
    },
    {
     "name": "stdout",
     "output_type": "stream",
     "text": [
      "==================================================\n"
     ]
    },
    {
     "name": "stderr",
     "output_type": "stream",
     "text": [
      "Epoch=439: 100%|██████████| 49/49 [00:15<00:00,  3.13batch/s, accuracy=0.402, loss=3.01]\n",
      "Epoch=439: 100%|██████████| 5/5 [00:02<00:00,  1.77batch/s, accuracy=0.403, loss=3.02]\n"
     ]
    },
    {
     "name": "stdout",
     "output_type": "stream",
     "text": [
      "==================================================\n"
     ]
    },
    {
     "name": "stderr",
     "output_type": "stream",
     "text": [
      "Epoch=440: 100%|██████████| 49/49 [00:16<00:00,  3.04batch/s, accuracy=0.405, loss=2.99]\n",
      "Epoch=440: 100%|██████████| 5/5 [00:02<00:00,  2.09batch/s, accuracy=0.402, loss=3]\n"
     ]
    },
    {
     "name": "stdout",
     "output_type": "stream",
     "text": [
      "==================================================\n"
     ]
    },
    {
     "name": "stderr",
     "output_type": "stream",
     "text": [
      "Epoch=441: 100%|██████████| 49/49 [00:15<00:00,  3.15batch/s, accuracy=0.401, loss=2.99]\n",
      "Epoch=441: 100%|██████████| 5/5 [00:03<00:00,  1.65batch/s, accuracy=0.402, loss=3.02]\n"
     ]
    },
    {
     "name": "stdout",
     "output_type": "stream",
     "text": [
      "==================================================\n"
     ]
    },
    {
     "name": "stderr",
     "output_type": "stream",
     "text": [
      "Epoch=442: 100%|██████████| 49/49 [00:15<00:00,  3.11batch/s, accuracy=0.402, loss=3]\n",
      "Epoch=442: 100%|██████████| 5/5 [00:02<00:00,  2.06batch/s, accuracy=0.407, loss=3]\n"
     ]
    },
    {
     "name": "stdout",
     "output_type": "stream",
     "text": [
      "==================================================\n"
     ]
    },
    {
     "name": "stderr",
     "output_type": "stream",
     "text": [
      "Epoch=443: 100%|██████████| 49/49 [00:15<00:00,  3.14batch/s, accuracy=0.401, loss=3.01]\n",
      "Epoch=443: 100%|██████████| 5/5 [00:03<00:00,  1.55batch/s, accuracy=0.403, loss=2.99]\n"
     ]
    },
    {
     "name": "stdout",
     "output_type": "stream",
     "text": [
      "==================================================\n"
     ]
    },
    {
     "name": "stderr",
     "output_type": "stream",
     "text": [
      "Epoch=444: 100%|██████████| 49/49 [00:15<00:00,  3.07batch/s, accuracy=0.404, loss=3.01]\n",
      "Epoch=444: 100%|██████████| 5/5 [00:02<00:00,  2.09batch/s, accuracy=0.407, loss=2.95]\n"
     ]
    },
    {
     "name": "stdout",
     "output_type": "stream",
     "text": [
      "==================================================\n"
     ]
    },
    {
     "name": "stderr",
     "output_type": "stream",
     "text": [
      "Epoch=445: 100%|██████████| 49/49 [00:16<00:00,  2.94batch/s, accuracy=0.401, loss=3.01]\n",
      "Epoch=445: 100%|██████████| 5/5 [00:02<00:00,  1.74batch/s, accuracy=0.401, loss=2.99]\n"
     ]
    },
    {
     "name": "stdout",
     "output_type": "stream",
     "text": [
      "==================================================\n"
     ]
    },
    {
     "name": "stderr",
     "output_type": "stream",
     "text": [
      "Epoch=446: 100%|██████████| 49/49 [00:16<00:00,  3.05batch/s, accuracy=0.403, loss=3]\n",
      "Epoch=446: 100%|██████████| 5/5 [00:02<00:00,  1.88batch/s, accuracy=0.403, loss=3.02]\n"
     ]
    },
    {
     "name": "stdout",
     "output_type": "stream",
     "text": [
      "==================================================\n"
     ]
    },
    {
     "name": "stderr",
     "output_type": "stream",
     "text": [
      "Epoch=447: 100%|██████████| 49/49 [00:16<00:00,  3.00batch/s, accuracy=0.404, loss=2.99]\n",
      "Epoch=447: 100%|██████████| 5/5 [00:02<00:00,  2.07batch/s, accuracy=0.402, loss=3]\n"
     ]
    },
    {
     "name": "stdout",
     "output_type": "stream",
     "text": [
      "==================================================\n"
     ]
    },
    {
     "name": "stderr",
     "output_type": "stream",
     "text": [
      "Epoch=448: 100%|██████████| 49/49 [00:15<00:00,  3.15batch/s, accuracy=0.402, loss=3.01]\n",
      "Epoch=448: 100%|██████████| 5/5 [00:02<00:00,  1.92batch/s, accuracy=0.402, loss=3.01]\n"
     ]
    },
    {
     "name": "stdout",
     "output_type": "stream",
     "text": [
      "==================================================\n"
     ]
    },
    {
     "name": "stderr",
     "output_type": "stream",
     "text": [
      "Epoch=449: 100%|██████████| 49/49 [00:16<00:00,  3.00batch/s, accuracy=0.398, loss=3.02]\n",
      "Epoch=449: 100%|██████████| 5/5 [00:02<00:00,  2.08batch/s, accuracy=0.408, loss=3.01]\n"
     ]
    },
    {
     "name": "stdout",
     "output_type": "stream",
     "text": [
      "==================================================\n"
     ]
    },
    {
     "name": "stderr",
     "output_type": "stream",
     "text": [
      "Epoch=450: 100%|██████████| 49/49 [00:15<00:00,  3.20batch/s, accuracy=0.403, loss=3]\n",
      "Epoch=450: 100%|██████████| 5/5 [00:02<00:00,  1.83batch/s, accuracy=0.405, loss=2.96]\n"
     ]
    },
    {
     "name": "stdout",
     "output_type": "stream",
     "text": [
      "==================================================\n"
     ]
    },
    {
     "name": "stderr",
     "output_type": "stream",
     "text": [
      "Epoch=451: 100%|██████████| 49/49 [00:16<00:00,  3.05batch/s, accuracy=0.404, loss=2.99]\n",
      "Epoch=451: 100%|██████████| 5/5 [00:02<00:00,  2.05batch/s, accuracy=0.406, loss=3]\n"
     ]
    },
    {
     "name": "stdout",
     "output_type": "stream",
     "text": [
      "==================================================\n"
     ]
    },
    {
     "name": "stderr",
     "output_type": "stream",
     "text": [
      "Epoch=452: 100%|██████████| 49/49 [00:15<00:00,  3.11batch/s, accuracy=0.404, loss=3]\n",
      "Epoch=452: 100%|██████████| 5/5 [00:02<00:00,  1.69batch/s, accuracy=0.401, loss=2.99]\n"
     ]
    },
    {
     "name": "stdout",
     "output_type": "stream",
     "text": [
      "==================================================\n"
     ]
    },
    {
     "name": "stderr",
     "output_type": "stream",
     "text": [
      "Epoch=453: 100%|██████████| 49/49 [00:16<00:00,  3.06batch/s, accuracy=0.401, loss=3.01]\n",
      "Epoch=453: 100%|██████████| 5/5 [00:02<00:00,  2.07batch/s, accuracy=0.404, loss=3.02]\n"
     ]
    },
    {
     "name": "stdout",
     "output_type": "stream",
     "text": [
      "==================================================\n"
     ]
    },
    {
     "name": "stderr",
     "output_type": "stream",
     "text": [
      "Epoch=454: 100%|██████████| 49/49 [00:15<00:00,  3.10batch/s, accuracy=0.405, loss=3]\n",
      "Epoch=454: 100%|██████████| 5/5 [00:03<00:00,  1.65batch/s, accuracy=0.407, loss=3]\n"
     ]
    },
    {
     "name": "stdout",
     "output_type": "stream",
     "text": [
      "==================================================\n"
     ]
    },
    {
     "name": "stderr",
     "output_type": "stream",
     "text": [
      "Epoch=455: 100%|██████████| 49/49 [00:15<00:00,  3.11batch/s, accuracy=0.403, loss=2.99]\n",
      "Epoch=455: 100%|██████████| 5/5 [00:02<00:00,  1.88batch/s, accuracy=0.406, loss=2.99]\n"
     ]
    },
    {
     "name": "stdout",
     "output_type": "stream",
     "text": [
      "==================================================\n"
     ]
    },
    {
     "name": "stderr",
     "output_type": "stream",
     "text": [
      "Epoch=456: 100%|██████████| 49/49 [00:16<00:00,  3.04batch/s, accuracy=0.403, loss=3]\n",
      "Epoch=456: 100%|██████████| 5/5 [00:02<00:00,  1.76batch/s, accuracy=0.399, loss=2.99]\n"
     ]
    },
    {
     "name": "stdout",
     "output_type": "stream",
     "text": [
      "==================================================\n"
     ]
    },
    {
     "name": "stderr",
     "output_type": "stream",
     "text": [
      "Epoch=457: 100%|██████████| 49/49 [00:15<00:00,  3.11batch/s, accuracy=0.402, loss=3]\n",
      "Epoch=457: 100%|██████████| 5/5 [00:02<00:00,  1.94batch/s, accuracy=0.405, loss=2.99]\n"
     ]
    },
    {
     "name": "stdout",
     "output_type": "stream",
     "text": [
      "==================================================\n"
     ]
    },
    {
     "name": "stderr",
     "output_type": "stream",
     "text": [
      "Epoch=458: 100%|██████████| 49/49 [00:16<00:00,  3.03batch/s, accuracy=0.406, loss=3]\n",
      "Epoch=458: 100%|██████████| 5/5 [00:02<00:00,  2.02batch/s, accuracy=0.405, loss=3.02]\n"
     ]
    },
    {
     "name": "stdout",
     "output_type": "stream",
     "text": [
      "==================================================\n"
     ]
    },
    {
     "name": "stderr",
     "output_type": "stream",
     "text": [
      "Epoch=459: 100%|██████████| 49/49 [00:15<00:00,  3.18batch/s, accuracy=0.403, loss=3]\n",
      "Epoch=459: 100%|██████████| 5/5 [00:02<00:00,  1.97batch/s, accuracy=0.401, loss=3.02]\n"
     ]
    },
    {
     "name": "stdout",
     "output_type": "stream",
     "text": [
      "==================================================\n"
     ]
    },
    {
     "name": "stderr",
     "output_type": "stream",
     "text": [
      "Epoch=460: 100%|██████████| 49/49 [00:16<00:00,  3.00batch/s, accuracy=0.401, loss=3]\n",
      "Epoch=460: 100%|██████████| 5/5 [00:02<00:00,  2.11batch/s, accuracy=0.399, loss=3.02]\n"
     ]
    },
    {
     "name": "stdout",
     "output_type": "stream",
     "text": [
      "==================================================\n"
     ]
    },
    {
     "name": "stderr",
     "output_type": "stream",
     "text": [
      "Epoch=461: 100%|██████████| 49/49 [00:15<00:00,  3.10batch/s, accuracy=0.404, loss=3]\n",
      "Epoch=461: 100%|██████████| 5/5 [00:02<00:00,  1.94batch/s, accuracy=0.408, loss=2.99]\n"
     ]
    },
    {
     "name": "stdout",
     "output_type": "stream",
     "text": [
      "==================================================\n"
     ]
    },
    {
     "name": "stderr",
     "output_type": "stream",
     "text": [
      "Epoch=462: 100%|██████████| 49/49 [00:17<00:00,  2.88batch/s, accuracy=0.402, loss=3.01]\n",
      "Epoch=462: 100%|██████████| 5/5 [00:02<00:00,  1.92batch/s, accuracy=0.407, loss=3.02]\n"
     ]
    },
    {
     "name": "stdout",
     "output_type": "stream",
     "text": [
      "==================================================\n"
     ]
    },
    {
     "name": "stderr",
     "output_type": "stream",
     "text": [
      "Epoch=463: 100%|██████████| 49/49 [00:15<00:00,  3.12batch/s, accuracy=0.408, loss=2.99]\n",
      "Epoch=463: 100%|██████████| 5/5 [00:02<00:00,  1.84batch/s, accuracy=0.407, loss=3]\n"
     ]
    },
    {
     "name": "stdout",
     "output_type": "stream",
     "text": [
      "==================================================\n"
     ]
    },
    {
     "name": "stderr",
     "output_type": "stream",
     "text": [
      "Epoch=464: 100%|██████████| 49/49 [00:15<00:00,  3.07batch/s, accuracy=0.406, loss=3.01]\n",
      "Epoch=464: 100%|██████████| 5/5 [00:02<00:00,  1.88batch/s, accuracy=0.405, loss=3]\n"
     ]
    },
    {
     "name": "stdout",
     "output_type": "stream",
     "text": [
      "==================================================\n"
     ]
    },
    {
     "name": "stderr",
     "output_type": "stream",
     "text": [
      "Epoch=465: 100%|██████████| 49/49 [00:15<00:00,  3.10batch/s, accuracy=0.404, loss=3]\n",
      "Epoch=465: 100%|██████████| 5/5 [00:03<00:00,  1.64batch/s, accuracy=0.404, loss=2.99]\n"
     ]
    },
    {
     "name": "stdout",
     "output_type": "stream",
     "text": [
      "==================================================\n"
     ]
    },
    {
     "name": "stderr",
     "output_type": "stream",
     "text": [
      "Epoch=466: 100%|██████████| 49/49 [00:15<00:00,  3.12batch/s, accuracy=0.404, loss=3]\n",
      "Epoch=466: 100%|██████████| 5/5 [00:02<00:00,  1.92batch/s, accuracy=0.404, loss=3.02]\n"
     ]
    },
    {
     "name": "stdout",
     "output_type": "stream",
     "text": [
      "==================================================\n"
     ]
    },
    {
     "name": "stderr",
     "output_type": "stream",
     "text": [
      "Epoch=467: 100%|██████████| 49/49 [00:15<00:00,  3.11batch/s, accuracy=0.407, loss=2.99]\n",
      "Epoch=467: 100%|██████████| 5/5 [00:03<00:00,  1.66batch/s, accuracy=0.405, loss=3.02]\n"
     ]
    },
    {
     "name": "stdout",
     "output_type": "stream",
     "text": [
      "==================================================\n"
     ]
    },
    {
     "name": "stderr",
     "output_type": "stream",
     "text": [
      "Epoch=468: 100%|██████████| 49/49 [00:15<00:00,  3.11batch/s, accuracy=0.401, loss=3.01]\n",
      "Epoch=468: 100%|██████████| 5/5 [00:02<00:00,  1.87batch/s, accuracy=0.4, loss=2.99]\n"
     ]
    },
    {
     "name": "stdout",
     "output_type": "stream",
     "text": [
      "==================================================\n"
     ]
    },
    {
     "name": "stderr",
     "output_type": "stream",
     "text": [
      "Epoch=469: 100%|██████████| 49/49 [00:16<00:00,  3.04batch/s, accuracy=0.402, loss=3.01]\n",
      "Epoch=469: 100%|██████████| 5/5 [00:02<00:00,  1.85batch/s, accuracy=0.402, loss=2.99]\n"
     ]
    },
    {
     "name": "stdout",
     "output_type": "stream",
     "text": [
      "==================================================\n"
     ]
    },
    {
     "name": "stderr",
     "output_type": "stream",
     "text": [
      "Epoch=470: 100%|██████████| 49/49 [00:15<00:00,  3.07batch/s, accuracy=0.405, loss=3]\n",
      "Epoch=470: 100%|██████████| 5/5 [00:02<00:00,  1.86batch/s, accuracy=0.41, loss=2.97]\n"
     ]
    },
    {
     "name": "stdout",
     "output_type": "stream",
     "text": [
      "==================================================\n"
     ]
    },
    {
     "name": "stderr",
     "output_type": "stream",
     "text": [
      "Epoch=471: 100%|██████████| 49/49 [00:16<00:00,  2.98batch/s, accuracy=0.404, loss=2.99]\n",
      "Epoch=471: 100%|██████████| 5/5 [00:02<00:00,  2.06batch/s, accuracy=0.41, loss=2.95]\n"
     ]
    },
    {
     "name": "stdout",
     "output_type": "stream",
     "text": [
      "==================================================\n"
     ]
    },
    {
     "name": "stderr",
     "output_type": "stream",
     "text": [
      "Epoch=472: 100%|██████████| 49/49 [00:15<00:00,  3.12batch/s, accuracy=0.402, loss=2.99]\n",
      "Epoch=472: 100%|██████████| 5/5 [00:02<00:00,  2.10batch/s, accuracy=0.406, loss=3]\n"
     ]
    },
    {
     "name": "stdout",
     "output_type": "stream",
     "text": [
      "==================================================\n"
     ]
    },
    {
     "name": "stderr",
     "output_type": "stream",
     "text": [
      "Epoch=473: 100%|██████████| 49/49 [00:16<00:00,  2.97batch/s, accuracy=0.405, loss=3.01]\n",
      "Epoch=473: 100%|██████████| 5/5 [00:02<00:00,  1.93batch/s, accuracy=0.402, loss=2.98]\n"
     ]
    },
    {
     "name": "stdout",
     "output_type": "stream",
     "text": [
      "==================================================\n"
     ]
    },
    {
     "name": "stderr",
     "output_type": "stream",
     "text": [
      "Epoch=474: 100%|██████████| 49/49 [00:15<00:00,  3.11batch/s, accuracy=0.408, loss=2.98]\n",
      "Epoch=474: 100%|██████████| 5/5 [00:02<00:00,  1.96batch/s, accuracy=0.4, loss=3.02]\n"
     ]
    },
    {
     "name": "stdout",
     "output_type": "stream",
     "text": [
      "==================================================\n"
     ]
    },
    {
     "name": "stderr",
     "output_type": "stream",
     "text": [
      "Epoch=475: 100%|██████████| 49/49 [00:16<00:00,  3.02batch/s, accuracy=0.404, loss=3]\n",
      "Epoch=475: 100%|██████████| 5/5 [00:02<00:00,  1.86batch/s, accuracy=0.404, loss=3.01]\n"
     ]
    },
    {
     "name": "stdout",
     "output_type": "stream",
     "text": [
      "==================================================\n"
     ]
    },
    {
     "name": "stderr",
     "output_type": "stream",
     "text": [
      "Epoch=476: 100%|██████████| 49/49 [00:15<00:00,  3.17batch/s, accuracy=0.403, loss=3.01]\n",
      "Epoch=476: 100%|██████████| 5/5 [00:02<00:00,  1.81batch/s, accuracy=0.405, loss=3]\n"
     ]
    },
    {
     "name": "stdout",
     "output_type": "stream",
     "text": [
      "==================================================\n"
     ]
    },
    {
     "name": "stderr",
     "output_type": "stream",
     "text": [
      "Epoch=477: 100%|██████████| 49/49 [00:16<00:00,  3.04batch/s, accuracy=0.403, loss=3]\n",
      "Epoch=477: 100%|██████████| 5/5 [00:02<00:00,  1.91batch/s, accuracy=0.408, loss=2.98]\n"
     ]
    },
    {
     "name": "stdout",
     "output_type": "stream",
     "text": [
      "==================================================\n"
     ]
    },
    {
     "name": "stderr",
     "output_type": "stream",
     "text": [
      "Epoch=478: 100%|██████████| 49/49 [00:15<00:00,  3.15batch/s, accuracy=0.401, loss=3.02]\n",
      "Epoch=478: 100%|██████████| 5/5 [00:03<00:00,  1.60batch/s, accuracy=0.404, loss=3]\n"
     ]
    },
    {
     "name": "stdout",
     "output_type": "stream",
     "text": [
      "==================================================\n"
     ]
    },
    {
     "name": "stderr",
     "output_type": "stream",
     "text": [
      "Epoch=479: 100%|██████████| 49/49 [00:16<00:00,  2.94batch/s, accuracy=0.4, loss=3.01]\n",
      "Epoch=479: 100%|██████████| 5/5 [00:02<00:00,  1.90batch/s, accuracy=0.405, loss=3.03]\n"
     ]
    },
    {
     "name": "stdout",
     "output_type": "stream",
     "text": [
      "==================================================\n"
     ]
    },
    {
     "name": "stderr",
     "output_type": "stream",
     "text": [
      "Epoch=480: 100%|██████████| 49/49 [00:16<00:00,  2.98batch/s, accuracy=0.402, loss=3.02]\n",
      "Epoch=480: 100%|██████████| 5/5 [00:02<00:00,  2.19batch/s, accuracy=0.402, loss=2.99]\n"
     ]
    },
    {
     "name": "stdout",
     "output_type": "stream",
     "text": [
      "==================================================\n"
     ]
    },
    {
     "name": "stderr",
     "output_type": "stream",
     "text": [
      "Epoch=481: 100%|██████████| 49/49 [00:15<00:00,  3.07batch/s, accuracy=0.404, loss=3]\n",
      "Epoch=481: 100%|██████████| 5/5 [00:02<00:00,  2.09batch/s, accuracy=0.397, loss=3.06]\n"
     ]
    },
    {
     "name": "stdout",
     "output_type": "stream",
     "text": [
      "==================================================\n"
     ]
    },
    {
     "name": "stderr",
     "output_type": "stream",
     "text": [
      "Epoch=482: 100%|██████████| 49/49 [00:16<00:00,  2.97batch/s, accuracy=0.404, loss=3]\n",
      "Epoch=482: 100%|██████████| 5/5 [00:02<00:00,  1.92batch/s, accuracy=0.402, loss=3]\n"
     ]
    },
    {
     "name": "stdout",
     "output_type": "stream",
     "text": [
      "==================================================\n"
     ]
    },
    {
     "name": "stderr",
     "output_type": "stream",
     "text": [
      "Epoch=483: 100%|██████████| 49/49 [00:15<00:00,  3.09batch/s, accuracy=0.406, loss=3]\n",
      "Epoch=483: 100%|██████████| 5/5 [00:02<00:00,  2.06batch/s, accuracy=0.406, loss=2.99]\n"
     ]
    },
    {
     "name": "stdout",
     "output_type": "stream",
     "text": [
      "==================================================\n"
     ]
    },
    {
     "name": "stderr",
     "output_type": "stream",
     "text": [
      "Epoch=484: 100%|██████████| 49/49 [00:16<00:00,  3.03batch/s, accuracy=0.403, loss=3]\n",
      "Epoch=484: 100%|██████████| 5/5 [00:02<00:00,  1.90batch/s, accuracy=0.402, loss=3.01]\n"
     ]
    },
    {
     "name": "stdout",
     "output_type": "stream",
     "text": [
      "==================================================\n"
     ]
    },
    {
     "name": "stderr",
     "output_type": "stream",
     "text": [
      "Epoch=485: 100%|██████████| 49/49 [00:15<00:00,  3.14batch/s, accuracy=0.402, loss=3]\n",
      "Epoch=485: 100%|██████████| 5/5 [00:02<00:00,  1.88batch/s, accuracy=0.401, loss=3]\n"
     ]
    },
    {
     "name": "stdout",
     "output_type": "stream",
     "text": [
      "==================================================\n"
     ]
    },
    {
     "name": "stderr",
     "output_type": "stream",
     "text": [
      "Epoch=486: 100%|██████████| 49/49 [00:16<00:00,  3.02batch/s, accuracy=0.403, loss=3.01]\n",
      "Epoch=486: 100%|██████████| 5/5 [00:02<00:00,  1.91batch/s, accuracy=0.407, loss=3]\n"
     ]
    },
    {
     "name": "stdout",
     "output_type": "stream",
     "text": [
      "==================================================\n"
     ]
    },
    {
     "name": "stderr",
     "output_type": "stream",
     "text": [
      "Epoch=487: 100%|██████████| 49/49 [00:15<00:00,  3.06batch/s, accuracy=0.406, loss=2.99]\n",
      "Epoch=487: 100%|██████████| 5/5 [00:03<00:00,  1.64batch/s, accuracy=0.407, loss=2.99]\n"
     ]
    },
    {
     "name": "stdout",
     "output_type": "stream",
     "text": [
      "==================================================\n"
     ]
    },
    {
     "name": "stderr",
     "output_type": "stream",
     "text": [
      "Epoch=488: 100%|██████████| 49/49 [00:15<00:00,  3.08batch/s, accuracy=0.405, loss=2.99]\n",
      "Epoch=488: 100%|██████████| 5/5 [00:02<00:00,  1.93batch/s, accuracy=0.401, loss=3]\n"
     ]
    },
    {
     "name": "stdout",
     "output_type": "stream",
     "text": [
      "==================================================\n"
     ]
    },
    {
     "name": "stderr",
     "output_type": "stream",
     "text": [
      "Epoch=489: 100%|██████████| 49/49 [00:15<00:00,  3.14batch/s, accuracy=0.404, loss=3]\n",
      "Epoch=489: 100%|██████████| 5/5 [00:02<00:00,  1.76batch/s, accuracy=0.404, loss=3.01]\n"
     ]
    },
    {
     "name": "stdout",
     "output_type": "stream",
     "text": [
      "==================================================\n"
     ]
    },
    {
     "name": "stderr",
     "output_type": "stream",
     "text": [
      "Epoch=490: 100%|██████████| 49/49 [00:16<00:00,  3.05batch/s, accuracy=0.405, loss=2.99]\n",
      "Epoch=490: 100%|██████████| 5/5 [00:02<00:00,  2.05batch/s, accuracy=0.399, loss=3.03]\n"
     ]
    },
    {
     "name": "stdout",
     "output_type": "stream",
     "text": [
      "==================================================\n"
     ]
    },
    {
     "name": "stderr",
     "output_type": "stream",
     "text": [
      "Epoch=491: 100%|██████████| 49/49 [00:16<00:00,  3.01batch/s, accuracy=0.403, loss=3.01]\n",
      "Epoch=491: 100%|██████████| 5/5 [00:02<00:00,  1.84batch/s, accuracy=0.404, loss=3.02]\n"
     ]
    },
    {
     "name": "stdout",
     "output_type": "stream",
     "text": [
      "==================================================\n"
     ]
    },
    {
     "name": "stderr",
     "output_type": "stream",
     "text": [
      "Epoch=492: 100%|██████████| 49/49 [00:15<00:00,  3.08batch/s, accuracy=0.402, loss=3]\n",
      "Epoch=492: 100%|██████████| 5/5 [00:02<00:00,  2.08batch/s, accuracy=0.401, loss=3]\n"
     ]
    },
    {
     "name": "stdout",
     "output_type": "stream",
     "text": [
      "==================================================\n"
     ]
    },
    {
     "name": "stderr",
     "output_type": "stream",
     "text": [
      "Epoch=493: 100%|██████████| 49/49 [00:16<00:00,  2.99batch/s, accuracy=0.405, loss=2.98]\n",
      "Epoch=493: 100%|██████████| 5/5 [00:02<00:00,  1.99batch/s, accuracy=0.402, loss=3]\n"
     ]
    },
    {
     "name": "stdout",
     "output_type": "stream",
     "text": [
      "==================================================\n"
     ]
    },
    {
     "name": "stderr",
     "output_type": "stream",
     "text": [
      "Epoch=494: 100%|██████████| 49/49 [00:15<00:00,  3.13batch/s, accuracy=0.4, loss=3.01]\n",
      "Epoch=494: 100%|██████████| 5/5 [00:02<00:00,  2.09batch/s, accuracy=0.407, loss=2.97]\n"
     ]
    },
    {
     "name": "stdout",
     "output_type": "stream",
     "text": [
      "==================================================\n"
     ]
    },
    {
     "name": "stderr",
     "output_type": "stream",
     "text": [
      "Epoch=495: 100%|██████████| 49/49 [00:16<00:00,  2.90batch/s, accuracy=0.4, loss=3]\n",
      "Epoch=495: 100%|██████████| 5/5 [00:02<00:00,  1.81batch/s, accuracy=0.405, loss=3.02]\n"
     ]
    },
    {
     "name": "stdout",
     "output_type": "stream",
     "text": [
      "==================================================\n"
     ]
    },
    {
     "name": "stderr",
     "output_type": "stream",
     "text": [
      "Epoch=496: 100%|██████████| 49/49 [00:16<00:00,  3.01batch/s, accuracy=0.404, loss=3]\n",
      "Epoch=496: 100%|██████████| 5/5 [00:03<00:00,  1.64batch/s, accuracy=0.399, loss=3.01]\n"
     ]
    },
    {
     "name": "stdout",
     "output_type": "stream",
     "text": [
      "==================================================\n"
     ]
    },
    {
     "name": "stderr",
     "output_type": "stream",
     "text": [
      "Epoch=497: 100%|██████████| 49/49 [00:16<00:00,  3.02batch/s, accuracy=0.404, loss=3]\n",
      "Epoch=497: 100%|██████████| 5/5 [00:02<00:00,  1.93batch/s, accuracy=0.405, loss=3]\n"
     ]
    },
    {
     "name": "stdout",
     "output_type": "stream",
     "text": [
      "==================================================\n"
     ]
    },
    {
     "name": "stderr",
     "output_type": "stream",
     "text": [
      "Epoch=498: 100%|██████████| 49/49 [00:15<00:00,  3.14batch/s, accuracy=0.403, loss=3]\n",
      "Epoch=498: 100%|██████████| 5/5 [00:02<00:00,  1.76batch/s, accuracy=0.4, loss=3.02]\n"
     ]
    },
    {
     "name": "stdout",
     "output_type": "stream",
     "text": [
      "==================================================\n"
     ]
    },
    {
     "name": "stderr",
     "output_type": "stream",
     "text": [
      "Epoch=499: 100%|██████████| 49/49 [00:15<00:00,  3.09batch/s, accuracy=0.406, loss=3]\n",
      "Epoch=499: 100%|██████████| 5/5 [00:02<00:00,  2.04batch/s, accuracy=0.405, loss=2.99]"
     ]
    },
    {
     "name": "stdout",
     "output_type": "stream",
     "text": [
      "==================================================\n",
      "424\n"
     ]
    },
    {
     "name": "stderr",
     "output_type": "stream",
     "text": [
      "\n"
     ]
    }
   ],
   "source": [
    "set_seed(42)\n",
    "\n",
    "start, stop = 0, epochs\n",
    "wait = 0\n",
    "for i in range(start, stop):\n",
    "  model, train_loss, train_acc = train_one_epoch(model, train_loader, loss_func, metric, optimizer, scheduler, i)\n",
    "  valid_loss, valid_acc = validation(model, valid_loader, loss_func, metric, i)\n",
    "  train_loss_hist.append(train_loss)\n",
    "  valid_loss_hist.append(valid_loss)\n",
    "  print('==================================================')\n",
    "  if valid_acc>best_acc:\n",
    "\n",
    "    print('model saved√')\n",
    "    print('==================================================')\n",
    "    torch.save(model, 'best_model.pt')\n",
    "    wait = 0\n",
    "    best_acc = valid_acc\n",
    "    best_loss = valid_loss\n",
    "    best_epoch = i\n",
    "\n",
    "  if i == stop - 1 :\n",
    "      print(best_epoch)"
   ]
  },
  {
   "cell_type": "code",
   "execution_count": 51,
   "metadata": {
    "colab": {
     "base_uri": "https://localhost:8080/"
    },
    "id": "jaut5_0Nx-f3",
    "outputId": "64880ae4-6d47-4973-cfd6-f0c11684f417"
   },
   "outputs": [
    {
     "data": {
      "text/plain": [
       "torch.Size([50000, 300])"
      ]
     },
     "execution_count": 51,
     "metadata": {},
     "output_type": "execute_result"
    }
   ],
   "source": [
    "model = torch.load('best_model.pt', weights_only = False)\n",
    "embedding = model.embedding.weight.data.cpu()\n",
    "embedding.shape"
   ]
  },
  {
   "cell_type": "code",
   "execution_count": 52,
   "metadata": {
    "colab": {
     "base_uri": "https://localhost:8080/"
    },
    "id": "sjbxK0_bIOQh",
    "outputId": "a20c886e-f04a-4783-ee23-5a99dd150649"
   },
   "outputs": [
    {
     "name": "stdout",
     "output_type": "stream",
     "text": [
      "[UNK] 0\n"
     ]
    }
   ],
   "source": [
    "for k, v in sorted_vocab.items():\n",
    "  print(k, v)\n",
    "  break"
   ]
  },
  {
   "cell_type": "code",
   "execution_count": 53,
   "metadata": {
    "colab": {
     "base_uri": "https://localhost:8080/"
    },
    "id": "M4REv0Eyx-f4",
    "outputId": "2e0b5d90-7430-490f-e550-2bfe995cd5b9"
   },
   "outputs": [
    {
     "data": {
      "text/plain": [
       "[['dog', 531],\n",
       " ['cat', 598],\n",
       " ['tiger', 2840],\n",
       " ['pizza', 2536],\n",
       " ['burger', 8543],\n",
       " ['pasta', 3707],\n",
       " ['car', 461],\n",
       " ['bus', 1086],\n",
       " ['bike', 1646]]"
      ]
     },
     "execution_count": 53,
     "metadata": {},
     "output_type": "execute_result"
    }
   ],
   "source": [
    "text = 'dog cat tiger pizza burger pasta car bus bike'\n",
    "vocab = tokenizer.get_vocab()\n",
    "tokenized = text.split(' ')\n",
    "inf = [[w, vocab['Ġ'+w]] for w in tokenized if 'Ġ'+w in vocab]\n",
    "inf"
   ]
  },
  {
   "cell_type": "code",
   "execution_count": 54,
   "metadata": {
    "colab": {
     "base_uri": "https://localhost:8080/"
    },
    "id": "GZ1X9Me3x-f5",
    "outputId": "920c42ba-6c1f-44d0-9479-f75b322dd631"
   },
   "outputs": [
    {
     "data": {
      "text/plain": [
       "(9, 300)"
      ]
     },
     "execution_count": 54,
     "metadata": {},
     "output_type": "execute_result"
    }
   ],
   "source": [
    "word_vectors = np.array([embedding[id] for w, id in inf])\n",
    "word_vectors.shape"
   ]
  },
  {
   "cell_type": "code",
   "execution_count": 55,
   "metadata": {
    "colab": {
     "base_uri": "https://localhost:8080/",
     "height": 80
    },
    "id": "OdtKGpRIx-f5",
    "outputId": "09a4fea1-877e-4801-e055-bbe390accac8"
   },
   "outputs": [
    {
     "data": {
      "text/html": [
       "<style>#sk-container-id-1 {\n",
       "  /* Definition of color scheme common for light and dark mode */\n",
       "  --sklearn-color-text: #000;\n",
       "  --sklearn-color-text-muted: #666;\n",
       "  --sklearn-color-line: gray;\n",
       "  /* Definition of color scheme for unfitted estimators */\n",
       "  --sklearn-color-unfitted-level-0: #fff5e6;\n",
       "  --sklearn-color-unfitted-level-1: #f6e4d2;\n",
       "  --sklearn-color-unfitted-level-2: #ffe0b3;\n",
       "  --sklearn-color-unfitted-level-3: chocolate;\n",
       "  /* Definition of color scheme for fitted estimators */\n",
       "  --sklearn-color-fitted-level-0: #f0f8ff;\n",
       "  --sklearn-color-fitted-level-1: #d4ebff;\n",
       "  --sklearn-color-fitted-level-2: #b3dbfd;\n",
       "  --sklearn-color-fitted-level-3: cornflowerblue;\n",
       "\n",
       "  /* Specific color for light theme */\n",
       "  --sklearn-color-text-on-default-background: var(--sg-text-color, var(--theme-code-foreground, var(--jp-content-font-color1, black)));\n",
       "  --sklearn-color-background: var(--sg-background-color, var(--theme-background, var(--jp-layout-color0, white)));\n",
       "  --sklearn-color-border-box: var(--sg-text-color, var(--theme-code-foreground, var(--jp-content-font-color1, black)));\n",
       "  --sklearn-color-icon: #696969;\n",
       "\n",
       "  @media (prefers-color-scheme: dark) {\n",
       "    /* Redefinition of color scheme for dark theme */\n",
       "    --sklearn-color-text-on-default-background: var(--sg-text-color, var(--theme-code-foreground, var(--jp-content-font-color1, white)));\n",
       "    --sklearn-color-background: var(--sg-background-color, var(--theme-background, var(--jp-layout-color0, #111)));\n",
       "    --sklearn-color-border-box: var(--sg-text-color, var(--theme-code-foreground, var(--jp-content-font-color1, white)));\n",
       "    --sklearn-color-icon: #878787;\n",
       "  }\n",
       "}\n",
       "\n",
       "#sk-container-id-1 {\n",
       "  color: var(--sklearn-color-text);\n",
       "}\n",
       "\n",
       "#sk-container-id-1 pre {\n",
       "  padding: 0;\n",
       "}\n",
       "\n",
       "#sk-container-id-1 input.sk-hidden--visually {\n",
       "  border: 0;\n",
       "  clip: rect(1px 1px 1px 1px);\n",
       "  clip: rect(1px, 1px, 1px, 1px);\n",
       "  height: 1px;\n",
       "  margin: -1px;\n",
       "  overflow: hidden;\n",
       "  padding: 0;\n",
       "  position: absolute;\n",
       "  width: 1px;\n",
       "}\n",
       "\n",
       "#sk-container-id-1 div.sk-dashed-wrapped {\n",
       "  border: 1px dashed var(--sklearn-color-line);\n",
       "  margin: 0 0.4em 0.5em 0.4em;\n",
       "  box-sizing: border-box;\n",
       "  padding-bottom: 0.4em;\n",
       "  background-color: var(--sklearn-color-background);\n",
       "}\n",
       "\n",
       "#sk-container-id-1 div.sk-container {\n",
       "  /* jupyter's `normalize.less` sets `[hidden] { display: none; }`\n",
       "     but bootstrap.min.css set `[hidden] { display: none !important; }`\n",
       "     so we also need the `!important` here to be able to override the\n",
       "     default hidden behavior on the sphinx rendered scikit-learn.org.\n",
       "     See: https://github.com/scikit-learn/scikit-learn/issues/21755 */\n",
       "  display: inline-block !important;\n",
       "  position: relative;\n",
       "}\n",
       "\n",
       "#sk-container-id-1 div.sk-text-repr-fallback {\n",
       "  display: none;\n",
       "}\n",
       "\n",
       "div.sk-parallel-item,\n",
       "div.sk-serial,\n",
       "div.sk-item {\n",
       "  /* draw centered vertical line to link estimators */\n",
       "  background-image: linear-gradient(var(--sklearn-color-text-on-default-background), var(--sklearn-color-text-on-default-background));\n",
       "  background-size: 2px 100%;\n",
       "  background-repeat: no-repeat;\n",
       "  background-position: center center;\n",
       "}\n",
       "\n",
       "/* Parallel-specific style estimator block */\n",
       "\n",
       "#sk-container-id-1 div.sk-parallel-item::after {\n",
       "  content: \"\";\n",
       "  width: 100%;\n",
       "  border-bottom: 2px solid var(--sklearn-color-text-on-default-background);\n",
       "  flex-grow: 1;\n",
       "}\n",
       "\n",
       "#sk-container-id-1 div.sk-parallel {\n",
       "  display: flex;\n",
       "  align-items: stretch;\n",
       "  justify-content: center;\n",
       "  background-color: var(--sklearn-color-background);\n",
       "  position: relative;\n",
       "}\n",
       "\n",
       "#sk-container-id-1 div.sk-parallel-item {\n",
       "  display: flex;\n",
       "  flex-direction: column;\n",
       "}\n",
       "\n",
       "#sk-container-id-1 div.sk-parallel-item:first-child::after {\n",
       "  align-self: flex-end;\n",
       "  width: 50%;\n",
       "}\n",
       "\n",
       "#sk-container-id-1 div.sk-parallel-item:last-child::after {\n",
       "  align-self: flex-start;\n",
       "  width: 50%;\n",
       "}\n",
       "\n",
       "#sk-container-id-1 div.sk-parallel-item:only-child::after {\n",
       "  width: 0;\n",
       "}\n",
       "\n",
       "/* Serial-specific style estimator block */\n",
       "\n",
       "#sk-container-id-1 div.sk-serial {\n",
       "  display: flex;\n",
       "  flex-direction: column;\n",
       "  align-items: center;\n",
       "  background-color: var(--sklearn-color-background);\n",
       "  padding-right: 1em;\n",
       "  padding-left: 1em;\n",
       "}\n",
       "\n",
       "\n",
       "/* Toggleable style: style used for estimator/Pipeline/ColumnTransformer box that is\n",
       "clickable and can be expanded/collapsed.\n",
       "- Pipeline and ColumnTransformer use this feature and define the default style\n",
       "- Estimators will overwrite some part of the style using the `sk-estimator` class\n",
       "*/\n",
       "\n",
       "/* Pipeline and ColumnTransformer style (default) */\n",
       "\n",
       "#sk-container-id-1 div.sk-toggleable {\n",
       "  /* Default theme specific background. It is overwritten whether we have a\n",
       "  specific estimator or a Pipeline/ColumnTransformer */\n",
       "  background-color: var(--sklearn-color-background);\n",
       "}\n",
       "\n",
       "/* Toggleable label */\n",
       "#sk-container-id-1 label.sk-toggleable__label {\n",
       "  cursor: pointer;\n",
       "  display: flex;\n",
       "  width: 100%;\n",
       "  margin-bottom: 0;\n",
       "  padding: 0.5em;\n",
       "  box-sizing: border-box;\n",
       "  text-align: center;\n",
       "  align-items: start;\n",
       "  justify-content: space-between;\n",
       "  gap: 0.5em;\n",
       "}\n",
       "\n",
       "#sk-container-id-1 label.sk-toggleable__label .caption {\n",
       "  font-size: 0.6rem;\n",
       "  font-weight: lighter;\n",
       "  color: var(--sklearn-color-text-muted);\n",
       "}\n",
       "\n",
       "#sk-container-id-1 label.sk-toggleable__label-arrow:before {\n",
       "  /* Arrow on the left of the label */\n",
       "  content: \"▸\";\n",
       "  float: left;\n",
       "  margin-right: 0.25em;\n",
       "  color: var(--sklearn-color-icon);\n",
       "}\n",
       "\n",
       "#sk-container-id-1 label.sk-toggleable__label-arrow:hover:before {\n",
       "  color: var(--sklearn-color-text);\n",
       "}\n",
       "\n",
       "/* Toggleable content - dropdown */\n",
       "\n",
       "#sk-container-id-1 div.sk-toggleable__content {\n",
       "  max-height: 0;\n",
       "  max-width: 0;\n",
       "  overflow: hidden;\n",
       "  text-align: left;\n",
       "  /* unfitted */\n",
       "  background-color: var(--sklearn-color-unfitted-level-0);\n",
       "}\n",
       "\n",
       "#sk-container-id-1 div.sk-toggleable__content.fitted {\n",
       "  /* fitted */\n",
       "  background-color: var(--sklearn-color-fitted-level-0);\n",
       "}\n",
       "\n",
       "#sk-container-id-1 div.sk-toggleable__content pre {\n",
       "  margin: 0.2em;\n",
       "  border-radius: 0.25em;\n",
       "  color: var(--sklearn-color-text);\n",
       "  /* unfitted */\n",
       "  background-color: var(--sklearn-color-unfitted-level-0);\n",
       "}\n",
       "\n",
       "#sk-container-id-1 div.sk-toggleable__content.fitted pre {\n",
       "  /* unfitted */\n",
       "  background-color: var(--sklearn-color-fitted-level-0);\n",
       "}\n",
       "\n",
       "#sk-container-id-1 input.sk-toggleable__control:checked~div.sk-toggleable__content {\n",
       "  /* Expand drop-down */\n",
       "  max-height: 200px;\n",
       "  max-width: 100%;\n",
       "  overflow: auto;\n",
       "}\n",
       "\n",
       "#sk-container-id-1 input.sk-toggleable__control:checked~label.sk-toggleable__label-arrow:before {\n",
       "  content: \"▾\";\n",
       "}\n",
       "\n",
       "/* Pipeline/ColumnTransformer-specific style */\n",
       "\n",
       "#sk-container-id-1 div.sk-label input.sk-toggleable__control:checked~label.sk-toggleable__label {\n",
       "  color: var(--sklearn-color-text);\n",
       "  background-color: var(--sklearn-color-unfitted-level-2);\n",
       "}\n",
       "\n",
       "#sk-container-id-1 div.sk-label.fitted input.sk-toggleable__control:checked~label.sk-toggleable__label {\n",
       "  background-color: var(--sklearn-color-fitted-level-2);\n",
       "}\n",
       "\n",
       "/* Estimator-specific style */\n",
       "\n",
       "/* Colorize estimator box */\n",
       "#sk-container-id-1 div.sk-estimator input.sk-toggleable__control:checked~label.sk-toggleable__label {\n",
       "  /* unfitted */\n",
       "  background-color: var(--sklearn-color-unfitted-level-2);\n",
       "}\n",
       "\n",
       "#sk-container-id-1 div.sk-estimator.fitted input.sk-toggleable__control:checked~label.sk-toggleable__label {\n",
       "  /* fitted */\n",
       "  background-color: var(--sklearn-color-fitted-level-2);\n",
       "}\n",
       "\n",
       "#sk-container-id-1 div.sk-label label.sk-toggleable__label,\n",
       "#sk-container-id-1 div.sk-label label {\n",
       "  /* The background is the default theme color */\n",
       "  color: var(--sklearn-color-text-on-default-background);\n",
       "}\n",
       "\n",
       "/* On hover, darken the color of the background */\n",
       "#sk-container-id-1 div.sk-label:hover label.sk-toggleable__label {\n",
       "  color: var(--sklearn-color-text);\n",
       "  background-color: var(--sklearn-color-unfitted-level-2);\n",
       "}\n",
       "\n",
       "/* Label box, darken color on hover, fitted */\n",
       "#sk-container-id-1 div.sk-label.fitted:hover label.sk-toggleable__label.fitted {\n",
       "  color: var(--sklearn-color-text);\n",
       "  background-color: var(--sklearn-color-fitted-level-2);\n",
       "}\n",
       "\n",
       "/* Estimator label */\n",
       "\n",
       "#sk-container-id-1 div.sk-label label {\n",
       "  font-family: monospace;\n",
       "  font-weight: bold;\n",
       "  display: inline-block;\n",
       "  line-height: 1.2em;\n",
       "}\n",
       "\n",
       "#sk-container-id-1 div.sk-label-container {\n",
       "  text-align: center;\n",
       "}\n",
       "\n",
       "/* Estimator-specific */\n",
       "#sk-container-id-1 div.sk-estimator {\n",
       "  font-family: monospace;\n",
       "  border: 1px dotted var(--sklearn-color-border-box);\n",
       "  border-radius: 0.25em;\n",
       "  box-sizing: border-box;\n",
       "  margin-bottom: 0.5em;\n",
       "  /* unfitted */\n",
       "  background-color: var(--sklearn-color-unfitted-level-0);\n",
       "}\n",
       "\n",
       "#sk-container-id-1 div.sk-estimator.fitted {\n",
       "  /* fitted */\n",
       "  background-color: var(--sklearn-color-fitted-level-0);\n",
       "}\n",
       "\n",
       "/* on hover */\n",
       "#sk-container-id-1 div.sk-estimator:hover {\n",
       "  /* unfitted */\n",
       "  background-color: var(--sklearn-color-unfitted-level-2);\n",
       "}\n",
       "\n",
       "#sk-container-id-1 div.sk-estimator.fitted:hover {\n",
       "  /* fitted */\n",
       "  background-color: var(--sklearn-color-fitted-level-2);\n",
       "}\n",
       "\n",
       "/* Specification for estimator info (e.g. \"i\" and \"?\") */\n",
       "\n",
       "/* Common style for \"i\" and \"?\" */\n",
       "\n",
       ".sk-estimator-doc-link,\n",
       "a:link.sk-estimator-doc-link,\n",
       "a:visited.sk-estimator-doc-link {\n",
       "  float: right;\n",
       "  font-size: smaller;\n",
       "  line-height: 1em;\n",
       "  font-family: monospace;\n",
       "  background-color: var(--sklearn-color-background);\n",
       "  border-radius: 1em;\n",
       "  height: 1em;\n",
       "  width: 1em;\n",
       "  text-decoration: none !important;\n",
       "  margin-left: 0.5em;\n",
       "  text-align: center;\n",
       "  /* unfitted */\n",
       "  border: var(--sklearn-color-unfitted-level-1) 1pt solid;\n",
       "  color: var(--sklearn-color-unfitted-level-1);\n",
       "}\n",
       "\n",
       ".sk-estimator-doc-link.fitted,\n",
       "a:link.sk-estimator-doc-link.fitted,\n",
       "a:visited.sk-estimator-doc-link.fitted {\n",
       "  /* fitted */\n",
       "  border: var(--sklearn-color-fitted-level-1) 1pt solid;\n",
       "  color: var(--sklearn-color-fitted-level-1);\n",
       "}\n",
       "\n",
       "/* On hover */\n",
       "div.sk-estimator:hover .sk-estimator-doc-link:hover,\n",
       ".sk-estimator-doc-link:hover,\n",
       "div.sk-label-container:hover .sk-estimator-doc-link:hover,\n",
       ".sk-estimator-doc-link:hover {\n",
       "  /* unfitted */\n",
       "  background-color: var(--sklearn-color-unfitted-level-3);\n",
       "  color: var(--sklearn-color-background);\n",
       "  text-decoration: none;\n",
       "}\n",
       "\n",
       "div.sk-estimator.fitted:hover .sk-estimator-doc-link.fitted:hover,\n",
       ".sk-estimator-doc-link.fitted:hover,\n",
       "div.sk-label-container:hover .sk-estimator-doc-link.fitted:hover,\n",
       ".sk-estimator-doc-link.fitted:hover {\n",
       "  /* fitted */\n",
       "  background-color: var(--sklearn-color-fitted-level-3);\n",
       "  color: var(--sklearn-color-background);\n",
       "  text-decoration: none;\n",
       "}\n",
       "\n",
       "/* Span, style for the box shown on hovering the info icon */\n",
       ".sk-estimator-doc-link span {\n",
       "  display: none;\n",
       "  z-index: 9999;\n",
       "  position: relative;\n",
       "  font-weight: normal;\n",
       "  right: .2ex;\n",
       "  padding: .5ex;\n",
       "  margin: .5ex;\n",
       "  width: min-content;\n",
       "  min-width: 20ex;\n",
       "  max-width: 50ex;\n",
       "  color: var(--sklearn-color-text);\n",
       "  box-shadow: 2pt 2pt 4pt #999;\n",
       "  /* unfitted */\n",
       "  background: var(--sklearn-color-unfitted-level-0);\n",
       "  border: .5pt solid var(--sklearn-color-unfitted-level-3);\n",
       "}\n",
       "\n",
       ".sk-estimator-doc-link.fitted span {\n",
       "  /* fitted */\n",
       "  background: var(--sklearn-color-fitted-level-0);\n",
       "  border: var(--sklearn-color-fitted-level-3);\n",
       "}\n",
       "\n",
       ".sk-estimator-doc-link:hover span {\n",
       "  display: block;\n",
       "}\n",
       "\n",
       "/* \"?\"-specific style due to the `<a>` HTML tag */\n",
       "\n",
       "#sk-container-id-1 a.estimator_doc_link {\n",
       "  float: right;\n",
       "  font-size: 1rem;\n",
       "  line-height: 1em;\n",
       "  font-family: monospace;\n",
       "  background-color: var(--sklearn-color-background);\n",
       "  border-radius: 1rem;\n",
       "  height: 1rem;\n",
       "  width: 1rem;\n",
       "  text-decoration: none;\n",
       "  /* unfitted */\n",
       "  color: var(--sklearn-color-unfitted-level-1);\n",
       "  border: var(--sklearn-color-unfitted-level-1) 1pt solid;\n",
       "}\n",
       "\n",
       "#sk-container-id-1 a.estimator_doc_link.fitted {\n",
       "  /* fitted */\n",
       "  border: var(--sklearn-color-fitted-level-1) 1pt solid;\n",
       "  color: var(--sklearn-color-fitted-level-1);\n",
       "}\n",
       "\n",
       "/* On hover */\n",
       "#sk-container-id-1 a.estimator_doc_link:hover {\n",
       "  /* unfitted */\n",
       "  background-color: var(--sklearn-color-unfitted-level-3);\n",
       "  color: var(--sklearn-color-background);\n",
       "  text-decoration: none;\n",
       "}\n",
       "\n",
       "#sk-container-id-1 a.estimator_doc_link.fitted:hover {\n",
       "  /* fitted */\n",
       "  background-color: var(--sklearn-color-fitted-level-3);\n",
       "}\n",
       "</style><div id=\"sk-container-id-1\" class=\"sk-top-container\"><div class=\"sk-text-repr-fallback\"><pre>KMeans(n_clusters=3)</pre><b>In a Jupyter environment, please rerun this cell to show the HTML representation or trust the notebook. <br />On GitHub, the HTML representation is unable to render, please try loading this page with nbviewer.org.</b></div><div class=\"sk-container\" hidden><div class=\"sk-item\"><div class=\"sk-estimator fitted sk-toggleable\"><input class=\"sk-toggleable__control sk-hidden--visually\" id=\"sk-estimator-id-1\" type=\"checkbox\" checked><label for=\"sk-estimator-id-1\" class=\"sk-toggleable__label fitted sk-toggleable__label-arrow\"><div><div>KMeans</div></div><div><a class=\"sk-estimator-doc-link fitted\" rel=\"noreferrer\" target=\"_blank\" href=\"https://scikit-learn.org/1.6/modules/generated/sklearn.cluster.KMeans.html\">?<span>Documentation for KMeans</span></a><span class=\"sk-estimator-doc-link fitted\">i<span>Fitted</span></span></div></label><div class=\"sk-toggleable__content fitted\"><pre>KMeans(n_clusters=3)</pre></div> </div></div></div></div>"
      ],
      "text/plain": [
       "KMeans(n_clusters=3)"
      ]
     },
     "execution_count": 55,
     "metadata": {},
     "output_type": "execute_result"
    }
   ],
   "source": [
    "kmeans = KMeans(n_clusters = 3)\n",
    "kmeans.fit(word_vectors)"
   ]
  },
  {
   "cell_type": "code",
   "execution_count": 56,
   "metadata": {
    "colab": {
     "base_uri": "https://localhost:8080/"
    },
    "id": "1S_oZEfXx-f5",
    "outputId": "5469c663-4cb0-404d-9338-aca9febad65f"
   },
   "outputs": [
    {
     "data": {
      "text/plain": [
       "{'dog': 2,\n",
       " 'cat': 2,\n",
       " 'tiger': 2,\n",
       " 'pizza': 0,\n",
       " 'burger': 0,\n",
       " 'pasta': 0,\n",
       " 'car': 1,\n",
       " 'bus': 1,\n",
       " 'bike': 1}"
      ]
     },
     "execution_count": 56,
     "metadata": {},
     "output_type": "execute_result"
    }
   ],
   "source": [
    "clusters = {word[0]: kmeans.labels_[i] for i, word in enumerate(inf)}\n",
    "clusters"
   ]
  },
  {
   "cell_type": "code",
   "execution_count": 57,
   "metadata": {
    "colab": {
     "base_uri": "https://localhost:8080/"
    },
    "id": "L3BGyr0nI66G",
    "outputId": "c06be770-d540-419b-fb04-9f55b77b103e"
   },
   "outputs": [
    {
     "data": {
      "text/plain": [
       "([['[UNK]', 0],\n",
       "  ['[CLS]', 1],\n",
       "  ['[SEP]', 2],\n",
       "  ['!', 3],\n",
       "  ['\"', 4],\n",
       "  ['#', 5],\n",
       "  ['$', 6],\n",
       "  ['%', 7],\n",
       "  ['&', 8],\n",
       "  [\"'\", 9]],\n",
       " (50000, 300))"
      ]
     },
     "execution_count": 57,
     "metadata": {},
     "output_type": "execute_result"
    }
   ],
   "source": [
    "vocab = tokenizer.get_vocab()\n",
    "tokenized = text.split(' ')\n",
    "inf = [[k, v] for k, v in sorted_vocab.items()]\n",
    "word_vectors = np.array([embedding[id] for w, id in inf])\n",
    "inf[0:10], word_vectors.shape"
   ]
  },
  {
   "cell_type": "code",
   "execution_count": 58,
   "metadata": {
    "id": "OyiLoTkax-f6"
   },
   "outputs": [],
   "source": [
    "tsne = TSNE(n_components = 2, random_state = 42)\n",
    "reduced_vectors = tsne.fit_transform(word_vectors)"
   ]
  },
  {
   "cell_type": "code",
   "execution_count": 59,
   "metadata": {
    "colab": {
     "base_uri": "https://localhost:8080/"
    },
    "id": "yIOB0I8hNhGN",
    "outputId": "2512bdb3-1c42-4b59-ca67-b205eb469189"
   },
   "outputs": [
    {
     "data": {
      "text/plain": [
       "((50000, 300), (50000, 2))"
      ]
     },
     "execution_count": 59,
     "metadata": {},
     "output_type": "execute_result"
    }
   ],
   "source": [
    "word_vectors.shape, reduced_vectors.shape"
   ]
  },
  {
   "cell_type": "code",
   "execution_count": 61,
   "metadata": {
    "id": "92VofPs6lCat"
   },
   "outputs": [],
   "source": [
    "torch.save([reduced_vectors, inf], 'info.pt')"
   ]
  },
  {
   "cell_type": "code",
   "execution_count": 3,
   "metadata": {
    "id": "pJE5wrpQlWJH"
   },
   "outputs": [],
   "source": [
    "reduced_vectors, inf = torch.load('info.pt', weights_only = False)"
   ]
  },
  {
   "cell_type": "code",
   "execution_count": 5,
   "metadata": {
    "id": "VKq_uY6MNwGK"
   },
   "outputs": [],
   "source": [
    "plt.figure(figsize = (400, 400))\n",
    "plt.scatter(reduced_vectors[:, 0], reduced_vectors[:, 1])\n",
    "for re_ve, word in zip(reduced_vectors.tolist(), np.array(inf)[:, 0].tolist()):\n",
    "  plt.text(re_ve[0], re_ve[1], s = word.replace('Ġ', ''))\n",
    "plt.savefig('semantic-space.jpg')\n",
    "plt.close()"
   ]
  },
  {
   "cell_type": "code",
   "execution_count": null,
   "metadata": {},
   "outputs": [],
   "source": []
  }
 ],
 "metadata": {
  "accelerator": "GPU",
  "colab": {
   "collapsed_sections": [
    "t5ovy3muqKmg",
    "_EPOwD_F0dWj",
    "0LkR_EMVSkud",
    "2UljIXPSx-fT",
    "5vmQQS9Zx-fV",
    "AVb56aqzx-fa",
    "2vbhlUCCx-fd"
   ],
   "gpuType": "T4",
   "provenance": []
  },
  "kernelspec": {
   "display_name": "Python 3 (ipykernel)",
   "language": "python",
   "name": "python3"
  },
  "language_info": {
   "codemirror_mode": {
    "name": "ipython",
    "version": 3
   },
   "file_extension": ".py",
   "mimetype": "text/x-python",
   "name": "python",
   "nbconvert_exporter": "python",
   "pygments_lexer": "ipython3",
   "version": "3.12.7"
  }
 },
 "nbformat": 4,
 "nbformat_minor": 4
}
