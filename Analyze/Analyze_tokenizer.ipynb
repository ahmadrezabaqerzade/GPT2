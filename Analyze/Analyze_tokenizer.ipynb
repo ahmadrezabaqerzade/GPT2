{
 "cells": [
  {
   "cell_type": "markdown",
   "metadata": {
    "id": "_EPOwD_F0dWj"
   },
   "source": [
    "# 🔵 **Import Libraries**"
   ]
  },
  {
   "cell_type": "code",
   "execution_count": 1,
   "metadata": {
    "id": "goUJnNuf0hCW"
   },
   "outputs": [],
   "source": [
    "from tokenizers import Tokenizer, models, pre_tokenizers, trainers, processors, decoders\n",
    "import tokenizers\n",
    "import tiktoken\n",
    "import transformers\n",
    "from transformers import AutoTokenizer\n",
    "import datasets\n",
    "from datasets import load_dataset\n",
    "import numpy as np\n",
    "from IPython.display import Markdown, display\n",
    "import time"
   ]
  },
  {
   "cell_type": "code",
   "execution_count": 2,
   "metadata": {},
   "outputs": [
    {
     "name": "stdout",
     "output_type": "stream",
     "text": [
      "transformers:  4.52.3\n",
      "datasets:  3.6.0\n",
      "tokenizers:  0.21.1\n",
      "tiktoken:  0.9.0\n",
      "numpy:  1.26.4\n"
     ]
    }
   ],
   "source": [
    "print('transformers: ', transformers.__version__)\n",
    "print('datasets: ', datasets.__version__)\n",
    "print('tokenizers: ', tokenizers.__version__)\n",
    "print('tiktoken: ', tiktoken.__version__)\n",
    "print('numpy: ', np.__version__)"
   ]
  },
  {
   "cell_type": "markdown",
   "metadata": {
    "id": "kcgp9-0t0oLw"
   },
   "source": [
    "# 🔵 **TinyStories Dataset**"
   ]
  },
  {
   "cell_type": "markdown",
   "metadata": {
    "id": "0LkR_EMVSkud"
   },
   "source": [
    "## 🔵 **LoadDataset**"
   ]
  },
  {
   "cell_type": "code",
   "execution_count": 3,
   "metadata": {
    "colab": {
     "base_uri": "https://localhost:8080/",
     "height": 0,
     "referenced_widgets": [
      "dd68063a2faa4441a67b457f43c83859",
      "9274f03fcae446c4b371fecdfb21e5a9",
      "db926ca022e84859a186c8789956f73d",
      "86794b1bd95e4a0a8f75ff610cad0cc7",
      "11b37f57e402428a91aea944fb711d37",
      "96a7eff1785e4b51adb51e4aecc4021d",
      "22d6087f204f45a485a060547aabe3dd",
      "c536a4fcd4374decbbf93c2e91abdbe2",
      "3fa7c4606b54475c89ff033e57443fb2",
      "3117c79572af4ca593c1bcafbc16863a",
      "61d600a147f14db6ac38f507caa739f3",
      "f20110e977b04c0691b8246cb9b15814",
      "62cec514edcc4e6aaa684d8f279006d4",
      "6030555bfbc84206937081f22f3c09ef",
      "54117f8357fc45e4b9db3fe8d9c07d89",
      "7e67c2e4860245f99f814260e8ec23c8",
      "658d582da3894c349ef1f5230b69372c",
      "cac422b740a94300a2795c4d4b1a9415",
      "c87e63b0f0fd44d6a279ba004a73837b",
      "ca7adbb4833f432999231211387fad92",
      "f43d5197abe1470989119fc66b912e7a",
      "720ae46d6bdd436eb49e06f61faf5234",
      "adab4461361d4dbdb5abeae404dd0e80",
      "d6c99d8d7e494ca38b62ae60a9af0342",
      "e34d03484cac4fa3b6ef47e5d4abdc90",
      "c92aaae4acc542bebf4611e2f5da7cfb",
      "c172764ef9284430a3ea78c87bd01c88",
      "ef3a33d3ddbd4d9fb8eff401ed6b1140",
      "e4975dc6acd842d1b49d00ecd72ecefc",
      "0685602ee6c547a09aa82faaa8f9d794",
      "18b7c717a21f40c0adb9a73b41764bd6",
      "7743ceb3cdc441b9aee545ec2ea4f3ad",
      "fecf92b94f1d4a2b8c61f469060b4efa",
      "14f866617266410789d60de1be6a8a03",
      "75036e1c88ea4303a67057f6ee05971b",
      "db4c3e04a00643b483266f780c1c233f",
      "b8e12c8f8f9d4d898f63651a478bbfc1",
      "edb3b0019c9f414d8f675cde7bf8aa0c",
      "358256c4bcab477ea9b990d44d645158",
      "bec583c5a13e4d2ca6be172652035baa",
      "043b1211312f49488cecef3a0ec6ae3c",
      "571119abb84241a9808326e8abba83d6",
      "2c756f95f2d74b2fbd8c9811456a3a95",
      "18b72fab18754660818c7ed6f28184be",
      "64eb63755f864a368287f387db057956",
      "64b0d5a5b8934d67a7c675de96e46450",
      "1a99f2b9825f4aceaff7f625c9b18932",
      "87adcedc998345a6ac60f4a414c946e3",
      "0dec14c0c70843098518316035382f66",
      "b5624cfb52a74bbfa4e024514b75eb6b",
      "569f9d162d3a40b7a508037ad97ef609",
      "08a67cc928bf4431b4ffad31b654f5ee",
      "739a62ac4d7742cfae048a1c1b24e94f",
      "4fed05bbbcf948ddb518702381d41cd1",
      "9dcef8c90f0f4455af042715c82292dc",
      "64670cc8460a4516ac03b6e74edb5542",
      "ed848dfbdd7a4bea857f5fc46382dddd",
      "d8f0012d57be448d90453081f5fa40da",
      "bd7bcfbde92a48c7ad47660093325d6c",
      "7a88a85b6fa342bd8895c4793e2cfc5a",
      "fbae877bd04141478cf6e0f89374fd96",
      "8c42d89ca58d43fd9ff9b8bbd12d9bcc",
      "26ebde27406e4e56b3e19e2999973cc0",
      "f9b91144fff54f10be83543ec60712b2",
      "ad62b3324ba24ba8b2f023c853145d53",
      "45f07073107646108c1aa11578f63a74",
      "bc2f09fc32824ff0a313454c7eff2b9a",
      "a481090db8824380b921d5033e76e4af",
      "60ea2d75b1df41368c8f9cd01f28e00c",
      "db1d9942a766410bbe4679fc4f4195ba",
      "b784f471698c43d88acde213988f5413",
      "d7a98c57013a4be3b4d09da763dd9776",
      "9f3b8726e8cb4ee399bca0ef5495961f",
      "7e5b5ca100b94e55adab97c031c8819c",
      "fab67986875e4094a46aa2bdb922ff14",
      "3ca1b321a21f41708660db9c4e38d476",
      "e712d87e7a994acca32973bd7308f0e8",
      "116cb5c65b2245699ca835797922b000",
      "0aa85e69cdcd4edeb237a2d4127c4a87",
      "ba00fa90ae144c2c846ec46b93663c47",
      "dc37c938f0c44d13854671e351a247bd",
      "a6d6694174634565bef8f473767b6bd6",
      "13f0684750074e2b87c88efef0561dc1",
      "d194b2158f284deebc581044260caf72",
      "22e3f44d072f45178b347c11e65c2f50",
      "3d1970f216ca454ba541cf325c60db03",
      "1621211f0ee84caea8e9bac7e074fae3",
      "227975ec7e934827929e3a737697fe02"
     ]
    },
    "id": "mmsD9p730sfk",
    "outputId": "92953bda-4bf3-4a57-b2ce-47cb744da228"
   },
   "outputs": [
    {
     "data": {
      "text/plain": [
       "DatasetDict({\n",
       "    train: Dataset({\n",
       "        features: ['text'],\n",
       "        num_rows: 2119719\n",
       "    })\n",
       "    validation: Dataset({\n",
       "        features: ['text'],\n",
       "        num_rows: 21990\n",
       "    })\n",
       "})"
      ]
     },
     "execution_count": 3,
     "metadata": {},
     "output_type": "execute_result"
    }
   ],
   "source": [
    "dataset = load_dataset(\"roneneldan/TinyStories\")\n",
    "dataset"
   ]
  },
  {
   "cell_type": "code",
   "execution_count": 4,
   "metadata": {
    "colab": {
     "base_uri": "https://localhost:8080/"
    },
    "id": "56LJ3CZK1_Lq",
    "outputId": "a1d3ce2b-b153-48dd-e156-fdf02511025d"
   },
   "outputs": [
    {
     "name": "stdout",
     "output_type": "stream",
     "text": [
      "Number of train rows(stories):  2.119719 Million rows(stories)\n",
      "Number of valid rows(stories):  0.02199 Million rows(stories)\n"
     ]
    }
   ],
   "source": [
    "train_dataset = dataset['train']\n",
    "valid_dataset = dataset['validation']\n",
    "print('Number of train rows(stories): ', train_dataset.num_rows/1e6, 'Million rows(stories)')\n",
    "print('Number of valid rows(stories): ', valid_dataset.num_rows/1e6, 'Million rows(stories)')"
   ]
  },
  {
   "cell_type": "code",
   "execution_count": 5,
   "metadata": {
    "colab": {
     "base_uri": "https://localhost:8080/"
    },
    "id": "2KHuNjbSXFlX",
    "outputId": "5c3df253-bb0e-4217-f3f3-f3069ff55cad"
   },
   "outputs": [
    {
     "name": "stdout",
     "output_type": "stream",
     "text": [
      "story1: \n",
      "\n",
      " One day, a little girl named Lily found a needle in her room. She knew it was difficult to play with it because it was sharp. Lily wanted to share the needle with her mom, so she could sew a button on her shirt.\n",
      "\n",
      "Lily went to her mom and said, \"Mom, I found this needle. Can you share it with me and sew my shirt?\" Her mom smiled and said, \"Yes, Lily, we can share the needle and fix your shirt.\"\n",
      "\n",
      "Together, they shared the needle and sewed the button on Lily's shirt. It was not difficult for them because they were sharing and helping each other. After they finished, Lily thanked her mom for sharing the needle and fixing her shirt. They both felt happy because they had shared and worked together. \n",
      "\n",
      "story2: \n",
      "\n",
      " Once upon a time, there was a little car named Beep. Beep loved to go fast and play in the sun. Beep was a healthy car because he always had good fuel. Good fuel made Beep happy and strong.\n",
      "\n",
      "One day, Beep was driving in the park when he saw a big tree. The tree had many leaves that were falling. Beep liked how the leaves fall and wanted to play with them. Beep drove under the tree and watched the leaves fall on him. He laughed and beeped his horn.\n",
      "\n",
      "Beep played with the falling leaves all day. When it was time to go home, Beep knew he needed more fuel. He went to the fuel place and got more healthy fuel. Now, Beep was ready to go fast and play again the next day. And Beep lived happily ever after. \n",
      "\n",
      "story3: \n",
      "\n",
      " One day, a little fish named Fin was swimming near the shore. He saw a big crab and wanted to be friends. \"Hi, I am Fin. Do you want to play?\" asked the little fish. The crab looked at Fin and said, \"No, I don't want to play. I am cold and I don't feel fine.\"\n",
      "\n",
      "Fin felt sad but wanted to help the crab feel better. He swam away and thought of a plan. He remembered that the sun could make things warm. So, Fin swam to the top of the water and called to the sun, \"Please, sun, help my new friend feel fine and not freeze!\"\n",
      "\n",
      "The sun heard Fin's call and shone its warm light on the shore. The crab started to feel better and not so cold. He saw Fin and said, \"Thank you, little fish, for making me feel fine. I don't feel like I will freeze now. Let's play together!\" And so, Fin and the crab played and became good friends. \n",
      "\n",
      "story4: \n",
      "\n",
      " Once upon a time, in a land full of trees, there was a little cherry tree. The cherry tree was very sad because it did not have any friends. All the other trees were big and strong, but the cherry tree was small and weak. The cherry tree was envious of the big trees.\n",
      "\n",
      "One day, the cherry tree felt a tickle in its branches. It was a little spring wind. The wind told the cherry tree not to be sad. The wind said, \"You are special because you have sweet cherries that everyone loves.\" The cherry tree started to feel a little better.\n",
      "\n",
      "As time went on, the cherry tree grew more and more cherries. All the animals in the land came to eat the cherries and play under the cherry tree. The cherry tree was happy because it had many friends now. The cherry tree learned that being different can be a good thing. And they all lived happily ever after. \n",
      "\n",
      "story5: \n",
      "\n",
      " Once upon a time, there was a little girl named Lily. Lily liked to pretend she was a popular princess. She lived in a big castle with her best friends, a cat and a dog.\n",
      "\n",
      "One day, while playing in the castle, Lily found a big cobweb. The cobweb was in the way of her fun game. She wanted to get rid of it, but she was scared of the spider that lived there.\n",
      "\n",
      "Lily asked her friends, the cat and the dog, to help her. They all worked together to clean the cobweb. The spider was sad, but it found a new home outside. Lily, the cat, and the dog were happy they could play without the cobweb in the way. And they all lived happily ever after. \n",
      "\n"
     ]
    },
    {
     "data": {
      "text/plain": [
       "[None, None, None, None, None]"
      ]
     },
     "execution_count": 5,
     "metadata": {},
     "output_type": "execute_result"
    }
   ],
   "source": [
    "[print(f'story{i+1}: \\n\\n', train_dataset[i]['text'], '\\n') for i in range(5)]"
   ]
  },
  {
   "cell_type": "markdown",
   "metadata": {
    "id": "ZjXg-sshWvMX"
   },
   "source": [
    "## 🔵 **Tokenize**"
   ]
  },
  {
   "cell_type": "code",
   "execution_count": 15,
   "metadata": {
    "id": "fFIa4jqjdn26"
   },
   "outputs": [],
   "source": [
    "model = models.BPE(unk_token = '[UNK]')\n",
    "tokenizer = Tokenizer(model = model)\n",
    "tokenizer.add_special_tokens(['[UNK]', '[CLS]', '[SEP]'])\n",
    "tokenizer.pre_tokenizer  = pre_tokenizers.ByteLevel(add_prefix_space=False)\n",
    "trainer = trainers.BpeTrainer(vocab_size = 50000, min_frequency = 0, show_progress = True, special_tokens = ['[UNK]', '[CLS]', '[SEP]'])\n",
    "tokenizer.post_processor = processors.TemplateProcessing(single=\"[CLS] $0 [SEP]\",\n",
    "                                                         special_tokens=[(\"[CLS]\", tokenizer.token_to_id(\"[CLS]\")), (\"[SEP]\", tokenizer.token_to_id(\"[SEP]\"))])\n",
    "\n",
    "tokenizer.decoder = decoders.ByteLevel(add_prefix_space=False)"
   ]
  },
  {
   "cell_type": "code",
   "execution_count": 17,
   "metadata": {
    "colab": {
     "base_uri": "https://localhost:8080/",
     "height": 123
    },
    "id": "fU9Ub1yntxFI",
    "outputId": "61af94fa-806d-4c38-f399-5aded43edaa9"
   },
   "outputs": [
    {
     "data": {
      "text/plain": [
       "'Spot. Spot saw the shiny car and said, \"Wow, Kitty, your car is so bright and clean!\" Kitty smiled a'"
      ]
     },
     "execution_count": 17,
     "metadata": {},
     "output_type": "execute_result"
    }
   ],
   "source": [
    "sample = \" \".join(valid_dataset['text'])\n",
    "sample[0:100]"
   ]
  },
  {
   "cell_type": "markdown",
   "metadata": {
    "id": "83AM46gZudOo"
   },
   "source": [
    "#### 🔵 **train Tokenizer**"
   ]
  },
  {
   "cell_type": "code",
   "execution_count": 19,
   "metadata": {
    "id": "R7QMzhrLd4QP"
   },
   "outputs": [],
   "source": [
    "try:\n",
    "    tokenizer = tokenizer.from_file('../PretrainedBPETokenizers/bpe_tokenizer-50k.json')\n",
    "except:\n",
    "    tokenizer.train_from_iterator(train_dataset['text'], trainer)\n",
    "    tokenizer.save('../PretrainedBPETokenizers/bpe_tokenizer-50k.json')"
   ]
  },
  {
   "cell_type": "code",
   "execution_count": 20,
   "metadata": {
    "colab": {
     "base_uri": "https://localhost:8080/"
    },
    "id": "Elebwc_RkdR2",
    "outputId": "6f2a77da-010e-44f0-d746-ece7a7844c1c"
   },
   "outputs": [
    {
     "data": {
      "text/plain": [
       "['[CLS]',\n",
       " 'Spot',\n",
       " '.',\n",
       " 'ĠSpot',\n",
       " 'Ġsaw',\n",
       " 'Ġthe',\n",
       " 'Ġshiny',\n",
       " 'Ġcar',\n",
       " 'Ġand',\n",
       " 'Ġsaid']"
      ]
     },
     "execution_count": 20,
     "metadata": {},
     "output_type": "execute_result"
    }
   ],
   "source": [
    "encoded_text = tokenizer.encode(sample)\n",
    "encoded_text.tokens[0:10]"
   ]
  },
  {
   "cell_type": "code",
   "execution_count": 22,
   "metadata": {
    "colab": {
     "base_uri": "https://localhost:8080/",
     "height": 53
    },
    "id": "xhLCE5djlQl4",
    "outputId": "e50fa8ad-4659-42e5-c30a-dc75f7be75d8"
   },
   "outputs": [
    {
     "data": {
      "text/plain": [
       "'Spot. Spot saw the shiny car and said, \"Wow, Kitty, your car is so bright and clean!\" Kitty smiled a'"
      ]
     },
     "execution_count": 22,
     "metadata": {},
     "output_type": "execute_result"
    }
   ],
   "source": [
    "sample[0:100]"
   ]
  },
  {
   "cell_type": "code",
   "execution_count": 23,
   "metadata": {
    "colab": {
     "base_uri": "https://localhost:8080/",
     "height": 53
    },
    "id": "PGM5ytPikuq6",
    "outputId": "ebed748f-4919-4880-cf67-9d51abe85242"
   },
   "outputs": [
    {
     "data": {
      "text/plain": [
       "'Spot. Spot saw the shiny car and said, \"Wow, Kitty, your car is so bright and clean!\" Kitty smiled a'"
      ]
     },
     "execution_count": 23,
     "metadata": {},
     "output_type": "execute_result"
    }
   ],
   "source": [
    "tokenizer.decode(encoded_text.ids)[0:100]"
   ]
  },
  {
   "cell_type": "markdown",
   "metadata": {
    "id": "up1n97WISNoX"
   },
   "source": [
    "### 🔵 **tokenizer-20k**"
   ]
  },
  {
   "cell_type": "code",
   "execution_count": 27,
   "metadata": {
    "id": "kH3NYlVLSeZl"
   },
   "outputs": [],
   "source": [
    "tokenizer = tokenizer.from_file('../PretrainedBPETokenizers/bpe_tokenizer-20k.json')"
   ]
  },
  {
   "cell_type": "code",
   "execution_count": 29,
   "metadata": {
    "colab": {
     "base_uri": "https://localhost:8080/"
    },
    "id": "bOGSKR6blN7L",
    "outputId": "0b5f5608-8930-4bda-8e30-bd6c5e2234dd"
   },
   "outputs": [
    {
     "data": {
      "text/plain": [
       "20000"
      ]
     },
     "execution_count": 29,
     "metadata": {},
     "output_type": "execute_result"
    }
   ],
   "source": [
    "len(tokenizer.get_vocab())"
   ]
  },
  {
   "cell_type": "code",
   "execution_count": 31,
   "metadata": {
    "colab": {
     "base_uri": "https://localhost:8080/"
    },
    "id": "ZFD9BK-E5rlR",
    "outputId": "d399b2fb-b097-45d7-e652-540f7659cef5"
   },
   "outputs": [
    {
     "data": {
      "text/plain": [
       "['[UNK]', '[CLS]', '[SEP]', '!', '\"', '#', '$', '%', '&', \"'\", '(', ')', '*']"
      ]
     },
     "execution_count": 31,
     "metadata": {},
     "output_type": "execute_result"
    }
   ],
   "source": [
    "vocab = tokenizer.get_vocab()\n",
    "sorted_vocab = dict(sorted(vocab.items(), key = lambda item:item[1]))\n",
    "list(sorted_vocab.keys())[0:13]"
   ]
  },
  {
   "cell_type": "code",
   "execution_count": 33,
   "metadata": {
    "colab": {
     "base_uri": "https://localhost:8080/"
    },
    "id": "JOtPB8YQPny2",
    "outputId": "5d614cf4-49d5-48ea-9862-880eea3432a5"
   },
   "outputs": [
    {
     "data": {
      "text/plain": [
       "['Ġglancing',\n",
       " 'Ġlists',\n",
       " 'Ġuncles',\n",
       " 'ffled',\n",
       " 'Ġdisliked',\n",
       " 'Ġamusing',\n",
       " 'ĠRy',\n",
       " 'ĠRiya',\n",
       " 'Ġbaffled',\n",
       " 'ĠDoc',\n",
       " 'ĠDovey',\n",
       " 'sterious',\n",
       " 'shade',\n",
       " 'Ġshopped',\n",
       " 'Ġsquirting',\n",
       " 'ĠKiss',\n",
       " 'clear',\n",
       " 'Ġwelled',\n",
       " 'Ġcauses',\n",
       " 'ĠOxy']"
      ]
     },
     "execution_count": 33,
     "metadata": {},
     "output_type": "execute_result"
    }
   ],
   "source": [
    "list(sorted_vocab.keys())[-20:]"
   ]
  },
  {
   "cell_type": "code",
   "execution_count": 168,
   "metadata": {},
   "outputs": [
    {
     "name": "stdout",
     "output_type": "stream",
     "text": [
      "encoding time: 16986.18 ± 273.01 (ms)\n",
      "decoding time: 1465.94 ± 31.05 (ms)\n"
     ]
    }
   ],
   "source": [
    "en = []\n",
    "de = []\n",
    "for i in range(10):\n",
    "  en_s = time.time()\n",
    "  ids = tokenizer.encode(sample).ids\n",
    "  en.append(time.time() - en_s)\n",
    "  de_s = time.time()\n",
    "  tokenizer.decode(ids)\n",
    "  de.append(time.time() - de_s)\n",
    "\n",
    "print(f\"encoding time: {round(np.mean(en).item()*1e3, 2)} ± {round(np.std(en)*1e3, 2)} (ms)\")\n",
    "print(f\"decoding time: {round(np.mean(de).item()*1e3, 2)} ± {round(np.std(de)*1e3, 2)} (ms)\")"
   ]
  },
  {
   "cell_type": "markdown",
   "metadata": {
    "id": "EnnnYR-5TEYd",
    "jp-MarkdownHeadingCollapsed": true
   },
   "source": [
    "### 🔵 **tokenizer-10k**"
   ]
  },
  {
   "cell_type": "code",
   "execution_count": 175,
   "metadata": {
    "id": "F28W8c7NTEYe"
   },
   "outputs": [],
   "source": [
    "tokenizer = tokenizer.from_file('../PretrainedBPETokenizers/bpe_tokenizer-10k.json')"
   ]
  },
  {
   "cell_type": "code",
   "execution_count": 176,
   "metadata": {
    "colab": {
     "base_uri": "https://localhost:8080/"
    },
    "id": "VA-qnpgaTEYe",
    "outputId": "b57ed4eb-e334-4665-8a71-83d69248ad7d"
   },
   "outputs": [
    {
     "data": {
      "text/plain": [
       "10000"
      ]
     },
     "execution_count": 176,
     "metadata": {},
     "output_type": "execute_result"
    }
   ],
   "source": [
    "len(tokenizer.get_vocab())"
   ]
  },
  {
   "cell_type": "code",
   "execution_count": 179,
   "metadata": {
    "colab": {
     "base_uri": "https://localhost:8080/"
    },
    "id": "ypindkhcTEYe",
    "outputId": "321135ae-da81-4d13-9b0c-f1a79af75352"
   },
   "outputs": [
    {
     "data": {
      "text/plain": [
       "['[UNK]', '[CLS]', '[SEP]', '!', '\"', '#', '$', '%', '&', \"'\", '(', ')', '*']"
      ]
     },
     "execution_count": 179,
     "metadata": {},
     "output_type": "execute_result"
    }
   ],
   "source": [
    "vocab = tokenizer.get_vocab()\n",
    "sorted_vocab = dict(sorted(vocab.items(), key = lambda item:item[1]))\n",
    "list(sorted_vocab.keys())[0:13]"
   ]
  },
  {
   "cell_type": "code",
   "execution_count": 181,
   "metadata": {
    "colab": {
     "base_uri": "https://localhost:8080/"
    },
    "id": "mPxkcWFTTEYe",
    "outputId": "5c5f8785-ba27-4c5c-b8e6-10088d349ace"
   },
   "outputs": [
    {
     "data": {
      "text/plain": [
       "['ĠCarol',\n",
       " 'Ġsnuggling',\n",
       " 'Ġplumber',\n",
       " 'Ġrestoring',\n",
       " 'Ġwinners',\n",
       " 'Ġpounding',\n",
       " 'ĠStanley',\n",
       " 'elve',\n",
       " 'Ġswoop',\n",
       " 'Ġfeathered',\n",
       " 'Ġorganised',\n",
       " 'Ġtaps',\n",
       " 'Ġfashionable',\n",
       " 'Ġstinky',\n",
       " 'Ġgorgeous',\n",
       " 'Ġrider',\n",
       " 'Ġdeserves',\n",
       " 'ĠPlay',\n",
       " 'Ġmacaroni',\n",
       " 'ĠNell']"
      ]
     },
     "execution_count": 181,
     "metadata": {},
     "output_type": "execute_result"
    }
   ],
   "source": [
    "list(sorted_vocab.keys())[-20:]"
   ]
  },
  {
   "cell_type": "code",
   "execution_count": 183,
   "metadata": {
    "colab": {
     "base_uri": "https://localhost:8080/"
    },
    "id": "GEeFfK--zSVT",
    "outputId": "9abfef1e-e7fc-4430-d69f-6d28013f8f7d"
   },
   "outputs": [
    {
     "name": "stdout",
     "output_type": "stream",
     "text": [
      "encoding time: 17835.52 ± 732.87 (ms)\n",
      "decoding time: 1461.94 ± 16.32 (ms)\n"
     ]
    }
   ],
   "source": [
    "en = []\n",
    "de = []\n",
    "for i in range(10):\n",
    "  en_s = time.time()\n",
    "  ids = tokenizer.encode(sample).ids\n",
    "  en.append(time.time() - en_s)\n",
    "  de_s = time.time()\n",
    "  tokenizer.decode(ids)\n",
    "  de.append(time.time() - de_s)\n",
    "\n",
    "print(f\"encoding time: {round(np.mean(en).item()*1e3, 2)} ± {round(np.std(en)*1e3, 2)} (ms)\")\n",
    "print(f\"decoding time: {round(np.mean(de).item()*1e3, 2)} ± {round(np.std(de)*1e3, 2)} (ms)\")"
   ]
  },
  {
   "cell_type": "markdown",
   "metadata": {
    "id": "kDokDSi0TFGh",
    "jp-MarkdownHeadingCollapsed": true
   },
   "source": [
    "### 🔵 **tokenizer-5k**"
   ]
  },
  {
   "cell_type": "code",
   "execution_count": 184,
   "metadata": {
    "id": "5VgKoAKDTFGi"
   },
   "outputs": [],
   "source": [
    "tokenizer = tokenizer.from_file('../PretrainedBPETokenizers/bpe_tokenizer-5k.json')"
   ]
  },
  {
   "cell_type": "code",
   "execution_count": 185,
   "metadata": {
    "colab": {
     "base_uri": "https://localhost:8080/"
    },
    "id": "zPw8FmZVTFGi",
    "outputId": "24878f3e-b615-44d8-87f6-35d5b74e4b4d"
   },
   "outputs": [
    {
     "data": {
      "text/plain": [
       "5000"
      ]
     },
     "execution_count": 185,
     "metadata": {},
     "output_type": "execute_result"
    }
   ],
   "source": [
    "len(tokenizer.get_vocab())"
   ]
  },
  {
   "cell_type": "code",
   "execution_count": 186,
   "metadata": {
    "colab": {
     "base_uri": "https://localhost:8080/"
    },
    "id": "-OqUyixyTFGi",
    "outputId": "d8dd9812-ba5b-46d6-9ae9-adb98f9f030f"
   },
   "outputs": [
    {
     "data": {
      "text/plain": [
       "['[UNK]', '[CLS]', '[SEP]', '!', '\"', '#', '$', '%', '&', \"'\", '(', ')', '*']"
      ]
     },
     "execution_count": 186,
     "metadata": {},
     "output_type": "execute_result"
    }
   ],
   "source": [
    "vocab = tokenizer.get_vocab()\n",
    "sorted_vocab = dict(sorted(vocab.items(), key = lambda item:item[1]))\n",
    "list(sorted_vocab.keys())[0:13]"
   ]
  },
  {
   "cell_type": "code",
   "execution_count": 187,
   "metadata": {
    "colab": {
     "base_uri": "https://localhost:8080/"
    },
    "id": "IZGIAqpiTFGi",
    "outputId": "038a35c7-c76a-43da-b128-8c30f0c0b166"
   },
   "outputs": [
    {
     "data": {
      "text/plain": [
       "['Ġsneezed',\n",
       " 'Ġsport',\n",
       " 'Ġwizard',\n",
       " 'ĠEach',\n",
       " 'Ġupstairs',\n",
       " 'Ġthrilled',\n",
       " 'Ġprovide',\n",
       " 'Ġbrain',\n",
       " 'Ġawe',\n",
       " 'Ġdiscuss',\n",
       " 'Jake',\n",
       " 'Ġpanic',\n",
       " 'Ġwarning',\n",
       " 'Ġtwisted',\n",
       " 'Ġglowed',\n",
       " 'Ġuniverse',\n",
       " 'Ġfiref',\n",
       " 'Ġtherm',\n",
       " 'Ġvacation',\n",
       " 'Ġworse']"
      ]
     },
     "execution_count": 187,
     "metadata": {},
     "output_type": "execute_result"
    }
   ],
   "source": [
    "list(sorted_vocab.keys())[-20:]"
   ]
  },
  {
   "cell_type": "code",
   "execution_count": 197,
   "metadata": {
    "colab": {
     "base_uri": "https://localhost:8080/"
    },
    "id": "hp1PZxcrzVg_",
    "outputId": "6891399d-bc38-40d0-909d-6baeb07fcde0"
   },
   "outputs": [
    {
     "name": "stdout",
     "output_type": "stream",
     "text": [
      "encoding time: 19151.33 ± 1104.25 (ms)\n",
      "decoding time: 1553.28 ± 62.15 (ms)\n"
     ]
    }
   ],
   "source": [
    "en = []\n",
    "de = []\n",
    "for i in range(10):\n",
    "  en_s = time.time()\n",
    "  ids = tokenizer.encode(sample).ids\n",
    "  en.append(time.time() - en_s)\n",
    "  de_s = time.time()\n",
    "  tokenizer.decode(ids)\n",
    "  de.append(time.time() - de_s)\n",
    "\n",
    "print(f\"encoding time: {round(np.mean(en).item()*1e3, 2)} ± {round(np.std(en)*1e3, 2)} (ms)\")\n",
    "print(f\"decoding time: {round(np.mean(de).item()*1e3, 2)} ± {round(np.std(de)*1e3, 2)} (ms)\")"
   ]
  },
  {
   "cell_type": "markdown",
   "metadata": {
    "id": "MrLtf8g0TFVj",
    "jp-MarkdownHeadingCollapsed": true
   },
   "source": [
    "### 🔵 **tokenizer-1k**"
   ]
  },
  {
   "cell_type": "code",
   "execution_count": 199,
   "metadata": {
    "id": "DC9d_j-CTFVj"
   },
   "outputs": [],
   "source": [
    "tokenizer = tokenizer.from_file('../PretrainedBPETokenizers/bpe_tokenizer-1k.json')"
   ]
  },
  {
   "cell_type": "code",
   "execution_count": 200,
   "metadata": {
    "colab": {
     "base_uri": "https://localhost:8080/"
    },
    "id": "AOvFZPrLTFVk",
    "outputId": "5eae36e5-47fb-47a3-c144-9906b3dbbb01"
   },
   "outputs": [
    {
     "data": {
      "text/plain": [
       "1000"
      ]
     },
     "execution_count": 200,
     "metadata": {},
     "output_type": "execute_result"
    }
   ],
   "source": [
    "len(tokenizer.get_vocab())"
   ]
  },
  {
   "cell_type": "code",
   "execution_count": 201,
   "metadata": {
    "colab": {
     "base_uri": "https://localhost:8080/"
    },
    "id": "7bAmJUqXTFVk",
    "outputId": "280b7767-e158-42a0-f559-b3d9d7a3e00b"
   },
   "outputs": [
    {
     "data": {
      "text/plain": [
       "['[UNK]', '[CLS]', '[SEP]', '!', '\"', '#', '$', '%', '&', \"'\", '(', ')', '*']"
      ]
     },
     "execution_count": 201,
     "metadata": {},
     "output_type": "execute_result"
    }
   ],
   "source": [
    "vocab = tokenizer.get_vocab()\n",
    "sorted_vocab = dict(sorted(vocab.items(), key = lambda item:item[1]))\n",
    "list(sorted_vocab.keys())[0:13]"
   ]
  },
  {
   "cell_type": "code",
   "execution_count": 202,
   "metadata": {
    "colab": {
     "base_uri": "https://localhost:8080/"
    },
    "id": "IHkJsThKTFVk",
    "outputId": "c60f1649-6710-4794-f5bf-45896f1f4ab9"
   },
   "outputs": [
    {
     "data": {
      "text/plain": [
       "['Ġde',\n",
       " 'able',\n",
       " 'Ġimportant',\n",
       " 'Ġremember',\n",
       " 'Ġfish',\n",
       " 'llow',\n",
       " 'Ġsound',\n",
       " 'Ġslide',\n",
       " 'Ġus',\n",
       " 'maz',\n",
       " 'Ġreplied',\n",
       " 'Ġamaz',\n",
       " 'Ġac',\n",
       " 'lease',\n",
       " 'Ġwork',\n",
       " 'Ġwatch',\n",
       " 'Ġrain',\n",
       " 'Ġshowed',\n",
       " 'Ġrabbit',\n",
       " 'Ġokay']"
      ]
     },
     "execution_count": 202,
     "metadata": {},
     "output_type": "execute_result"
    }
   ],
   "source": [
    "list(sorted_vocab.keys())[-20:]"
   ]
  },
  {
   "cell_type": "code",
   "execution_count": 203,
   "metadata": {
    "colab": {
     "base_uri": "https://localhost:8080/"
    },
    "id": "x8BzJT-qzXjo",
    "outputId": "621019d1-e2ba-4b73-c630-aff502a8813d"
   },
   "outputs": [
    {
     "name": "stdout",
     "output_type": "stream",
     "text": [
      "encoding time: 21763.89 ± 595.26 (ms)\n",
      "decoding time: 1851.72 ± 52.17 (ms)\n"
     ]
    }
   ],
   "source": [
    "en = []\n",
    "de = []\n",
    "for i in range(10):\n",
    "  en_s = time.time()\n",
    "  ids = tokenizer.encode(sample).ids\n",
    "  en.append(time.time() - en_s)\n",
    "  de_s = time.time()\n",
    "  tokenizer.decode(ids)\n",
    "  de.append(time.time() - de_s)\n",
    "\n",
    "print(f\"encoding time: {round(np.mean(en).item()*1e3, 2)} ± {round(np.std(en)*1e3, 2)} (ms)\")\n",
    "print(f\"decoding time: {round(np.mean(de).item()*1e3, 2)} ± {round(np.std(de)*1e3, 2)} (ms)\")"
   ]
  },
  {
   "cell_type": "markdown",
   "metadata": {
    "id": "yM_xnUjzTFf3",
    "jp-MarkdownHeadingCollapsed": true
   },
   "source": [
    "### 🔵 **tokenizer-500**"
   ]
  },
  {
   "cell_type": "code",
   "execution_count": 205,
   "metadata": {
    "id": "k88ozLZwTFf3"
   },
   "outputs": [],
   "source": [
    "tokenizer = tokenizer.from_file('../PretrainedBPETokenizers/bpe_tokenizer-500.json')"
   ]
  },
  {
   "cell_type": "code",
   "execution_count": 206,
   "metadata": {
    "colab": {
     "base_uri": "https://localhost:8080/"
    },
    "id": "aq_fV_sDTFf3",
    "outputId": "186415e3-e5f1-4be7-bda2-b1a19688b5f4"
   },
   "outputs": [
    {
     "data": {
      "text/plain": [
       "500"
      ]
     },
     "execution_count": 206,
     "metadata": {},
     "output_type": "execute_result"
    }
   ],
   "source": [
    "len(tokenizer.get_vocab())"
   ]
  },
  {
   "cell_type": "code",
   "execution_count": 207,
   "metadata": {
    "colab": {
     "base_uri": "https://localhost:8080/"
    },
    "id": "5fxSTbgATFf3",
    "outputId": "e4b2c42b-ccbc-41c0-922c-3b9a41479c17"
   },
   "outputs": [
    {
     "data": {
      "text/plain": [
       "['[UNK]', '[CLS]', '[SEP]', '!', '\"', '#', '$', '%', '&', \"'\", '(', ')', '*']"
      ]
     },
     "execution_count": 207,
     "metadata": {},
     "output_type": "execute_result"
    }
   ],
   "source": [
    "vocab = tokenizer.get_vocab()\n",
    "sorted_vocab = dict(sorted(vocab.items(), key = lambda item:item[1]))\n",
    "list(sorted_vocab.keys())[0:13]"
   ]
  },
  {
   "cell_type": "code",
   "execution_count": 208,
   "metadata": {
    "colab": {
     "base_uri": "https://localhost:8080/"
    },
    "id": "DSZSoumeTFf3",
    "outputId": "945a39b5-aad5-4bbc-9448-1797115564c1"
   },
   "outputs": [
    {
     "data": {
      "text/plain": [
       "['Ġmu',\n",
       " 'ook',\n",
       " 'ach',\n",
       " 'Ġagain',\n",
       " 'Ġhome',\n",
       " 'Ġwhen',\n",
       " 'Ġgood',\n",
       " 'hat',\n",
       " 'ep',\n",
       " 'Ġwho',\n",
       " 'est',\n",
       " 'ried',\n",
       " 'Ġfound',\n",
       " 'Ġfl',\n",
       " 'Ġthen',\n",
       " 'Ġch',\n",
       " 'Ġdec',\n",
       " 'pped',\n",
       " 'Ġwal',\n",
       " 'as']"
      ]
     },
     "execution_count": 208,
     "metadata": {},
     "output_type": "execute_result"
    }
   ],
   "source": [
    "list(sorted_vocab.keys())[-20:]"
   ]
  },
  {
   "cell_type": "code",
   "execution_count": 210,
   "metadata": {
    "colab": {
     "base_uri": "https://localhost:8080/"
    },
    "id": "2tu3Z6TgzZa1",
    "outputId": "2e33ad83-6c99-4857-c25b-6c1ac45f8997"
   },
   "outputs": [
    {
     "name": "stdout",
     "output_type": "stream",
     "text": [
      "encoding time: 22945.48 ± 857.94 (ms)\n",
      "decoding time: 2191.75 ± 116.26 (ms)\n"
     ]
    }
   ],
   "source": [
    "en = []\n",
    "de = []\n",
    "for i in range(10):\n",
    "  en_s = time.time()\n",
    "  ids = tokenizer.encode(sample).ids\n",
    "  en.append(time.time() - en_s)\n",
    "  de_s = time.time()\n",
    "  tokenizer.decode(ids)\n",
    "  de.append(time.time() - de_s)\n",
    "\n",
    "print(f\"encoding time: {round(np.mean(en).item()*1e3, 2)} ± {round(np.std(en)*1e3, 2)} (ms)\")\n",
    "print(f\"decoding time: {round(np.mean(de).item()*1e3, 2)} ± {round(np.std(de)*1e3, 2)} (ms)\")"
   ]
  },
  {
   "cell_type": "markdown",
   "metadata": {
    "id": "5_7Cf_WoBerl"
   },
   "source": [
    "### 🔵 **Pretrained-Tokenizer**"
   ]
  },
  {
   "cell_type": "markdown",
   "metadata": {
    "id": "6PvK9hbwg2rQ",
    "jp-MarkdownHeadingCollapsed": true
   },
   "source": [
    "#### 🔵 **Bert**"
   ]
  },
  {
   "cell_type": "code",
   "execution_count": null,
   "metadata": {
    "colab": {
     "base_uri": "https://localhost:8080/",
     "height": 301,
     "referenced_widgets": [
      "9cd8e60d53854204a88828f28b6f3330",
      "502d85e004fc443a9a77d3ef6b705b1a",
      "c9774abb0d364641970691dc2a14972c",
      "07902216ded4476d93a69b3f0309fe15",
      "18aa132534404dd6add00d969007d79d",
      "66aee666a48443d48422d8dde8e68a9a",
      "3ff88c1752b045ee89545577d1b689bb",
      "74b2f394fe1249dabca351c512308765",
      "7adfa74048e64af9ac45d0ab618d7467",
      "378fc9e180604aa789bcc266b4eca997",
      "31acc44fe49848cc8d31444b8569dc33",
      "087adb7e5e7148e0892a27f39220d255",
      "a911e2d3f4a040058807e29b057319e4",
      "7c689254d2da47dcaf86ac2e145e3d56",
      "d442362878c14d1f8005a56d5e43a827",
      "e3c58f84d91f4fc8ab06a6cc0c6829da",
      "57a527467d2b481494d56d4d2dcf8260",
      "11c49f2f49174521aed251683e54abea",
      "6dab43023de84f9886ca9880e61a8811",
      "d56d414352294dedb1ef245555d5cdc8",
      "f8a82bbe29cd41faadd776bac7615ddd",
      "fa068ee120ad465ebc52e5fb539d9de6",
      "6592584b8a744fbd8d0f4fcb8a86071e",
      "8e159ac8c5ea4ec1b36ef587cdace6ff",
      "1bc932c8772546ecbe02eb49aac5745d",
      "4d2875bd06594e358c5a76ee2756258d",
      "c3671204d2374555bdb412ffdbbcb4ed",
      "da1c506cd9dd4d00982628703ffe682e",
      "0260dc72c4c749fc885f3613e484d43f",
      "06ff0d25b9734799a13a986f7befa689",
      "3d10fce9f1cd4100a43c8d14dcf9d85d",
      "c2b47089af2a4cecb5fd6da73b9129c7",
      "9973608f677c4d0c931d6b76ca2c2b5b",
      "c102702eb73142d38df52d2b2ea27d34",
      "a73bcbed0e1d4a4a9adb439800718a0a",
      "47c6db8c5e104501a360fcc8afa6d065",
      "2e92455f71574fa28d12e4719a925105",
      "81fa5e2dac3a44c9971b1b7b73140453",
      "f55a1cbbcf40459c83c95810f4f79142",
      "b59495bd3dd4430386cca8972c76bbb0",
      "ae448544cb6f44baaa9e39565dd8c91b",
      "b58c5b76802c4c47a48ddfd48c9c6fb8",
      "ce0e3b02c42e4549ba8282a63378cf34",
      "6c5712064c754e7daf237221a016ef95"
     ]
    },
    "id": "eyhKmyxBBePN",
    "outputId": "ec7006ee-4b79-49af-9498-af99d2f1a9bb"
   },
   "outputs": [],
   "source": [
    "tokenizer = AutoTokenizer.from_pretrained('bert-base-cased')\n",
    "tokenizer"
   ]
  },
  {
   "cell_type": "code",
   "execution_count": 214,
   "metadata": {
    "colab": {
     "base_uri": "https://localhost:8080/"
    },
    "id": "SyCuodzaDyYj",
    "outputId": "5171df6b-5554-4bac-bf1d-28ddb0e02e0d"
   },
   "outputs": [
    {
     "data": {
      "text/plain": [
       "28996"
      ]
     },
     "execution_count": 214,
     "metadata": {},
     "output_type": "execute_result"
    }
   ],
   "source": [
    "tokenizer.vocab_size"
   ]
  },
  {
   "cell_type": "code",
   "execution_count": 217,
   "metadata": {
    "colab": {
     "base_uri": "https://localhost:8080/"
    },
    "id": "VJp4rtdGhTjm",
    "outputId": "dfdb5509-8699-4807-c375-91a47e505f25"
   },
   "outputs": [
    {
     "name": "stdout",
     "output_type": "stream",
     "text": [
      "encoding time: 18388.68 ± 1615.23 (ms)\n",
      "decoding time: 7171.89 ± 395.4 (ms)\n"
     ]
    }
   ],
   "source": [
    "en = []\n",
    "de = []\n",
    "for i in range(10):\n",
    "  en_s = time.time()\n",
    "  ids = tokenizer.encode(sample)\n",
    "  en.append(time.time() - en_s)\n",
    "  de_s = time.time()\n",
    "  tokenizer.decode(ids)\n",
    "  de.append(time.time() - de_s)\n",
    "\n",
    "print(f\"encoding time: {round(np.mean(en).item()*1e3, 2)} ± {round(np.std(en)*1e3, 2)} (ms)\")\n",
    "print(f\"decoding time: {round(np.mean(de).item()*1e3, 2)} ± {round(np.std(de)*1e3, 2)} (ms)\")"
   ]
  },
  {
   "cell_type": "markdown",
   "metadata": {
    "id": "U6J3qkuAuly8",
    "jp-MarkdownHeadingCollapsed": true
   },
   "source": [
    "#### 🔵 **Bert-Fast**"
   ]
  },
  {
   "cell_type": "code",
   "execution_count": null,
   "metadata": {
    "colab": {
     "base_uri": "https://localhost:8080/",
     "height": 301,
     "referenced_widgets": [
      "b12ac7ef8b9142c090a89c0acf2c11f8",
      "230f06103b524e8eb9704b6ac98201e9",
      "f2374660b90a4fd8bb9152b4208bce69",
      "8e4f738f542a4996be6fff463e735e8c",
      "6428f58cd1b14d3e91b225627855319b",
      "1e6bfaf8a1df4a0f9f8b0a33d863952e",
      "18610844fa704243bcf4fdf918f4f4d2",
      "3b8706aec5d74858893e668e1216d71a",
      "dbcda32d5d7f476aaad694c35aa51723",
      "c59d5ebf8cb442d0ab18f402aeedfe0b",
      "6106ecb3b0084081bb329af183d13502",
      "016fac3c9ce8430192cba5553e06e588",
      "221bc320a92b4e09a5e57454bb5fdd45",
      "975060dcddc0466396e7a22d82f5ae09",
      "8f5674ff6f0e414b9c3bcea34325adf8",
      "89348ce41d194055b48fa6b3520e8952",
      "c17838404ac04a8db6fc9ef2476bba1b",
      "c8096e892b5d48098161ef0c748234e4",
      "8dfa59f1c23f4e49bada520d1c820e77",
      "2a58a03940b744d78f952edaebb3adcc",
      "f1059ca8e55b4434a9766edd57324062",
      "9a2b6dc1dc1a46c69c560c4b9d955cbf",
      "49b883c204bf486d9319e2030021085f",
      "45bcbf04024c441c9b94d4c8a84e85cb",
      "1cc5684050da4a8cb1d865fa35458f0a",
      "d15d623aeb1b4d2ea281f999f066e8bd",
      "5e43394f0ff44e4c8b4ba5fba99fa4af",
      "e55581e16959481eb9e3c275996001a1",
      "bf990dcc01604c4faa9eb5922b98b17e",
      "38aaa5f928b442c9bdb0ce84c655f118",
      "488e0bbf4a5249da87a42d8801ab28b4",
      "80e3414d26624124be9fc6ff03c08ac6",
      "fa3cea4331fa44378e0bc33aed6a4d95",
      "6b69fcfefdb9406496b4652b9218ca29",
      "e8ea4a5565cc4878a47abb40865580fb",
      "27bcbc846af14d558741c2cf321c4fb0",
      "9cf838bd8cdb4179bd493cc04277c16c",
      "9b02d656990f4b0c99d637328966980f",
      "d0cc32f621c142d1a7b81ec1175c0185",
      "db81fd2da238479daa9d8d17e45dbc09",
      "90a54fe13ad749299c377bb5efb3b214",
      "78088f192bd647aba9f884d37983ded2",
      "e796a3d6841749968f6e4081f2064d95",
      "b648f9092ad44c07bae78c69efc0673f"
     ]
    },
    "id": "XdmeBvWDuhg4",
    "outputId": "917d8328-06c2-40e2-f93e-b04b5014f613"
   },
   "outputs": [],
   "source": [
    "tokenizer = AutoTokenizer.from_pretrained('bert-base-uncased')\n",
    "tokenizer"
   ]
  },
  {
   "cell_type": "code",
   "execution_count": 220,
   "metadata": {
    "colab": {
     "base_uri": "https://localhost:8080/"
    },
    "id": "MpHx0GVeurFJ",
    "outputId": "40cb5d81-771e-4a04-ce68-f73b6ee9e436"
   },
   "outputs": [
    {
     "data": {
      "text/plain": [
       "30522"
      ]
     },
     "execution_count": 220,
     "metadata": {},
     "output_type": "execute_result"
    }
   ],
   "source": [
    "tokenizer.vocab_size"
   ]
  },
  {
   "cell_type": "code",
   "execution_count": 221,
   "metadata": {
    "colab": {
     "base_uri": "https://localhost:8080/"
    },
    "id": "PFTXTcLsusqo",
    "outputId": "341d9289-9914-4d7e-8bba-e3f53d73724b"
   },
   "outputs": [
    {
     "name": "stderr",
     "output_type": "stream",
     "text": [
      "Token indices sequence length is longer than the specified maximum sequence length for this model (4583858 > 512). Running this sequence through the model will result in indexing errors\n"
     ]
    },
    {
     "name": "stdout",
     "output_type": "stream",
     "text": [
      "encoding time: 19460.61 ± 594.38 (ms)\n",
      "decoding time: 6955.56 ± 295.61 (ms)\n"
     ]
    }
   ],
   "source": [
    "en = []\n",
    "de = []\n",
    "for i in range(10):\n",
    "  en_s = time.time()\n",
    "  ids = tokenizer.encode(sample)\n",
    "  en.append(time.time() - en_s)\n",
    "  de_s = time.time()\n",
    "  tokenizer.decode(ids)\n",
    "  de.append(time.time() - de_s)\n",
    "\n",
    "print(f\"encoding time: {round(np.mean(en).item()*1e3, 2)} ± {round(np.std(en)*1e3, 2)} (ms)\")\n",
    "print(f\"decoding time: {round(np.mean(de).item()*1e3, 2)} ± {round(np.std(de)*1e3, 2)} (ms)\")"
   ]
  },
  {
   "cell_type": "markdown",
   "metadata": {
    "id": "mh9kVhiQt2Pp",
    "jp-MarkdownHeadingCollapsed": true
   },
   "source": [
    "#### 🔵 **GPT-2**"
   ]
  },
  {
   "cell_type": "code",
   "execution_count": null,
   "metadata": {
    "colab": {
     "base_uri": "https://localhost:8080/",
     "height": 264,
     "referenced_widgets": [
      "b5264aa6c05547de85d60738ba43294a",
      "6e98b3b7f2a3472d8220a185c5cf42ad",
      "1c902643dbfd4ce09903608174d1af5c",
      "d62a2e1d15734daeb8dc112605729863",
      "6cc4c1d6411d44ad94189d31930862bb",
      "ae0b009b930e4dfba4326283b5e4f292",
      "82601713c0ec412da4259fcfb47d746a",
      "64db4d6b8e904f2ab89db4f55374532b",
      "595c464cde8342609a8e1155791404e2",
      "8d8228b5963a4402921be7e56f8b579f",
      "7828dce172a442aab99a990abc593c94",
      "aa62345e9c1a4663a9c3f368646d1864",
      "9c39013de23e4d58b8e8cbd7c45e4c8b",
      "e22d8aa6723e4fe29a09a501b835cd6a",
      "4fc17023606f4c02bfa9399c581cf1f2",
      "de0baa7e2562479da5701ded8f2f3946",
      "e4255fc354e94994a39754795f1c22cb",
      "5d45011b888d4837b6194f11f39d15f8",
      "369ee1f27aac4d08936635650780e536",
      "90311e0ad48547d09f8e084070c9295d",
      "2df40cb9d3ef4865a0bd76fe09df9cc5",
      "521f20d5ddb041e79ea51309f949529e",
      "a0541a30d84248ae85f499e795c659ce",
      "82ca1bf2279744168193b7b3c5a021ff",
      "ab2595f40f3948acb38d211caa34df20",
      "e528212a6b59468f832ca30134cab5d9",
      "061023ce6f124af298d6ca5945f86917",
      "5d848c1f27a74a13956584ada7157230",
      "77c74de416b44731a75522a263a334a6",
      "5f5aaf0f260d4c6b81dc3b4cb7ec7831",
      "8f4a3b5bf2ab434f939fc614e320f625",
      "bfb21f9147db49868f851464b0296852",
      "7d8975af839c46379d9c036ac21cfa92",
      "93ce6e4b2ecc448b938f57addfd5a5f9",
      "071773111b6f4c5ca1bffcc3f8ccb835",
      "3a4fb99434bc412faa44abaf0b90b7ca",
      "5c54a21146c14567b84965b833d311e9",
      "4dac9595394b4bef9c30d025a3385341",
      "6d822394d3d148e48215fa5956f78b6c",
      "7af437899a2743d3ae211ea6c3a4d346",
      "05a3502327544b9ea77c3ce8d40fc974",
      "9bdab4c2cb1c47ec8f57fc44a417b03e",
      "7927abcb390e4fbb8343ba018ce3a808",
      "46dca9cc001b43fea163aff3fa3b9c77",
      "f5ed6cea4f364773b85a15b498f2ab3f",
      "62e72e2c247849c1ab60d1d7c02eca71",
      "f4a1045afcd94eb685ce98ed8eaa8eab",
      "a55ce1e132c34c22beeaedb6cc0203dc",
      "bb97417db6cf41f7a1ed8f7e64e5a171",
      "9ec6f9156eac410e88155fee7b3fbe95",
      "ffa2b3acaa444a3e95f48ba33f380df8",
      "59a20d5838494c51abe03e9dbc8937b1",
      "1a7b2f2f09e9412c884cbe6c07b6b049",
      "263561de834244d0ab88dcd4b1f7b8a3",
      "73c582b05d6c4fb3830cc717d95f6ee0"
     ]
    },
    "id": "KU67zpq5sxCC",
    "outputId": "86878034-2601-4b08-c58d-30e081abcc40"
   },
   "outputs": [],
   "source": [
    "tokenizer = AutoTokenizer.from_pretrained('gpt2')\n",
    "tokenizer"
   ]
  },
  {
   "cell_type": "code",
   "execution_count": 224,
   "metadata": {
    "colab": {
     "base_uri": "https://localhost:8080/"
    },
    "id": "ri9IpRpQs0Gs",
    "outputId": "84441c68-2696-444a-c629-0a161565f728"
   },
   "outputs": [
    {
     "data": {
      "text/plain": [
       "50257"
      ]
     },
     "execution_count": 224,
     "metadata": {},
     "output_type": "execute_result"
    }
   ],
   "source": [
    "tokenizer.vocab_size"
   ]
  },
  {
   "cell_type": "code",
   "execution_count": 225,
   "metadata": {
    "colab": {
     "base_uri": "https://localhost:8080/"
    },
    "id": "b1MpEJWmt6-f",
    "outputId": "b667dc92-c0b5-41de-e325-01a37ad73ad1"
   },
   "outputs": [
    {
     "name": "stderr",
     "output_type": "stream",
     "text": [
      "Token indices sequence length is longer than the specified maximum sequence length for this model (4741881 > 1024). Running this sequence through the model will result in indexing errors\n"
     ]
    },
    {
     "name": "stdout",
     "output_type": "stream",
     "text": [
      "encoding time: 18704.84 ± 1108.64 (ms)\n",
      "decoding time: 1768.74 ± 91.4 (ms)\n"
     ]
    }
   ],
   "source": [
    "en = []\n",
    "de = []\n",
    "for i in range(10):\n",
    "  en_s = time.time()\n",
    "  ids = tokenizer.encode(sample)\n",
    "  en.append(time.time() - en_s)\n",
    "  de_s = time.time()\n",
    "  tokenizer.decode(ids)\n",
    "  de.append(time.time() - de_s)\n",
    "\n",
    "print(f\"encoding time: {round(np.mean(en).item()*1e3, 2)} ± {round(np.std(en)*1e3, 2)} (ms)\")\n",
    "print(f\"decoding time: {round(np.mean(de).item()*1e3, 2)} ± {round(np.std(de)*1e3, 2)} (ms)\")"
   ]
  },
  {
   "cell_type": "markdown",
   "metadata": {
    "id": "84nCAAllxSZx",
    "jp-MarkdownHeadingCollapsed": true
   },
   "source": [
    "#### 🔵 **GPT-Neo-2.7B**"
   ]
  },
  {
   "cell_type": "code",
   "execution_count": null,
   "metadata": {
    "colab": {
     "base_uri": "https://localhost:8080/",
     "height": 264,
     "referenced_widgets": [
      "77b2e9a80bf6444b94baf8fd4e05fa95",
      "568eb1fecb7a4d8bb1f03b6b55d4e6ec",
      "0d65bff9b81e437fa449979914aa1d0d",
      "c72958a0385f4c27b797816dfb1dc030",
      "0fb9bd2b9e074711845f093e3aff9a6e",
      "c4f3a81972834acb90f0842c8817e2a2",
      "1a009054ec7947a286a93f59af8630a1",
      "24630cf5425c406e9c671e5e000c9196",
      "617c007489e44e81a8d2e7c5284e374c",
      "af6f4e73cde14228a34b452f51d973fc",
      "1d9f63540a234980bb031e4b646f7a92",
      "4bf301787f0b46399c32e09f6910335e",
      "f484d9ab50224b048eb2586e8b5dc073",
      "455dafd6df8c4a8d8b31ade0cf7d6c2c",
      "63c8d585dee64dcf99e287e762960e90",
      "bf32d3ad12ae447994be750aedb3754d",
      "31dbcab85d5f43fb9ae7be5bcfede6b3",
      "f2b0aca2030248028dcc094decf57fea",
      "756ea159d4954b9d9f06430b7e419aed",
      "b9f8110d5db74f21bbc0d9f63f18ac4d",
      "18c04931b4e447949006ce913c6f2cff",
      "69b453647929457192697331d121fe5e",
      "0a6795eaa1784b189b1f524876226c6f",
      "09b045c13e424ae589d4d7213825458c",
      "02beecb713044631adf25e2d3216149f",
      "f84b94863d4948de99587b0bbd2c0ea9",
      "fe081599344d4311b3a64f09d06e89ae",
      "544899dd4fc34af1af82a5bf06b6eebc",
      "89b1febc2a144c228f83bf85089e0bdc",
      "c1872f651658424f9a077c20694199bd",
      "95926e8de8314bb1beced01f50a41bf8",
      "ca24a9361acf4ef2a3fd511291dc2303",
      "00e9bf4713064627aba4bc52b9d866fd",
      "2a5524fe7bc1409ab4f79671220f01da",
      "8fe6b681469345b18e53d66c0f493422",
      "176c18cbc64d488c967e87f9bf90e5bc",
      "273a10e07b8e4b18851a669fce9dd6bb",
      "946938f3273a472eaf87ad46b7532be9",
      "a52d2fb5ac9e49be8666119455b90fdf",
      "71d301293abb4e9bb66d29ed10f5442e",
      "38f70b171a9e417fbc60cb28d9ab5c6d",
      "83b8e3cd79444da0b2decf3112b251e0",
      "ae53a37dcdf04b3faa5537becb91b975",
      "03203b898b9f4d8b93c8cd335033f68b",
      "25802582138b4f4697e2e0c91bffd9d1",
      "e5ae45620d764cc3a67670ed00406897",
      "88987d4c4bf84d39aafdbeeccbe157bd",
      "3ce69139a9af481daa62f96a7abe7e75",
      "a2fb62af526c4134a97e8a1d1cac06ab",
      "da40346e7a4d4a4f991f33ddcb1bdb88",
      "da235a51d68f415db62eda5bcbb5e3d4",
      "8184c9a4f0694a68938f179e7a399c09",
      "f2d29f1e13f94447a074ecc65440e203",
      "a2dc0cbd33ae4cc5b36e24c8fcb02b0a",
      "82ee6307ec34442f9140b4d730c1e2e6"
     ]
    },
    "id": "v8aTV8H1xSGn",
    "outputId": "c1e51ecb-f663-43c0-a6fb-d991676ba4aa"
   },
   "outputs": [],
   "source": [
    "tokenizer = AutoTokenizer.from_pretrained('EleutherAI/gpt-neo-2.7B')\n",
    "tokenizer"
   ]
  },
  {
   "cell_type": "code",
   "execution_count": 228,
   "metadata": {
    "colab": {
     "base_uri": "https://localhost:8080/"
    },
    "id": "qRwyD0sExc1w",
    "outputId": "011e6c86-4078-4aac-b5c8-a7ce65cb24f0"
   },
   "outputs": [
    {
     "data": {
      "text/plain": [
       "50257"
      ]
     },
     "execution_count": 228,
     "metadata": {},
     "output_type": "execute_result"
    }
   ],
   "source": [
    "tokenizer.vocab_size"
   ]
  },
  {
   "cell_type": "code",
   "execution_count": 229,
   "metadata": {
    "colab": {
     "base_uri": "https://localhost:8080/"
    },
    "id": "cwLzNLSJxf5E",
    "outputId": "c05d1bbd-9d79-49d5-a647-7afa458d18ec"
   },
   "outputs": [
    {
     "name": "stderr",
     "output_type": "stream",
     "text": [
      "Token indices sequence length is longer than the specified maximum sequence length for this model (4741881 > 2048). Running this sequence through the model will result in indexing errors\n"
     ]
    },
    {
     "name": "stdout",
     "output_type": "stream",
     "text": [
      "encoding time: 22150.48 ± 4800.37 (ms)\n",
      "decoding time: 2202.27 ± 1282.19 (ms)\n"
     ]
    }
   ],
   "source": [
    "en = []\n",
    "de = []\n",
    "for i in range(10):\n",
    "  en_s = time.time()\n",
    "  ids = tokenizer.encode(sample)\n",
    "  en.append(time.time() - en_s)\n",
    "  de_s = time.time()\n",
    "  tokenizer.decode(ids)\n",
    "  de.append(time.time() - de_s)\n",
    "\n",
    "print(f\"encoding time: {round(np.mean(en).item()*1e3, 2)} ± {round(np.std(en)*1e3, 2)} (ms)\")\n",
    "print(f\"decoding time: {round(np.mean(de).item()*1e3, 2)} ± {round(np.std(de)*1e3, 2)} (ms)\")"
   ]
  },
  {
   "cell_type": "markdown",
   "metadata": {
    "id": "YeY_Yyhix3fU",
    "jp-MarkdownHeadingCollapsed": true
   },
   "source": [
    "#### 🔵 **GPT-Neo-125m**"
   ]
  },
  {
   "cell_type": "code",
   "execution_count": null,
   "metadata": {
    "colab": {
     "base_uri": "https://localhost:8080/",
     "height": 264,
     "referenced_widgets": [
      "9dcc4fb2f578466a973fce6a8fd68fb1",
      "4bacd261a30e4e6892eb1f8028bff0f0",
      "d5c293c31e634a2093dbe8b54ccd7f4a",
      "5f14d307d48749b59f954f880b46a260",
      "f57f30f97b114eae89fd281b900c424b",
      "74a73a2e3bf14df69f1ca3e5bc8ac915",
      "8c41d0cfc3d14340a9bfc4d3f8f0aad2",
      "ac1d59abfd7744b6815cc6fa673ed642",
      "137f810e6d074389a90f4dd0989ee80d",
      "9359e97f2d6446748eff40d1fd4e0a64",
      "6dc9f986207f47348f253d76f0727459",
      "a24c365830294a0daff0803edc02d85d",
      "9b632142c6a84ceda0f82f8ab7ad1ee8",
      "82a095d42f6747fbac804d7ef1be5a08",
      "5a51ce15258e4d7baa9e78bfb198bbb5",
      "48b3fdc05940485d82c4f4d55746a86f",
      "98d441da82e1479383702172b1d71da4",
      "dcc837986c204ae3952c937b58120090",
      "94b7152802174a52b2d70100f7e1fb95",
      "424636835c2d496cbf35297f7f0fd89d",
      "0e6815c3e9af4684a1e87a0208b92adc",
      "a8ec3ec355664581b03b8bc559929303",
      "740df4d46d7a4184aa2caa3b94eb929e",
      "1384c136d8dd46e28148b4b85bd2559c",
      "d5a96db374a04423b94942967725a899",
      "8ece3fdc42b24b11b8c83bbb52de9755",
      "de86ddf5830d46f0b4ca1507c96993df",
      "2c8f4249f017477dabc435994c86293d",
      "8f34aa9dc0cf4aac8d6d8c6afc9e87ec",
      "1716fcf6ddb84a74a2596004ebe23b40",
      "d229a4ea74b6446682c6b1a94556a35d",
      "5eb21deae22a48f69607f934a7ac49d7",
      "c5c9cdb4f9184ca39273aa951fdc9085",
      "301f3540e3b749cabfc4e064c2885e54",
      "908e739297dc4f3ba9f53a6245f7939b",
      "fc8ea2e1ca054f808356fff7bfc0bac8",
      "cac990c61b9f401f84f4d209dfb55148",
      "b9426bc461234632a5b42b08ec76b8bd",
      "1bb0c426e48c476fa3718c4b649330ab",
      "a88607fdf66146fe846d77cfd71c22fd",
      "ee50b76c055342fda1144fec190e7423",
      "4acdfb3179144456be2bbd9e5ebd84aa",
      "7cc3248e8bd941c1aa1338a445774fa5",
      "57e5317d8ac2409ab34116a0314032be",
      "ef911b6e344844799bf0ffe5951037ae",
      "0907d7894b774a9aa2ce52e957972f87",
      "d6a2e07b5a594aa2968a11f1bcc892ff",
      "77f3bc67c8424de69357948afd512a04",
      "7b8ee33bc72148ceb5494be5d8cd276b",
      "34b49e05c9374fbfbbb0e3caba3ffe00",
      "315142b660fd4b6a893c24b92b55bcdd",
      "a9833e9e006d4822aaa8fba149e1e0be",
      "982e8d61090845068e4020ce8a40c982",
      "1c6fbd7e70db45778731acae7773c6a3",
      "429ef9c7c2c14c5789a1009d991b2bba"
     ]
    },
    "id": "g-duvbh7xskL",
    "outputId": "87f7e954-4d7c-4bf6-a6e9-190206c17622"
   },
   "outputs": [],
   "source": [
    "tokenizer = AutoTokenizer.from_pretrained('EleutherAI/gpt-neo-125m')\n",
    "tokenizer"
   ]
  },
  {
   "cell_type": "code",
   "execution_count": 232,
   "metadata": {
    "colab": {
     "base_uri": "https://localhost:8080/"
    },
    "id": "SaqHzbOWxvIB",
    "outputId": "d08fa066-3055-466b-bc51-36e0a1f48502"
   },
   "outputs": [
    {
     "data": {
      "text/plain": [
       "50257"
      ]
     },
     "execution_count": 232,
     "metadata": {},
     "output_type": "execute_result"
    }
   ],
   "source": [
    "tokenizer.vocab_size"
   ]
  },
  {
   "cell_type": "code",
   "execution_count": 233,
   "metadata": {
    "colab": {
     "base_uri": "https://localhost:8080/"
    },
    "id": "6ndtxmjTxxFI",
    "outputId": "136f8550-4c2c-4a0d-9c24-e1107104b61e"
   },
   "outputs": [
    {
     "name": "stderr",
     "output_type": "stream",
     "text": [
      "Token indices sequence length is longer than the specified maximum sequence length for this model (4741881 > 2048). Running this sequence through the model will result in indexing errors\n"
     ]
    },
    {
     "name": "stdout",
     "output_type": "stream",
     "text": [
      "encoding time: 18917.33 ± 516.09 (ms)\n",
      "decoding time: 2041.46 ± 27.37 (ms)\n"
     ]
    }
   ],
   "source": [
    "en = []\n",
    "de = []\n",
    "for i in range(10):\n",
    "  en_s = time.time()\n",
    "  ids = tokenizer.encode(sample)\n",
    "  en.append(time.time() - en_s)\n",
    "  de_s = time.time()\n",
    "  tokenizer.decode(ids)\n",
    "  de.append(time.time() - de_s)\n",
    "\n",
    "print(f\"encoding time: {round(np.mean(en).item()*1e3, 2)} ± {round(np.std(en)*1e3, 2)} (ms)\")\n",
    "print(f\"decoding time: {round(np.mean(de).item()*1e3, 2)} ± {round(np.std(de)*1e3, 2)} (ms)\")"
   ]
  },
  {
   "cell_type": "markdown",
   "metadata": {
    "id": "kei8TEK_xGfx",
    "jp-MarkdownHeadingCollapsed": true
   },
   "source": [
    "#### 🔵 **DeepSeek-v3**"
   ]
  },
  {
   "cell_type": "code",
   "execution_count": null,
   "metadata": {
    "colab": {
     "base_uri": "https://localhost:8080/",
     "height": 1000,
     "referenced_widgets": [
      "3b0cf1e1140242eea4c5e611ee8d9064",
      "07ca81ac31414f53a5627111159effd8",
      "c86d196b98c145c9bb5c793b54754b22",
      "2275f51ababa4ad2a279c03047bdcbdc",
      "6d35e414c20846618a52ccbe0d7625d4",
      "62d7100da173488b9629150e963934e3",
      "a4df33e532004a5c9a22e02a5e5be899",
      "5565d6662f4048abb0ea1fd22b72d7fd",
      "21c6fb7aba58440a828a59936bdcb637",
      "9f215f4cb1c442eea40cf41fb2544ead",
      "1bdaaf7e6a2648df8d80a45f0149d631",
      "82b674117a34496a8fbcbd2f74892adf",
      "05dffbf42943493c855056a5800b2b2d",
      "abfe94dc12b94e6cae287dd411bca163",
      "d1660a185c174f5d9695a1ce83c32742",
      "f7160eddd65c4501ab28ce7101efcdaf",
      "ccce88f0a93347d98d896d8bddb8bca8",
      "06f42fe0699f45c1ae8476a66d8d78b3",
      "da06c8c3c7414a66844e2a4a9bc66c45",
      "a4b1e2e7b34444ccbcff2082728cdc07",
      "459f12b65fcb4902bcc684cef6cafadf",
      "5ca138d8751a450280d9e3fa5416d547"
     ]
    },
    "id": "oT2rm9dHt9EK",
    "outputId": "dc7ef448-a53b-44a5-b25a-92a495a31309"
   },
   "outputs": [],
   "source": [
    "tokenizer = AutoTokenizer.from_pretrained('deepseek-ai/DeepSeek-V3-0324')\n",
    "tokenizer"
   ]
  },
  {
   "cell_type": "code",
   "execution_count": 236,
   "metadata": {
    "colab": {
     "base_uri": "https://localhost:8080/"
    },
    "id": "Pi1lsRO9vHtg",
    "outputId": "8edf5856-5395-411e-9eba-96463c220299"
   },
   "outputs": [
    {
     "data": {
      "text/plain": [
       "128000"
      ]
     },
     "execution_count": 236,
     "metadata": {},
     "output_type": "execute_result"
    }
   ],
   "source": [
    "tokenizer.vocab_size"
   ]
  },
  {
   "cell_type": "code",
   "execution_count": 253,
   "metadata": {},
   "outputs": [
    {
     "name": "stdout",
     "output_type": "stream",
     "text": [
      "encoding time: 20907.09 ± 189.09 (ms)\n",
      "decoding time: 1638.41 ± 24.24 (ms)\n"
     ]
    }
   ],
   "source": [
    "en = []\n",
    "de = []\n",
    "for i in range(10):\n",
    "  en_s = time.time()\n",
    "  ids = tokenizer.encode(sample)\n",
    "  en.append(time.time() - en_s)\n",
    "  de_s = time.time()\n",
    "  tokenizer.decode(ids)\n",
    "  de.append(time.time() - de_s)\n",
    "\n",
    "print(f\"encoding time: {round(np.mean(en).item()*1e3, 2)} ± {round(np.std(en)*1e3, 2)} (ms)\")\n",
    "print(f\"decoding time: {round(np.mean(de).item()*1e3, 2)} ± {round(np.std(de)*1e3, 2)} (ms)\")"
   ]
  },
  {
   "cell_type": "markdown",
   "metadata": {},
   "source": [
    "#### 🔵 tiktoken"
   ]
  },
  {
   "cell_type": "code",
   "execution_count": 47,
   "metadata": {},
   "outputs": [
    {
     "data": {
      "text/plain": [
       "<Encoding 'gpt2'>"
      ]
     },
     "execution_count": 47,
     "metadata": {},
     "output_type": "execute_result"
    }
   ],
   "source": [
    "tokenizer = tiktoken.get_encoding('gpt2')\n",
    "tokenizer"
   ]
  },
  {
   "cell_type": "code",
   "execution_count": 49,
   "metadata": {},
   "outputs": [
    {
     "name": "stdout",
     "output_type": "stream",
     "text": [
      "encoding time: 2437.79 ± 462.11 (ms)\n",
      "decoding time: 200.31 ± 34.38 (ms)\n"
     ]
    }
   ],
   "source": [
    "en = []\n",
    "de = []\n",
    "for i in range(100):\n",
    "  en_s = time.time()\n",
    "  ids = tokenizer.encode(sample)\n",
    "  en.append(time.time() - en_s)\n",
    "  de_s = time.time()\n",
    "  out = tokenizer.decode(ids)\n",
    "  de.append(time.time() - de_s)\n",
    "\n",
    "print(f\"encoding time: {round(np.mean(en).item()*1e3, 2)} ± {round(np.std(en)*1e3, 2)} (ms)\")\n",
    "print(f\"decoding time: {round(np.mean(de).item()*1e3, 2)} ± {round(np.std(de)*1e3, 2)} (ms)\")"
   ]
  },
  {
   "cell_type": "code",
   "execution_count": 106,
   "metadata": {},
   "outputs": [],
   "source": [
    "# glove-wiki-gigaword-300\n",
    "# fasttext-wiki-news-subwords-300\n",
    "word2vec_model = api.load(\"word2vec-google-news-300\")"
   ]
  },
  {
   "cell_type": "code",
   "execution_count": 107,
   "metadata": {},
   "outputs": [
    {
     "data": {
      "text/plain": [
       "<gensim.models.keyedvectors.KeyedVectors at 0x1879ef77bf0>"
      ]
     },
     "execution_count": 107,
     "metadata": {},
     "output_type": "execute_result"
    }
   ],
   "source": [
    "word2vec_model"
   ]
  },
  {
   "cell_type": "code",
   "execution_count": 109,
   "metadata": {},
   "outputs": [
    {
     "data": {
      "text/plain": [
       "(3000000, 300)"
      ]
     },
     "execution_count": 109,
     "metadata": {},
     "output_type": "execute_result"
    }
   ],
   "source": [
    "word2vec_model.vectors.shape"
   ]
  },
  {
   "cell_type": "code",
   "execution_count": 110,
   "metadata": {},
   "outputs": [
    {
     "data": {
      "text/plain": [
       "(300,)"
      ]
     },
     "execution_count": 110,
     "metadata": {},
     "output_type": "execute_result"
    }
   ],
   "source": [
    "word2vec_model['king'].shape"
   ]
  },
  {
   "cell_type": "code",
   "execution_count": 111,
   "metadata": {},
   "outputs": [
    {
     "data": {
      "text/plain": [
       "[('kings', 0.7138045430183411),\n",
       " ('queen', 0.6510957479476929),\n",
       " ('monarch', 0.6413194537162781),\n",
       " ('crown_prince', 0.6204220056533813),\n",
       " ('prince', 0.6159993410110474)]"
      ]
     },
     "execution_count": 111,
     "metadata": {},
     "output_type": "execute_result"
    }
   ],
   "source": [
    "word2vec_model.most_similar('king', topn = 5)"
   ]
  },
  {
   "cell_type": "code",
   "execution_count": 112,
   "metadata": {},
   "outputs": [
    {
     "data": {
      "text/plain": [
       "[('queen', 0.7118193507194519), ('monarch', 0.6189674735069275)]"
      ]
     },
     "execution_count": 112,
     "metadata": {},
     "output_type": "execute_result"
    }
   ],
   "source": [
    "# king - man + woman = queen\n",
    "word2vec_model.most_similar(positive = ['king', 'woman'], negative = ['man'], topn = 2)"
   ]
  },
  {
   "cell_type": "code",
   "execution_count": 113,
   "metadata": {},
   "outputs": [
    {
     "data": {
      "text/plain": [
       "[('birds', 0.5283597111701965), ('freshwater', 0.5271045565605164)]"
      ]
     },
     "execution_count": 113,
     "metadata": {},
     "output_type": "execute_result"
    }
   ],
   "source": [
    "word2vec_model.most_similar(positive = ['bird', 'water'], negative = ['sky'], topn = 2)"
   ]
  },
  {
   "cell_type": "code",
   "execution_count": 114,
   "metadata": {},
   "outputs": [
    {
     "data": {
      "text/plain": [
       "[('elementary', 0.7351498603820801), ('teachers', 0.6516026854515076)]"
      ]
     },
     "execution_count": 114,
     "metadata": {},
     "output_type": "execute_result"
    }
   ],
   "source": [
    "word2vec_model.most_similar(positive = ['school', 'teacher'], negative = ['student'], topn = 2)"
   ]
  },
  {
   "cell_type": "code",
   "execution_count": 115,
   "metadata": {},
   "outputs": [
    {
     "data": {
      "text/plain": [
       "[('evening', 0.5596994757652283), ('afternoon', 0.5337650775909424)]"
      ]
     },
     "execution_count": 115,
     "metadata": {},
     "output_type": "execute_result"
    }
   ],
   "source": [
    "word2vec_model.most_similar(positive = ['night', 'light'], negative = ['dark'], topn = 2)"
   ]
  },
  {
   "cell_type": "code",
   "execution_count": 116,
   "metadata": {},
   "outputs": [
    {
     "data": {
      "text/plain": [
       "0.103139475"
      ]
     },
     "execution_count": 116,
     "metadata": {},
     "output_type": "execute_result"
    }
   ],
   "source": [
    "word2vec_model.similarity('night', 'light')"
   ]
  },
  {
   "cell_type": "code",
   "execution_count": 117,
   "metadata": {},
   "outputs": [
    {
     "data": {
      "text/plain": [
       "0.22546582"
      ]
     },
     "execution_count": 117,
     "metadata": {},
     "output_type": "execute_result"
    }
   ],
   "source": [
    "word2vec_model.similarity('night', 'dark')"
   ]
  },
  {
   "cell_type": "code",
   "execution_count": 118,
   "metadata": {},
   "outputs": [
    {
     "data": {
      "text/plain": [
       "0.082372606"
      ]
     },
     "execution_count": 118,
     "metadata": {},
     "output_type": "execute_result"
    }
   ],
   "source": [
    "word2vec_model.similarity('night', 'black')"
   ]
  },
  {
   "cell_type": "code",
   "execution_count": 119,
   "metadata": {},
   "outputs": [
    {
     "data": {
      "text/plain": [
       "0.6382406"
      ]
     },
     "execution_count": 119,
     "metadata": {},
     "output_type": "execute_result"
    }
   ],
   "source": [
    "word2vec_model.similarity('school', 'teacher')"
   ]
  },
  {
   "cell_type": "code",
   "execution_count": 120,
   "metadata": {},
   "outputs": [
    {
     "data": {
      "text/plain": [
       "0.6055627"
      ]
     },
     "execution_count": 120,
     "metadata": {},
     "output_type": "execute_result"
    }
   ],
   "source": [
    "word2vec_model.similarity('school', 'student')"
   ]
  },
  {
   "cell_type": "code",
   "execution_count": 121,
   "metadata": {},
   "outputs": [
    {
     "data": {
      "text/plain": [
       "0.63013655"
      ]
     },
     "execution_count": 121,
     "metadata": {},
     "output_type": "execute_result"
    }
   ],
   "source": [
    "word2vec_model.similarity('teacher', 'student')"
   ]
  },
  {
   "cell_type": "code",
   "execution_count": 122,
   "metadata": {},
   "outputs": [
    {
     "data": {
      "text/plain": [
       "0.80922145"
      ]
     },
     "execution_count": 122,
     "metadata": {},
     "output_type": "execute_result"
    }
   ],
   "source": [
    "word2vec_model.similarity('white', 'black')"
   ]
  },
  {
   "cell_type": "code",
   "execution_count": 123,
   "metadata": {},
   "outputs": [
    {
     "data": {
      "text/plain": [
       "0.28512627"
      ]
     },
     "execution_count": 123,
     "metadata": {},
     "output_type": "execute_result"
    }
   ],
   "source": [
    "word2vec_model.similarity('white', 'light')"
   ]
  },
  {
   "cell_type": "code",
   "execution_count": 150,
   "metadata": {},
   "outputs": [
    {
     "data": {
      "text/plain": [
       "[['I', 'love', 'natural', 'language', 'processing'],\n",
       " ['Word2vec', 'is', 'a', 'gereat', 'tool'],\n",
       " ['I', 'enjoy', 'working', 'with', 'text', 'data']]"
      ]
     },
     "execution_count": 150,
     "metadata": {},
     "output_type": "execute_result"
    }
   ],
   "source": [
    "sentences = [['I', 'love', 'natural', 'language', 'processing'], \n",
    "             ['Word2vec', 'is' ,'a', 'gereat', 'tool'],\n",
    "             ['I', 'enjoy', 'working', 'with', 'text', 'data']]\n",
    "sentences"
   ]
  },
  {
   "cell_type": "code",
   "execution_count": 152,
   "metadata": {},
   "outputs": [],
   "source": [
    "model = Word2Vec(sentences, vector_size = 100, window = 5, min_count = 1, workers = 2)"
   ]
  },
  {
   "cell_type": "code",
   "execution_count": 154,
   "metadata": {},
   "outputs": [
    {
     "data": {
      "text/plain": [
       "<gensim.models.word2vec.Word2Vec at 0x18a5ce4fd10>"
      ]
     },
     "execution_count": 154,
     "metadata": {},
     "output_type": "execute_result"
    }
   ],
   "source": [
    "model"
   ]
  },
  {
   "cell_type": "code",
   "execution_count": 170,
   "metadata": {},
   "outputs": [
    {
     "data": {
      "text/plain": [
       "(100,)"
      ]
     },
     "execution_count": 170,
     "metadata": {},
     "output_type": "execute_result"
    }
   ],
   "source": [
    "model.wv['tool'].shape"
   ]
  },
  {
   "cell_type": "code",
   "execution_count": 176,
   "metadata": {},
   "outputs": [
    {
     "data": {
      "text/plain": [
       "(15, (15, 100))"
      ]
     },
     "execution_count": 176,
     "metadata": {},
     "output_type": "execute_result"
    }
   ],
   "source": [
    "len(model.wv), model.wv.vectors.shape"
   ]
  },
  {
   "cell_type": "code",
   "execution_count": 182,
   "metadata": {},
   "outputs": [
    {
     "data": {
      "text/plain": [
       "[('is', 0.21617145836353302), ('language', 0.09310111403465271)]"
      ]
     },
     "execution_count": 182,
     "metadata": {},
     "output_type": "execute_result"
    }
   ],
   "source": [
    "model.wv.most_similar('I', topn = 2)"
   ]
  },
  {
   "cell_type": "code",
   "execution_count": 188,
   "metadata": {},
   "outputs": [
    {
     "data": {
      "text/plain": [
       "0.044689223"
      ]
     },
     "execution_count": 188,
     "metadata": {},
     "output_type": "execute_result"
    }
   ],
   "source": [
    "model.wv.similarity('is', 'a')"
   ]
  },
  {
   "cell_type": "code",
   "execution_count": 223,
   "metadata": {},
   "outputs": [
    {
     "data": {
      "text/plain": [
       "['spot', 'spot', 'saw', 'the', 'shiny', 'car', 'and', 'said', 'wow', 'kitty']"
      ]
     },
     "execution_count": 223,
     "metadata": {},
     "output_type": "execute_result"
    }
   ],
   "source": [
    "sample = valid_dataset['text']\n",
    "sentences = [simple_preprocess(st) for st in sample]\n",
    "sentences[0][0:10]"
   ]
  },
  {
   "cell_type": "code",
   "execution_count": 224,
   "metadata": {},
   "outputs": [],
   "source": [
    "model = Word2Vec(sentences, vector_size = 100, window = 5, min_count = 1, workers = 2)"
   ]
  },
  {
   "cell_type": "code",
   "execution_count": 225,
   "metadata": {},
   "outputs": [
    {
     "data": {
      "text/plain": [
       "(11705, 100)"
      ]
     },
     "execution_count": 225,
     "metadata": {},
     "output_type": "execute_result"
    }
   ],
   "source": [
    "model.wv.vectors.shape"
   ]
  },
  {
   "cell_type": "code",
   "execution_count": 226,
   "metadata": {},
   "outputs": [
    {
     "data": {
      "text/plain": [
       "[('gloomy', 0.7080708146095276),\n",
       " ('lightning', 0.6315677165985107),\n",
       " ('darker', 0.6087536215782166),\n",
       " ('cloud', 0.5847439765930176),\n",
       " ('storm', 0.5832608938217163)]"
      ]
     },
     "execution_count": 226,
     "metadata": {},
     "output_type": "execute_result"
    }
   ],
   "source": [
    "model.wv.most_similar('dark', topn = 5)"
   ]
  },
  {
   "cell_type": "code",
   "execution_count": 227,
   "metadata": {},
   "outputs": [
    {
     "data": {
      "text/plain": [
       "[('meeting', 0.7267405986785889),\n",
       " ('restaurant', 0.7121162414550781),\n",
       " ('zoo', 0.6936815977096558),\n",
       " ('class', 0.6633730530738831),\n",
       " ('airport', 0.6617036461830139)]"
      ]
     },
     "execution_count": 227,
     "metadata": {},
     "output_type": "execute_result"
    }
   ],
   "source": [
    "model.wv.most_similar('school', topn = 5)"
   ]
  },
  {
   "cell_type": "code",
   "execution_count": 228,
   "metadata": {},
   "outputs": [
    {
     "data": {
      "text/plain": [
       "0.8407515"
      ]
     },
     "execution_count": 228,
     "metadata": {},
     "output_type": "execute_result"
    }
   ],
   "source": [
    "model.wv.similarity('king', 'queen')"
   ]
  },
  {
   "cell_type": "code",
   "execution_count": 229,
   "metadata": {},
   "outputs": [
    {
     "data": {
      "text/plain": [
       "(100,)"
      ]
     },
     "execution_count": 229,
     "metadata": {},
     "output_type": "execute_result"
    }
   ],
   "source": [
    "model.wv['king'].shape"
   ]
  }
 ],
 "metadata": {
  "accelerator": "GPU",
  "colab": {
   "collapsed_sections": [
    "_9yMJVI00W7d",
    "_EPOwD_F0dWj",
    "0LkR_EMVSkud",
    "wT5uYjiCPFm5",
    "83AM46gZudOo",
    "up1n97WISNoX",
    "EnnnYR-5TEYd",
    "kDokDSi0TFGh",
    "MrLtf8g0TFVj",
    "yM_xnUjzTFf3",
    "5_7Cf_WoBerl"
   ],
   "gpuType": "T4",
   "provenance": []
  },
  "kernelspec": {
   "display_name": "Python 3 (ipykernel)",
   "language": "python",
   "name": "python3"
  },
  "language_info": {
   "codemirror_mode": {
    "name": "ipython",
    "version": 3
   },
   "file_extension": ".py",
   "mimetype": "text/x-python",
   "name": "python",
   "nbconvert_exporter": "python",
   "pygments_lexer": "ipython3",
   "version": "3.12.7"
  }
 },
 "nbformat": 4,
 "nbformat_minor": 4
}
